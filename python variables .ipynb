{
 "cells": [
  {
   "cell_type": "code",
   "execution_count": null,
   "id": "9e1a78bb-4848-4606-947d-ab114f47bd52",
   "metadata": {},
   "outputs": [],
   "source": [
    "PYTHON VARIABLE CREATION"
   ]
  },
  {
   "cell_type": "code",
   "execution_count": 1,
   "id": "4de4d3fd-67ed-4a42-a5c7-e5d58e0e42d1",
   "metadata": {},
   "outputs": [
    {
     "data": {
      "text/plain": [
       "9"
      ]
     },
     "execution_count": 1,
     "metadata": {},
     "output_type": "execute_result"
    }
   ],
   "source": [
    "va = 9     # python variable (variable also called as identifier and object)\n",
    "va"
   ]
  },
  {
   "cell_type": "code",
   "execution_count": 3,
   "id": "7b1fef02-afc2-4517-a84b-f4defddeaf0b",
   "metadata": {},
   "outputs": [
    {
     "data": {
      "text/plain": [
       "140716321090232"
      ]
     },
     "execution_count": 3,
     "metadata": {},
     "output_type": "execute_result"
    }
   ],
   "source": [
    "id(va)      #id means address of the memory allocation"
   ]
  },
  {
   "cell_type": "markdown",
   "id": "586183ad-4250-499f-8a94-522fd4eb92a7",
   "metadata": {},
   "source": [
    "1nit = 18     #variable never starts with digits\n",
    "1nit"
   ]
  },
  {
   "cell_type": "code",
   "execution_count": 9,
   "id": "fafa67e9-4457-4166-98bd-70ae28fc9433",
   "metadata": {},
   "outputs": [
    {
     "data": {
      "text/plain": [
       "18"
      ]
     },
     "execution_count": 9,
     "metadata": {},
     "output_type": "execute_result"
    }
   ],
   "source": [
    "nit1 = 18 \n",
    "nit1\n"
   ]
  },
  {
   "cell_type": "code",
   "execution_count": 11,
   "id": "fc32c500-dace-4943-bcc7-fa3df421edb4",
   "metadata": {},
   "outputs": [
    {
     "ename": "NameError",
     "evalue": "name 'NIT' is not defined",
     "output_type": "error",
     "traceback": [
      "\u001b[1;31m---------------------------------------------------------------------------\u001b[0m",
      "\u001b[1;31mNameError\u001b[0m                                 Traceback (most recent call last)",
      "Cell \u001b[1;32mIn[11], line 2\u001b[0m\n\u001b[0;32m      1\u001b[0m nit2 \u001b[38;5;241m=\u001b[39m \u001b[38;5;241m10\u001b[39m\n\u001b[1;32m----> 2\u001b[0m NIT\n",
      "\u001b[1;31mNameError\u001b[0m: name 'NIT' is not defined"
     ]
    }
   ],
   "source": [
    "nit2 = 10 #variables are case sensitive \n",
    "NIT"
   ]
  },
  {
   "cell_type": "code",
   "execution_count": 15,
   "id": "35162414-26c5-496b-b772-9cddab4cc59e",
   "metadata": {},
   "outputs": [
    {
     "data": {
      "text/plain": [
       "10"
      ]
     },
     "execution_count": 15,
     "metadata": {},
     "output_type": "execute_result"
    }
   ],
   "source": [
    "nit2 = 10\n",
    "nit2"
   ]
  },
  {
   "cell_type": "code",
   "execution_count": 17,
   "id": "850cb46d-7e6f-4614-80a4-2b3ba168b2b7",
   "metadata": {},
   "outputs": [
    {
     "ename": "SyntaxError",
     "evalue": "invalid syntax (434845991.py, line 1)",
     "output_type": "error",
     "traceback": [
      "\u001b[1;36m  Cell \u001b[1;32mIn[17], line 1\u001b[1;36m\u001b[0m\n\u001b[1;33m    v$ = 90\u001b[0m\n\u001b[1;37m     ^\u001b[0m\n\u001b[1;31mSyntaxError\u001b[0m\u001b[1;31m:\u001b[0m invalid syntax\n"
     ]
    }
   ],
   "source": [
    "v$ = 90    # special characters are not allowed except underscore is allowed\n",
    "v$"
   ]
  },
  {
   "cell_type": "code",
   "execution_count": 19,
   "id": "e3757006-58fb-49dc-a8d8-c0e8e67275b8",
   "metadata": {},
   "outputs": [
    {
     "data": {
      "text/plain": [
       "90"
      ]
     },
     "execution_count": 19,
     "metadata": {},
     "output_type": "execute_result"
    }
   ],
   "source": [
    "v_ = 90   #underscore is allowed \n",
    "v_"
   ]
  },
  {
   "cell_type": "code",
   "execution_count": 21,
   "id": "fdda8fdb-95e7-4880-9113-f782eb33e248",
   "metadata": {},
   "outputs": [
    {
     "data": {
      "text/plain": [
       "['False',\n",
       " 'None',\n",
       " 'True',\n",
       " 'and',\n",
       " 'as',\n",
       " 'assert',\n",
       " 'async',\n",
       " 'await',\n",
       " 'break',\n",
       " 'class',\n",
       " 'continue',\n",
       " 'def',\n",
       " 'del',\n",
       " 'elif',\n",
       " 'else',\n",
       " 'except',\n",
       " 'finally',\n",
       " 'for',\n",
       " 'from',\n",
       " 'global',\n",
       " 'if',\n",
       " 'import',\n",
       " 'in',\n",
       " 'is',\n",
       " 'lambda',\n",
       " 'nonlocal',\n",
       " 'not',\n",
       " 'or',\n",
       " 'pass',\n",
       " 'raise',\n",
       " 'return',\n",
       " 'try',\n",
       " 'while',\n",
       " 'with',\n",
       " 'yield']"
      ]
     },
     "execution_count": 21,
     "metadata": {},
     "output_type": "execute_result"
    }
   ],
   "source": [
    "import keyword     #keywords are reserved words these words have special meaning\n",
    "keyword.kwlist"
   ]
  },
  {
   "cell_type": "code",
   "execution_count": 23,
   "id": "3321bf49-871d-4cca-9696-7d238036ed44",
   "metadata": {},
   "outputs": [
    {
     "data": {
      "text/plain": [
       "35"
      ]
     },
     "execution_count": 23,
     "metadata": {},
     "output_type": "execute_result"
    }
   ],
   "source": [
    "len(keyword.kwlist) # length of keywords\n"
   ]
  },
  {
   "cell_type": "code",
   "execution_count": 25,
   "id": "9bdca31e-15e0-4764-88c7-d0904c1c8ec7",
   "metadata": {},
   "outputs": [
    {
     "ename": "SyntaxError",
     "evalue": "invalid syntax (1145325594.py, line 1)",
     "output_type": "error",
     "traceback": [
      "\u001b[1;36m  Cell \u001b[1;32mIn[25], line 1\u001b[1;36m\u001b[0m\n\u001b[1;33m    for = 69\u001b[0m\n\u001b[1;37m        ^\u001b[0m\n\u001b[1;31mSyntaxError\u001b[0m\u001b[1;31m:\u001b[0m invalid syntax\n"
     ]
    }
   ],
   "source": [
    "for = 69  #keywords are not a variable \n",
    "for"
   ]
  },
  {
   "cell_type": "code",
   "execution_count": 27,
   "id": "6f2d6e40-07d7-4d2c-99d3-485a14eaad10",
   "metadata": {},
   "outputs": [
    {
     "data": {
      "text/plain": [
       "69"
      ]
     },
     "execution_count": 27,
     "metadata": {},
     "output_type": "execute_result"
    }
   ],
   "source": [
    "For = 69  #keywords are always strt with some capitals and never be variable \n",
    "For"
   ]
  },
  {
   "cell_type": "code",
   "execution_count": 29,
   "id": "6805573c-d82b-4aa5-a4d9-a45d1440e3bf",
   "metadata": {},
   "outputs": [
    {
     "data": {
      "text/plain": [
       "90"
      ]
     },
     "execution_count": 29,
     "metadata": {},
     "output_type": "execute_result"
    }
   ],
   "source": [
    "Def = 90\n",
    "Def"
   ]
  },
  {
   "cell_type": "code",
   "execution_count": 31,
   "id": "e88e089b-9643-415e-ae81-29a0eb223230",
   "metadata": {},
   "outputs": [
    {
     "ename": "SyntaxError",
     "evalue": "cannot assign to True (3205564828.py, line 1)",
     "output_type": "error",
     "traceback": [
      "\u001b[1;36m  Cell \u001b[1;32mIn[31], line 1\u001b[1;36m\u001b[0m\n\u001b[1;33m    True = 90\u001b[0m\n\u001b[1;37m    ^\u001b[0m\n\u001b[1;31mSyntaxError\u001b[0m\u001b[1;31m:\u001b[0m cannot assign to True\n"
     ]
    }
   ],
   "source": [
    "True = 90\n",
    "True"
   ]
  },
  {
   "cell_type": "code",
   "execution_count": 33,
   "id": "673f294a-3282-4b7d-b011-01096594e3b6",
   "metadata": {},
   "outputs": [
    {
     "data": {
      "text/plain": [
       "90"
      ]
     },
     "execution_count": 33,
     "metadata": {},
     "output_type": "execute_result"
    }
   ],
   "source": [
    "true = 90\n",
    "true"
   ]
  },
  {
   "cell_type": "code",
   "execution_count": 35,
   "id": "532d9778-0987-4979-8320-e5709fa24ecc",
   "metadata": {},
   "outputs": [
    {
     "name": "stdout",
     "output_type": "stream",
     "text": [
      "7\n",
      "9\n",
      "0\n"
     ]
    }
   ],
   "source": [
    "a = 7  # if we want only a or b or c then we did not use print if we wnat multiple output a,b,c then we use print\n",
    "b = 9 \n",
    "c = 0 \n",
    "print (a)\n",
    "print (b)\n",
    "print (c)"
   ]
  },
  {
   "cell_type": "code",
   "execution_count": 39,
   "id": "f6302622-8703-4d6f-9956-ec1fc3f7a331",
   "metadata": {},
   "outputs": [
    {
     "data": {
      "text/plain": [
       "'3.12.7 | packaged by Anaconda, Inc. | (main, Oct  4 2024, 13:17:27) [MSC v.1929 64 bit (AMD64)]'"
      ]
     },
     "execution_count": 39,
     "metadata": {},
     "output_type": "execute_result"
    }
   ],
   "source": [
    "import sys\n",
    "sys.version"
   ]
  },
  {
   "cell_type": "code",
   "execution_count": 41,
   "id": "bcb574d3-db92-4a6d-a0ef-5117d94b9a9d",
   "metadata": {},
   "outputs": [
    {
     "data": {
      "text/plain": [
       "0"
      ]
     },
     "execution_count": 41,
     "metadata": {},
     "output_type": "execute_result"
    }
   ],
   "source": [
    "import_1 = 0   \n",
    "import_1"
   ]
  },
  {
   "cell_type": "code",
   "execution_count": null,
   "id": "a6578338-1ecc-4d21-8ba5-a267ace68cd9",
   "metadata": {},
   "outputs": [],
   "source": []
  }
 ],
 "metadata": {
  "kernelspec": {
   "display_name": "Python [conda env:base] *",
   "language": "python",
   "name": "conda-base-py"
  },
  "language_info": {
   "codemirror_mode": {
    "name": "ipython",
    "version": 3
   },
   "file_extension": ".py",
   "mimetype": "text/x-python",
   "name": "python",
   "nbconvert_exporter": "python",
   "pygments_lexer": "ipython3",
   "version": "3.12.7"
  }
 },
 "nbformat": 4,
 "nbformat_minor": 5
}
