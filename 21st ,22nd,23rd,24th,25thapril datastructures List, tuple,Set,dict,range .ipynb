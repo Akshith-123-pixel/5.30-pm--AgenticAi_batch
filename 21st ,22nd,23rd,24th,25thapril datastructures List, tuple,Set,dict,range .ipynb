{
 "cells": [
  {
   "cell_type": "markdown",
   "id": "9222efe8-97bb-4b4b-a6ff-844b9017a815",
   "metadata": {},
   "source": [
    "#in datatype = user or developer can declare only one value    a = 2\n",
    "#in datastructure user can declare more than one values      b = 1,2,3,4\n",
    "#matrix is collections of rows and columns   like tables of rows and columns \n",
    "#matrix = collections of datastructure\n",
    "#datastructure = collection of datatypes \n",
    "datatype = int,float,bool,complex,string\n",
    "#datastructure divded in 2 parts inbuild and userdefined\n",
    "#inbuild are list,tuple ,set , dictionary \n",
    "#user defined are stack,linkedlist,numpy,tree"
   ]
  },
  {
   "cell_type": "code",
   "execution_count": 1,
   "id": "bd418ee4-62ed-466f-8aba-c42e7bd2e559",
   "metadata": {},
   "outputs": [
    {
     "data": {
      "text/plain": [
       "int"
      ]
     },
     "execution_count": 1,
     "metadata": {},
     "output_type": "execute_result"
    }
   ],
   "source": [
    "i = 9 \n",
    "type(i)"
   ]
  },
  {
   "cell_type": "markdown",
   "id": "77f6737f-2aea-4cab-a4e4-5ff5692d2b38",
   "metadata": {},
   "source": [
    "#LIST DATSTRUCTURE   "
   ]
  },
  {
   "cell_type": "code",
   "execution_count": 5,
   "id": "6ef69780-8402-4246-936a-ba561008f044",
   "metadata": {},
   "outputs": [
    {
     "data": {
      "text/plain": [
       "[]"
      ]
     },
     "execution_count": 5,
     "metadata": {},
     "output_type": "execute_result"
    }
   ],
   "source": [
    "l = []    #list is defined as [] \n",
    "l"
   ]
  },
  {
   "cell_type": "code",
   "execution_count": 7,
   "id": "9c6b8354-6296-4db2-8049-44848963dd23",
   "metadata": {},
   "outputs": [
    {
     "data": {
      "text/plain": [
       "list"
      ]
     },
     "execution_count": 7,
     "metadata": {},
     "output_type": "execute_result"
    }
   ],
   "source": [
    "type(l)"
   ]
  },
  {
   "cell_type": "code",
   "execution_count": 9,
   "id": "f10684a0-ab80-4c5f-83ca-bdf187ac627c",
   "metadata": {},
   "outputs": [
    {
     "data": {
      "text/plain": [
       "[10]"
      ]
     },
     "execution_count": 9,
     "metadata": {},
     "output_type": "execute_result"
    }
   ],
   "source": [
    "l.append(10)\n",
    "l"
   ]
  },
  {
   "cell_type": "code",
   "execution_count": 23,
   "id": "51e2f71a-4cee-4e3c-9e07-54e19f3c22c2",
   "metadata": {},
   "outputs": [],
   "source": [
    "l.append(10)\n",
    "l.append(20)\n",
    "l.append(30)\n",
    "l.append(40)"
   ]
  },
  {
   "cell_type": "code",
   "execution_count": 19,
   "id": "669c054b-9414-4394-8993-1561e69116e9",
   "metadata": {},
   "outputs": [
    {
     "data": {
      "text/plain": [
       "[10, 10, 30, 40, 50, 10, 30, 40, 50, 10, 30, 40, 50]"
      ]
     },
     "execution_count": 19,
     "metadata": {},
     "output_type": "execute_result"
    }
   ],
   "source": [
    "l"
   ]
  },
  {
   "cell_type": "code",
   "execution_count": 21,
   "id": "08e6408e-166b-43c7-847a-38a8ae03a391",
   "metadata": {},
   "outputs": [
    {
     "ename": "TypeError",
     "evalue": "list.append() takes exactly one argument (3 given)",
     "output_type": "error",
     "traceback": [
      "\u001b[1;31m---------------------------------------------------------------------------\u001b[0m",
      "\u001b[1;31mTypeError\u001b[0m                                 Traceback (most recent call last)",
      "Cell \u001b[1;32mIn[21], line 1\u001b[0m\n\u001b[1;32m----> 1\u001b[0m l\u001b[38;5;241m.\u001b[39mappend(\u001b[38;5;241m70\u001b[39m,\u001b[38;5;241m80\u001b[39m,\u001b[38;5;241m90\u001b[39m)\n",
      "\u001b[1;31mTypeError\u001b[0m: list.append() takes exactly one argument (3 given)"
     ]
    }
   ],
   "source": [
    "l.append(70,80,90)    #in this we only take only one arguments "
   ]
  },
  {
   "cell_type": "code",
   "execution_count": 29,
   "id": "e360bd10-28c5-4a88-b209-b64e42e054c8",
   "metadata": {},
   "outputs": [
    {
     "data": {
      "text/plain": [
       "[10, 10, 30, 40, 50, 10, 30, 40, 50, 10, 30, 40, 50, 10, 20, 30, 40, 10, 10]"
      ]
     },
     "execution_count": 29,
     "metadata": {},
     "output_type": "execute_result"
    }
   ],
   "source": [
    "l"
   ]
  },
  {
   "cell_type": "code",
   "execution_count": 33,
   "id": "e210097f-1f3f-41a7-b3a3-d3e59a3650b1",
   "metadata": {},
   "outputs": [
    {
     "data": {
      "text/plain": [
       "[10,\n",
       " 10,\n",
       " 30,\n",
       " 40,\n",
       " 50,\n",
       " 10,\n",
       " 30,\n",
       " 40,\n",
       " 50,\n",
       " 10,\n",
       " 30,\n",
       " 40,\n",
       " 50,\n",
       " 10,\n",
       " 20,\n",
       " 30,\n",
       " 40,\n",
       " 10,\n",
       " 10,\n",
       " 10,\n",
       " 10]"
      ]
     },
     "execution_count": 33,
     "metadata": {},
     "output_type": "execute_result"
    }
   ],
   "source": [
    "l.append(10)\n",
    "l"
   ]
  },
  {
   "cell_type": "code",
   "execution_count": 35,
   "id": "6592b665-78f6-4418-aced-d6f991c2fc07",
   "metadata": {},
   "outputs": [
    {
     "data": {
      "text/plain": [
       "21"
      ]
     },
     "execution_count": 35,
     "metadata": {},
     "output_type": "execute_result"
    }
   ],
   "source": [
    "len(l)"
   ]
  },
  {
   "cell_type": "code",
   "execution_count": 52,
   "id": "bca3404e-367c-4018-a52d-1e2e42509956",
   "metadata": {},
   "outputs": [],
   "source": [
    "l.append(10)\n",
    "l.append(20)\n",
    "l.append(30)\n",
    "l.append(40)"
   ]
  },
  {
   "cell_type": "code",
   "execution_count": 54,
   "id": "1714bad5-aad7-4a35-a06a-cf0b5bd85f39",
   "metadata": {},
   "outputs": [
    {
     "data": {
      "text/plain": [
       "[10,\n",
       " 10,\n",
       " 30,\n",
       " 40,\n",
       " 50,\n",
       " 10,\n",
       " 30,\n",
       " 40,\n",
       " 50,\n",
       " 10,\n",
       " 30,\n",
       " 40,\n",
       " 50,\n",
       " 10,\n",
       " 20,\n",
       " 30,\n",
       " 40,\n",
       " 10,\n",
       " 10,\n",
       " 10,\n",
       " 10,\n",
       " 10,\n",
       " 20,\n",
       " 30,\n",
       " 40,\n",
       " 10,\n",
       " 20,\n",
       " 30,\n",
       " 40,\n",
       " 10,\n",
       " 20,\n",
       " 30,\n",
       " 40]"
      ]
     },
     "execution_count": 54,
     "metadata": {},
     "output_type": "execute_result"
    }
   ],
   "source": [
    "l"
   ]
  },
  {
   "cell_type": "code",
   "execution_count": 58,
   "id": "d7659050-97ae-4411-b963-e36e5de2492c",
   "metadata": {},
   "outputs": [
    {
     "data": {
      "text/plain": [
       "[10,\n",
       " 10,\n",
       " 30,\n",
       " 40,\n",
       " 50,\n",
       " 10,\n",
       " 30,\n",
       " 40,\n",
       " 50,\n",
       " 10,\n",
       " 30,\n",
       " 40,\n",
       " 50,\n",
       " 10,\n",
       " 20,\n",
       " 30,\n",
       " 40,\n",
       " 10,\n",
       " 10,\n",
       " 10,\n",
       " 10,\n",
       " 10,\n",
       " 20,\n",
       " 30,\n",
       " 40,\n",
       " 10,\n",
       " 20,\n",
       " 30,\n",
       " 40,\n",
       " 10,\n",
       " 20,\n",
       " 30,\n",
       " 40]"
      ]
     },
     "execution_count": 58,
     "metadata": {},
     "output_type": "execute_result"
    }
   ],
   "source": [
    "l1 = l.copy()\n",
    "l1"
   ]
  },
  {
   "cell_type": "code",
   "execution_count": 60,
   "id": "bca8da8f-98be-4f30-a984-c82d5841eb1b",
   "metadata": {},
   "outputs": [],
   "source": [
    "l1.append(2.3)\n",
    "l1.append('nit')\n",
    "l1.append(1+2j)\n",
    "l1.append([1,2,3])"
   ]
  },
  {
   "cell_type": "code",
   "execution_count": 62,
   "id": "5ec3a1e2-ed61-4063-97f9-22708d99c088",
   "metadata": {},
   "outputs": [
    {
     "data": {
      "text/plain": [
       "[10,\n",
       " 10,\n",
       " 30,\n",
       " 40,\n",
       " 50,\n",
       " 10,\n",
       " 30,\n",
       " 40,\n",
       " 50,\n",
       " 10,\n",
       " 30,\n",
       " 40,\n",
       " 50,\n",
       " 10,\n",
       " 20,\n",
       " 30,\n",
       " 40,\n",
       " 10,\n",
       " 10,\n",
       " 10,\n",
       " 10,\n",
       " 10,\n",
       " 20,\n",
       " 30,\n",
       " 40,\n",
       " 10,\n",
       " 20,\n",
       " 30,\n",
       " 40,\n",
       " 10,\n",
       " 20,\n",
       " 30,\n",
       " 40,\n",
       " 2.3,\n",
       " 'nit',\n",
       " (1+2j),\n",
       " [1, 2, 3]]"
      ]
     },
     "execution_count": 62,
     "metadata": {},
     "output_type": "execute_result"
    }
   ],
   "source": [
    "l1"
   ]
  },
  {
   "cell_type": "code",
   "execution_count": 64,
   "id": "e5a01792-3ffa-49b3-bdf6-71eeca32ee8b",
   "metadata": {},
   "outputs": [
    {
     "name": "stdout",
     "output_type": "stream",
     "text": [
      "[10, 10, 30, 40, 50, 10, 30, 40, 50, 10, 30, 40, 50, 10, 20, 30, 40, 10, 10, 10, 10, 10, 20, 30, 40, 10, 20, 30, 40, 10, 20, 30, 40]\n",
      "[10, 10, 30, 40, 50, 10, 30, 40, 50, 10, 30, 40, 50, 10, 20, 30, 40, 10, 10, 10, 10, 10, 20, 30, 40, 10, 20, 30, 40, 10, 20, 30, 40, 2.3, 'nit', (1+2j), [1, 2, 3]]\n"
     ]
    }
   ],
   "source": [
    "print(l)   #in list we can define multiple datatype \n",
    "print(l1)"
   ]
  },
  {
   "cell_type": "markdown",
   "id": "977b40aa-b434-4a7f-ba7d-cf7e07602f64",
   "metadata": {},
   "source": [
    "#list insdie list = nested lsit "
   ]
  },
  {
   "cell_type": "code",
   "execution_count": 66,
   "id": "309d9d5f-25a4-4ebd-b385-37babb926998",
   "metadata": {},
   "outputs": [
    {
     "name": "stdout",
     "output_type": "stream",
     "text": [
      "33\n",
      "37\n"
     ]
    }
   ],
   "source": [
    "print(len(l))\n",
    "print(len(l1))"
   ]
  },
  {
   "cell_type": "code",
   "execution_count": 68,
   "id": "1bc7d4cc-d750-4fed-a41b-4cfd8dedfa94",
   "metadata": {},
   "outputs": [
    {
     "data": {
      "text/plain": [
       "False"
      ]
     },
     "execution_count": 68,
     "metadata": {},
     "output_type": "execute_result"
    }
   ],
   "source": [
    "l == l1"
   ]
  },
  {
   "cell_type": "code",
   "execution_count": 70,
   "id": "4c314c39-9ac2-4836-900f-e50875980af8",
   "metadata": {},
   "outputs": [],
   "source": [
    "l2 = l.copy()"
   ]
  },
  {
   "cell_type": "markdown",
   "id": "ad9fc197-4ecb-4eb0-afef-fb90d964a0f2",
   "metadata": {},
   "source": [
    "l2"
   ]
  },
  {
   "cell_type": "code",
   "execution_count": 76,
   "id": "ff6f2d61-26b9-4d75-afcb-a0421ebc3064",
   "metadata": {},
   "outputs": [
    {
     "data": {
      "text/plain": [
       "True"
      ]
     },
     "execution_count": 76,
     "metadata": {},
     "output_type": "execute_result"
    }
   ],
   "source": [
    "l == l2"
   ]
  },
  {
   "cell_type": "code",
   "execution_count": 78,
   "id": "eaafb688-90b3-4c84-9fe4-b24fb19e3ffd",
   "metadata": {},
   "outputs": [
    {
     "name": "stdout",
     "output_type": "stream",
     "text": [
      "[10, 10, 30, 40, 50, 10, 30, 40, 50, 10, 30, 40, 50, 10, 20, 30, 40, 10, 10, 10, 10, 10, 20, 30, 40, 10, 20, 30, 40, 10, 20, 30, 40]\n",
      "[10, 10, 30, 40, 50, 10, 30, 40, 50, 10, 30, 40, 50, 10, 20, 30, 40, 10, 10, 10, 10, 10, 20, 30, 40, 10, 20, 30, 40, 10, 20, 30, 40, 2.3, 'nit', (1+2j), [1, 2, 3]]\n",
      "[10, 10, 30, 40, 50, 10, 30, 40, 50, 10, 30, 40, 50, 10, 20, 30, 40, 10, 10, 10, 10, 10, 20, 30, 40, 10, 20, 30, 40, 10, 20, 30, 40]\n"
     ]
    }
   ],
   "source": [
    "print(l)\n",
    "print(l1)\n",
    "print(l2)"
   ]
  },
  {
   "cell_type": "code",
   "execution_count": 80,
   "id": "aa1640c0-6b92-4885-a174-5ffa110c37b1",
   "metadata": {},
   "outputs": [
    {
     "data": {
      "text/plain": [
       "[10,\n",
       " 10,\n",
       " 30,\n",
       " 40,\n",
       " 50,\n",
       " 10,\n",
       " 30,\n",
       " 40,\n",
       " 50,\n",
       " 10,\n",
       " 30,\n",
       " 40,\n",
       " 50,\n",
       " 10,\n",
       " 20,\n",
       " 30,\n",
       " 40,\n",
       " 10,\n",
       " 10,\n",
       " 10,\n",
       " 10,\n",
       " 10,\n",
       " 20,\n",
       " 30,\n",
       " 40,\n",
       " 10,\n",
       " 20,\n",
       " 30,\n",
       " 40,\n",
       " 10,\n",
       " 20,\n",
       " 30,\n",
       " 40]"
      ]
     },
     "execution_count": 80,
     "metadata": {},
     "output_type": "execute_result"
    }
   ],
   "source": [
    "l[:]"
   ]
  },
  {
   "cell_type": "code",
   "execution_count": 82,
   "id": "ba1df701-172c-4270-ab7b-507ed29d51c1",
   "metadata": {},
   "outputs": [
    {
     "data": {
      "text/plain": [
       "10"
      ]
     },
     "execution_count": 82,
     "metadata": {},
     "output_type": "execute_result"
    }
   ],
   "source": [
    "l[0]"
   ]
  },
  {
   "cell_type": "code",
   "execution_count": 86,
   "id": "9bf45585-3886-40df-ac45-7f965defd58c",
   "metadata": {},
   "outputs": [],
   "source": [
    "l[0] = 100    #mutable concepts "
   ]
  },
  {
   "cell_type": "code",
   "execution_count": 88,
   "id": "408659ee-f28b-47a7-8b19-e231eec0d9ce",
   "metadata": {},
   "outputs": [
    {
     "data": {
      "text/plain": [
       "[100,\n",
       " 10,\n",
       " 30,\n",
       " 40,\n",
       " 50,\n",
       " 10,\n",
       " 30,\n",
       " 40,\n",
       " 50,\n",
       " 10,\n",
       " 30,\n",
       " 40,\n",
       " 50,\n",
       " 10,\n",
       " 20,\n",
       " 30,\n",
       " 40,\n",
       " 10,\n",
       " 10,\n",
       " 10,\n",
       " 10,\n",
       " 10,\n",
       " 20,\n",
       " 30,\n",
       " 40,\n",
       " 10,\n",
       " 20,\n",
       " 30,\n",
       " 40,\n",
       " 10,\n",
       " 20,\n",
       " 30,\n",
       " 40]"
      ]
     },
     "execution_count": 88,
     "metadata": {},
     "output_type": "execute_result"
    }
   ],
   "source": [
    "l"
   ]
  },
  {
   "cell_type": "code",
   "execution_count": 92,
   "id": "3ca93110-b1a2-43d2-9656-039f4896ac71",
   "metadata": {},
   "outputs": [
    {
     "data": {
      "text/plain": [
       "[100,\n",
       " 10,\n",
       " 30,\n",
       " 40,\n",
       " 50,\n",
       " 10,\n",
       " 30,\n",
       " 40,\n",
       " 50,\n",
       " 10,\n",
       " 30,\n",
       " 40,\n",
       " 50,\n",
       " 10,\n",
       " 20,\n",
       " 30,\n",
       " 40,\n",
       " 10,\n",
       " 10,\n",
       " 10,\n",
       " 10,\n",
       " 10,\n",
       " 20,\n",
       " 30,\n",
       " 40,\n",
       " 10,\n",
       " 20,\n",
       " 30,\n",
       " 40,\n",
       " 10,\n",
       " 20,\n",
       " 30,\n",
       " 200]"
      ]
     },
     "execution_count": 92,
     "metadata": {},
     "output_type": "execute_result"
    }
   ],
   "source": [
    "l[-1] = 200\n",
    "l"
   ]
  },
  {
   "cell_type": "code",
   "execution_count": 94,
   "id": "6ad72d97-54b3-4b80-85ac-9f0a28fffba0",
   "metadata": {},
   "outputs": [
    {
     "data": {
      "text/plain": [
       "[40,\n",
       " 50,\n",
       " 10,\n",
       " 30,\n",
       " 40,\n",
       " 50,\n",
       " 10,\n",
       " 30,\n",
       " 40,\n",
       " 50,\n",
       " 10,\n",
       " 20,\n",
       " 30,\n",
       " 40,\n",
       " 10,\n",
       " 10,\n",
       " 10,\n",
       " 10,\n",
       " 10,\n",
       " 20,\n",
       " 30,\n",
       " 40,\n",
       " 10,\n",
       " 20,\n",
       " 30,\n",
       " 40,\n",
       " 10,\n",
       " 20,\n",
       " 30,\n",
       " 200]"
      ]
     },
     "execution_count": 94,
     "metadata": {},
     "output_type": "execute_result"
    }
   ],
   "source": [
    "l[3:]"
   ]
  },
  {
   "cell_type": "code",
   "execution_count": 106,
   "id": "05cad245-efd2-46bc-8a92-caa9eb0b448c",
   "metadata": {},
   "outputs": [
    {
     "data": {
      "text/plain": [
       "[]"
      ]
     },
     "execution_count": 106,
     "metadata": {},
     "output_type": "execute_result"
    }
   ],
   "source": [
    "l[50:]"
   ]
  },
  {
   "cell_type": "code",
   "execution_count": 104,
   "id": "a3ceb21d-299b-4fcb-9e0b-f8561fc3ce18",
   "metadata": {},
   "outputs": [
    {
     "data": {
      "text/plain": [
       "[100, 10, 30, 40, 50, 10, 30, 40, 50, 10]"
      ]
     },
     "execution_count": 104,
     "metadata": {},
     "output_type": "execute_result"
    }
   ],
   "source": [
    "l[:10]"
   ]
  },
  {
   "cell_type": "code",
   "execution_count": 108,
   "id": "012e9831-c85f-468f-b5c2-5afa55ad1ad4",
   "metadata": {},
   "outputs": [],
   "source": [
    "l2.clear()   #in this we use del option for delete variables "
   ]
  },
  {
   "cell_type": "code",
   "execution_count": 110,
   "id": "f3be0dea-08e3-4447-980a-119269e8a4ce",
   "metadata": {},
   "outputs": [
    {
     "data": {
      "text/plain": [
       "[]"
      ]
     },
     "execution_count": 110,
     "metadata": {},
     "output_type": "execute_result"
    }
   ],
   "source": [
    "l2"
   ]
  },
  {
   "cell_type": "code",
   "execution_count": 112,
   "id": "08fe6cb7-b91c-4c7a-a29d-9a4575f2373c",
   "metadata": {},
   "outputs": [
    {
     "data": {
      "text/plain": [
       "37"
      ]
     },
     "execution_count": 112,
     "metadata": {},
     "output_type": "execute_result"
    }
   ],
   "source": [
    "len(l1)"
   ]
  },
  {
   "cell_type": "code",
   "execution_count": 114,
   "id": "64782e1f-ee64-456f-9074-c1e0e52a088c",
   "metadata": {},
   "outputs": [
    {
     "data": {
      "text/plain": [
       "[10,\n",
       " 10,\n",
       " 30,\n",
       " 40,\n",
       " 50,\n",
       " 10,\n",
       " 30,\n",
       " 40,\n",
       " 50,\n",
       " 10,\n",
       " 30,\n",
       " 40,\n",
       " 50,\n",
       " 10,\n",
       " 20,\n",
       " 30,\n",
       " 40,\n",
       " 10,\n",
       " 10,\n",
       " 10,\n",
       " 10,\n",
       " 10,\n",
       " 20,\n",
       " 30,\n",
       " 40,\n",
       " 10,\n",
       " 20,\n",
       " 30,\n",
       " 40,\n",
       " 10,\n",
       " 20,\n",
       " 30,\n",
       " 40,\n",
       " 2.3,\n",
       " 'nit',\n",
       " (1+2j),\n",
       " [1, 2, 3]]"
      ]
     },
     "execution_count": 114,
     "metadata": {},
     "output_type": "execute_result"
    }
   ],
   "source": [
    "l1"
   ]
  },
  {
   "cell_type": "code",
   "execution_count": 116,
   "id": "eac180bb-9334-4186-bd35-457580e891b4",
   "metadata": {},
   "outputs": [
    {
     "data": {
      "text/plain": [
       "[10, 10, 30]"
      ]
     },
     "execution_count": 116,
     "metadata": {},
     "output_type": "execute_result"
    }
   ],
   "source": [
    "l1[0:12:5]    #sttep indecxing "
   ]
  },
  {
   "cell_type": "code",
   "execution_count": 118,
   "id": "8f66e591-86f6-4300-810d-44a081796c41",
   "metadata": {},
   "outputs": [
    {
     "data": {
      "text/plain": [
       "34"
      ]
     },
     "execution_count": 118,
     "metadata": {},
     "output_type": "execute_result"
    }
   ],
   "source": [
    "l1.index('nit')"
   ]
  },
  {
   "cell_type": "markdown",
   "id": "c658c1ad-666a-4f10-aaeb-17947736ad7f",
   "metadata": {},
   "source": [
    "#22nd april"
   ]
  },
  {
   "cell_type": "code",
   "execution_count": 3,
   "id": "73227255-94e3-4d33-afc6-91c1a39dcbc4",
   "metadata": {},
   "outputs": [],
   "source": [
    "l = []"
   ]
  },
  {
   "cell_type": "code",
   "execution_count": 6,
   "id": "b77c952c-2cd8-4c65-9473-6412eda583eb",
   "metadata": {},
   "outputs": [
    {
     "data": {
      "text/plain": [
       "[]"
      ]
     },
     "execution_count": 6,
     "metadata": {},
     "output_type": "execute_result"
    }
   ],
   "source": [
    "l"
   ]
  },
  {
   "cell_type": "code",
   "execution_count": 8,
   "id": "a37987db-db42-47e2-adae-07df01569e67",
   "metadata": {},
   "outputs": [
    {
     "data": {
      "text/plain": [
       "[10, 20, 30, 40]"
      ]
     },
     "execution_count": 8,
     "metadata": {},
     "output_type": "execute_result"
    }
   ],
   "source": [
    "l.append(10)\n",
    "l.append(20)\n",
    "l.append(30)\n",
    "l.append(40)\n",
    "l"
   ]
  },
  {
   "cell_type": "code",
   "execution_count": 10,
   "id": "bb40386c-c129-4499-8c7d-4c69f7e6b169",
   "metadata": {},
   "outputs": [
    {
     "data": {
      "text/plain": [
       "1"
      ]
     },
     "execution_count": 10,
     "metadata": {},
     "output_type": "execute_result"
    }
   ],
   "source": [
    "l.count(10)"
   ]
  },
  {
   "cell_type": "code",
   "execution_count": 12,
   "id": "68104d44-2ec0-4cb7-983b-2ff9f62ff698",
   "metadata": {},
   "outputs": [],
   "source": [
    "l.remove(20)"
   ]
  },
  {
   "cell_type": "code",
   "execution_count": 14,
   "id": "d8b7228d-3e45-455b-bf61-44b721314f56",
   "metadata": {},
   "outputs": [
    {
     "data": {
      "text/plain": [
       "[10, 30, 40]"
      ]
     },
     "execution_count": 14,
     "metadata": {},
     "output_type": "execute_result"
    }
   ],
   "source": [
    "l\n"
   ]
  },
  {
   "cell_type": "code",
   "execution_count": 16,
   "id": "994793df-52a4-4778-81bc-d4b88cec7d51",
   "metadata": {},
   "outputs": [
    {
     "data": {
      "text/plain": [
       "[10, 20, 30, 10, 20, 30, 40]"
      ]
     },
     "execution_count": 16,
     "metadata": {},
     "output_type": "execute_result"
    }
   ],
   "source": [
    "l = [10,20,30,10,20,30,40]\n",
    "l"
   ]
  },
  {
   "cell_type": "code",
   "execution_count": 18,
   "id": "7c1e5737-5233-4a71-87d2-b88c12b9a7bc",
   "metadata": {},
   "outputs": [],
   "source": [
    "l.remove(10)"
   ]
  },
  {
   "cell_type": "code",
   "execution_count": 20,
   "id": "76ee51cf-adf4-4138-acb4-d4eaf97739af",
   "metadata": {},
   "outputs": [
    {
     "data": {
      "text/plain": [
       "[20, 30, 10, 20, 30, 40]"
      ]
     },
     "execution_count": 20,
     "metadata": {},
     "output_type": "execute_result"
    }
   ],
   "source": [
    "l"
   ]
  },
  {
   "cell_type": "code",
   "execution_count": 22,
   "id": "bff9673d-52a6-4892-a678-b67354d301ee",
   "metadata": {},
   "outputs": [
    {
     "data": {
      "text/plain": [
       "[20, 30, 10, 20, 30, 40]"
      ]
     },
     "execution_count": 22,
     "metadata": {},
     "output_type": "execute_result"
    }
   ],
   "source": [
    "l"
   ]
  },
  {
   "cell_type": "code",
   "execution_count": 24,
   "id": "5323aab7-f3a6-4250-aa48-f2541c0b9e10",
   "metadata": {},
   "outputs": [],
   "source": [
    "l.insert(1,25)   #insert  2 arguments are index and value 1 = index and 25 = value "
   ]
  },
  {
   "cell_type": "code",
   "execution_count": 26,
   "id": "38012b92-d560-4616-8036-e5a776cbe0bc",
   "metadata": {},
   "outputs": [
    {
     "data": {
      "text/plain": [
       "[20, 25, 30, 10, 20, 30, 40]"
      ]
     },
     "execution_count": 26,
     "metadata": {},
     "output_type": "execute_result"
    }
   ],
   "source": [
    "l"
   ]
  },
  {
   "cell_type": "code",
   "execution_count": 36,
   "id": "a5401efc-779a-4c3e-8e72-e898488487a8",
   "metadata": {},
   "outputs": [
    {
     "data": {
      "text/plain": [
       "30"
      ]
     },
     "execution_count": 36,
     "metadata": {},
     "output_type": "execute_result"
    }
   ],
   "source": [
    "l.pop()            #it will remove the last element "
   ]
  },
  {
   "cell_type": "code",
   "execution_count": 38,
   "id": "dd0b9cda-ea7f-4e47-b31c-a6fac8fbc1fa",
   "metadata": {},
   "outputs": [
    {
     "data": {
      "text/plain": [
       "[20, 25, 30, 10, 20]"
      ]
     },
     "execution_count": 38,
     "metadata": {},
     "output_type": "execute_result"
    }
   ],
   "source": [
    "l"
   ]
  },
  {
   "cell_type": "markdown",
   "id": "a352072d-17ab-49df-9b56-5db642a43d92",
   "metadata": {},
   "source": [
    "pop will remove by index wise \n",
    "remove will be remove by element number "
   ]
  },
  {
   "cell_type": "code",
   "execution_count": 40,
   "id": "8dac1ccf-a287-4adb-871a-5be05f352b1b",
   "metadata": {},
   "outputs": [
    {
     "data": {
      "text/plain": [
       "[20, 25, 30, 10, 20]"
      ]
     },
     "execution_count": 40,
     "metadata": {},
     "output_type": "execute_result"
    }
   ],
   "source": [
    "l"
   ]
  },
  {
   "cell_type": "code",
   "execution_count": 42,
   "id": "30cfb6e4-64fc-43f9-97d9-2b82889785c9",
   "metadata": {},
   "outputs": [
    {
     "data": {
      "text/plain": [
       "25"
      ]
     },
     "execution_count": 42,
     "metadata": {},
     "output_type": "execute_result"
    }
   ],
   "source": [
    "l.pop(1)"
   ]
  },
  {
   "cell_type": "code",
   "execution_count": 44,
   "id": "014b8315-f03f-4153-90e2-0bafbb4af0ba",
   "metadata": {},
   "outputs": [
    {
     "data": {
      "text/plain": [
       "[20, 30, 10, 20]"
      ]
     },
     "execution_count": 44,
     "metadata": {},
     "output_type": "execute_result"
    }
   ],
   "source": [
    "l"
   ]
  },
  {
   "cell_type": "code",
   "execution_count": 48,
   "id": "b8558b4f-946d-4db5-8020-0e156cbcbb84",
   "metadata": {},
   "outputs": [],
   "source": [
    "l1 = l.copy()"
   ]
  },
  {
   "cell_type": "code",
   "execution_count": 50,
   "id": "96e988a7-d36d-4e45-b3fa-a55613afdd50",
   "metadata": {},
   "outputs": [
    {
     "data": {
      "text/plain": [
       "[20, 30, 10, 20]"
      ]
     },
     "execution_count": 50,
     "metadata": {},
     "output_type": "execute_result"
    }
   ],
   "source": [
    "l1"
   ]
  },
  {
   "cell_type": "code",
   "execution_count": 70,
   "id": "397f0c47-76dd-4967-a774-284a5618631e",
   "metadata": {},
   "outputs": [
    {
     "data": {
      "text/plain": [
       "[20, 30, 10, 20]"
      ]
     },
     "execution_count": 70,
     "metadata": {},
     "output_type": "execute_result"
    }
   ],
   "source": [
    "l3 = l1.copy()\n",
    "l3"
   ]
  },
  {
   "cell_type": "code",
   "execution_count": 72,
   "id": "bc88060a-0c60-404d-97bb-1294dd14687e",
   "metadata": {},
   "outputs": [],
   "source": [
    "l1.extend(l3)"
   ]
  },
  {
   "cell_type": "code",
   "execution_count": 74,
   "id": "d10138a3-d347-4448-bcf3-c8de63264c01",
   "metadata": {},
   "outputs": [
    {
     "data": {
      "text/plain": [
       "[20, 30, 10, 20, 20, 30, 10, 20]"
      ]
     },
     "execution_count": 74,
     "metadata": {},
     "output_type": "execute_result"
    }
   ],
   "source": [
    "l1"
   ]
  },
  {
   "cell_type": "code",
   "execution_count": 78,
   "id": "87b4f30a-e4a9-4a94-8dbd-1c8debf31599",
   "metadata": {},
   "outputs": [
    {
     "data": {
      "text/plain": [
       "[4, 5, 6]"
      ]
     },
     "execution_count": 78,
     "metadata": {},
     "output_type": "execute_result"
    }
   ],
   "source": [
    "l4 = [4,5,6]\n",
    "l4"
   ]
  },
  {
   "cell_type": "code",
   "execution_count": 80,
   "id": "6bf21b5e-0139-449a-ad4f-5826164a8a2e",
   "metadata": {},
   "outputs": [
    {
     "data": {
      "text/plain": [
       "[1, 2]"
      ]
     },
     "execution_count": 80,
     "metadata": {},
     "output_type": "execute_result"
    }
   ],
   "source": [
    "l7 = [1,2]\n",
    "l7"
   ]
  },
  {
   "cell_type": "code",
   "execution_count": 82,
   "id": "e6ae36e0-f5f9-4f29-8694-bddef2309ed3",
   "metadata": {},
   "outputs": [],
   "source": [
    "l7.extend(l4)       #it will extend the list merege from one lidt to another list "
   ]
  },
  {
   "cell_type": "code",
   "execution_count": 84,
   "id": "343118df-cae0-426e-a14b-b532e18fecb6",
   "metadata": {},
   "outputs": [
    {
     "data": {
      "text/plain": [
       "[1, 2, 4, 5, 6]"
      ]
     },
     "execution_count": 84,
     "metadata": {},
     "output_type": "execute_result"
    }
   ],
   "source": [
    "l7"
   ]
  },
  {
   "cell_type": "code",
   "execution_count": 88,
   "id": "46ddd18c-1c20-4ab5-b092-fd5e9501204f",
   "metadata": {},
   "outputs": [],
   "source": [
    "l4.extend(l7)"
   ]
  },
  {
   "cell_type": "code",
   "execution_count": 90,
   "id": "e998e87b-e4a8-4571-ba17-2d64c553e901",
   "metadata": {},
   "outputs": [
    {
     "data": {
      "text/plain": [
       "[4, 5, 6, 1, 2, 4, 5, 6]"
      ]
     },
     "execution_count": 90,
     "metadata": {},
     "output_type": "execute_result"
    }
   ],
   "source": [
    "l4"
   ]
  },
  {
   "cell_type": "code",
   "execution_count": 92,
   "id": "f6549e11-fba9-457b-90b5-62dd31db61f6",
   "metadata": {},
   "outputs": [],
   "source": [
    "l4.reverse()      #it will reverse the list "
   ]
  },
  {
   "cell_type": "code",
   "execution_count": 94,
   "id": "44048e69-bca2-4a77-87f1-36c5570eb16e",
   "metadata": {},
   "outputs": [
    {
     "data": {
      "text/plain": [
       "[6, 5, 4, 2, 1, 6, 5, 4]"
      ]
     },
     "execution_count": 94,
     "metadata": {},
     "output_type": "execute_result"
    }
   ],
   "source": [
    "l4"
   ]
  },
  {
   "cell_type": "code",
   "execution_count": 96,
   "id": "21f29018-ab89-4ca5-b950-8af055553f28",
   "metadata": {},
   "outputs": [
    {
     "data": {
      "text/plain": [
       "[3, 7, 10, 1, 100, 90]"
      ]
     },
     "execution_count": 96,
     "metadata": {},
     "output_type": "execute_result"
    }
   ],
   "source": [
    "l9 = [3,7,10,1,100,90]\n",
    "l9"
   ]
  },
  {
   "cell_type": "code",
   "execution_count": 98,
   "id": "0975a61f-67e8-4dbc-9b49-93ce1c2146bf",
   "metadata": {},
   "outputs": [],
   "source": [
    "l9.sort()"
   ]
  },
  {
   "cell_type": "code",
   "execution_count": 100,
   "id": "811bdec2-13a2-471b-ae44-95c593ef2177",
   "metadata": {},
   "outputs": [
    {
     "data": {
      "text/plain": [
       "[1, 3, 7, 10, 90, 100]"
      ]
     },
     "execution_count": 100,
     "metadata": {},
     "output_type": "execute_result"
    }
   ],
   "source": [
    "l9"
   ]
  },
  {
   "cell_type": "code",
   "execution_count": 102,
   "id": "d679ae52-4907-4f03-a401-876bd06346d1",
   "metadata": {},
   "outputs": [],
   "source": [
    "l9.sort(reverse=True)   #reverse = True  shift tab if we click this (true means descending order) "
   ]
  },
  {
   "cell_type": "code",
   "execution_count": 104,
   "id": "99396929-9ef7-45fc-bfab-4de89e7c1aef",
   "metadata": {},
   "outputs": [
    {
     "data": {
      "text/plain": [
       "[100, 90, 10, 7, 3, 1]"
      ]
     },
     "execution_count": 104,
     "metadata": {},
     "output_type": "execute_result"
    }
   ],
   "source": [
    "l9"
   ]
  },
  {
   "cell_type": "code",
   "execution_count": 106,
   "id": "41a1b960-b604-41f1-a1a3-a3d94cddece6",
   "metadata": {},
   "outputs": [
    {
     "data": {
      "text/plain": [
       "[1, 3, 7, 10, 90, 100]"
      ]
     },
     "execution_count": 106,
     "metadata": {},
     "output_type": "execute_result"
    }
   ],
   "source": [
    "l9.sort(reverse=False)      # (false means ascending order)\n",
    "l9"
   ]
  },
  {
   "cell_type": "markdown",
   "id": "576fba98-8fb7-421a-99d2-f39eea8f6fc0",
   "metadata": {},
   "source": [
    "# 23RD APRIL------->"
   ]
  },
  {
   "cell_type": "code",
   "execution_count": 2,
   "id": "ae1b36f3-30e2-48b8-9cca-ce1e960db854",
   "metadata": {},
   "outputs": [],
   "source": [
    "l6 = ['z','x','b','d']"
   ]
  },
  {
   "cell_type": "code",
   "execution_count": 4,
   "id": "61e76bac-8661-4588-9d69-259744a9db44",
   "metadata": {},
   "outputs": [
    {
     "data": {
      "text/plain": [
       "['z', 'x', 'b', 'd']"
      ]
     },
     "execution_count": 4,
     "metadata": {},
     "output_type": "execute_result"
    }
   ],
   "source": [
    "l6"
   ]
  },
  {
   "cell_type": "code",
   "execution_count": 6,
   "id": "4b00305a-c0c7-4237-a424-8a4010b3665c",
   "metadata": {},
   "outputs": [],
   "source": [
    "l6.sort()    # ascending and descending "
   ]
  },
  {
   "cell_type": "code",
   "execution_count": 8,
   "id": "8c0638f1-0c02-4531-b76b-59416b8e1f42",
   "metadata": {},
   "outputs": [
    {
     "data": {
      "text/plain": [
       "['b', 'd', 'x', 'z']"
      ]
     },
     "execution_count": 8,
     "metadata": {},
     "output_type": "execute_result"
    }
   ],
   "source": [
    "l6"
   ]
  },
  {
   "cell_type": "markdown",
   "id": "7aac3230-f074-4c91-bc21-8b84c52bc136",
   "metadata": {},
   "source": [
    "# system has given a parameter = parameter tuning \n",
    "# user change the sysytem parameter - hyperparameter \n",
    "# llm this hyperparameter tumimg - fintuning "
   ]
  },
  {
   "cell_type": "code",
   "execution_count": 10,
   "id": "e351a89d-8a24-471d-abdf-30c358cb6a7c",
   "metadata": {},
   "outputs": [],
   "source": [
    "l6.sort(reverse=True)"
   ]
  },
  {
   "cell_type": "code",
   "execution_count": 12,
   "id": "bd57a708-9089-4dc0-98fa-083ffb7943d8",
   "metadata": {},
   "outputs": [
    {
     "data": {
      "text/plain": [
       "['z', 'x', 'd', 'b']"
      ]
     },
     "execution_count": 12,
     "metadata": {},
     "output_type": "execute_result"
    }
   ],
   "source": [
    "l6"
   ]
  },
  {
   "cell_type": "code",
   "execution_count": 14,
   "id": "1f98d5db-3cb7-4c14-a0cb-205f2fd8a1a4",
   "metadata": {},
   "outputs": [
    {
     "data": {
      "text/plain": [
       "['z', 'x', 'd', 'b']"
      ]
     },
     "execution_count": 14,
     "metadata": {},
     "output_type": "execute_result"
    }
   ],
   "source": [
    "l6\n"
   ]
  },
  {
   "cell_type": "code",
   "execution_count": 16,
   "id": "288deaa3-9dcc-4ede-a0a0-b054b029058a",
   "metadata": {},
   "outputs": [
    {
     "name": "stdout",
     "output_type": "stream",
     "text": [
      "z\n",
      "x\n",
      "d\n",
      "b\n"
     ]
    }
   ],
   "source": [
    "for i in l6:           # i means iteration intsead of i user can write anything \n",
    "    print(i)"
   ]
  },
  {
   "cell_type": "markdown",
   "id": "d1ed494d-5d4f-403e-92e8-7b31f11a9bc0",
   "metadata": {},
   "source": [
    "# list membership \n"
   ]
  },
  {
   "cell_type": "code",
   "execution_count": 18,
   "id": "885ce575-fd43-4aed-9aed-457fe5af79fa",
   "metadata": {},
   "outputs": [
    {
     "data": {
      "text/plain": [
       "True"
      ]
     },
     "execution_count": 18,
     "metadata": {},
     "output_type": "execute_result"
    }
   ],
   "source": [
    "'z' in l6"
   ]
  },
  {
   "cell_type": "code",
   "execution_count": 20,
   "id": "18dd879f-070c-419c-8f40-38e53e5a12de",
   "metadata": {},
   "outputs": [
    {
     "data": {
      "text/plain": [
       "False"
      ]
     },
     "execution_count": 20,
     "metadata": {},
     "output_type": "execute_result"
    }
   ],
   "source": [
    "'zz' in l6"
   ]
  },
  {
   "cell_type": "code",
   "execution_count": 22,
   "id": "7d9d6b30-94f0-4898-ba34-361c964b44d0",
   "metadata": {},
   "outputs": [
    {
     "name": "stdout",
     "output_type": "stream",
     "text": [
      "(0, 'z')\n",
      "(1, 'x')\n",
      "(2, 'd')\n",
      "(3, 'b')\n"
     ]
    }
   ],
   "source": [
    "for i in enumerate(l6):    # it will give with index as pair values with objects \n",
    "    print(i)"
   ]
  },
  {
   "cell_type": "markdown",
   "id": "41af8a3f-6ba0-4916-890d-60d505522240",
   "metadata": {},
   "source": [
    "# ALL / ANY "
   ]
  },
  {
   "cell_type": "code",
   "execution_count": 24,
   "id": "79f3b784-27cb-4bde-be90-d0b2cc324cb6",
   "metadata": {},
   "outputs": [
    {
     "data": {
      "text/plain": [
       "['z', 'x', 'd', 'b']"
      ]
     },
     "execution_count": 24,
     "metadata": {},
     "output_type": "execute_result"
    }
   ],
   "source": [
    "l6"
   ]
  },
  {
   "cell_type": "code",
   "execution_count": 26,
   "id": "6c18ddf8-a45d-4bd6-a567-095d07ca46cb",
   "metadata": {},
   "outputs": [
    {
     "data": {
      "text/plain": [
       "True"
      ]
     },
     "execution_count": 26,
     "metadata": {},
     "output_type": "execute_result"
    }
   ],
   "source": [
    "all(l6)"
   ]
  },
  {
   "cell_type": "code",
   "execution_count": 28,
   "id": "81afed07-5886-494d-97f4-1d0603f2a84e",
   "metadata": {},
   "outputs": [
    {
     "data": {
      "text/plain": [
       "True"
      ]
     },
     "execution_count": 28,
     "metadata": {},
     "output_type": "execute_result"
    }
   ],
   "source": [
    "any(l6)"
   ]
  },
  {
   "cell_type": "markdown",
   "id": "8e713eaa-b79f-49c9-9cae-f0c796ab0cce",
   "metadata": {},
   "source": [
    "# TUPLE "
   ]
  },
  {
   "cell_type": "code",
   "execution_count": 32,
   "id": "73fd52bf-eef6-4e9f-b121-0c40a985e6f7",
   "metadata": {},
   "outputs": [
    {
     "data": {
      "text/plain": [
       "()"
      ]
     },
     "execution_count": 32,
     "metadata": {},
     "output_type": "execute_result"
    }
   ],
   "source": [
    "t = ()      # always open brackets in tuple \n",
    "t"
   ]
  },
  {
   "cell_type": "code",
   "execution_count": 34,
   "id": "eca5bd6e-68fa-427c-90fd-fe61461363a7",
   "metadata": {},
   "outputs": [
    {
     "data": {
      "text/plain": [
       "0"
      ]
     },
     "execution_count": 34,
     "metadata": {},
     "output_type": "execute_result"
    }
   ],
   "source": [
    "len(t)"
   ]
  },
  {
   "cell_type": "code",
   "execution_count": 36,
   "id": "2138ace7-b85b-4d94-ac43-f4b1f8d2fe7b",
   "metadata": {},
   "outputs": [
    {
     "data": {
      "text/plain": [
       "(10, 20, 30, 40, 50)"
      ]
     },
     "execution_count": 36,
     "metadata": {},
     "output_type": "execute_result"
    }
   ],
   "source": [
    "t1 = (10,20,30,40,50)\n",
    "t1"
   ]
  },
  {
   "cell_type": "code",
   "execution_count": 38,
   "id": "5dcfbf29-a3c3-487a-b973-d8e7e409c015",
   "metadata": {},
   "outputs": [
    {
     "data": {
      "text/plain": [
       "('a', 'z', 'm', 'n')"
      ]
     },
     "execution_count": 38,
     "metadata": {},
     "output_type": "execute_result"
    }
   ],
   "source": [
    "t2 = ('a','z','m','n')\n",
    "t2"
   ]
  },
  {
   "cell_type": "code",
   "execution_count": 40,
   "id": "5acb05e5-5ce8-42c9-817b-b936d313dd72",
   "metadata": {},
   "outputs": [
    {
     "data": {
      "text/plain": [
       "1"
      ]
     },
     "execution_count": 40,
     "metadata": {},
     "output_type": "execute_result"
    }
   ],
   "source": [
    "t2.count('z')"
   ]
  },
  {
   "cell_type": "code",
   "execution_count": 44,
   "id": "8b7e47e5-375b-4eca-8241-42b613efbb44",
   "metadata": {},
   "outputs": [
    {
     "data": {
      "text/plain": [
       "0"
      ]
     },
     "execution_count": 44,
     "metadata": {},
     "output_type": "execute_result"
    }
   ],
   "source": [
    "t2.index('a')   # it only take direct values and it will give the index "
   ]
  },
  {
   "cell_type": "markdown",
   "id": "8678d8d0-1c5c-4fc0-a41c-c86881e40e0f",
   "metadata": {},
   "source": [
    "#tuple is immutable "
   ]
  },
  {
   "cell_type": "code",
   "execution_count": 52,
   "id": "2efbb38c-21ab-4c9c-8cfe-5feb497b9741",
   "metadata": {},
   "outputs": [
    {
     "data": {
      "text/plain": [
       "(1234, '5th april 1990', 1234, 'cip909087')"
      ]
     },
     "execution_count": 52,
     "metadata": {},
     "output_type": "execute_result"
    }
   ],
   "source": [
    "sbi = (1234, '5th april 1990', 1234 , 'cip909087')\n",
    "sbi"
   ]
  },
  {
   "cell_type": "code",
   "execution_count": 54,
   "id": "eaa7c280-b9a6-449f-99d4-1ff310413b82",
   "metadata": {},
   "outputs": [
    {
     "ename": "TypeError",
     "evalue": "'tuple' object does not support item assignment",
     "output_type": "error",
     "traceback": [
      "\u001b[1;31m---------------------------------------------------------------------------\u001b[0m",
      "\u001b[1;31mTypeError\u001b[0m                                 Traceback (most recent call last)",
      "Cell \u001b[1;32mIn[54], line 1\u001b[0m\n\u001b[1;32m----> 1\u001b[0m sbi[\u001b[38;5;241m0\u001b[39m] \u001b[38;5;241m=\u001b[39m \u001b[38;5;241m1456\u001b[39m\n",
      "\u001b[1;31mTypeError\u001b[0m: 'tuple' object does not support item assignment"
     ]
    }
   ],
   "source": [
    "sbi[0] = 1456     # it is immutable it doesnt change "
   ]
  },
  {
   "cell_type": "code",
   "execution_count": 56,
   "id": "048289df-7acd-4df4-a532-0117bcb71a2f",
   "metadata": {},
   "outputs": [
    {
     "data": {
      "text/plain": [
       "(10, 20, 30, 40, 50)"
      ]
     },
     "execution_count": 56,
     "metadata": {},
     "output_type": "execute_result"
    }
   ],
   "source": [
    "t1"
   ]
  },
  {
   "cell_type": "code",
   "execution_count": 58,
   "id": "dc5d3055-81d9-454b-8515-49def3fdb984",
   "metadata": {},
   "outputs": [
    {
     "data": {
      "text/plain": [
       "(10, 20, 30, 40, 50, 10, 20, 30, 40, 50, 10, 20, 30, 40, 50)"
      ]
     },
     "execution_count": 58,
     "metadata": {},
     "output_type": "execute_result"
    }
   ],
   "source": [
    "t3 = t1* 3     # it will multiply into 3 times \n",
    "t3"
   ]
  },
  {
   "cell_type": "code",
   "execution_count": 60,
   "id": "810e4dc3-fdb1-433b-ada3-03070852ca04",
   "metadata": {},
   "outputs": [],
   "source": [
    "t1 = (10,20,30,30)   # duplicate is allowed  it means repeated values "
   ]
  },
  {
   "cell_type": "code",
   "execution_count": 62,
   "id": "43fc20d7-7598-4645-b187-9457f0a8ac44",
   "metadata": {},
   "outputs": [
    {
     "data": {
      "text/plain": [
       "(10, 20, 30, 30)"
      ]
     },
     "execution_count": 62,
     "metadata": {},
     "output_type": "execute_result"
    }
   ],
   "source": [
    "t1"
   ]
  },
  {
   "cell_type": "markdown",
   "id": "0d7b1a2f-7f8f-4167-b777-b494f3149c88",
   "metadata": {},
   "source": [
    "# 24 April"
   ]
  },
  {
   "cell_type": "markdown",
   "id": "158ef08c-0582-49b4-85fd-ed4eeca6a9f8",
   "metadata": {},
   "source": [
    "# set"
   ]
  },
  {
   "cell_type": "code",
   "execution_count": 5,
   "id": "493dfa0d-a80c-46c4-b519-dfd5e707edf2",
   "metadata": {},
   "outputs": [
    {
     "data": {
      "text/plain": [
       "{}"
      ]
     },
     "execution_count": 5,
     "metadata": {},
     "output_type": "execute_result"
    }
   ],
   "source": [
    "s = {}\n",
    "s"
   ]
  },
  {
   "cell_type": "code",
   "execution_count": 7,
   "id": "e239cc6b-751c-4603-ae17-cd3e76f179ac",
   "metadata": {},
   "outputs": [
    {
     "data": {
      "text/plain": [
       "dict"
      ]
     },
     "execution_count": 7,
     "metadata": {},
     "output_type": "execute_result"
    }
   ],
   "source": [
    "type(s)     #by default it will print dictionary(dict) as curly braces {}"
   ]
  },
  {
   "cell_type": "code",
   "execution_count": 9,
   "id": "3d5301a1-8043-448c-a004-e3eb7fd56ca2",
   "metadata": {},
   "outputs": [
    {
     "data": {
      "text/plain": [
       "set"
      ]
     },
     "execution_count": 9,
     "metadata": {},
     "output_type": "execute_result"
    }
   ],
   "source": [
    "s1 = set()   \n",
    "type(s1)"
   ]
  },
  {
   "cell_type": "code",
   "execution_count": 11,
   "id": "f3abab9c-7816-42de-8929-5f38372332a2",
   "metadata": {},
   "outputs": [
    {
     "data": {
      "text/plain": [
       "{10}"
      ]
     },
     "execution_count": 11,
     "metadata": {},
     "output_type": "execute_result"
    }
   ],
   "source": [
    "s1.add(10)\n",
    "s1"
   ]
  },
  {
   "cell_type": "code",
   "execution_count": 21,
   "id": "7338de53-a918-40e3-a43e-523f6fe3d2c2",
   "metadata": {},
   "outputs": [],
   "source": [
    "s1.add(20)       # if we pass different datatype it will be unordered \n",
    "s1.add('nit')\n",
    "s1.add(True)\n",
    "s1.add(1+2j)\n",
    "s1.add(3.2)\n"
   ]
  },
  {
   "cell_type": "code",
   "execution_count": 23,
   "id": "fcfc1d55-a0c7-4a80-a7a1-879871af4659",
   "metadata": {},
   "outputs": [
    {
     "data": {
      "text/plain": [
       "{(1+2j), 10, 20, 3.2, True, 'nit'}"
      ]
     },
     "execution_count": 23,
     "metadata": {},
     "output_type": "execute_result"
    }
   ],
   "source": [
    "s1"
   ]
  },
  {
   "cell_type": "code",
   "execution_count": 27,
   "id": "ec54b2df-c371-4683-91d0-9ea8224bb350",
   "metadata": {},
   "outputs": [
    {
     "data": {
      "text/plain": [
       "set()"
      ]
     },
     "execution_count": 27,
     "metadata": {},
     "output_type": "execute_result"
    }
   ],
   "source": [
    "s2 = set()\n",
    "s2"
   ]
  },
  {
   "cell_type": "code",
   "execution_count": 35,
   "id": "9cf1b8ba-a65a-452c-a775-9127eeeab850",
   "metadata": {},
   "outputs": [],
   "source": [
    "s2.add(100)     # if we pass only one datatype then it will be in ascending order ordered \n",
    "s2.add(10)\n",
    "s2.add(200)\n",
    "s2.add(9)"
   ]
  },
  {
   "cell_type": "code",
   "execution_count": 37,
   "id": "8544a721-814f-41c5-975a-24fb127a302e",
   "metadata": {},
   "outputs": [
    {
     "data": {
      "text/plain": [
       "{9, 10, 100, 200}"
      ]
     },
     "execution_count": 37,
     "metadata": {},
     "output_type": "execute_result"
    }
   ],
   "source": [
    "s2"
   ]
  },
  {
   "cell_type": "code",
   "execution_count": 39,
   "id": "7930a927-a1d0-4b79-b7b6-1730ad228267",
   "metadata": {},
   "outputs": [
    {
     "data": {
      "text/plain": [
       "set()"
      ]
     },
     "execution_count": 39,
     "metadata": {},
     "output_type": "execute_result"
    }
   ],
   "source": [
    "s3 = set()\n",
    "s3"
   ]
  },
  {
   "cell_type": "code",
   "execution_count": 41,
   "id": "621c9fda-63f4-49a7-957d-72035fb11e4f",
   "metadata": {},
   "outputs": [],
   "source": [
    "s3.add('z')   # it will be in oredred \n",
    "s3.add('y')\n",
    "s3.add('k')\n",
    "s3.add('j')"
   ]
  },
  {
   "cell_type": "code",
   "execution_count": 43,
   "id": "2eae4787-051d-4cfa-8244-196c4b0a6c38",
   "metadata": {},
   "outputs": [
    {
     "data": {
      "text/plain": [
       "{'j', 'k', 'y', 'z'}"
      ]
     },
     "execution_count": 43,
     "metadata": {},
     "output_type": "execute_result"
    }
   ],
   "source": [
    "s3"
   ]
  },
  {
   "cell_type": "code",
   "execution_count": 45,
   "id": "9b5f38b8-6cd6-4d17-8943-79ca0cebd56b",
   "metadata": {},
   "outputs": [
    {
     "name": "stdout",
     "output_type": "stream",
     "text": [
      "{True, 'nit', 3.2, (1+2j), 10, 20}\n",
      "{200, 9, 10, 100}\n",
      "{'j', 'k', 'y', 'z'}\n"
     ]
    }
   ],
   "source": [
    "print(s1)\n",
    "print(s2)\n",
    "print(s3)"
   ]
  },
  {
   "cell_type": "code",
   "execution_count": 47,
   "id": "6a5456ef-076c-4452-bba0-a199e38b0c69",
   "metadata": {},
   "outputs": [
    {
     "name": "stdout",
     "output_type": "stream",
     "text": [
      "4\n"
     ]
    }
   ],
   "source": [
    "print(len(s3))"
   ]
  },
  {
   "cell_type": "code",
   "execution_count": 49,
   "id": "0dd03c0d-6f4f-42d5-b82a-b5b03a9290ba",
   "metadata": {},
   "outputs": [
    {
     "ename": "TypeError",
     "evalue": "'set' object is not subscriptable",
     "output_type": "error",
     "traceback": [
      "\u001b[1;31m---------------------------------------------------------------------------\u001b[0m",
      "\u001b[1;31mTypeError\u001b[0m                                 Traceback (most recent call last)",
      "Cell \u001b[1;32mIn[49], line 1\u001b[0m\n\u001b[1;32m----> 1\u001b[0m s3[\u001b[38;5;241m0\u001b[39m]\n",
      "\u001b[1;31mTypeError\u001b[0m: 'set' object is not subscriptable"
     ]
    }
   ],
   "source": [
    "s3[0]     # in set indexing and slicing not works "
   ]
  },
  {
   "cell_type": "code",
   "execution_count": 51,
   "id": "157e4ca5-171a-45f9-b7a1-da692e0c4c50",
   "metadata": {},
   "outputs": [
    {
     "ename": "KeyError",
     "evalue": "slice(None, None, None)",
     "output_type": "error",
     "traceback": [
      "\u001b[1;31m---------------------------------------------------------------------------\u001b[0m",
      "\u001b[1;31mKeyError\u001b[0m                                  Traceback (most recent call last)",
      "Cell \u001b[1;32mIn[51], line 1\u001b[0m\n\u001b[1;32m----> 1\u001b[0m s[:]\n",
      "\u001b[1;31mKeyError\u001b[0m: slice(None, None, None)"
     ]
    }
   ],
   "source": [
    "s[:]   # slicing not works "
   ]
  },
  {
   "cell_type": "code",
   "execution_count": 53,
   "id": "87eb9096-29d8-4834-8670-0c8a714d72b8",
   "metadata": {},
   "outputs": [],
   "source": [
    "s4 = s3.copy()"
   ]
  },
  {
   "cell_type": "code",
   "execution_count": 55,
   "id": "031fcbb2-736b-4bd9-a985-3b479c03e688",
   "metadata": {},
   "outputs": [
    {
     "data": {
      "text/plain": [
       "{'j', 'k', 'y', 'z'}"
      ]
     },
     "execution_count": 55,
     "metadata": {},
     "output_type": "execute_result"
    }
   ],
   "source": [
    "s4"
   ]
  },
  {
   "cell_type": "code",
   "execution_count": 57,
   "id": "3e665a14-a79d-42ee-bb74-bcff47fde0ed",
   "metadata": {},
   "outputs": [
    {
     "data": {
      "text/plain": [
       "True"
      ]
     },
     "execution_count": 57,
     "metadata": {},
     "output_type": "execute_result"
    }
   ],
   "source": [
    "s3 == s4"
   ]
  },
  {
   "cell_type": "code",
   "execution_count": 59,
   "id": "5cd641d8-1d8e-415e-97ff-948ee268dd4b",
   "metadata": {},
   "outputs": [
    {
     "data": {
      "text/plain": [
       "{'j', 'k', 'y', 'z'}"
      ]
     },
     "execution_count": 59,
     "metadata": {},
     "output_type": "execute_result"
    }
   ],
   "source": [
    "s4"
   ]
  },
  {
   "cell_type": "code",
   "execution_count": 61,
   "id": "f0986db6-50d7-4b47-b91e-077806d61e72",
   "metadata": {},
   "outputs": [],
   "source": [
    "s4.clear()    # it will clear all the elements in the set "
   ]
  },
  {
   "cell_type": "code",
   "execution_count": 63,
   "id": "2908d66f-0575-4fe7-934d-65e18c45e356",
   "metadata": {},
   "outputs": [
    {
     "data": {
      "text/plain": [
       "set()"
      ]
     },
     "execution_count": 63,
     "metadata": {},
     "output_type": "execute_result"
    }
   ],
   "source": [
    "s4"
   ]
  },
  {
   "cell_type": "code",
   "execution_count": 65,
   "id": "ab51d2b3-e611-43cd-9afd-dd58d16b2d2f",
   "metadata": {},
   "outputs": [],
   "source": [
    "del(s4)      # it will deleete permanently and variables also "
   ]
  },
  {
   "cell_type": "code",
   "execution_count": 67,
   "id": "a83935c6-124c-40ef-96aa-b1d33e5c83b2",
   "metadata": {},
   "outputs": [
    {
     "ename": "NameError",
     "evalue": "name 's4' is not defined",
     "output_type": "error",
     "traceback": [
      "\u001b[1;31m---------------------------------------------------------------------------\u001b[0m",
      "\u001b[1;31mNameError\u001b[0m                                 Traceback (most recent call last)",
      "Cell \u001b[1;32mIn[67], line 1\u001b[0m\n\u001b[1;32m----> 1\u001b[0m s4\n",
      "\u001b[1;31mNameError\u001b[0m: name 's4' is not defined"
     ]
    }
   ],
   "source": [
    "s4"
   ]
  },
  {
   "cell_type": "code",
   "execution_count": 69,
   "id": "b3fd0558-bf23-49b2-b024-b15fa5ac44c7",
   "metadata": {},
   "outputs": [],
   "source": [
    "s4 = s3.copy()"
   ]
  },
  {
   "cell_type": "code",
   "execution_count": 71,
   "id": "ae9b4777-22e8-4427-b312-61464388835c",
   "metadata": {},
   "outputs": [
    {
     "data": {
      "text/plain": [
       "{'j', 'k', 'y', 'z'}"
      ]
     },
     "execution_count": 71,
     "metadata": {},
     "output_type": "execute_result"
    }
   ],
   "source": [
    "s4"
   ]
  },
  {
   "cell_type": "code",
   "execution_count": 73,
   "id": "931633e2-0837-40be-a4fa-422f5760d458",
   "metadata": {},
   "outputs": [
    {
     "data": {
      "text/plain": [
       "'j'"
      ]
     },
     "execution_count": 73,
     "metadata": {},
     "output_type": "execute_result"
    }
   ],
   "source": [
    "s4.pop()     # it will remove random or unorederd if we use pop "
   ]
  },
  {
   "cell_type": "code",
   "execution_count": 75,
   "id": "0fca2314-43e1-4c83-afdc-7caa7a613897",
   "metadata": {},
   "outputs": [
    {
     "data": {
      "text/plain": [
       "{'k', 'y', 'z'}"
      ]
     },
     "execution_count": 75,
     "metadata": {},
     "output_type": "execute_result"
    }
   ],
   "source": [
    "s4"
   ]
  },
  {
   "cell_type": "code",
   "execution_count": 77,
   "id": "3fd0a98a-820a-464c-adb2-2a1f78136571",
   "metadata": {},
   "outputs": [
    {
     "data": {
      "text/plain": [
       "'k'"
      ]
     },
     "execution_count": 77,
     "metadata": {},
     "output_type": "execute_result"
    }
   ],
   "source": [
    "s4.pop()     # "
   ]
  },
  {
   "cell_type": "code",
   "execution_count": 79,
   "id": "d57b4adc-19d9-4d60-b38d-5a0e2cf928a1",
   "metadata": {},
   "outputs": [
    {
     "data": {
      "text/plain": [
       "{'y', 'z'}"
      ]
     },
     "execution_count": 79,
     "metadata": {},
     "output_type": "execute_result"
    }
   ],
   "source": [
    "s4"
   ]
  },
  {
   "cell_type": "code",
   "execution_count": 81,
   "id": "a6fbfb0a-2ff3-48ae-9364-d5327d602dcf",
   "metadata": {},
   "outputs": [
    {
     "data": {
      "text/plain": [
       "'y'"
      ]
     },
     "execution_count": 81,
     "metadata": {},
     "output_type": "execute_result"
    }
   ],
   "source": [
    "s4.pop()"
   ]
  },
  {
   "cell_type": "code",
   "execution_count": 83,
   "id": "a86bcfad-1b30-43f9-91bf-5f0cb0a99188",
   "metadata": {},
   "outputs": [
    {
     "data": {
      "text/plain": [
       "{'z'}"
      ]
     },
     "execution_count": 83,
     "metadata": {},
     "output_type": "execute_result"
    }
   ],
   "source": [
    "s4"
   ]
  },
  {
   "cell_type": "code",
   "execution_count": 85,
   "id": "f2c32fd6-5666-4434-9af2-dd14351f1400",
   "metadata": {},
   "outputs": [
    {
     "data": {
      "text/plain": [
       "{(1+2j), 10, 20, 3.2, True, 'nit'}"
      ]
     },
     "execution_count": 85,
     "metadata": {},
     "output_type": "execute_result"
    }
   ],
   "source": [
    "s1"
   ]
  },
  {
   "cell_type": "code",
   "execution_count": 87,
   "id": "6b9131ea-8200-47f2-986f-3c67fdff10ad",
   "metadata": {},
   "outputs": [
    {
     "ename": "TypeError",
     "evalue": "set.pop() takes no arguments (1 given)",
     "output_type": "error",
     "traceback": [
      "\u001b[1;31m---------------------------------------------------------------------------\u001b[0m",
      "\u001b[1;31mTypeError\u001b[0m                                 Traceback (most recent call last)",
      "Cell \u001b[1;32mIn[87], line 1\u001b[0m\n\u001b[1;32m----> 1\u001b[0m s1\u001b[38;5;241m.\u001b[39mpop(\u001b[38;5;241m0\u001b[39m)\n",
      "\u001b[1;31mTypeError\u001b[0m: set.pop() takes no arguments (1 given)"
     ]
    }
   ],
   "source": [
    "s1.pop(0)      # in this index is not allowed "
   ]
  },
  {
   "cell_type": "code",
   "execution_count": 89,
   "id": "afb0dc29-0b1f-437b-9d9c-91a9366437b3",
   "metadata": {},
   "outputs": [
    {
     "data": {
      "text/plain": [
       "{(1+2j), 10, 20, 3.2, True, 'nit'}"
      ]
     },
     "execution_count": 89,
     "metadata": {},
     "output_type": "execute_result"
    }
   ],
   "source": [
    "s1"
   ]
  },
  {
   "cell_type": "code",
   "execution_count": 91,
   "id": "ec1030ef-2f10-4718-bf1b-4ebca90e0fb1",
   "metadata": {},
   "outputs": [],
   "source": [
    "s1.remove((10))    # it will be remove the element"
   ]
  },
  {
   "cell_type": "code",
   "execution_count": 93,
   "id": "9683d5de-6f1a-47ef-9e28-f141afd4ee0f",
   "metadata": {},
   "outputs": [
    {
     "data": {
      "text/plain": [
       "{(1+2j), 20, 3.2, True, 'nit'}"
      ]
     },
     "execution_count": 93,
     "metadata": {},
     "output_type": "execute_result"
    }
   ],
   "source": [
    "s1"
   ]
  },
  {
   "cell_type": "code",
   "execution_count": 95,
   "id": "5db21b38-03b9-4d22-ac81-4b1f4b931f5e",
   "metadata": {},
   "outputs": [
    {
     "data": {
      "text/plain": [
       "{(1+2j), 20, 3.2, True, 'nit'}"
      ]
     },
     "execution_count": 95,
     "metadata": {},
     "output_type": "execute_result"
    }
   ],
   "source": [
    "s1"
   ]
  },
  {
   "cell_type": "code",
   "execution_count": 97,
   "id": "6bb036dd-19da-4c0d-bb27-8618e90a3017",
   "metadata": {},
   "outputs": [
    {
     "name": "stdout",
     "output_type": "stream",
     "text": [
      "j\n",
      "k\n",
      "y\n",
      "z\n"
     ]
    }
   ],
   "source": [
    "for i in s3:       # it will work in set \n",
    "    print(i)"
   ]
  },
  {
   "cell_type": "code",
   "execution_count": 101,
   "id": "53c7ee95-738f-4d8e-ba68-a938e89e6779",
   "metadata": {},
   "outputs": [
    {
     "name": "stdout",
     "output_type": "stream",
     "text": [
      "(0, 'j')\n",
      "(1, 'k')\n",
      "(2, 'y')\n",
      "(3, 'z')\n"
     ]
    }
   ],
   "source": [
    "for i in enumerate (s3):\n",
    "     print(i)"
   ]
  },
  {
   "cell_type": "markdown",
   "id": "f89b184e-a6b5-475f-a9e1-b3a3037de342",
   "metadata": {},
   "source": [
    "# set operation"
   ]
  },
  {
   "cell_type": "code",
   "execution_count": 104,
   "id": "91748974-06db-4930-8f46-8de57d86fe5a",
   "metadata": {},
   "outputs": [],
   "source": [
    "A = {1,2,3,4,5,6}\n",
    "B = {7,8,9}\n",
    "c = {5,6,7,8}"
   ]
  },
  {
   "cell_type": "code",
   "execution_count": 106,
   "id": "0ccdc1b9-af6a-4221-aeac-468874cb0f39",
   "metadata": {},
   "outputs": [
    {
     "data": {
      "text/plain": [
       "{1, 2, 3, 4, 5, 6, 7, 8, 9}"
      ]
     },
     "execution_count": 106,
     "metadata": {},
     "output_type": "execute_result"
    }
   ],
   "source": [
    "A | B  # | union like it will not repeat values "
   ]
  },
  {
   "cell_type": "code",
   "execution_count": 110,
   "id": "375c7ce4-ed8f-45c7-8f55-8284971e9283",
   "metadata": {},
   "outputs": [
    {
     "data": {
      "text/plain": [
       "{5, 6, 7, 8, 9}"
      ]
     },
     "execution_count": 110,
     "metadata": {},
     "output_type": "execute_result"
    }
   ],
   "source": [
    "B.union(c)"
   ]
  },
  {
   "cell_type": "code",
   "execution_count": 112,
   "id": "d8dab7ec-d436-49b0-baff-ce362c095ee1",
   "metadata": {},
   "outputs": [
    {
     "data": {
      "text/plain": [
       "{1, 2, 3, 4, 5, 6, 7, 8, 9}"
      ]
     },
     "execution_count": 112,
     "metadata": {},
     "output_type": "execute_result"
    }
   ],
   "source": [
    "A.union(B,c)"
   ]
  },
  {
   "cell_type": "code",
   "execution_count": 114,
   "id": "7c1dc447-0e6a-4e7d-b46f-b51ec0616d20",
   "metadata": {},
   "outputs": [
    {
     "data": {
      "text/plain": [
       "{1, 2, 3, 4, 5, 6, 7, 8, 9}"
      ]
     },
     "execution_count": 114,
     "metadata": {},
     "output_type": "execute_result"
    }
   ],
   "source": [
    "c | B | A       "
   ]
  },
  {
   "cell_type": "code",
   "execution_count": 116,
   "id": "c8177c8e-d722-42c6-8e9a-d2aa6cab7e96",
   "metadata": {},
   "outputs": [
    {
     "data": {
      "text/plain": [
       "{5, 6, 7, 8}"
      ]
     },
     "execution_count": 116,
     "metadata": {},
     "output_type": "execute_result"
    }
   ],
   "source": [
    "c"
   ]
  },
  {
   "cell_type": "code",
   "execution_count": 118,
   "id": "97f10dda-2c83-429c-9763-b8c8e8d0b638",
   "metadata": {},
   "outputs": [
    {
     "data": {
      "text/plain": [
       "{5, 6, 7, 8}"
      ]
     },
     "execution_count": 118,
     "metadata": {},
     "output_type": "execute_result"
    }
   ],
   "source": [
    "d = c.copy()\n",
    "d"
   ]
  },
  {
   "cell_type": "code",
   "execution_count": 120,
   "id": "c8d749a6-367e-4c24-b85c-136acd76059f",
   "metadata": {},
   "outputs": [
    {
     "name": "stdout",
     "output_type": "stream",
     "text": [
      "{8, 5, 6, 7}\n",
      "{8, 5, 6, 7}\n"
     ]
    }
   ],
   "source": [
    "print(c)      # dupilcate is not allowed \n",
    "print(d)"
   ]
  },
  {
   "cell_type": "code",
   "execution_count": 122,
   "id": "9b3bed4a-4864-428c-963b-897965dfc06a",
   "metadata": {},
   "outputs": [],
   "source": [
    "c.update(B)  # merging the elements "
   ]
  },
  {
   "cell_type": "code",
   "execution_count": 124,
   "id": "130ab285-8461-410f-a70f-a7af5a783bb4",
   "metadata": {},
   "outputs": [
    {
     "data": {
      "text/plain": [
       "{5, 6, 7, 8, 9}"
      ]
     },
     "execution_count": 124,
     "metadata": {},
     "output_type": "execute_result"
    }
   ],
   "source": [
    "c"
   ]
  },
  {
   "cell_type": "code",
   "execution_count": 126,
   "id": "64051bcf-7a4b-4c68-8f51-228a0b367e43",
   "metadata": {},
   "outputs": [
    {
     "name": "stdout",
     "output_type": "stream",
     "text": [
      "{1, 2, 3, 4, 5, 6}\n",
      "{8, 9, 7}\n",
      "{5, 6, 7, 8, 9}\n"
     ]
    }
   ],
   "source": [
    "print(A)\n",
    "print(B)\n",
    "print(c)"
   ]
  },
  {
   "cell_type": "code",
   "execution_count": 132,
   "id": "c95cbf7d-8778-4ab9-ae5e-3157af2ec1d2",
   "metadata": {},
   "outputs": [
    {
     "data": {
      "text/plain": [
       "{5, 6}"
      ]
     },
     "execution_count": 132,
     "metadata": {},
     "output_type": "execute_result"
    }
   ],
   "source": [
    "A & c    # it will give common elements "
   ]
  },
  {
   "cell_type": "code",
   "execution_count": 134,
   "id": "309ddffb-52ae-4826-8875-ae7e80004646",
   "metadata": {},
   "outputs": [
    {
     "data": {
      "text/plain": [
       "{7, 8, 9}"
      ]
     },
     "execution_count": 134,
     "metadata": {},
     "output_type": "execute_result"
    }
   ],
   "source": [
    "B.intersection(c)"
   ]
  },
  {
   "cell_type": "code",
   "execution_count": 136,
   "id": "b1ca7a70-719f-4a6b-8c16-5b74b59be630",
   "metadata": {},
   "outputs": [
    {
     "name": "stdout",
     "output_type": "stream",
     "text": [
      "{1, 2, 3, 4, 5, 6}\n",
      "{8, 9, 7}\n",
      "{5, 6, 7, 8, 9}\n"
     ]
    }
   ],
   "source": [
    "print(A)\n",
    "print(B)\n",
    "print(c)"
   ]
  },
  {
   "cell_type": "code",
   "execution_count": 138,
   "id": "76399bb6-a6d8-4b78-bd12-a8eecb3ce62f",
   "metadata": {},
   "outputs": [
    {
     "data": {
      "text/plain": [
       "{1, 2, 3, 4, 5, 6}"
      ]
     },
     "execution_count": 138,
     "metadata": {},
     "output_type": "execute_result"
    }
   ],
   "source": [
    "A - B   #it will print uncommon print "
   ]
  },
  {
   "cell_type": "code",
   "execution_count": 140,
   "id": "6baf3b08-142d-4ed5-bff7-af7ce5a4a414",
   "metadata": {},
   "outputs": [
    {
     "data": {
      "text/plain": [
       "{1, 2, 3, 4}"
      ]
     },
     "execution_count": 140,
     "metadata": {},
     "output_type": "execute_result"
    }
   ],
   "source": [
    "A.difference(c)     # it will print uncommon elements"
   ]
  },
  {
   "cell_type": "code",
   "execution_count": 142,
   "id": "f55adfd2-6035-4cd5-800c-2bcd970123f8",
   "metadata": {},
   "outputs": [
    {
     "name": "stdout",
     "output_type": "stream",
     "text": [
      "{1, 2, 3, 4, 5, 6}\n",
      "{8, 9, 7}\n",
      "{5, 6, 7, 8, 9}\n"
     ]
    }
   ],
   "source": [
    "print(A)\n",
    "print(B)\n",
    "print(c)"
   ]
  },
  {
   "cell_type": "markdown",
   "id": "d6867e55-33ad-46d4-b8a0-c7348f322e62",
   "metadata": {},
   "source": [
    "# 25 april"
   ]
  },
  {
   "cell_type": "code",
   "execution_count": 8,
   "id": "d7595d7c-67b2-450f-a93c-d52bbfbc6744",
   "metadata": {},
   "outputs": [],
   "source": [
    "a = {1,2,3,4,5,6}\n",
    "b = {7,8,9}\n",
    "c = {5,6,7,8}"
   ]
  },
  {
   "cell_type": "code",
   "execution_count": 10,
   "id": "b4fa3393-6a42-4a35-9484-6dad283c8440",
   "metadata": {},
   "outputs": [
    {
     "name": "stdout",
     "output_type": "stream",
     "text": [
      "{1, 2, 3, 4, 5, 6}\n",
      "{8, 9, 7}\n",
      "{8, 5, 6, 7}\n"
     ]
    }
   ],
   "source": [
    "print(a)\n",
    "print(b)\n",
    "print(c)"
   ]
  },
  {
   "cell_type": "code",
   "execution_count": 12,
   "id": "f137ce87-bcf2-4269-8d8c-a003f6026476",
   "metadata": {},
   "outputs": [
    {
     "data": {
      "text/plain": [
       "{1, 2, 3, 4, 5, 6, 7, 8, 9}"
      ]
     },
     "execution_count": 12,
     "metadata": {},
     "output_type": "execute_result"
    }
   ],
   "source": [
    "a.symmetric_difference(b)    # it will not print common elements '^'"
   ]
  },
  {
   "cell_type": "code",
   "execution_count": 14,
   "id": "db54fce8-5d23-455b-bda8-246868573b9d",
   "metadata": {},
   "outputs": [],
   "source": [
    "s1 = {'a','b','c','x'}"
   ]
  },
  {
   "cell_type": "code",
   "execution_count": 16,
   "id": "4ba20bd4-d062-4fb7-8e15-ae1f3bbeb75c",
   "metadata": {},
   "outputs": [
    {
     "data": {
      "text/plain": [
       "{'a', 'b', 'c', 'x'}"
      ]
     },
     "execution_count": 16,
     "metadata": {},
     "output_type": "execute_result"
    }
   ],
   "source": [
    "s1"
   ]
  },
  {
   "cell_type": "code",
   "execution_count": 18,
   "id": "1f3ce4df-94e5-48fa-b663-add91511fa0d",
   "metadata": {},
   "outputs": [],
   "source": [
    "s1.discard('z')    # you will not get any error "
   ]
  },
  {
   "cell_type": "code",
   "execution_count": 20,
   "id": "2e6ac769-7eaf-470f-81b8-81fa6f3db73e",
   "metadata": {},
   "outputs": [
    {
     "data": {
      "text/plain": [
       "{'a', 'b', 'c', 'x'}"
      ]
     },
     "execution_count": 20,
     "metadata": {},
     "output_type": "execute_result"
    }
   ],
   "source": [
    "s1"
   ]
  },
  {
   "cell_type": "code",
   "execution_count": 22,
   "id": "5a12c73e-9579-438d-bef0-f9a6d638ab52",
   "metadata": {},
   "outputs": [],
   "source": [
    "s1.discard('x')    # it will remove the element in the set if not there in the set then it will not be the error "
   ]
  },
  {
   "cell_type": "code",
   "execution_count": 24,
   "id": "7c8b1c1a-b593-4b20-b994-f69039ef41b7",
   "metadata": {},
   "outputs": [
    {
     "data": {
      "text/plain": [
       "{'a', 'b', 'c'}"
      ]
     },
     "execution_count": 24,
     "metadata": {},
     "output_type": "execute_result"
    }
   ],
   "source": [
    "s1"
   ]
  },
  {
   "cell_type": "markdown",
   "id": "d1d06286-de38-4cd8-a4ba-1e1e5aaa46be",
   "metadata": {},
   "source": [
    "# superset\n",
    "# subset\n",
    "# disjoint"
   ]
  },
  {
   "cell_type": "code",
   "execution_count": 27,
   "id": "4549a5a8-9c45-487d-8939-ce193af77c04",
   "metadata": {},
   "outputs": [],
   "source": [
    "a = {1,2,3,4,5,6}\n",
    "b = {7,8,9}\n",
    "c = {5,6,7,8}"
   ]
  },
  {
   "cell_type": "code",
   "execution_count": 29,
   "id": "3362f80f-fd8e-4ee1-b805-7c6781f1cf4a",
   "metadata": {},
   "outputs": [
    {
     "data": {
      "text/plain": [
       "False"
      ]
     },
     "execution_count": 29,
     "metadata": {},
     "output_type": "execute_result"
    }
   ],
   "source": [
    "a.issubset(b)"
   ]
  },
  {
   "cell_type": "code",
   "execution_count": 31,
   "id": "e24b9bc6-e669-4de3-b9c2-c044831ad75b",
   "metadata": {},
   "outputs": [
    {
     "data": {
      "text/plain": [
       "False"
      ]
     },
     "execution_count": 31,
     "metadata": {},
     "output_type": "execute_result"
    }
   ],
   "source": [
    "a.issubset(c)"
   ]
  },
  {
   "cell_type": "code",
   "execution_count": 33,
   "id": "17b41ad3-9900-4f65-b85b-6b18854a1bd2",
   "metadata": {},
   "outputs": [
    {
     "data": {
      "text/plain": [
       "False"
      ]
     },
     "execution_count": 33,
     "metadata": {},
     "output_type": "execute_result"
    }
   ],
   "source": [
    "a.issuperset(b)"
   ]
  },
  {
   "cell_type": "code",
   "execution_count": 35,
   "id": "02b67dd5-e7db-473d-9569-109309db764d",
   "metadata": {},
   "outputs": [
    {
     "data": {
      "text/plain": [
       "True"
      ]
     },
     "execution_count": 35,
     "metadata": {},
     "output_type": "execute_result"
    }
   ],
   "source": [
    "a.isdisjoint(b)"
   ]
  },
  {
   "cell_type": "code",
   "execution_count": 37,
   "id": "07303b71-ebe3-4631-8f52-5d60bed52b6a",
   "metadata": {},
   "outputs": [],
   "source": [
    "A = {1,2,3,4,5,6}   # dad\n",
    "B = {7,8,9}           # son\n",
    "c = {5,6,7,8}         # neighbour "
   ]
  },
  {
   "cell_type": "code",
   "execution_count": 39,
   "id": "05c80dac-dfe3-4e5d-b44d-4d060b117536",
   "metadata": {},
   "outputs": [
    {
     "data": {
      "text/plain": [
       "False"
      ]
     },
     "execution_count": 39,
     "metadata": {},
     "output_type": "execute_result"
    }
   ],
   "source": [
    "a.issubset(b)"
   ]
  },
  {
   "cell_type": "code",
   "execution_count": 41,
   "id": "f5bfe01a-7990-43bd-a11c-be8f7d9fc417",
   "metadata": {},
   "outputs": [
    {
     "data": {
      "text/plain": [
       "False"
      ]
     },
     "execution_count": 41,
     "metadata": {},
     "output_type": "execute_result"
    }
   ],
   "source": [
    "a.issuperset(c)"
   ]
  },
  {
   "cell_type": "code",
   "execution_count": 43,
   "id": "037d17a2-3498-4c21-8b87-c33a1daddb51",
   "metadata": {},
   "outputs": [
    {
     "data": {
      "text/plain": [
       "False"
      ]
     },
     "execution_count": 43,
     "metadata": {},
     "output_type": "execute_result"
    }
   ],
   "source": [
    "c.issuperset(a)"
   ]
  },
  {
   "cell_type": "code",
   "execution_count": 45,
   "id": "3bb8c81f-62dc-4e39-84df-151ca233b6a2",
   "metadata": {},
   "outputs": [
    {
     "data": {
      "text/plain": [
       "False"
      ]
     },
     "execution_count": 45,
     "metadata": {},
     "output_type": "execute_result"
    }
   ],
   "source": [
    "b.issuperset(c)"
   ]
  },
  {
   "cell_type": "markdown",
   "id": "2337ccca-346d-49f5-80dd-4fbb1887b308",
   "metadata": {},
   "source": [
    " # dict"
   ]
  },
  {
   "cell_type": "markdown",
   "id": "b90475f1-7c5a-4770-982e-055227569056",
   "metadata": {},
   "source": [
    "# dict is always mention with key and values key : values # keys can't be duplicate "
   ]
  },
  {
   "cell_type": "code",
   "execution_count": 48,
   "id": "8765e935-2740-4328-aba0-ae59ba30ec98",
   "metadata": {},
   "outputs": [
    {
     "data": {
      "text/plain": [
       "dict"
      ]
     },
     "execution_count": 48,
     "metadata": {},
     "output_type": "execute_result"
    }
   ],
   "source": [
    "d = {}\n",
    "type(d)"
   ]
  },
  {
   "cell_type": "code",
   "execution_count": 54,
   "id": "fdccc1ec-7277-4328-b822-0fc327df14e1",
   "metadata": {},
   "outputs": [],
   "source": [
    "d = {1 : 'one' , 2 : 'two' , 3 : 'three'}      #keys : values "
   ]
  },
  {
   "cell_type": "code",
   "execution_count": 56,
   "id": "f2e49cbf-669c-44ff-bb0d-8b4da372dd2c",
   "metadata": {},
   "outputs": [
    {
     "data": {
      "text/plain": [
       "{1: 'one', 2: 'two', 3: 'three'}"
      ]
     },
     "execution_count": 56,
     "metadata": {},
     "output_type": "execute_result"
    }
   ],
   "source": [
    "d"
   ]
  },
  {
   "cell_type": "code",
   "execution_count": 58,
   "id": "04d85805-b571-45d1-87ad-a0ed8a7dbdd3",
   "metadata": {},
   "outputs": [
    {
     "data": {
      "text/plain": [
       "dict_keys([1, 2, 3])"
      ]
     },
     "execution_count": 58,
     "metadata": {},
     "output_type": "execute_result"
    }
   ],
   "source": [
    "d.keys()         # it will give only keys "
   ]
  },
  {
   "cell_type": "code",
   "execution_count": 60,
   "id": "7b0d8ee2-3355-423e-b4c0-2cd6b5510383",
   "metadata": {},
   "outputs": [
    {
     "data": {
      "text/plain": [
       "dict_values(['one', 'two', 'three'])"
      ]
     },
     "execution_count": 60,
     "metadata": {},
     "output_type": "execute_result"
    }
   ],
   "source": [
    "d.values()      # it will give only values "
   ]
  },
  {
   "cell_type": "code",
   "execution_count": 62,
   "id": "2cf7b2ce-fadc-4b0a-9c84-40db78ba8a21",
   "metadata": {},
   "outputs": [
    {
     "data": {
      "text/plain": [
       "{1: 'one', 2: 'two', 3: 'three'}"
      ]
     },
     "execution_count": 62,
     "metadata": {},
     "output_type": "execute_result"
    }
   ],
   "source": [
    "d"
   ]
  },
  {
   "cell_type": "code",
   "execution_count": 64,
   "id": "1788ed22-d2f1-43d2-a688-990d359a92c5",
   "metadata": {},
   "outputs": [
    {
     "data": {
      "text/plain": [
       "dict_items([(1, 'one'), (2, 'two'), (3, 'three')])"
      ]
     },
     "execution_count": 64,
     "metadata": {},
     "output_type": "execute_result"
    }
   ],
   "source": [
    "d.items()    # it will give you all items in dictionary "
   ]
  },
  {
   "cell_type": "code",
   "execution_count": 66,
   "id": "5ac8ee9d-c406-4259-bda7-c65954c583e0",
   "metadata": {},
   "outputs": [
    {
     "data": {
      "text/plain": [
       "3"
      ]
     },
     "execution_count": 66,
     "metadata": {},
     "output_type": "execute_result"
    }
   ],
   "source": [
    "len(d)"
   ]
  },
  {
   "cell_type": "code",
   "execution_count": 68,
   "id": "432399d2-bd0f-450b-81ba-a07c81faf6d0",
   "metadata": {},
   "outputs": [
    {
     "data": {
      "text/plain": [
       "'one'"
      ]
     },
     "execution_count": 68,
     "metadata": {},
     "output_type": "execute_result"
    }
   ],
   "source": [
    "d[1]    # if we assign key then it will give values "
   ]
  },
  {
   "cell_type": "code",
   "execution_count": 70,
   "id": "55da7ed0-fe0a-4ca7-9ec0-de7df6608a15",
   "metadata": {},
   "outputs": [
    {
     "data": {
      "text/plain": [
       "'three'"
      ]
     },
     "execution_count": 70,
     "metadata": {},
     "output_type": "execute_result"
    }
   ],
   "source": [
    "d[3]"
   ]
  },
  {
   "cell_type": "code",
   "execution_count": 72,
   "id": "b2f6d833-41c2-4cb3-9f97-f2b12469ef74",
   "metadata": {},
   "outputs": [
    {
     "data": {
      "text/plain": [
       "'two'"
      ]
     },
     "execution_count": 72,
     "metadata": {},
     "output_type": "execute_result"
    }
   ],
   "source": [
    "d.get(2)"
   ]
  },
  {
   "cell_type": "code",
   "execution_count": 74,
   "id": "4f09295a-a918-4867-8aa3-c7bea164522e",
   "metadata": {},
   "outputs": [],
   "source": [
    "d.get('one')    # this one is wrong every time acess the keys only not values "
   ]
  },
  {
   "cell_type": "code",
   "execution_count": 76,
   "id": "31e6d7e7-7a9d-44bb-b95c-a38d92f62d5b",
   "metadata": {},
   "outputs": [],
   "source": [
    "d1 = d.copy()"
   ]
  },
  {
   "cell_type": "code",
   "execution_count": 78,
   "id": "24476d94-10a1-4ef3-a6e9-e9f9f5d91cfd",
   "metadata": {},
   "outputs": [
    {
     "data": {
      "text/plain": [
       "{1: 'one', 2: 'two', 3: 'three'}"
      ]
     },
     "execution_count": 78,
     "metadata": {},
     "output_type": "execute_result"
    }
   ],
   "source": [
    "d1"
   ]
  },
  {
   "cell_type": "code",
   "execution_count": 82,
   "id": "b3a45d12-9cc4-4687-88aa-fd1cdaac27d9",
   "metadata": {},
   "outputs": [
    {
     "data": {
      "text/plain": [
       "'one'"
      ]
     },
     "execution_count": 82,
     "metadata": {},
     "output_type": "execute_result"
    }
   ],
   "source": [
    "d1.pop(1)"
   ]
  },
  {
   "cell_type": "code",
   "execution_count": 84,
   "id": "9466f244-43bf-48b2-a873-d3bd9d64224b",
   "metadata": {},
   "outputs": [
    {
     "data": {
      "text/plain": [
       "{2: 'two', 3: 'three'}"
      ]
     },
     "execution_count": 84,
     "metadata": {},
     "output_type": "execute_result"
    }
   ],
   "source": [
    "d1"
   ]
  },
  {
   "cell_type": "code",
   "execution_count": 88,
   "id": "720f1516-0548-42c5-ba87-6a4cc692bb41",
   "metadata": {},
   "outputs": [
    {
     "data": {
      "text/plain": [
       "{2: 'two', 3: 'three'}"
      ]
     },
     "execution_count": 88,
     "metadata": {},
     "output_type": "execute_result"
    }
   ],
   "source": [
    "d1"
   ]
  },
  {
   "cell_type": "code",
   "execution_count": 90,
   "id": "e0988963-6597-46e5-88e2-62ccb329710f",
   "metadata": {},
   "outputs": [
    {
     "data": {
      "text/plain": [
       "(3, 'three')"
      ]
     },
     "execution_count": 90,
     "metadata": {},
     "output_type": "execute_result"
    }
   ],
   "source": [
    "d1.popitem()   # key and value both will remove "
   ]
  },
  {
   "cell_type": "code",
   "execution_count": 92,
   "id": "eb094871-9528-403e-bca1-9ce0a879d4d2",
   "metadata": {},
   "outputs": [
    {
     "data": {
      "text/plain": [
       "{1: 'one', 2: 'two', 3: 'three'}"
      ]
     },
     "execution_count": 92,
     "metadata": {},
     "output_type": "execute_result"
    }
   ],
   "source": [
    "d"
   ]
  },
  {
   "cell_type": "code",
   "execution_count": 94,
   "id": "0541c486-0a6b-4b0e-8d6c-55c094f4bf2b",
   "metadata": {},
   "outputs": [
    {
     "name": "stdout",
     "output_type": "stream",
     "text": [
      "1\n",
      "2\n",
      "3\n"
     ]
    }
   ],
   "source": [
    "for i in d:\n",
    "    print(i)"
   ]
  },
  {
   "cell_type": "code",
   "execution_count": 96,
   "id": "cdeabb75-c451-44e0-a241-971e76eeb36b",
   "metadata": {},
   "outputs": [
    {
     "name": "stdout",
     "output_type": "stream",
     "text": [
      "1 : {1: 'one', 2: 'two', 3: 'three'}\n",
      "2 : {1: 'one', 2: 'two', 3: 'three'}\n",
      "3 : {1: 'one', 2: 'two', 3: 'three'}\n"
     ]
    }
   ],
   "source": [
    "for i in d:     # in this we get keys and values repeated \n",
    "    print(i, ':' , d)"
   ]
  },
  {
   "cell_type": "code",
   "execution_count": 98,
   "id": "549093eb-8b4c-476f-b1c7-6dfa6e84392a",
   "metadata": {},
   "outputs": [
    {
     "name": "stdout",
     "output_type": "stream",
     "text": [
      "1 : one\n",
      "2 : two\n",
      "3 : three\n"
     ]
    }
   ],
   "source": [
    "for i in d:    # it will print keys and values \n",
    "    print(i, ':' ,d[i])"
   ]
  },
  {
   "cell_type": "code",
   "execution_count": 102,
   "id": "614048d6-cd5f-49cf-a208-09f039f2419c",
   "metadata": {},
   "outputs": [
    {
     "data": {
      "text/plain": [
       "'one'"
      ]
     },
     "execution_count": 102,
     "metadata": {},
     "output_type": "execute_result"
    }
   ],
   "source": [
    "d.setdefault(1)"
   ]
  },
  {
   "cell_type": "code",
   "execution_count": 104,
   "id": "169bda70-57c8-49a1-ad24-4bbf6d48599f",
   "metadata": {},
   "outputs": [
    {
     "data": {
      "text/plain": [
       "{1: 'one', 2: 'two', 3: 'three'}"
      ]
     },
     "execution_count": 104,
     "metadata": {},
     "output_type": "execute_result"
    }
   ],
   "source": [
    "d"
   ]
  },
  {
   "cell_type": "markdown",
   "id": "28aa3a98-01ee-439c-aa38-317ee8540315",
   "metadata": {},
   "source": [
    "# range "
   ]
  },
  {
   "cell_type": "code",
   "execution_count": 107,
   "id": "21307ca9-1c7b-420e-a7e9-845ef9d05ced",
   "metadata": {},
   "outputs": [
    {
     "data": {
      "text/plain": [
       "range(0, 10)"
      ]
     },
     "execution_count": 107,
     "metadata": {},
     "output_type": "execute_result"
    }
   ],
   "source": [
    "range(10)"
   ]
  },
  {
   "cell_type": "code",
   "execution_count": 109,
   "id": "7e464da5-4955-4b4e-aa4c-9cf15559e4cb",
   "metadata": {},
   "outputs": [
    {
     "data": {
      "text/plain": [
       "range(0, 10)"
      ]
     },
     "execution_count": 109,
     "metadata": {},
     "output_type": "execute_result"
    }
   ],
   "source": [
    "r = range(10)\n",
    "r"
   ]
  },
  {
   "cell_type": "code",
   "execution_count": 111,
   "id": "20678ba3-d73f-462f-8190-e795ea5bd83e",
   "metadata": {},
   "outputs": [
    {
     "name": "stdout",
     "output_type": "stream",
     "text": [
      "0\n",
      "1\n",
      "2\n",
      "3\n",
      "4\n",
      "5\n",
      "6\n",
      "7\n",
      "8\n",
      "9\n"
     ]
    }
   ],
   "source": [
    "for i in r:\n",
    "    print(i)"
   ]
  },
  {
   "cell_type": "code",
   "execution_count": 115,
   "id": "07f3f59e-5d4f-4a6f-bd6c-9999b133955f",
   "metadata": {},
   "outputs": [
    {
     "data": {
      "text/plain": [
       "[0, 1, 2, 3, 4, 5, 6, 7, 8, 9]"
      ]
     },
     "execution_count": 115,
     "metadata": {},
     "output_type": "execute_result"
    }
   ],
   "source": [
    "list(r)    # list with range "
   ]
  },
  {
   "cell_type": "code",
   "execution_count": 117,
   "id": "bc52ddfe-01aa-4637-9595-564622b1752f",
   "metadata": {},
   "outputs": [],
   "source": [
    "r1 = range(10,20)"
   ]
  },
  {
   "cell_type": "code",
   "execution_count": 119,
   "id": "9ddcb06c-62df-4950-9a90-e1be37e53f8c",
   "metadata": {},
   "outputs": [
    {
     "data": {
      "text/plain": [
       "range(10, 20)"
      ]
     },
     "execution_count": 119,
     "metadata": {},
     "output_type": "execute_result"
    }
   ],
   "source": [
    "r1"
   ]
  },
  {
   "cell_type": "code",
   "execution_count": 121,
   "id": "bb826f68-2d78-4164-9bd1-650f52e7b741",
   "metadata": {},
   "outputs": [
    {
     "data": {
      "text/plain": [
       "[10, 11, 12, 13, 14, 15, 16, 17, 18, 19]"
      ]
     },
     "execution_count": 121,
     "metadata": {},
     "output_type": "execute_result"
    }
   ],
   "source": [
    "list(r1)             # 20 - 1 = 19"
   ]
  },
  {
   "cell_type": "code",
   "execution_count": 125,
   "id": "d4246002-4740-4fa7-9578-af759e6363c4",
   "metadata": {},
   "outputs": [
    {
     "data": {
      "text/plain": [
       "{0, 1, 2, 3, 4, 5, 6, 7, 8, 9}"
      ]
     },
     "execution_count": 125,
     "metadata": {},
     "output_type": "execute_result"
    }
   ],
   "source": [
    "set(r)"
   ]
  },
  {
   "cell_type": "code",
   "execution_count": 127,
   "id": "034d166a-b1bd-447d-8fbd-e2f90b0d95e5",
   "metadata": {},
   "outputs": [
    {
     "data": {
      "text/plain": [
       "[10, 11, 12, 13, 14, 15, 16, 17, 18, 19]"
      ]
     },
     "execution_count": 127,
     "metadata": {},
     "output_type": "execute_result"
    }
   ],
   "source": [
    "list(range(10,20))"
   ]
  },
  {
   "cell_type": "code",
   "execution_count": 129,
   "id": "1ac40832-82ce-4ccd-ace8-cf485557a613",
   "metadata": {},
   "outputs": [
    {
     "data": {
      "text/plain": [
       "[10, 20, 30, 40, 50, 60, 70, 80, 90]"
      ]
     },
     "execution_count": 129,
     "metadata": {},
     "output_type": "execute_result"
    }
   ],
   "source": [
    "list(range(10,100,10))"
   ]
  },
  {
   "cell_type": "code",
   "execution_count": 131,
   "id": "70a20355-da9b-487c-9d6a-719942c38168",
   "metadata": {},
   "outputs": [
    {
     "ename": "TypeError",
     "evalue": "range expected at most 3 arguments, got 4",
     "output_type": "error",
     "traceback": [
      "\u001b[1;31m---------------------------------------------------------------------------\u001b[0m",
      "\u001b[1;31mTypeError\u001b[0m                                 Traceback (most recent call last)",
      "Cell \u001b[1;32mIn[131], line 1\u001b[0m\n\u001b[1;32m----> 1\u001b[0m \u001b[38;5;28mlist\u001b[39m(\u001b[38;5;28mrange\u001b[39m(\u001b[38;5;241m10\u001b[39m,\u001b[38;5;241m100\u001b[39m,\u001b[38;5;241m10\u001b[39m,\u001b[38;5;241m20\u001b[39m))\n",
      "\u001b[1;31mTypeError\u001b[0m: range expected at most 3 arguments, got 4"
     ]
    }
   ],
   "source": [
    "list(range(10,100,10,20))        # only 3 arguments will be passed "
   ]
  },
  {
   "cell_type": "code",
   "execution_count": null,
   "id": "996d470f-0155-4023-9602-5865f84722ed",
   "metadata": {},
   "outputs": [],
   "source": []
  }
 ],
 "metadata": {
  "kernelspec": {
   "display_name": "Python [conda env:base] *",
   "language": "python",
   "name": "conda-base-py"
  },
  "language_info": {
   "codemirror_mode": {
    "name": "ipython",
    "version": 3
   },
   "file_extension": ".py",
   "mimetype": "text/x-python",
   "name": "python",
   "nbconvert_exporter": "python",
   "pygments_lexer": "ipython3",
   "version": "3.12.7"
  }
 },
 "nbformat": 4,
 "nbformat_minor": 5
}
