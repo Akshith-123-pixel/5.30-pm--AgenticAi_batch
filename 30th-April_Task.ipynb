{
 "cells": [
  {
   "cell_type": "markdown",
   "id": "167e140d-1a1a-40fb-8195-617f13ed81ad",
   "metadata": {},
   "source": [
    "# import math module "
   ]
  },
  {
   "cell_type": "code",
   "execution_count": 7,
   "id": "07c734aa-4d19-4e37-8b74-d9cf84406a58",
   "metadata": {},
   "outputs": [
    {
     "ename": "NameError",
     "evalue": "name 'sqrt' is not defined",
     "output_type": "error",
     "traceback": [
      "\u001b[1;31m---------------------------------------------------------------------------\u001b[0m",
      "\u001b[1;31mNameError\u001b[0m                                 Traceback (most recent call last)",
      "Cell \u001b[1;32mIn[7], line 1\u001b[0m\n\u001b[1;32m----> 1\u001b[0m x \u001b[38;5;241m=\u001b[39m sqrt(\u001b[38;5;241m25\u001b[39m)\n",
      "\u001b[1;31mNameError\u001b[0m: name 'sqrt' is not defined"
     ]
    }
   ],
   "source": [
    "x = sqrt(25)       # in this we cant define as math module as square root "
   ]
  },
  {
   "cell_type": "code",
   "execution_count": 9,
   "id": "ce403ac1-1f92-43d8-b8d4-4147d41aa223",
   "metadata": {},
   "outputs": [],
   "source": [
    "import math "
   ]
  },
  {
   "cell_type": "code",
   "execution_count": 15,
   "id": "f1bf9190-4eff-48c7-b8d1-5ac19d371633",
   "metadata": {},
   "outputs": [
    {
     "data": {
      "text/plain": [
       "5.0"
      ]
     },
     "execution_count": 15,
     "metadata": {},
     "output_type": "execute_result"
    }
   ],
   "source": [
    "x = math.sqrt(25)    # this cell is run because we define above as math \n",
    "x"
   ]
  },
  {
   "cell_type": "code",
   "execution_count": 17,
   "id": "0ef519be-a173-4d0e-b48a-89e3e512f269",
   "metadata": {},
   "outputs": [
    {
     "data": {
      "text/plain": [
       "3.872983346207417"
      ]
     },
     "execution_count": 17,
     "metadata": {},
     "output_type": "execute_result"
    }
   ],
   "source": [
    "x = math.sqrt(15)\n",
    "x"
   ]
  },
  {
   "cell_type": "code",
   "execution_count": 19,
   "id": "2f0504bf-85cf-4f70-8b24-1937f895e2cd",
   "metadata": {},
   "outputs": [
    {
     "name": "stdout",
     "output_type": "stream",
     "text": [
      "2\n"
     ]
    }
   ],
   "source": [
    "print(math.floor(2.7))    # in this floor means - min value or least value "
   ]
  },
  {
   "cell_type": "code",
   "execution_count": 23,
   "id": "4bc793f8-1557-4f52-a61d-2d4618a65cbb",
   "metadata": {},
   "outputs": [
    {
     "name": "stdout",
     "output_type": "stream",
     "text": [
      "3\n"
     ]
    }
   ],
   "source": [
    "print(math.ceil(2.7))  # ceil means max value or highest value "
   ]
  },
  {
   "cell_type": "code",
   "execution_count": 25,
   "id": "6927ac50-28a9-443b-94f8-325bc3dba49a",
   "metadata": {},
   "outputs": [
    {
     "name": "stdout",
     "output_type": "stream",
     "text": [
      "2\n"
     ]
    }
   ],
   "source": [
    "print(math.floor(2.5))"
   ]
  },
  {
   "cell_type": "code",
   "execution_count": 27,
   "id": "3c998995-9feb-4c6f-86b5-7fcb9481286c",
   "metadata": {},
   "outputs": [
    {
     "name": "stdout",
     "output_type": "stream",
     "text": [
      "3\n"
     ]
    }
   ],
   "source": [
    "print(math.ceil(2.5))"
   ]
  },
  {
   "cell_type": "code",
   "execution_count": 29,
   "id": "2d7b4717-b4f8-4560-93a4-a437bc8b446b",
   "metadata": {},
   "outputs": [
    {
     "name": "stdout",
     "output_type": "stream",
     "text": [
      "16.0\n"
     ]
    }
   ],
   "source": [
    "print(math.pow(4,2))   # in this we use power fuction means square function "
   ]
  },
  {
   "cell_type": "code",
   "execution_count": 31,
   "id": "2cf9766c-4d89-478a-bf8b-6a2769749221",
   "metadata": {},
   "outputs": [
    {
     "name": "stdout",
     "output_type": "stream",
     "text": [
      "3.141592653589793\n"
     ]
    }
   ],
   "source": [
    "print(math.pi)       # this are constant "
   ]
  },
  {
   "cell_type": "code",
   "execution_count": 33,
   "id": "bff14d20-0959-4de4-951e-ae17192d6409",
   "metadata": {},
   "outputs": [
    {
     "name": "stdout",
     "output_type": "stream",
     "text": [
      "2.718281828459045\n"
     ]
    }
   ],
   "source": [
    "print(math.e)    # epsilon value "
   ]
  },
  {
   "cell_type": "markdown",
   "id": "c0c8c9d4-b9e7-4477-94dd-4a2d174037f1",
   "metadata": {},
   "source": [
    "like this we have to run all the cells and the code is big \n",
    "so we can do code optimization "
   ]
  },
  {
   "cell_type": "code",
   "execution_count": 35,
   "id": "1c2cf97d-f324-46cb-ac04-b7373aca1e1c",
   "metadata": {},
   "outputs": [
    {
     "data": {
      "text/plain": [
       "3.1622776601683795"
      ]
     },
     "execution_count": 35,
     "metadata": {},
     "output_type": "execute_result"
    }
   ],
   "source": [
    "import math as m  # in this math defined as m \n",
    "m.sqrt(10)"
   ]
  },
  {
   "cell_type": "code",
   "execution_count": 41,
   "id": "06c6c8d0-4ae6-4f1d-9c87-dc2083627eb6",
   "metadata": {},
   "outputs": [
    {
     "data": {
      "text/plain": [
       "8.0"
      ]
     },
     "execution_count": 41,
     "metadata": {},
     "output_type": "execute_result"
    }
   ],
   "source": [
    "from math import  sqrt,pow   # in this we directly defined as square root and power fuction \n",
    "pow(2,3)"
   ]
  },
  {
   "cell_type": "code",
   "execution_count": 59,
   "id": "6f6b02b6-89a3-42fc-a55d-66152ec84b20",
   "metadata": {},
   "outputs": [
    {
     "data": {
      "text/plain": [
       "9.0"
      ]
     },
     "execution_count": 59,
     "metadata": {},
     "output_type": "execute_result"
    }
   ],
   "source": [
    "from math import pi,e\n",
    "pow(3,2)"
   ]
  },
  {
   "cell_type": "code",
   "execution_count": 61,
   "id": "17a821bf-69a0-4447-86a1-ad48dccc8878",
   "metadata": {},
   "outputs": [
    {
     "data": {
      "text/plain": [
       "16"
      ]
     },
     "execution_count": 61,
     "metadata": {},
     "output_type": "execute_result"
    }
   ],
   "source": [
    "round(pow(4,2))  # power fuction "
   ]
  },
  {
   "cell_type": "markdown",
   "id": "7e7f20f9-3d8b-42b8-9204-741fb8253b00",
   "metadata": {},
   "source": [
    "# input fuction"
   ]
  },
  {
   "cell_type": "code",
   "execution_count": 64,
   "id": "c46e2015-b643-4fc8-82a2-1d70dbbed5d0",
   "metadata": {},
   "outputs": [
    {
     "name": "stdin",
     "output_type": "stream",
     "text": [
      "  4\n",
      " 6\n"
     ]
    },
    {
     "name": "stdout",
     "output_type": "stream",
     "text": [
      " 46\n"
     ]
    }
   ],
   "source": [
    "x = input()        # in this console  is waiting as to enter input and \n",
    "y = input()         # and it will always take as input as string that's why output is 46 \n",
    "z = x + y \n",
    "print(z)"
   ]
  },
  {
   "cell_type": "markdown",
   "id": "f63d18e6-7011-4872-b085-6e65a7d2427d",
   "metadata": {},
   "source": [
    "for clear understanding of sysytem we can define as "
   ]
  },
  {
   "cell_type": "code",
   "execution_count": 74,
   "id": "80b7a120-b30d-47f8-8db4-47011ea102f4",
   "metadata": {},
   "outputs": [
    {
     "name": "stdin",
     "output_type": "stream",
     "text": [
      "Enter the first number 2\n",
      "Enter the second number 3\n"
     ]
    },
    {
     "name": "stdout",
     "output_type": "stream",
     "text": [
      "23\n"
     ]
    }
   ],
   "source": [
    "x1 = input('Enter the first number')\n",
    "y1 = input('Enter the second number')\n",
    "z1 = x1 + y1\n",
    "print(z1)"
   ]
  },
  {
   "cell_type": "code",
   "execution_count": 76,
   "id": "b8ae06cd-9837-4d1a-aabb-21d8060e5eb3",
   "metadata": {},
   "outputs": [
    {
     "name": "stdin",
     "output_type": "stream",
     "text": [
      "Enter the first number 4\n",
      "Enter the second number 0\n"
     ]
    },
    {
     "name": "stdout",
     "output_type": "stream",
     "text": [
      "40\n"
     ]
    }
   ],
   "source": [
    "x1 = input('Enter the first number')  # it always consider as string in input fuction \n",
    "y1 = input('Enter the second number')\n",
    "z1 = x1 + y1\n",
    "print(z1)"
   ]
  },
  {
   "cell_type": "code",
   "execution_count": 84,
   "id": "c3f09e92-7b3a-495d-8c3a-56f1d80298d4",
   "metadata": {},
   "outputs": [
    {
     "data": {
      "text/plain": [
       "str"
      ]
     },
     "execution_count": 84,
     "metadata": {},
     "output_type": "execute_result"
    }
   ],
   "source": [
    "type(x1)\n",
    "type(y1)"
   ]
  },
  {
   "cell_type": "code",
   "execution_count": 88,
   "id": "24bf6a4f-8881-4df7-a86d-b5866198d199",
   "metadata": {},
   "outputs": [
    {
     "name": "stdin",
     "output_type": "stream",
     "text": [
      "enter the 1st number 2\n",
      "enter the 2nd number 3\n"
     ]
    },
    {
     "name": "stdout",
     "output_type": "stream",
     "text": [
      "5\n"
     ]
    }
   ],
   "source": [
    "x1 = input('enter the 1st number')\n",
    "a1 = int(x1)     # we are changing from string to int that 's why we use \n",
    "y1 = input('enter the 2nd number')   \n",
    "a2 = int(y1)\n",
    "z1 = a1 + a2\n",
    "print(z1)"
   ]
  },
  {
   "cell_type": "markdown",
   "id": "8a1a4aff-9753-442c-a78a-7fda4293b00c",
   "metadata": {},
   "source": [
    "from the above code the code is too big and it will take more cells then we apply code optimization "
   ]
  },
  {
   "cell_type": "code",
   "execution_count": 92,
   "id": "0d64d390-d50f-457d-8c59-6be64a1456a5",
   "metadata": {},
   "outputs": [
    {
     "name": "stdin",
     "output_type": "stream",
     "text": [
      "enter the 1st number 8\n",
      "enter the 2nd number 9\n"
     ]
    },
    {
     "name": "stdout",
     "output_type": "stream",
     "text": [
      "17\n"
     ]
    }
   ],
   "source": [
    "x2 = int(input('enter the 1st number'))\n",
    "y2 = int(input('enter the 2nd number'))\n",
    "z2 = x2 + y2\n",
    "print(z2)"
   ]
  },
  {
   "cell_type": "markdown",
   "id": "25396115-15cd-44cb-bf21-ff8747ee3355",
   "metadata": {},
   "source": [
    "in the above code there is code optimiation thats why it takes less cells to execute the code "
   ]
  },
  {
   "cell_type": "markdown",
   "id": "b6870f51-3306-4ccc-a6aa-efb1bad5322e",
   "metadata": {},
   "source": [
    "# input user in char format "
   ]
  },
  {
   "cell_type": "code",
   "execution_count": 97,
   "id": "bf91d8fc-5960-46de-a42a-44aecf316560",
   "metadata": {},
   "outputs": [
    {
     "name": "stdin",
     "output_type": "stream",
     "text": [
      "enter a char hello world \n"
     ]
    },
    {
     "name": "stdout",
     "output_type": "stream",
     "text": [
      "hello world \n"
     ]
    }
   ],
   "source": [
    "ch = input('enter a char')    # it will give only one cell and the characters\n",
    "print(ch)"
   ]
  },
  {
   "cell_type": "code",
   "execution_count": 99,
   "id": "2839ec20-0e4e-4787-81a2-0921ace5ed7b",
   "metadata": {},
   "outputs": [
    {
     "name": "stdout",
     "output_type": "stream",
     "text": [
      "h\n"
     ]
    }
   ],
   "source": [
    "print(ch[0])"
   ]
  },
  {
   "cell_type": "code",
   "execution_count": 101,
   "id": "43223db8-2a20-450f-a65f-f9f54f1548c2",
   "metadata": {},
   "outputs": [
    {
     "name": "stdout",
     "output_type": "stream",
     "text": [
      "e\n"
     ]
    }
   ],
   "source": [
    "print(ch[1])"
   ]
  },
  {
   "cell_type": "code",
   "execution_count": 103,
   "id": "7ef12e67-79f6-4271-8182-de8b6540d0f9",
   "metadata": {},
   "outputs": [
    {
     "name": "stdout",
     "output_type": "stream",
     "text": [
      "el\n"
     ]
    }
   ],
   "source": [
    "print(ch[1:3])"
   ]
  },
  {
   "cell_type": "code",
   "execution_count": 107,
   "id": "536fce4f-c99b-4f2f-917d-36d8b1c68577",
   "metadata": {},
   "outputs": [
    {
     "name": "stdout",
     "output_type": "stream",
     "text": [
      " \n"
     ]
    }
   ],
   "source": [
    "print(ch[-1])  # it will not works in \"-\" value "
   ]
  },
  {
   "cell_type": "markdown",
   "id": "9bacab6a-b263-477a-bcb6-2ad5b328d325",
   "metadata": {},
   "source": [
    "in this above code it will taking more cells and memory so thats why we use code optimization."
   ]
  },
  {
   "cell_type": "code",
   "execution_count": 109,
   "id": "8dda6182-61c0-4276-bbec-8a8d6901769a",
   "metadata": {},
   "outputs": [
    {
     "name": "stdin",
     "output_type": "stream",
     "text": [
      "enter a char python\n"
     ]
    },
    {
     "name": "stdout",
     "output_type": "stream",
     "text": [
      "p\n"
     ]
    }
   ],
   "source": [
    "ch = input('enter a char')[0]    # this is code otimization and the code is done in 2 lines \n",
    "print(ch)"
   ]
  },
  {
   "cell_type": "code",
   "execution_count": 111,
   "id": "55394f13-1e11-4c73-94c7-e82c219afe58",
   "metadata": {},
   "outputs": [
    {
     "name": "stdin",
     "output_type": "stream",
     "text": [
      "enter a char hello python\n"
     ]
    },
    {
     "name": "stdout",
     "output_type": "stream",
     "text": [
      "el\n"
     ]
    }
   ],
   "source": [
    "ch = input('enter a char')[1:3]\n",
    "print(ch)"
   ]
  },
  {
   "cell_type": "markdown",
   "id": "560e059e-adab-4dee-8188-2aa0daff64ac",
   "metadata": {},
   "source": [
    "i need to add the values in the cell of input fuction "
   ]
  },
  {
   "cell_type": "code",
   "execution_count": 113,
   "id": "f6c53df5-1ff3-4e52-ae38-dd5c169e0812",
   "metadata": {},
   "outputs": [
    {
     "name": "stdin",
     "output_type": "stream",
     "text": [
      "enter a char 10+2+3-4\n"
     ]
    },
    {
     "name": "stdout",
     "output_type": "stream",
     "text": [
      "10+2+3-4\n"
     ]
    }
   ],
   "source": [
    "ch = input('enter a char')    # beacuse it is a string thats why it is not giving result \n",
    "print(ch)"
   ]
  },
  {
   "cell_type": "markdown",
   "id": "aced255b-a8b5-4d73-ade9-3d01e15196e0",
   "metadata": {},
   "source": [
    "in this case we have to use eval fuction eval = evaluate ( it is to do the operators in this input fuction)"
   ]
  },
  {
   "cell_type": "code",
   "execution_count": 115,
   "id": "874cc454-fb3d-4f23-9583-73ebf1bacbb1",
   "metadata": {},
   "outputs": [
    {
     "name": "stdin",
     "output_type": "stream",
     "text": [
      "enter an expr 100+2+3-4-78\n"
     ]
    },
    {
     "name": "stdout",
     "output_type": "stream",
     "text": [
      "23\n"
     ]
    }
   ],
   "source": [
    "result = eval(input('enter an expr'))\n",
    "print(result)"
   ]
  },
  {
   "cell_type": "markdown",
   "id": "d793bf28-9350-4c59-857f-9e75c8073278",
   "metadata": {},
   "source": [
    "in the above code it will add the values because we use eval fuction evaluate "
   ]
  },
  {
   "cell_type": "code",
   "execution_count": null,
   "id": "003787c4-03d6-4710-92e2-179e5c3666dd",
   "metadata": {},
   "outputs": [],
   "source": []
  }
 ],
 "metadata": {
  "kernelspec": {
   "display_name": "Python [conda env:base] *",
   "language": "python",
   "name": "conda-base-py"
  },
  "language_info": {
   "codemirror_mode": {
    "name": "ipython",
    "version": 3
   },
   "file_extension": ".py",
   "mimetype": "text/x-python",
   "name": "python",
   "nbconvert_exporter": "python",
   "pygments_lexer": "ipython3",
   "version": "3.12.7"
  }
 },
 "nbformat": 4,
 "nbformat_minor": 5
}
