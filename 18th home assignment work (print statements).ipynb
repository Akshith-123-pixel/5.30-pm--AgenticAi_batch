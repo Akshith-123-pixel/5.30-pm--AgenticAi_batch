{
 "cells": [
  {
   "cell_type": "code",
   "execution_count": 1,
   "id": "1cf8a0f3-f258-4438-b5eb-cd999f1a9d41",
   "metadata": {},
   "outputs": [
    {
     "name": "stdout",
     "output_type": "stream",
     "text": [
      "50\n"
     ]
    }
   ],
   "source": [
    "num1 = 20\n",
    "num2 = 30\n",
    "print(num1+num2)"
   ]
  },
  {
   "cell_type": "code",
   "execution_count": 11,
   "id": "d86b53f3-ff51-4fff-a65c-758990e6b701",
   "metadata": {},
   "outputs": [
    {
     "name": "stdout",
     "output_type": "stream",
     "text": [
      "The addition of 20 and 30 is= 50\n"
     ]
    }
   ],
   "source": [
    "num1 = 20\n",
    "num2 = 30\n",
    "add = num1+num2 \n",
    "print('The addition of' ,num1, 'and',num2, 'is=' ,add)"
   ]
  },
  {
   "cell_type": "code",
   "execution_count": 15,
   "id": "7d0973b5-cd92-4315-a8d9-6ced876b53d6",
   "metadata": {},
   "outputs": [
    {
     "name": "stdout",
     "output_type": "stream",
     "text": [
      "The addition of 60 and 90 is= 150\n"
     ]
    }
   ],
   "source": [
    "num1 = 20\n",
    "num2 = 30\n",
    "add = num1+num2 \n",
    "print('The addition of',num1, 'and' ,num2, 'is=' , add)"
   ]
  },
  {
   "cell_type": "code",
   "execution_count": 21,
   "id": "86a714fe-1eaf-48fe-8b42-1bc1c2dd1c7e",
   "metadata": {},
   "outputs": [
    {
     "name": "stdout",
     "output_type": "stream",
     "text": [
      "my name is akshith im 21 years old and im from mumbai\n"
     ]
    }
   ],
   "source": [
    "name = 'akshith'          #This print statement helps in projects buliding \n",
    "years = 21                   #like in this statement string is in brackets and variable is in commas \n",
    "city = 'mumbai'\n",
    "print('my name is' ,name, 'im' ,years,  'years old and im from' ,city,)"
   ]
  },
  {
   "cell_type": "code",
   "execution_count": 23,
   "id": "c651d80b-511c-464d-bada-8640ce0437d2",
   "metadata": {},
   "outputs": [
    {
     "name": "stdout",
     "output_type": "stream",
     "text": [
      "The addition of 20 and 30 is = 50\n"
     ]
    }
   ],
   "source": [
    "num1 = 20       #in this brackets indicate num1 and num2 and then add after that string we mention format num1 and num2 and add \n",
    "num2 = 30\n",
    "add = num1+num2 \n",
    "print('The addition of {} and {} is = {}'.format(num1 , num2 , add )) "
   ]
  },
  {
   "cell_type": "code",
   "execution_count": 31,
   "id": "f8f0ed14-de3c-411c-96d6-0097dce1305a",
   "metadata": {},
   "outputs": [
    {
     "name": "stdout",
     "output_type": "stream",
     "text": [
      "my name is akshith im 21 years old from mumbai\n"
     ]
    }
   ],
   "source": [
    "name = 'akshith'          #This print statement helps in projects buliding \n",
    "age = 21                   #like in this statement string is in brackets and variable is in commas \n",
    "city = 'mumbai'\n",
    "print('my name is {} im {} years old from {}'.format(name , age , city))\n"
   ]
  },
  {
   "cell_type": "code",
   "execution_count": 51,
   "id": "e525ae2b-271d-4c10-8380-d5a08ce5fdbe",
   "metadata": {},
   "outputs": [
    {
     "name": "stdout",
     "output_type": "stream",
     "text": [
      "30.0\n"
     ]
    }
   ],
   "source": [
    "num1 = 20\n",
    "num2 = 30\n",
    "num3 = 40 \n",
    "avg=num1+num2+num3\n",
    "avg1 = round((num1 +num2 +num3)/3,2)\n",
    "print(avg1)"
   ]
  },
  {
   "cell_type": "code",
   "execution_count": 55,
   "id": "ac98dc3f-b896-4f88-bb74-e52d0142c5ac",
   "metadata": {},
   "outputs": [
    {
     "name": "stdout",
     "output_type": "stream",
     "text": [
      "The addition of 20 and 30 is 50\n"
     ]
    }
   ],
   "source": [
    "num1 = 20            #Always prefer this \n",
    "num2 = 30\n",
    "add = num1+num2 \n",
    "print(f'The addition of {num1} and {num2} is {add}')"
   ]
  },
  {
   "cell_type": "code",
   "execution_count": 61,
   "id": "5e1396f0-2201-4f54-a2d3-2c108deb23c6",
   "metadata": {},
   "outputs": [],
   "source": [
    "name = 'lakshith'\n",
    "age = 10\n",
    "city = 'hyderabad'\n"
   ]
  },
  {
   "cell_type": "code",
   "execution_count": 65,
   "id": "ee7a07d1-c661-4a6e-bd98-407c031f7ba2",
   "metadata": {},
   "outputs": [
    {
     "name": "stdout",
     "output_type": "stream",
     "text": [
      "my name is lakshith im 10 years old im from hyderabad\n"
     ]
    }
   ],
   "source": [
    "print(f'my name is {name} im {age} years old im from {city}')"
   ]
  },
  {
   "cell_type": "markdown",
   "id": "3389cdca-82a0-42df-aafb-331a544b7dfa",
   "metadata": {},
   "source": [
    "#END STATEMENT"
   ]
  },
  {
   "cell_type": "code",
   "execution_count": 67,
   "id": "fd75609d-20c5-4115-b78c-d3aa13701768",
   "metadata": {},
   "outputs": [
    {
     "name": "stdout",
     "output_type": "stream",
     "text": [
      "hello\n",
      "good morning\n"
     ]
    }
   ],
   "source": [
    "print('hello')\n",
    "print('good morning')"
   ]
  },
  {
   "cell_type": "code",
   "execution_count": 69,
   "id": "3622480c-597d-45a9-b884-32d54af7e726",
   "metadata": {},
   "outputs": [
    {
     "name": "stdout",
     "output_type": "stream",
     "text": [
      "hello good morning\n"
     ]
    }
   ],
   "source": [
    "print('hello',end=' ')     # end =' ' this refers to the print in one line and also given the space for 2 statement \n",
    "print('good morning')"
   ]
  },
  {
   "cell_type": "code",
   "execution_count": 71,
   "id": "1b3a38b8-da01-4f7c-960d-a927e5193b6d",
   "metadata": {},
   "outputs": [
    {
     "name": "stdout",
     "output_type": "stream",
     "text": [
      "hello\n",
      "world\n"
     ]
    }
   ],
   "source": [
    "print('hello')\n",
    "print('world')"
   ]
  },
  {
   "cell_type": "code",
   "execution_count": 73,
   "id": "a166d3da-7b71-4fb8-9067-2f07952fda58",
   "metadata": {},
   "outputs": [
    {
     "name": "stdout",
     "output_type": "stream",
     "text": [
      "hello world\n"
     ]
    }
   ],
   "source": [
    "print('hello', end =' ')\n",
    "print('world')"
   ]
  },
  {
   "cell_type": "markdown",
   "id": "bfe6bae8-ad1e-4d6e-889a-6e99c86ab4fc",
   "metadata": {},
   "source": [
    "#SEPARATE STATEMENT "
   ]
  },
  {
   "cell_type": "code",
   "execution_count": 75,
   "id": "8c0eba5b-acb5-4f94-b7d9-7bf5040377b5",
   "metadata": {},
   "outputs": [
    {
     "name": "stdout",
     "output_type": "stream",
     "text": [
      "hello------>hy------>how are you\n"
     ]
    }
   ],
   "source": [
    "print('hello','hy','how are you',sep='------>')         #this is separate statement like we mentiomn sep ='   '  "
   ]
  },
  {
   "cell_type": "code",
   "execution_count": 77,
   "id": "e778ca88-5483-44bb-9670-167a3e3042c5",
   "metadata": {},
   "outputs": [
    {
     "name": "stdout",
     "output_type": "stream",
     "text": [
      "hello@hy@how are you\n"
     ]
    }
   ],
   "source": [
    "print('hello','hy','how are you',sep='@')"
   ]
  },
  {
   "cell_type": "code",
   "execution_count": 79,
   "id": "02cda6fe-6e1a-436b-bd7e-11255335edb9",
   "metadata": {},
   "outputs": [
    {
     "name": "stdout",
     "output_type": "stream",
     "text": [
      "hello&hy&how are you\n"
     ]
    }
   ],
   "source": [
    "print('hello','hy','how are you',sep='&')\n"
   ]
  },
  {
   "cell_type": "code",
   "execution_count": 81,
   "id": "253b74e6-3b4c-49e5-9a55-a1302816ea18",
   "metadata": {},
   "outputs": [
    {
     "name": "stdout",
     "output_type": "stream",
     "text": [
      "hello*hy*how are you\n"
     ]
    }
   ],
   "source": [
    "print('hello','hy','how are you',sep='*')"
   ]
  },
  {
   "cell_type": "code",
   "execution_count": 85,
   "id": "0e7b5987-459b-497c-a31b-26676a44ae63",
   "metadata": {},
   "outputs": [
    {
     "name": "stdout",
     "output_type": "stream",
     "text": [
      "hello  hy  how are you\n"
     ]
    }
   ],
   "source": [
    "print('hello','hy','how are you',sep='  ')"
   ]
  },
  {
   "cell_type": "code",
   "execution_count": 87,
   "id": "4b19f840-fb72-4904-ad13-8f8004c91b2c",
   "metadata": {},
   "outputs": [
    {
     "name": "stdout",
     "output_type": "stream",
     "text": [
      "4 .\n"
     ]
    }
   ],
   "source": [
    "print(4,'.')      #here after 4 int there was fullstop with gap "
   ]
  },
  {
   "cell_type": "code",
   "execution_count": 91,
   "id": "cc985aec-aac0-4b7e-85f4-e86901cdf75c",
   "metadata": {},
   "outputs": [
    {
     "name": "stdout",
     "output_type": "stream",
     "text": [
      "4.\n"
     ]
    }
   ],
   "source": [
    "print(4,'.',sep='')    #here there was no fullstop "
   ]
  },
  {
   "cell_type": "code",
   "execution_count": 101,
   "id": "a97b04d5-e56c-4039-94be-c2f49c0d496a",
   "metadata": {},
   "outputs": [
    {
     "name": "stdout",
     "output_type": "stream",
     "text": [
      "4 5 6.\n"
     ]
    }
   ],
   "source": [
    "print(4,5, end=' ')   #here statemnet 1 end then 2nd statement also add in first stement also thats why we use end statement \n",
    "print(6,'.',sep='')"
   ]
  },
  {
   "cell_type": "code",
   "execution_count": 105,
   "id": "0a69c449-f4fe-4496-9f36-d10e6f79a131",
   "metadata": {},
   "outputs": [
    {
     "name": "stdout",
     "output_type": "stream",
     "text": [
      "10\n",
      "2.3\n",
      "akshith\n",
      "True\n",
      "(10+2j)\n"
     ]
    }
   ],
   "source": [
    "a,b,c,d,e = (10,2.3,'akshith',True,10+2j)\n",
    "print(a)\n",
    "print(b)\n",
    "print(c)\n",
    "print(d)\n",
    "print(e)"
   ]
  },
  {
   "cell_type": "code",
   "execution_count": 107,
   "id": "03bc81ed-cc04-4739-a64b-3b1b0043ba5e",
   "metadata": {},
   "outputs": [
    {
     "name": "stdout",
     "output_type": "stream",
     "text": [
      "<class 'int'>\n",
      "<class 'float'>\n",
      "<class 'str'>\n",
      "<class 'bool'>\n",
      "<class 'complex'>\n"
     ]
    }
   ],
   "source": [
    "a,b,c,d,e = (10,2.3,'akshith',True,10+2j)\n",
    "print(type(a))\n",
    "print(type(b))\n",
    "print(type(c))\n",
    "print(type(d))\n",
    "print(type(e))\n"
   ]
  },
  {
   "cell_type": "code",
   "execution_count": 117,
   "id": "637f2d01-acd9-48c3-9c93-8127a1e55943",
   "metadata": {},
   "outputs": [
    {
     "name": "stdout",
     "output_type": "stream",
     "text": [
      "aksshith is a good boy \n",
      " he is studying in 6th cls\n"
     ]
    }
   ],
   "source": [
    "print('aksshith is a good boy \\n he is studying in 6th cls')    #\\n defines that new line "
   ]
  },
  {
   "cell_type": "code",
   "execution_count": 119,
   "id": "18eb8a79-8f25-4e78-9a2c-f71446ddd797",
   "metadata": {},
   "outputs": [],
   "source": [
    "s = 'akshith'"
   ]
  },
  {
   "cell_type": "code",
   "execution_count": 121,
   "id": "e19af4d0-500a-4f69-a43d-dbf9c4dbcbc4",
   "metadata": {},
   "outputs": [
    {
     "data": {
      "text/plain": [
       "'aks'"
      ]
     },
     "execution_count": 121,
     "metadata": {},
     "output_type": "execute_result"
    }
   ],
   "source": [
    "s[:3]"
   ]
  },
  {
   "cell_type": "code",
   "execution_count": 123,
   "id": "b7d3b96d-41b6-42eb-a0d6-cdbe56a2eb00",
   "metadata": {},
   "outputs": [
    {
     "data": {
      "text/plain": [
       "'akshi'"
      ]
     },
     "execution_count": 123,
     "metadata": {},
     "output_type": "execute_result"
    }
   ],
   "source": [
    "s[0:5]"
   ]
  },
  {
   "cell_type": "code",
   "execution_count": 125,
   "id": "222ff361-8eac-4d7a-ad0d-f9f537a0a5e9",
   "metadata": {},
   "outputs": [
    {
     "data": {
      "text/plain": [
       "'akshith'"
      ]
     },
     "execution_count": 125,
     "metadata": {},
     "output_type": "execute_result"
    }
   ],
   "source": [
    "s[::1]"
   ]
  },
  {
   "cell_type": "code",
   "execution_count": 131,
   "id": "43df63b1-95f4-47b5-830a-8dea5813f6b2",
   "metadata": {},
   "outputs": [
    {
     "data": {
      "text/plain": [
       "'akshit'"
      ]
     },
     "execution_count": 131,
     "metadata": {},
     "output_type": "execute_result"
    }
   ],
   "source": [
    "s[:-1]"
   ]
  },
  {
   "cell_type": "code",
   "execution_count": 133,
   "id": "84c9ba4c-2f95-4add-b8e4-2bcf2fa2892a",
   "metadata": {},
   "outputs": [
    {
     "data": {
      "text/plain": [
       "'hith'"
      ]
     },
     "execution_count": 133,
     "metadata": {},
     "output_type": "execute_result"
    }
   ],
   "source": [
    "s[3:9]\n"
   ]
  },
  {
   "cell_type": "code",
   "execution_count": 159,
   "id": "0dcd8bb2-56e8-4dbf-bd74-bd47fd84c8ad",
   "metadata": {},
   "outputs": [],
   "source": [
    "a = 10 \n",
    "b = 20 \n",
    "add = (a+b)\n",
    "if a+b is == 0\n",
    "print('evennumber')\n",
    "\n"
   ]
  },
  {
   "cell_type": "code",
   "execution_count": null,
   "id": "856c6f23-c02d-48f6-a69d-0f4ca18447fe",
   "metadata": {},
   "outputs": [],
   "source": []
  }
 ],
 "metadata": {
  "kernelspec": {
   "display_name": "Python [conda env:base] *",
   "language": "python",
   "name": "conda-base-py"
  },
  "language_info": {
   "codemirror_mode": {
    "name": "ipython",
    "version": 3
   },
   "file_extension": ".py",
   "mimetype": "text/x-python",
   "name": "python",
   "nbconvert_exporter": "python",
   "pygments_lexer": "ipython3",
   "version": "3.12.7"
  }
 },
 "nbformat": 4,
 "nbformat_minor": 5
}
