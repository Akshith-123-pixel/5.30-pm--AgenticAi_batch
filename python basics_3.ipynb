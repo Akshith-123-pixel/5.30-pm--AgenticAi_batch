{
 "cells": [
  {
   "cell_type": "markdown",
   "id": "e22bbefa-9966-40ab-a726-386a2f1de0b4",
   "metadata": {},
   "source": [
    "#16th april\n"
   ]
  },
  {
   "cell_type": "markdown",
   "id": "d69e0dfe-a109-4057-8fbe-70e6f3c39c66",
   "metadata": {},
   "source": [
    "variable name = value \n",
    "i = 10 (a- variable , valu = 10) 10-int\n",
    "tyep (a)-int\n",
    "f = 1.09--float\n",
    "\n",
    "\n",
    "datatypes born with variable concept"
   ]
  },
  {
   "cell_type": "markdown",
   "id": "adec1a4f-e70c-400e-b8c1-53d70ee80637",
   "metadata": {},
   "source": [
    "#integer datatypes"
   ]
  },
  {
   "cell_type": "code",
   "execution_count": 3,
   "id": "84ef5160-7f54-429d-9114-057673025a34",
   "metadata": {},
   "outputs": [
    {
     "data": {
      "text/plain": [
       "30"
      ]
     },
     "execution_count": 3,
     "metadata": {},
     "output_type": "execute_result"
    }
   ],
   "source": [
    "i = 30\n",
    "i"
   ]
  },
  {
   "cell_type": "code",
   "execution_count": 7,
   "id": "59be0488-8dd9-4806-8901-e1c1db753677",
   "metadata": {},
   "outputs": [
    {
     "name": "stdout",
     "output_type": "stream",
     "text": [
      "30\n",
      "<class 'int'>\n"
     ]
    }
   ],
   "source": [
    "i = 30         #INT datatype    class int is a inbulit integer\n",
    "print(i)\n",
    "print(type(i))"
   ]
  },
  {
   "cell_type": "code",
   "execution_count": 9,
   "id": "b535e8ff-9f71-4fc3-a28c-3a67117974d8",
   "metadata": {},
   "outputs": [
    {
     "data": {
      "text/plain": [
       "110.9"
      ]
     },
     "execution_count": 9,
     "metadata": {},
     "output_type": "execute_result"
    }
   ],
   "source": [
    "diesel = 110.90      #Float datatype\n",
    "diesel"
   ]
  },
  {
   "cell_type": "code",
   "execution_count": 15,
   "id": "bb153767-7c62-4aa4-a234-06c89847c091",
   "metadata": {},
   "outputs": [
    {
     "name": "stdout",
     "output_type": "stream",
     "text": [
      "<class 'float'>\n"
     ]
    }
   ],
   "source": [
    "print(type(diesel))"
   ]
  },
  {
   "cell_type": "code",
   "execution_count": 21,
   "id": "187f9c04-5992-4422-9458-dd45cb61f488",
   "metadata": {},
   "outputs": [
    {
     "name": "stdout",
     "output_type": "stream",
     "text": [
      "12\n",
      "13\n",
      "25\n"
     ]
    }
   ],
   "source": [
    "a1 , a2 = 12 , 13\n",
    "print(a1)\n",
    "print(a2)\n",
    "print(a1+a2)"
   ]
  },
  {
   "cell_type": "markdown",
   "id": "9d8a5f75-aa94-47ab-93fa-fdd4d9eec609",
   "metadata": {},
   "source": [
    "STRING DATATYPE"
   ]
  },
  {
   "cell_type": "code",
   "execution_count": 23,
   "id": "6d01bb68-1914-42a3-968b-48551a0d06a0",
   "metadata": {},
   "outputs": [
    {
     "ename": "SyntaxError",
     "evalue": "invalid syntax (2742282743.py, line 1)",
     "output_type": "error",
     "traceback": [
      "\u001b[1;36m  Cell \u001b[1;32mIn[23], line 1\u001b[1;36m\u001b[0m\n\u001b[1;33m    s = akshith teja\u001b[0m\n\u001b[1;37m                ^\u001b[0m\n\u001b[1;31mSyntaxError\u001b[0m\u001b[1;31m:\u001b[0m invalid syntax\n"
     ]
    }
   ],
   "source": [
    "s = akshith teja     #string always strt with single code"
   ]
  },
  {
   "cell_type": "code",
   "execution_count": 27,
   "id": "4054c767-ef73-4458-840d-6751441cc0c1",
   "metadata": {},
   "outputs": [
    {
     "data": {
      "text/plain": [
       "'akshith teja'"
      ]
     },
     "execution_count": 27,
     "metadata": {},
     "output_type": "execute_result"
    }
   ],
   "source": [
    "s = 'akshith teja'\n",
    "s"
   ]
  },
  {
   "cell_type": "code",
   "execution_count": 29,
   "id": "779cafa4-0043-4874-9ab3-37a05c90beec",
   "metadata": {},
   "outputs": [
    {
     "data": {
      "text/plain": [
       "str"
      ]
     },
     "execution_count": 29,
     "metadata": {},
     "output_type": "execute_result"
    }
   ],
   "source": [
    "type(s)"
   ]
  },
  {
   "cell_type": "code",
   "execution_count": 31,
   "id": "5b464b3f-1447-40dd-96e3-b1794bcdf4bd",
   "metadata": {},
   "outputs": [
    {
     "data": {
      "text/plain": [
       "'akshith teja'"
      ]
     },
     "execution_count": 31,
     "metadata": {},
     "output_type": "execute_result"
    }
   ],
   "source": [
    "s = \"akshith teja\"\n",
    "s"
   ]
  },
  {
   "cell_type": "code",
   "execution_count": 33,
   "id": "dd3497d6-659f-4cae-b2cf-c37ca3feecb8",
   "metadata": {},
   "outputs": [
    {
     "data": {
      "text/plain": [
       "str"
      ]
     },
     "execution_count": 33,
     "metadata": {},
     "output_type": "execute_result"
    }
   ],
   "source": [
    "type(s)\n"
   ]
  },
  {
   "cell_type": "code",
   "execution_count": 37,
   "id": "915218ae-27b2-4cc3-bd85-9aec19dd0e7c",
   "metadata": {},
   "outputs": [
    {
     "data": {
      "text/plain": [
       "'naresh it technology datascience, ai student---6 months i will change your brain'"
      ]
     },
     "execution_count": 37,
     "metadata": {},
     "output_type": "execute_result"
    }
   ],
   "source": [
    "s1 = \"naresh it technology datascience, ai student---6 months i will change your brain\"\n",
    "s1"
   ]
  },
  {
   "cell_type": "code",
   "execution_count": 39,
   "id": "77966717-0eb0-4a72-b383-09d9c59cb781",
   "metadata": {},
   "outputs": [
    {
     "ename": "SyntaxError",
     "evalue": "unterminated string literal (detected at line 1) (1683290652.py, line 1)",
     "output_type": "error",
     "traceback": [
      "\u001b[1;36m  Cell \u001b[1;32mIn[39], line 1\u001b[1;36m\u001b[0m\n\u001b[1;33m    s1 = \"naresh it technology datascience,\u001b[0m\n\u001b[1;37m         ^\u001b[0m\n\u001b[1;31mSyntaxError\u001b[0m\u001b[1;31m:\u001b[0m unterminated string literal (detected at line 1)\n"
     ]
    }
   ],
   "source": [
    "s1 = \"naresh it technology datascience,    #3 lines codes always have 3 codes \n",
    "ai student---\n",
    "6 months i will change your brain\"\n",
    "s1"
   ]
  },
  {
   "cell_type": "code",
   "execution_count": 43,
   "id": "526b2c00-d7ee-4bdb-ab83-9898e646db79",
   "metadata": {},
   "outputs": [
    {
     "data": {
      "text/plain": [
       "'naresh it technology datascience,    #3 lines codes always have 3 codes \\nai student---\\n6 months i will change your brain'"
      ]
     },
     "execution_count": 43,
     "metadata": {},
     "output_type": "execute_result"
    }
   ],
   "source": [
    "s1 = '''naresh it technology datascience,    #3 lines codes always have 3 codes , 3 codes ''' is for multiple lines \n",
    "ai student---\n",
    "6 months i will change your brain'''\n",
    "s1"
   ]
  },
  {
   "cell_type": "code",
   "execution_count": 45,
   "id": "e6153af7-ebff-4eb6-a137-03be2aafe77f",
   "metadata": {},
   "outputs": [
    {
     "data": {
      "text/plain": [
       "'akshith teja'"
      ]
     },
     "execution_count": 45,
     "metadata": {},
     "output_type": "execute_result"
    }
   ],
   "source": [
    "s[0]\n",
    "s"
   ]
  },
  {
   "cell_type": "code",
   "execution_count": 47,
   "id": "5bbaedf9-d811-447d-955c-e2d165ab3b50",
   "metadata": {},
   "outputs": [
    {
     "name": "stdout",
     "output_type": "stream",
     "text": [
      "a\n"
     ]
    }
   ],
   "source": [
    "print(s[0])           #forward indexing  left to right\n"
   ]
  },
  {
   "cell_type": "code",
   "execution_count": 49,
   "id": "78ec24de-53b4-4eaf-8240-aea177b1de9a",
   "metadata": {},
   "outputs": [
    {
     "name": "stdout",
     "output_type": "stream",
     "text": [
      "a\n"
     ]
    }
   ],
   "source": [
    "print(s[-1])         #backward indexing    right to left "
   ]
  },
  {
   "cell_type": "code",
   "execution_count": 51,
   "id": "b856d96d-e70c-431c-bae1-f5077a71465e",
   "metadata": {},
   "outputs": [
    {
     "data": {
      "text/plain": [
       "'shi'"
      ]
     },
     "execution_count": 51,
     "metadata": {},
     "output_type": "execute_result"
    }
   ],
   "source": [
    "s[2:5]      # n(n-1) applicable for python in the right side  "
   ]
  },
  {
   "cell_type": "code",
   "execution_count": null,
   "id": "4b05b358-e2bd-4cd0-9f4f-6f73907ad5a1",
   "metadata": {},
   "outputs": [],
   "source": [
    "s["
   ]
  }
 ],
 "metadata": {
  "kernelspec": {
   "display_name": "Python [conda env:base] *",
   "language": "python",
   "name": "conda-base-py"
  },
  "language_info": {
   "codemirror_mode": {
    "name": "ipython",
    "version": 3
   },
   "file_extension": ".py",
   "mimetype": "text/x-python",
   "name": "python",
   "nbconvert_exporter": "python",
   "pygments_lexer": "ipython3",
   "version": "3.12.7"
  }
 },
 "nbformat": 4,
 "nbformat_minor": 5
}
