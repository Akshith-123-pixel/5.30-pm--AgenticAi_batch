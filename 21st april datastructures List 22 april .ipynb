{
 "cells": [
  {
   "cell_type": "markdown",
   "id": "9222efe8-97bb-4b4b-a6ff-844b9017a815",
   "metadata": {},
   "source": [
    "#in datatype = user or developer can declare only one value    a = 2\n",
    "#in datastructure user can declare more than one values      b = 1,2,3,4\n",
    "#matrix is collections of rows and columns   like tables of rows and columns \n",
    "#matrix = collections of datastructure\n",
    "#datastructure = collection of datatypes \n",
    "datatype = int,float,bool,complex,string\n",
    "#datastructure divded in 2 parts inbuild and userdefined\n",
    "#inbuild are list,tuple ,set , dictionary \n",
    "#user defined are stack,linkedlist,numpy,tree"
   ]
  },
  {
   "cell_type": "code",
   "execution_count": 1,
   "id": "bd418ee4-62ed-466f-8aba-c42e7bd2e559",
   "metadata": {},
   "outputs": [
    {
     "data": {
      "text/plain": [
       "int"
      ]
     },
     "execution_count": 1,
     "metadata": {},
     "output_type": "execute_result"
    }
   ],
   "source": [
    "i = 9 \n",
    "type(i)"
   ]
  },
  {
   "cell_type": "markdown",
   "id": "77f6737f-2aea-4cab-a4e4-5ff5692d2b38",
   "metadata": {},
   "source": [
    "#LIST DATSTRUCTURE   "
   ]
  },
  {
   "cell_type": "code",
   "execution_count": 5,
   "id": "6ef69780-8402-4246-936a-ba561008f044",
   "metadata": {},
   "outputs": [
    {
     "data": {
      "text/plain": [
       "[]"
      ]
     },
     "execution_count": 5,
     "metadata": {},
     "output_type": "execute_result"
    }
   ],
   "source": [
    "l = []    #list is defined as [] \n",
    "l"
   ]
  },
  {
   "cell_type": "code",
   "execution_count": 7,
   "id": "9c6b8354-6296-4db2-8049-44848963dd23",
   "metadata": {},
   "outputs": [
    {
     "data": {
      "text/plain": [
       "list"
      ]
     },
     "execution_count": 7,
     "metadata": {},
     "output_type": "execute_result"
    }
   ],
   "source": [
    "type(l)"
   ]
  },
  {
   "cell_type": "code",
   "execution_count": 9,
   "id": "f10684a0-ab80-4c5f-83ca-bdf187ac627c",
   "metadata": {},
   "outputs": [
    {
     "data": {
      "text/plain": [
       "[10]"
      ]
     },
     "execution_count": 9,
     "metadata": {},
     "output_type": "execute_result"
    }
   ],
   "source": [
    "l.append(10)\n",
    "l"
   ]
  },
  {
   "cell_type": "code",
   "execution_count": 23,
   "id": "51e2f71a-4cee-4e3c-9e07-54e19f3c22c2",
   "metadata": {},
   "outputs": [],
   "source": [
    "l.append(10)\n",
    "l.append(20)\n",
    "l.append(30)\n",
    "l.append(40)"
   ]
  },
  {
   "cell_type": "code",
   "execution_count": 19,
   "id": "669c054b-9414-4394-8993-1561e69116e9",
   "metadata": {},
   "outputs": [
    {
     "data": {
      "text/plain": [
       "[10, 10, 30, 40, 50, 10, 30, 40, 50, 10, 30, 40, 50]"
      ]
     },
     "execution_count": 19,
     "metadata": {},
     "output_type": "execute_result"
    }
   ],
   "source": [
    "l"
   ]
  },
  {
   "cell_type": "code",
   "execution_count": 21,
   "id": "08e6408e-166b-43c7-847a-38a8ae03a391",
   "metadata": {},
   "outputs": [
    {
     "ename": "TypeError",
     "evalue": "list.append() takes exactly one argument (3 given)",
     "output_type": "error",
     "traceback": [
      "\u001b[1;31m---------------------------------------------------------------------------\u001b[0m",
      "\u001b[1;31mTypeError\u001b[0m                                 Traceback (most recent call last)",
      "Cell \u001b[1;32mIn[21], line 1\u001b[0m\n\u001b[1;32m----> 1\u001b[0m l\u001b[38;5;241m.\u001b[39mappend(\u001b[38;5;241m70\u001b[39m,\u001b[38;5;241m80\u001b[39m,\u001b[38;5;241m90\u001b[39m)\n",
      "\u001b[1;31mTypeError\u001b[0m: list.append() takes exactly one argument (3 given)"
     ]
    }
   ],
   "source": [
    "l.append(70,80,90)    #in this we only take only one arguments "
   ]
  },
  {
   "cell_type": "code",
   "execution_count": 29,
   "id": "e360bd10-28c5-4a88-b209-b64e42e054c8",
   "metadata": {},
   "outputs": [
    {
     "data": {
      "text/plain": [
       "[10, 10, 30, 40, 50, 10, 30, 40, 50, 10, 30, 40, 50, 10, 20, 30, 40, 10, 10]"
      ]
     },
     "execution_count": 29,
     "metadata": {},
     "output_type": "execute_result"
    }
   ],
   "source": [
    "l"
   ]
  },
  {
   "cell_type": "code",
   "execution_count": 33,
   "id": "e210097f-1f3f-41a7-b3a3-d3e59a3650b1",
   "metadata": {},
   "outputs": [
    {
     "data": {
      "text/plain": [
       "[10,\n",
       " 10,\n",
       " 30,\n",
       " 40,\n",
       " 50,\n",
       " 10,\n",
       " 30,\n",
       " 40,\n",
       " 50,\n",
       " 10,\n",
       " 30,\n",
       " 40,\n",
       " 50,\n",
       " 10,\n",
       " 20,\n",
       " 30,\n",
       " 40,\n",
       " 10,\n",
       " 10,\n",
       " 10,\n",
       " 10]"
      ]
     },
     "execution_count": 33,
     "metadata": {},
     "output_type": "execute_result"
    }
   ],
   "source": [
    "l.append(10)\n",
    "l"
   ]
  },
  {
   "cell_type": "code",
   "execution_count": 35,
   "id": "6592b665-78f6-4418-aced-d6f991c2fc07",
   "metadata": {},
   "outputs": [
    {
     "data": {
      "text/plain": [
       "21"
      ]
     },
     "execution_count": 35,
     "metadata": {},
     "output_type": "execute_result"
    }
   ],
   "source": [
    "len(l)"
   ]
  },
  {
   "cell_type": "code",
   "execution_count": 52,
   "id": "bca3404e-367c-4018-a52d-1e2e42509956",
   "metadata": {},
   "outputs": [],
   "source": [
    "l.append(10)\n",
    "l.append(20)\n",
    "l.append(30)\n",
    "l.append(40)"
   ]
  },
  {
   "cell_type": "code",
   "execution_count": 54,
   "id": "1714bad5-aad7-4a35-a06a-cf0b5bd85f39",
   "metadata": {},
   "outputs": [
    {
     "data": {
      "text/plain": [
       "[10,\n",
       " 10,\n",
       " 30,\n",
       " 40,\n",
       " 50,\n",
       " 10,\n",
       " 30,\n",
       " 40,\n",
       " 50,\n",
       " 10,\n",
       " 30,\n",
       " 40,\n",
       " 50,\n",
       " 10,\n",
       " 20,\n",
       " 30,\n",
       " 40,\n",
       " 10,\n",
       " 10,\n",
       " 10,\n",
       " 10,\n",
       " 10,\n",
       " 20,\n",
       " 30,\n",
       " 40,\n",
       " 10,\n",
       " 20,\n",
       " 30,\n",
       " 40,\n",
       " 10,\n",
       " 20,\n",
       " 30,\n",
       " 40]"
      ]
     },
     "execution_count": 54,
     "metadata": {},
     "output_type": "execute_result"
    }
   ],
   "source": [
    "l"
   ]
  },
  {
   "cell_type": "code",
   "execution_count": 58,
   "id": "d7659050-97ae-4411-b963-e36e5de2492c",
   "metadata": {},
   "outputs": [
    {
     "data": {
      "text/plain": [
       "[10,\n",
       " 10,\n",
       " 30,\n",
       " 40,\n",
       " 50,\n",
       " 10,\n",
       " 30,\n",
       " 40,\n",
       " 50,\n",
       " 10,\n",
       " 30,\n",
       " 40,\n",
       " 50,\n",
       " 10,\n",
       " 20,\n",
       " 30,\n",
       " 40,\n",
       " 10,\n",
       " 10,\n",
       " 10,\n",
       " 10,\n",
       " 10,\n",
       " 20,\n",
       " 30,\n",
       " 40,\n",
       " 10,\n",
       " 20,\n",
       " 30,\n",
       " 40,\n",
       " 10,\n",
       " 20,\n",
       " 30,\n",
       " 40]"
      ]
     },
     "execution_count": 58,
     "metadata": {},
     "output_type": "execute_result"
    }
   ],
   "source": [
    "l1 = l.copy()\n",
    "l1"
   ]
  },
  {
   "cell_type": "code",
   "execution_count": 60,
   "id": "bca8da8f-98be-4f30-a984-c82d5841eb1b",
   "metadata": {},
   "outputs": [],
   "source": [
    "l1.append(2.3)\n",
    "l1.append('nit')\n",
    "l1.append(1+2j)\n",
    "l1.append([1,2,3])"
   ]
  },
  {
   "cell_type": "code",
   "execution_count": 62,
   "id": "5ec3a1e2-ed61-4063-97f9-22708d99c088",
   "metadata": {},
   "outputs": [
    {
     "data": {
      "text/plain": [
       "[10,\n",
       " 10,\n",
       " 30,\n",
       " 40,\n",
       " 50,\n",
       " 10,\n",
       " 30,\n",
       " 40,\n",
       " 50,\n",
       " 10,\n",
       " 30,\n",
       " 40,\n",
       " 50,\n",
       " 10,\n",
       " 20,\n",
       " 30,\n",
       " 40,\n",
       " 10,\n",
       " 10,\n",
       " 10,\n",
       " 10,\n",
       " 10,\n",
       " 20,\n",
       " 30,\n",
       " 40,\n",
       " 10,\n",
       " 20,\n",
       " 30,\n",
       " 40,\n",
       " 10,\n",
       " 20,\n",
       " 30,\n",
       " 40,\n",
       " 2.3,\n",
       " 'nit',\n",
       " (1+2j),\n",
       " [1, 2, 3]]"
      ]
     },
     "execution_count": 62,
     "metadata": {},
     "output_type": "execute_result"
    }
   ],
   "source": [
    "l1"
   ]
  },
  {
   "cell_type": "code",
   "execution_count": 64,
   "id": "e5a01792-3ffa-49b3-bdf6-71eeca32ee8b",
   "metadata": {},
   "outputs": [
    {
     "name": "stdout",
     "output_type": "stream",
     "text": [
      "[10, 10, 30, 40, 50, 10, 30, 40, 50, 10, 30, 40, 50, 10, 20, 30, 40, 10, 10, 10, 10, 10, 20, 30, 40, 10, 20, 30, 40, 10, 20, 30, 40]\n",
      "[10, 10, 30, 40, 50, 10, 30, 40, 50, 10, 30, 40, 50, 10, 20, 30, 40, 10, 10, 10, 10, 10, 20, 30, 40, 10, 20, 30, 40, 10, 20, 30, 40, 2.3, 'nit', (1+2j), [1, 2, 3]]\n"
     ]
    }
   ],
   "source": [
    "print(l)   #in list we can define multiple datatype \n",
    "print(l1)"
   ]
  },
  {
   "cell_type": "markdown",
   "id": "977b40aa-b434-4a7f-ba7d-cf7e07602f64",
   "metadata": {},
   "source": [
    "#list insdie list = nested lsit "
   ]
  },
  {
   "cell_type": "code",
   "execution_count": 66,
   "id": "309d9d5f-25a4-4ebd-b385-37babb926998",
   "metadata": {},
   "outputs": [
    {
     "name": "stdout",
     "output_type": "stream",
     "text": [
      "33\n",
      "37\n"
     ]
    }
   ],
   "source": [
    "print(len(l))\n",
    "print(len(l1))"
   ]
  },
  {
   "cell_type": "code",
   "execution_count": 68,
   "id": "1bc7d4cc-d750-4fed-a41b-4cfd8dedfa94",
   "metadata": {},
   "outputs": [
    {
     "data": {
      "text/plain": [
       "False"
      ]
     },
     "execution_count": 68,
     "metadata": {},
     "output_type": "execute_result"
    }
   ],
   "source": [
    "l == l1"
   ]
  },
  {
   "cell_type": "code",
   "execution_count": 70,
   "id": "4c314c39-9ac2-4836-900f-e50875980af8",
   "metadata": {},
   "outputs": [],
   "source": [
    "l2 = l.copy()"
   ]
  },
  {
   "cell_type": "code",
   "execution_count": 72,
   "id": "37250963-3958-4aa8-bb2b-5f772455561b",
   "metadata": {},
   "outputs": [
    {
     "data": {
      "text/plain": [
       "[10,\n",
       " 10,\n",
       " 30,\n",
       " 40,\n",
       " 50,\n",
       " 10,\n",
       " 30,\n",
       " 40,\n",
       " 50,\n",
       " 10,\n",
       " 30,\n",
       " 40,\n",
       " 50,\n",
       " 10,\n",
       " 20,\n",
       " 30,\n",
       " 40,\n",
       " 10,\n",
       " 10,\n",
       " 10,\n",
       " 10,\n",
       " 10,\n",
       " 20,\n",
       " 30,\n",
       " 40,\n",
       " 10,\n",
       " 20,\n",
       " 30,\n",
       " 40,\n",
       " 10,\n",
       " 20,\n",
       " 30,\n",
       " 40]"
      ]
     },
     "execution_count": 72,
     "metadata": {},
     "output_type": "execute_result"
    }
   ],
   "source": [
    "l2"
   ]
  },
  {
   "cell_type": "code",
   "execution_count": 76,
   "id": "ff6f2d61-26b9-4d75-afcb-a0421ebc3064",
   "metadata": {},
   "outputs": [
    {
     "data": {
      "text/plain": [
       "True"
      ]
     },
     "execution_count": 76,
     "metadata": {},
     "output_type": "execute_result"
    }
   ],
   "source": [
    "l == l2"
   ]
  },
  {
   "cell_type": "code",
   "execution_count": 78,
   "id": "eaafb688-90b3-4c84-9fe4-b24fb19e3ffd",
   "metadata": {},
   "outputs": [
    {
     "name": "stdout",
     "output_type": "stream",
     "text": [
      "[10, 10, 30, 40, 50, 10, 30, 40, 50, 10, 30, 40, 50, 10, 20, 30, 40, 10, 10, 10, 10, 10, 20, 30, 40, 10, 20, 30, 40, 10, 20, 30, 40]\n",
      "[10, 10, 30, 40, 50, 10, 30, 40, 50, 10, 30, 40, 50, 10, 20, 30, 40, 10, 10, 10, 10, 10, 20, 30, 40, 10, 20, 30, 40, 10, 20, 30, 40, 2.3, 'nit', (1+2j), [1, 2, 3]]\n",
      "[10, 10, 30, 40, 50, 10, 30, 40, 50, 10, 30, 40, 50, 10, 20, 30, 40, 10, 10, 10, 10, 10, 20, 30, 40, 10, 20, 30, 40, 10, 20, 30, 40]\n"
     ]
    }
   ],
   "source": [
    "print(l)\n",
    "print(l1)\n",
    "print(l2)"
   ]
  },
  {
   "cell_type": "code",
   "execution_count": 80,
   "id": "aa1640c0-6b92-4885-a174-5ffa110c37b1",
   "metadata": {},
   "outputs": [
    {
     "data": {
      "text/plain": [
       "[10,\n",
       " 10,\n",
       " 30,\n",
       " 40,\n",
       " 50,\n",
       " 10,\n",
       " 30,\n",
       " 40,\n",
       " 50,\n",
       " 10,\n",
       " 30,\n",
       " 40,\n",
       " 50,\n",
       " 10,\n",
       " 20,\n",
       " 30,\n",
       " 40,\n",
       " 10,\n",
       " 10,\n",
       " 10,\n",
       " 10,\n",
       " 10,\n",
       " 20,\n",
       " 30,\n",
       " 40,\n",
       " 10,\n",
       " 20,\n",
       " 30,\n",
       " 40,\n",
       " 10,\n",
       " 20,\n",
       " 30,\n",
       " 40]"
      ]
     },
     "execution_count": 80,
     "metadata": {},
     "output_type": "execute_result"
    }
   ],
   "source": [
    "l[:]"
   ]
  },
  {
   "cell_type": "code",
   "execution_count": 82,
   "id": "ba1df701-172c-4270-ab7b-507ed29d51c1",
   "metadata": {},
   "outputs": [
    {
     "data": {
      "text/plain": [
       "10"
      ]
     },
     "execution_count": 82,
     "metadata": {},
     "output_type": "execute_result"
    }
   ],
   "source": [
    "l[0]"
   ]
  },
  {
   "cell_type": "code",
   "execution_count": 86,
   "id": "9bf45585-3886-40df-ac45-7f965defd58c",
   "metadata": {},
   "outputs": [],
   "source": [
    "l[0] = 100    #mutable concepts "
   ]
  },
  {
   "cell_type": "code",
   "execution_count": 88,
   "id": "408659ee-f28b-47a7-8b19-e231eec0d9ce",
   "metadata": {},
   "outputs": [
    {
     "data": {
      "text/plain": [
       "[100,\n",
       " 10,\n",
       " 30,\n",
       " 40,\n",
       " 50,\n",
       " 10,\n",
       " 30,\n",
       " 40,\n",
       " 50,\n",
       " 10,\n",
       " 30,\n",
       " 40,\n",
       " 50,\n",
       " 10,\n",
       " 20,\n",
       " 30,\n",
       " 40,\n",
       " 10,\n",
       " 10,\n",
       " 10,\n",
       " 10,\n",
       " 10,\n",
       " 20,\n",
       " 30,\n",
       " 40,\n",
       " 10,\n",
       " 20,\n",
       " 30,\n",
       " 40,\n",
       " 10,\n",
       " 20,\n",
       " 30,\n",
       " 40]"
      ]
     },
     "execution_count": 88,
     "metadata": {},
     "output_type": "execute_result"
    }
   ],
   "source": [
    "l"
   ]
  },
  {
   "cell_type": "code",
   "execution_count": 92,
   "id": "3ca93110-b1a2-43d2-9656-039f4896ac71",
   "metadata": {},
   "outputs": [
    {
     "data": {
      "text/plain": [
       "[100,\n",
       " 10,\n",
       " 30,\n",
       " 40,\n",
       " 50,\n",
       " 10,\n",
       " 30,\n",
       " 40,\n",
       " 50,\n",
       " 10,\n",
       " 30,\n",
       " 40,\n",
       " 50,\n",
       " 10,\n",
       " 20,\n",
       " 30,\n",
       " 40,\n",
       " 10,\n",
       " 10,\n",
       " 10,\n",
       " 10,\n",
       " 10,\n",
       " 20,\n",
       " 30,\n",
       " 40,\n",
       " 10,\n",
       " 20,\n",
       " 30,\n",
       " 40,\n",
       " 10,\n",
       " 20,\n",
       " 30,\n",
       " 200]"
      ]
     },
     "execution_count": 92,
     "metadata": {},
     "output_type": "execute_result"
    }
   ],
   "source": [
    "l[-1] = 200\n",
    "l"
   ]
  },
  {
   "cell_type": "code",
   "execution_count": 94,
   "id": "6ad72d97-54b3-4b80-85ac-9f0a28fffba0",
   "metadata": {},
   "outputs": [
    {
     "data": {
      "text/plain": [
       "[40,\n",
       " 50,\n",
       " 10,\n",
       " 30,\n",
       " 40,\n",
       " 50,\n",
       " 10,\n",
       " 30,\n",
       " 40,\n",
       " 50,\n",
       " 10,\n",
       " 20,\n",
       " 30,\n",
       " 40,\n",
       " 10,\n",
       " 10,\n",
       " 10,\n",
       " 10,\n",
       " 10,\n",
       " 20,\n",
       " 30,\n",
       " 40,\n",
       " 10,\n",
       " 20,\n",
       " 30,\n",
       " 40,\n",
       " 10,\n",
       " 20,\n",
       " 30,\n",
       " 200]"
      ]
     },
     "execution_count": 94,
     "metadata": {},
     "output_type": "execute_result"
    }
   ],
   "source": [
    "l[3:]"
   ]
  },
  {
   "cell_type": "code",
   "execution_count": 106,
   "id": "05cad245-efd2-46bc-8a92-caa9eb0b448c",
   "metadata": {},
   "outputs": [
    {
     "data": {
      "text/plain": [
       "[]"
      ]
     },
     "execution_count": 106,
     "metadata": {},
     "output_type": "execute_result"
    }
   ],
   "source": [
    "l[50:]"
   ]
  },
  {
   "cell_type": "code",
   "execution_count": 104,
   "id": "a3ceb21d-299b-4fcb-9e0b-f8561fc3ce18",
   "metadata": {},
   "outputs": [
    {
     "data": {
      "text/plain": [
       "[100, 10, 30, 40, 50, 10, 30, 40, 50, 10]"
      ]
     },
     "execution_count": 104,
     "metadata": {},
     "output_type": "execute_result"
    }
   ],
   "source": [
    "l[:10]"
   ]
  },
  {
   "cell_type": "code",
   "execution_count": 108,
   "id": "012e9831-c85f-468f-b5c2-5afa55ad1ad4",
   "metadata": {},
   "outputs": [],
   "source": [
    "l2.clear()   #in this we use del option for delete variables "
   ]
  },
  {
   "cell_type": "code",
   "execution_count": 110,
   "id": "f3be0dea-08e3-4447-980a-119269e8a4ce",
   "metadata": {},
   "outputs": [
    {
     "data": {
      "text/plain": [
       "[]"
      ]
     },
     "execution_count": 110,
     "metadata": {},
     "output_type": "execute_result"
    }
   ],
   "source": [
    "l2"
   ]
  },
  {
   "cell_type": "code",
   "execution_count": 112,
   "id": "08fe6cb7-b91c-4c7a-a29d-9a4575f2373c",
   "metadata": {},
   "outputs": [
    {
     "data": {
      "text/plain": [
       "37"
      ]
     },
     "execution_count": 112,
     "metadata": {},
     "output_type": "execute_result"
    }
   ],
   "source": [
    "len(l1)"
   ]
  },
  {
   "cell_type": "code",
   "execution_count": 114,
   "id": "64782e1f-ee64-456f-9074-c1e0e52a088c",
   "metadata": {},
   "outputs": [
    {
     "data": {
      "text/plain": [
       "[10,\n",
       " 10,\n",
       " 30,\n",
       " 40,\n",
       " 50,\n",
       " 10,\n",
       " 30,\n",
       " 40,\n",
       " 50,\n",
       " 10,\n",
       " 30,\n",
       " 40,\n",
       " 50,\n",
       " 10,\n",
       " 20,\n",
       " 30,\n",
       " 40,\n",
       " 10,\n",
       " 10,\n",
       " 10,\n",
       " 10,\n",
       " 10,\n",
       " 20,\n",
       " 30,\n",
       " 40,\n",
       " 10,\n",
       " 20,\n",
       " 30,\n",
       " 40,\n",
       " 10,\n",
       " 20,\n",
       " 30,\n",
       " 40,\n",
       " 2.3,\n",
       " 'nit',\n",
       " (1+2j),\n",
       " [1, 2, 3]]"
      ]
     },
     "execution_count": 114,
     "metadata": {},
     "output_type": "execute_result"
    }
   ],
   "source": [
    "l1"
   ]
  },
  {
   "cell_type": "code",
   "execution_count": 116,
   "id": "eac180bb-9334-4186-bd35-457580e891b4",
   "metadata": {},
   "outputs": [
    {
     "data": {
      "text/plain": [
       "[10, 10, 30]"
      ]
     },
     "execution_count": 116,
     "metadata": {},
     "output_type": "execute_result"
    }
   ],
   "source": [
    "l1[0:12:5]    #sttep indecxing "
   ]
  },
  {
   "cell_type": "code",
   "execution_count": 118,
   "id": "8f66e591-86f6-4300-810d-44a081796c41",
   "metadata": {},
   "outputs": [
    {
     "data": {
      "text/plain": [
       "34"
      ]
     },
     "execution_count": 118,
     "metadata": {},
     "output_type": "execute_result"
    }
   ],
   "source": [
    "l1.index('nit')"
   ]
  },
  {
   "cell_type": "markdown",
   "id": "c658c1ad-666a-4f10-aaeb-17947736ad7f",
   "metadata": {},
   "source": [
    "#22nd april"
   ]
  },
  {
   "cell_type": "code",
   "execution_count": 3,
   "id": "73227255-94e3-4d33-afc6-91c1a39dcbc4",
   "metadata": {},
   "outputs": [],
   "source": [
    "l = []"
   ]
  },
  {
   "cell_type": "code",
   "execution_count": 6,
   "id": "b77c952c-2cd8-4c65-9473-6412eda583eb",
   "metadata": {},
   "outputs": [
    {
     "data": {
      "text/plain": [
       "[]"
      ]
     },
     "execution_count": 6,
     "metadata": {},
     "output_type": "execute_result"
    }
   ],
   "source": [
    "l"
   ]
  },
  {
   "cell_type": "code",
   "execution_count": 8,
   "id": "a37987db-db42-47e2-adae-07df01569e67",
   "metadata": {},
   "outputs": [
    {
     "data": {
      "text/plain": [
       "[10, 20, 30, 40]"
      ]
     },
     "execution_count": 8,
     "metadata": {},
     "output_type": "execute_result"
    }
   ],
   "source": [
    "l.append(10)\n",
    "l.append(20)\n",
    "l.append(30)\n",
    "l.append(40)\n",
    "l"
   ]
  },
  {
   "cell_type": "code",
   "execution_count": 10,
   "id": "bb40386c-c129-4499-8c7d-4c69f7e6b169",
   "metadata": {},
   "outputs": [
    {
     "data": {
      "text/plain": [
       "1"
      ]
     },
     "execution_count": 10,
     "metadata": {},
     "output_type": "execute_result"
    }
   ],
   "source": [
    "l.count(10)"
   ]
  },
  {
   "cell_type": "code",
   "execution_count": 12,
   "id": "68104d44-2ec0-4cb7-983b-2ff9f62ff698",
   "metadata": {},
   "outputs": [],
   "source": [
    "l.remove(20)"
   ]
  },
  {
   "cell_type": "code",
   "execution_count": 14,
   "id": "d8b7228d-3e45-455b-bf61-44b721314f56",
   "metadata": {},
   "outputs": [
    {
     "data": {
      "text/plain": [
       "[10, 30, 40]"
      ]
     },
     "execution_count": 14,
     "metadata": {},
     "output_type": "execute_result"
    }
   ],
   "source": [
    "l\n"
   ]
  },
  {
   "cell_type": "code",
   "execution_count": 16,
   "id": "994793df-52a4-4778-81bc-d4b88cec7d51",
   "metadata": {},
   "outputs": [
    {
     "data": {
      "text/plain": [
       "[10, 20, 30, 10, 20, 30, 40]"
      ]
     },
     "execution_count": 16,
     "metadata": {},
     "output_type": "execute_result"
    }
   ],
   "source": [
    "l = [10,20,30,10,20,30,40]\n",
    "l"
   ]
  },
  {
   "cell_type": "code",
   "execution_count": 18,
   "id": "7c1e5737-5233-4a71-87d2-b88c12b9a7bc",
   "metadata": {},
   "outputs": [],
   "source": [
    "l.remove(10)"
   ]
  },
  {
   "cell_type": "code",
   "execution_count": 20,
   "id": "76ee51cf-adf4-4138-acb4-d4eaf97739af",
   "metadata": {},
   "outputs": [
    {
     "data": {
      "text/plain": [
       "[20, 30, 10, 20, 30, 40]"
      ]
     },
     "execution_count": 20,
     "metadata": {},
     "output_type": "execute_result"
    }
   ],
   "source": [
    "l"
   ]
  },
  {
   "cell_type": "code",
   "execution_count": 22,
   "id": "bff9673d-52a6-4892-a678-b67354d301ee",
   "metadata": {},
   "outputs": [
    {
     "data": {
      "text/plain": [
       "[20, 30, 10, 20, 30, 40]"
      ]
     },
     "execution_count": 22,
     "metadata": {},
     "output_type": "execute_result"
    }
   ],
   "source": [
    "l"
   ]
  },
  {
   "cell_type": "code",
   "execution_count": 24,
   "id": "5323aab7-f3a6-4250-aa48-f2541c0b9e10",
   "metadata": {},
   "outputs": [],
   "source": [
    "l.insert(1,25)   #insert  2 arguments are index and value 1 = index and 25 = value "
   ]
  },
  {
   "cell_type": "code",
   "execution_count": 26,
   "id": "38012b92-d560-4616-8036-e5a776cbe0bc",
   "metadata": {},
   "outputs": [
    {
     "data": {
      "text/plain": [
       "[20, 25, 30, 10, 20, 30, 40]"
      ]
     },
     "execution_count": 26,
     "metadata": {},
     "output_type": "execute_result"
    }
   ],
   "source": [
    "l"
   ]
  },
  {
   "cell_type": "code",
   "execution_count": 36,
   "id": "a5401efc-779a-4c3e-8e72-e898488487a8",
   "metadata": {},
   "outputs": [
    {
     "data": {
      "text/plain": [
       "30"
      ]
     },
     "execution_count": 36,
     "metadata": {},
     "output_type": "execute_result"
    }
   ],
   "source": [
    "l.pop()            #it will remove the last element "
   ]
  },
  {
   "cell_type": "code",
   "execution_count": 38,
   "id": "dd0b9cda-ea7f-4e47-b31c-a6fac8fbc1fa",
   "metadata": {},
   "outputs": [
    {
     "data": {
      "text/plain": [
       "[20, 25, 30, 10, 20]"
      ]
     },
     "execution_count": 38,
     "metadata": {},
     "output_type": "execute_result"
    }
   ],
   "source": [
    "l"
   ]
  },
  {
   "cell_type": "markdown",
   "id": "a352072d-17ab-49df-9b56-5db642a43d92",
   "metadata": {},
   "source": [
    "pop will remove by index wise \n",
    "remove will be remove by element number "
   ]
  },
  {
   "cell_type": "code",
   "execution_count": 40,
   "id": "8dac1ccf-a287-4adb-871a-5be05f352b1b",
   "metadata": {},
   "outputs": [
    {
     "data": {
      "text/plain": [
       "[20, 25, 30, 10, 20]"
      ]
     },
     "execution_count": 40,
     "metadata": {},
     "output_type": "execute_result"
    }
   ],
   "source": [
    "l"
   ]
  },
  {
   "cell_type": "code",
   "execution_count": 42,
   "id": "30cfb6e4-64fc-43f9-97d9-2b82889785c9",
   "metadata": {},
   "outputs": [
    {
     "data": {
      "text/plain": [
       "25"
      ]
     },
     "execution_count": 42,
     "metadata": {},
     "output_type": "execute_result"
    }
   ],
   "source": [
    "l.pop(1)"
   ]
  },
  {
   "cell_type": "code",
   "execution_count": 44,
   "id": "014b8315-f03f-4153-90e2-0bafbb4af0ba",
   "metadata": {},
   "outputs": [
    {
     "data": {
      "text/plain": [
       "[20, 30, 10, 20]"
      ]
     },
     "execution_count": 44,
     "metadata": {},
     "output_type": "execute_result"
    }
   ],
   "source": [
    "l"
   ]
  },
  {
   "cell_type": "code",
   "execution_count": 48,
   "id": "b8558b4f-946d-4db5-8020-0e156cbcbb84",
   "metadata": {},
   "outputs": [],
   "source": [
    "l1 = l.copy()"
   ]
  },
  {
   "cell_type": "code",
   "execution_count": 50,
   "id": "96e988a7-d36d-4e45-b3fa-a55613afdd50",
   "metadata": {},
   "outputs": [
    {
     "data": {
      "text/plain": [
       "[20, 30, 10, 20]"
      ]
     },
     "execution_count": 50,
     "metadata": {},
     "output_type": "execute_result"
    }
   ],
   "source": [
    "l1"
   ]
  },
  {
   "cell_type": "code",
   "execution_count": 70,
   "id": "397f0c47-76dd-4967-a774-284a5618631e",
   "metadata": {},
   "outputs": [
    {
     "data": {
      "text/plain": [
       "[20, 30, 10, 20]"
      ]
     },
     "execution_count": 70,
     "metadata": {},
     "output_type": "execute_result"
    }
   ],
   "source": [
    "l3 = l1.copy()\n",
    "l3"
   ]
  },
  {
   "cell_type": "code",
   "execution_count": 72,
   "id": "bc88060a-0c60-404d-97bb-1294dd14687e",
   "metadata": {},
   "outputs": [],
   "source": [
    "l1.extend(l3)"
   ]
  },
  {
   "cell_type": "code",
   "execution_count": 74,
   "id": "d10138a3-d347-4448-bcf3-c8de63264c01",
   "metadata": {},
   "outputs": [
    {
     "data": {
      "text/plain": [
       "[20, 30, 10, 20, 20, 30, 10, 20]"
      ]
     },
     "execution_count": 74,
     "metadata": {},
     "output_type": "execute_result"
    }
   ],
   "source": [
    "l1"
   ]
  },
  {
   "cell_type": "code",
   "execution_count": 78,
   "id": "87b4f30a-e4a9-4a94-8dbd-1c8debf31599",
   "metadata": {},
   "outputs": [
    {
     "data": {
      "text/plain": [
       "[4, 5, 6]"
      ]
     },
     "execution_count": 78,
     "metadata": {},
     "output_type": "execute_result"
    }
   ],
   "source": [
    "l4 = [4,5,6]\n",
    "l4"
   ]
  },
  {
   "cell_type": "code",
   "execution_count": 80,
   "id": "6bf21b5e-0139-449a-ad4f-5826164a8a2e",
   "metadata": {},
   "outputs": [
    {
     "data": {
      "text/plain": [
       "[1, 2]"
      ]
     },
     "execution_count": 80,
     "metadata": {},
     "output_type": "execute_result"
    }
   ],
   "source": [
    "l7 = [1,2]\n",
    "l7"
   ]
  },
  {
   "cell_type": "code",
   "execution_count": 82,
   "id": "e6ae36e0-f5f9-4f29-8694-bddef2309ed3",
   "metadata": {},
   "outputs": [],
   "source": [
    "l7.extend(l4)       #it will extend the list "
   ]
  },
  {
   "cell_type": "code",
   "execution_count": 84,
   "id": "343118df-cae0-426e-a14b-b532e18fecb6",
   "metadata": {},
   "outputs": [
    {
     "data": {
      "text/plain": [
       "[1, 2, 4, 5, 6]"
      ]
     },
     "execution_count": 84,
     "metadata": {},
     "output_type": "execute_result"
    }
   ],
   "source": [
    "l7"
   ]
  },
  {
   "cell_type": "code",
   "execution_count": 88,
   "id": "46ddd18c-1c20-4ab5-b092-fd5e9501204f",
   "metadata": {},
   "outputs": [],
   "source": [
    "l4.extend(l7)"
   ]
  },
  {
   "cell_type": "code",
   "execution_count": 90,
   "id": "e998e87b-e4a8-4571-ba17-2d64c553e901",
   "metadata": {},
   "outputs": [
    {
     "data": {
      "text/plain": [
       "[4, 5, 6, 1, 2, 4, 5, 6]"
      ]
     },
     "execution_count": 90,
     "metadata": {},
     "output_type": "execute_result"
    }
   ],
   "source": [
    "l4"
   ]
  },
  {
   "cell_type": "code",
   "execution_count": 92,
   "id": "f6549e11-fba9-457b-90b5-62dd31db61f6",
   "metadata": {},
   "outputs": [],
   "source": [
    "l4.reverse()      #it will reverse the list "
   ]
  },
  {
   "cell_type": "code",
   "execution_count": 94,
   "id": "44048e69-bca2-4a77-87f1-36c5570eb16e",
   "metadata": {},
   "outputs": [
    {
     "data": {
      "text/plain": [
       "[6, 5, 4, 2, 1, 6, 5, 4]"
      ]
     },
     "execution_count": 94,
     "metadata": {},
     "output_type": "execute_result"
    }
   ],
   "source": [
    "l4"
   ]
  },
  {
   "cell_type": "code",
   "execution_count": 96,
   "id": "21f29018-ab89-4ca5-b950-8af055553f28",
   "metadata": {},
   "outputs": [
    {
     "data": {
      "text/plain": [
       "[3, 7, 10, 1, 100, 90]"
      ]
     },
     "execution_count": 96,
     "metadata": {},
     "output_type": "execute_result"
    }
   ],
   "source": [
    "l9 = [3,7,10,1,100,90]\n",
    "l9"
   ]
  },
  {
   "cell_type": "code",
   "execution_count": 98,
   "id": "0975a61f-67e8-4dbc-9b49-93ce1c2146bf",
   "metadata": {},
   "outputs": [],
   "source": [
    "l9.sort()"
   ]
  },
  {
   "cell_type": "code",
   "execution_count": 100,
   "id": "811bdec2-13a2-471b-ae44-95c593ef2177",
   "metadata": {},
   "outputs": [
    {
     "data": {
      "text/plain": [
       "[1, 3, 7, 10, 90, 100]"
      ]
     },
     "execution_count": 100,
     "metadata": {},
     "output_type": "execute_result"
    }
   ],
   "source": [
    "l9"
   ]
  },
  {
   "cell_type": "code",
   "execution_count": 102,
   "id": "d679ae52-4907-4f03-a401-876bd06346d1",
   "metadata": {},
   "outputs": [],
   "source": [
    "l9.sort(reverse=True)   #reverse = True  shift tab if we click this (true means descending order) "
   ]
  },
  {
   "cell_type": "code",
   "execution_count": 104,
   "id": "99396929-9ef7-45fc-bfab-4de89e7c1aef",
   "metadata": {},
   "outputs": [
    {
     "data": {
      "text/plain": [
       "[100, 90, 10, 7, 3, 1]"
      ]
     },
     "execution_count": 104,
     "metadata": {},
     "output_type": "execute_result"
    }
   ],
   "source": [
    "l9"
   ]
  },
  {
   "cell_type": "code",
   "execution_count": 106,
   "id": "41a1b960-b604-41f1-a1a3-a3d94cddece6",
   "metadata": {},
   "outputs": [
    {
     "data": {
      "text/plain": [
       "[1, 3, 7, 10, 90, 100]"
      ]
     },
     "execution_count": 106,
     "metadata": {},
     "output_type": "execute_result"
    }
   ],
   "source": [
    "l9.sort(reverse=False)      # (false means ascending order)\n",
    "l9"
   ]
  },
  {
   "cell_type": "code",
   "execution_count": null,
   "id": "db48d2c2-9c52-4b00-bd12-d4c160b87482",
   "metadata": {},
   "outputs": [],
   "source": []
  }
 ],
 "metadata": {
  "kernelspec": {
   "display_name": "Python [conda env:base] *",
   "language": "python",
   "name": "conda-base-py"
  },
  "language_info": {
   "codemirror_mode": {
    "name": "ipython",
    "version": 3
   },
   "file_extension": ".py",
   "mimetype": "text/x-python",
   "name": "python",
   "nbconvert_exporter": "python",
   "pygments_lexer": "ipython3",
   "version": "3.12.7"
  }
 },
 "nbformat": 4,
 "nbformat_minor": 5
}
