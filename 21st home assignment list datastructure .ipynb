{
 "cells": [
  {
   "cell_type": "code",
   "execution_count": 1,
   "id": "f6d1dfef-7c09-481b-bdac-db80ef47b50c",
   "metadata": {},
   "outputs": [
    {
     "data": {
      "text/plain": [
       "[]"
      ]
     },
     "execution_count": 1,
     "metadata": {},
     "output_type": "execute_result"
    }
   ],
   "source": [
    "l = []\n",
    "l"
   ]
  },
  {
   "cell_type": "code",
   "execution_count": 5,
   "id": "e16b078a-6df5-40f3-8e45-dbd855ffe058",
   "metadata": {},
   "outputs": [
    {
     "data": {
      "text/plain": [
       "list"
      ]
     },
     "execution_count": 5,
     "metadata": {},
     "output_type": "execute_result"
    }
   ],
   "source": [
    "type(l)"
   ]
  },
  {
   "cell_type": "code",
   "execution_count": 38,
   "id": "f81092ea-9b03-44a3-9dc3-ea8912c93e6c",
   "metadata": {},
   "outputs": [
    {
     "data": {
      "text/plain": [
       "[10, 10, 10, 20, 30, 40, 10, 20, 30, 40, 10, 10, 20, 20, 30, 40, 50, 10, 10]"
      ]
     },
     "execution_count": 38,
     "metadata": {},
     "output_type": "execute_result"
    }
   ],
   "source": [
    "l.append(10)\n",
    "l"
   ]
  },
  {
   "cell_type": "code",
   "execution_count": 42,
   "id": "e6506a86-47b7-4ad4-a674-d47e0842abd2",
   "metadata": {},
   "outputs": [],
   "source": [
    "l.append(20)\n",
    "l.append(30)\n",
    "l.append(40)\n",
    "l.append(50)"
   ]
  },
  {
   "cell_type": "code",
   "execution_count": 44,
   "id": "393b0c94-3db6-4e22-ba51-62a83f9a5c97",
   "metadata": {},
   "outputs": [
    {
     "data": {
      "text/plain": [
       "[10,\n",
       " 10,\n",
       " 10,\n",
       " 20,\n",
       " 30,\n",
       " 40,\n",
       " 10,\n",
       " 20,\n",
       " 30,\n",
       " 40,\n",
       " 10,\n",
       " 10,\n",
       " 20,\n",
       " 20,\n",
       " 30,\n",
       " 40,\n",
       " 50,\n",
       " 10,\n",
       " 10,\n",
       " 20,\n",
       " 30,\n",
       " 40,\n",
       " 50,\n",
       " 20,\n",
       " 30,\n",
       " 40,\n",
       " 50]"
      ]
     },
     "execution_count": 44,
     "metadata": {},
     "output_type": "execute_result"
    }
   ],
   "source": [
    "l"
   ]
  },
  {
   "cell_type": "code",
   "execution_count": 46,
   "id": "d5f276a4-5769-47c1-8fe9-764fa77fa8a2",
   "metadata": {},
   "outputs": [
    {
     "ename": "TypeError",
     "evalue": "list.append() takes exactly one argument (3 given)",
     "output_type": "error",
     "traceback": [
      "\u001b[1;31m---------------------------------------------------------------------------\u001b[0m",
      "\u001b[1;31mTypeError\u001b[0m                                 Traceback (most recent call last)",
      "Cell \u001b[1;32mIn[46], line 1\u001b[0m\n\u001b[1;32m----> 1\u001b[0m l\u001b[38;5;241m.\u001b[39mappend(\u001b[38;5;241m60\u001b[39m,\u001b[38;5;241m70\u001b[39m,\u001b[38;5;241m80\u001b[39m)\n",
      "\u001b[1;31mTypeError\u001b[0m: list.append() takes exactly one argument (3 given)"
     ]
    }
   ],
   "source": [
    "l.append(60,70,80)   # append will not take multiple numbers "
   ]
  },
  {
   "cell_type": "code",
   "execution_count": 48,
   "id": "0b487aa0-818c-42a7-a14f-f848680a3bef",
   "metadata": {},
   "outputs": [
    {
     "data": {
      "text/plain": [
       "27"
      ]
     },
     "execution_count": 48,
     "metadata": {},
     "output_type": "execute_result"
    }
   ],
   "source": [
    "len(l)"
   ]
  },
  {
   "cell_type": "code",
   "execution_count": 56,
   "id": "c5dac845-93c1-4937-af9e-a68b11ab9a9b",
   "metadata": {},
   "outputs": [],
   "source": [
    "l1 = l.copy()"
   ]
  },
  {
   "cell_type": "code",
   "execution_count": 58,
   "id": "ee6964af-b8bd-4da7-b3b4-e6ceaa142e43",
   "metadata": {},
   "outputs": [
    {
     "data": {
      "text/plain": [
       "[10,\n",
       " 10,\n",
       " 10,\n",
       " 20,\n",
       " 30,\n",
       " 40,\n",
       " 10,\n",
       " 20,\n",
       " 30,\n",
       " 40,\n",
       " 10,\n",
       " 10,\n",
       " 20,\n",
       " 20,\n",
       " 30,\n",
       " 40,\n",
       " 50,\n",
       " 10,\n",
       " 10,\n",
       " 20,\n",
       " 30,\n",
       " 40,\n",
       " 50,\n",
       " 20,\n",
       " 30,\n",
       " 40,\n",
       " 50]"
      ]
     },
     "execution_count": 58,
     "metadata": {},
     "output_type": "execute_result"
    }
   ],
   "source": [
    "l1"
   ]
  },
  {
   "cell_type": "code",
   "execution_count": 60,
   "id": "d5a6f841-e517-43d3-bdc4-95fee4e080b7",
   "metadata": {},
   "outputs": [
    {
     "data": {
      "text/plain": [
       "27"
      ]
     },
     "execution_count": 60,
     "metadata": {},
     "output_type": "execute_result"
    }
   ],
   "source": [
    "len(l1)"
   ]
  },
  {
   "cell_type": "code",
   "execution_count": 62,
   "id": "cb00f86c-ca7e-48f8-8cc0-85664e84146a",
   "metadata": {},
   "outputs": [],
   "source": [
    "l1.append(20)\n",
    "l1.append('nit')\n",
    "l1.append(10.3)\n",
    "l1.append(6+8j)"
   ]
  },
  {
   "cell_type": "code",
   "execution_count": 64,
   "id": "5b73e841-b279-4aeb-a1a7-eeaeb975c4cb",
   "metadata": {},
   "outputs": [
    {
     "data": {
      "text/plain": [
       "[10,\n",
       " 10,\n",
       " 10,\n",
       " 20,\n",
       " 30,\n",
       " 40,\n",
       " 10,\n",
       " 20,\n",
       " 30,\n",
       " 40,\n",
       " 10,\n",
       " 10,\n",
       " 20,\n",
       " 20,\n",
       " 30,\n",
       " 40,\n",
       " 50,\n",
       " 10,\n",
       " 10,\n",
       " 20,\n",
       " 30,\n",
       " 40,\n",
       " 50,\n",
       " 20,\n",
       " 30,\n",
       " 40,\n",
       " 50,\n",
       " 20,\n",
       " 'nit',\n",
       " 10.3,\n",
       " (6+8j)]"
      ]
     },
     "execution_count": 64,
     "metadata": {},
     "output_type": "execute_result"
    }
   ],
   "source": [
    "l1"
   ]
  },
  {
   "cell_type": "code",
   "execution_count": 66,
   "id": "a5b79a74-c6f5-44d6-a0f6-2148329e89fb",
   "metadata": {},
   "outputs": [
    {
     "name": "stdout",
     "output_type": "stream",
     "text": [
      "[10, 10, 10, 20, 30, 40, 10, 20, 30, 40, 10, 10, 20, 20, 30, 40, 50, 10, 10, 20, 30, 40, 50, 20, 30, 40, 50]\n",
      "[10, 10, 10, 20, 30, 40, 10, 20, 30, 40, 10, 10, 20, 20, 30, 40, 50, 10, 10, 20, 30, 40, 50, 20, 30, 40, 50, 20, 'nit', 10.3, (6+8j)]\n"
     ]
    }
   ],
   "source": [
    "print(l)\n",
    "print(l1)"
   ]
  },
  {
   "cell_type": "code",
   "execution_count": 70,
   "id": "a84739b9-f46a-459d-919a-e43addb6463a",
   "metadata": {},
   "outputs": [
    {
     "data": {
      "text/plain": [
       "False"
      ]
     },
     "execution_count": 70,
     "metadata": {},
     "output_type": "execute_result"
    }
   ],
   "source": [
    "l == l1"
   ]
  },
  {
   "cell_type": "code",
   "execution_count": 84,
   "id": "94a94a78-c975-4f53-9fa5-ab003db0388b",
   "metadata": {},
   "outputs": [],
   "source": [
    "l2 = l.copy()"
   ]
  },
  {
   "cell_type": "code",
   "execution_count": 74,
   "id": "5f8e593a-9728-405a-8bb6-48b8ec3072b6",
   "metadata": {},
   "outputs": [
    {
     "data": {
      "text/plain": [
       "[10,\n",
       " 10,\n",
       " 10,\n",
       " 20,\n",
       " 30,\n",
       " 40,\n",
       " 10,\n",
       " 20,\n",
       " 30,\n",
       " 40,\n",
       " 10,\n",
       " 10,\n",
       " 20,\n",
       " 20,\n",
       " 30,\n",
       " 40,\n",
       " 50,\n",
       " 10,\n",
       " 10,\n",
       " 20,\n",
       " 30,\n",
       " 40,\n",
       " 50,\n",
       " 20,\n",
       " 30,\n",
       " 40,\n",
       " 50,\n",
       " 20,\n",
       " 'nit',\n",
       " 10.3,\n",
       " (6+8j)]"
      ]
     },
     "execution_count": 74,
     "metadata": {},
     "output_type": "execute_result"
    }
   ],
   "source": [
    "l2"
   ]
  },
  {
   "cell_type": "code",
   "execution_count": 76,
   "id": "29686a30-09c6-49fc-8863-84863e0dfadf",
   "metadata": {},
   "outputs": [
    {
     "data": {
      "text/plain": [
       "True"
      ]
     },
     "execution_count": 76,
     "metadata": {},
     "output_type": "execute_result"
    }
   ],
   "source": [
    "l1 == l2"
   ]
  },
  {
   "cell_type": "code",
   "execution_count": 78,
   "id": "e30bf66f-082d-447d-915e-99741afdd39c",
   "metadata": {},
   "outputs": [
    {
     "data": {
      "text/plain": [
       "31"
      ]
     },
     "execution_count": 78,
     "metadata": {},
     "output_type": "execute_result"
    }
   ],
   "source": [
    "len(l1)"
   ]
  },
  {
   "cell_type": "code",
   "execution_count": 80,
   "id": "5c3184c6-7936-4ab4-85db-35415a7099db",
   "metadata": {},
   "outputs": [
    {
     "data": {
      "text/plain": [
       "31"
      ]
     },
     "execution_count": 80,
     "metadata": {},
     "output_type": "execute_result"
    }
   ],
   "source": [
    "len(l2)\n"
   ]
  },
  {
   "cell_type": "code",
   "execution_count": 82,
   "id": "9557dd62-7d8b-4744-a1ed-a4f85a0eb63f",
   "metadata": {},
   "outputs": [
    {
     "data": {
      "text/plain": [
       "True"
      ]
     },
     "execution_count": 82,
     "metadata": {},
     "output_type": "execute_result"
    }
   ],
   "source": [
    "l1 == l2"
   ]
  },
  {
   "cell_type": "code",
   "execution_count": 86,
   "id": "59a24a66-2624-4c26-85af-9b562dec58ca",
   "metadata": {},
   "outputs": [
    {
     "name": "stdout",
     "output_type": "stream",
     "text": [
      "[10, 10, 10, 20, 30, 40, 10, 20, 30, 40, 10, 10, 20, 20, 30, 40, 50, 10, 10, 20, 30, 40, 50, 20, 30, 40, 50]\n",
      "[10, 10, 10, 20, 30, 40, 10, 20, 30, 40, 10, 10, 20, 20, 30, 40, 50, 10, 10, 20, 30, 40, 50, 20, 30, 40, 50, 20, 'nit', 10.3, (6+8j)]\n",
      "[10, 10, 10, 20, 30, 40, 10, 20, 30, 40, 10, 10, 20, 20, 30, 40, 50, 10, 10, 20, 30, 40, 50, 20, 30, 40, 50]\n"
     ]
    }
   ],
   "source": [
    "print(l)\n",
    "print(l1)\n",
    "print(l2)"
   ]
  },
  {
   "cell_type": "code",
   "execution_count": 88,
   "id": "97abba1e-b452-47e5-a9ad-10603b0569ed",
   "metadata": {},
   "outputs": [
    {
     "data": {
      "text/plain": [
       "[10,\n",
       " 10,\n",
       " 10,\n",
       " 20,\n",
       " 30,\n",
       " 40,\n",
       " 10,\n",
       " 20,\n",
       " 30,\n",
       " 40,\n",
       " 10,\n",
       " 10,\n",
       " 20,\n",
       " 20,\n",
       " 30,\n",
       " 40,\n",
       " 50,\n",
       " 10,\n",
       " 10,\n",
       " 20,\n",
       " 30,\n",
       " 40,\n",
       " 50,\n",
       " 20,\n",
       " 30,\n",
       " 40,\n",
       " 50]"
      ]
     },
     "execution_count": 88,
     "metadata": {},
     "output_type": "execute_result"
    }
   ],
   "source": [
    "l[:]"
   ]
  },
  {
   "cell_type": "code",
   "execution_count": 90,
   "id": "9938b97a-d1c4-493c-85c8-ad80cfb503dd",
   "metadata": {},
   "outputs": [
    {
     "data": {
      "text/plain": [
       "[10]"
      ]
     },
     "execution_count": 90,
     "metadata": {},
     "output_type": "execute_result"
    }
   ],
   "source": [
    "l[:1]"
   ]
  },
  {
   "cell_type": "code",
   "execution_count": 92,
   "id": "d695d473-94da-44fe-a347-4deabdcff1a3",
   "metadata": {},
   "outputs": [
    {
     "data": {
      "text/plain": [
       "[10, 10]"
      ]
     },
     "execution_count": 92,
     "metadata": {},
     "output_type": "execute_result"
    }
   ],
   "source": [
    "l[:2]"
   ]
  },
  {
   "cell_type": "code",
   "execution_count": 94,
   "id": "e718f4f5-31bc-4db8-8125-3daff7ddb829",
   "metadata": {},
   "outputs": [],
   "source": [
    "l[0] = 100"
   ]
  },
  {
   "cell_type": "code",
   "execution_count": 96,
   "id": "cd999444-0d1e-492b-b9bd-5d70136c20b6",
   "metadata": {},
   "outputs": [
    {
     "data": {
      "text/plain": [
       "[100,\n",
       " 10,\n",
       " 10,\n",
       " 20,\n",
       " 30,\n",
       " 40,\n",
       " 10,\n",
       " 20,\n",
       " 30,\n",
       " 40,\n",
       " 10,\n",
       " 10,\n",
       " 20,\n",
       " 20,\n",
       " 30,\n",
       " 40,\n",
       " 50,\n",
       " 10,\n",
       " 10,\n",
       " 20,\n",
       " 30,\n",
       " 40,\n",
       " 50,\n",
       " 20,\n",
       " 30,\n",
       " 40,\n",
       " 50]"
      ]
     },
     "execution_count": 96,
     "metadata": {},
     "output_type": "execute_result"
    }
   ],
   "source": [
    "l\n"
   ]
  },
  {
   "cell_type": "code",
   "execution_count": 98,
   "id": "789f1066-9bd9-4fa6-892e-7014108e4c3e",
   "metadata": {},
   "outputs": [],
   "source": [
    "l[-1] = 200"
   ]
  },
  {
   "cell_type": "code",
   "execution_count": 100,
   "id": "477d20d5-b0c8-43c3-9b50-8df0cc3e1ffb",
   "metadata": {},
   "outputs": [
    {
     "data": {
      "text/plain": [
       "[100,\n",
       " 10,\n",
       " 10,\n",
       " 20,\n",
       " 30,\n",
       " 40,\n",
       " 10,\n",
       " 20,\n",
       " 30,\n",
       " 40,\n",
       " 10,\n",
       " 10,\n",
       " 20,\n",
       " 20,\n",
       " 30,\n",
       " 40,\n",
       " 50,\n",
       " 10,\n",
       " 10,\n",
       " 20,\n",
       " 30,\n",
       " 40,\n",
       " 50,\n",
       " 20,\n",
       " 30,\n",
       " 40,\n",
       " 200]"
      ]
     },
     "execution_count": 100,
     "metadata": {},
     "output_type": "execute_result"
    }
   ],
   "source": [
    "l\n"
   ]
  },
  {
   "cell_type": "code",
   "execution_count": 102,
   "id": "e21feb0a-1fb9-40c8-8df7-04c8028006cd",
   "metadata": {},
   "outputs": [
    {
     "name": "stdout",
     "output_type": "stream",
     "text": [
      "[100, 10, 10, 20, 30, 40, 10, 20, 30, 40, 10, 10, 20, 20, 30, 40, 50, 10, 10, 20, 30, 40, 50, 20, 30, 40, 200]\n"
     ]
    }
   ],
   "source": [
    "print(l)"
   ]
  },
  {
   "cell_type": "code",
   "execution_count": 104,
   "id": "754a8f5b-a4cc-4786-a58f-b7d2deedb691",
   "metadata": {},
   "outputs": [
    {
     "data": {
      "text/plain": [
       "[30, 40, 10, 20, 30, 40]"
      ]
     },
     "execution_count": 104,
     "metadata": {},
     "output_type": "execute_result"
    }
   ],
   "source": [
    "l[4:10]"
   ]
  },
  {
   "cell_type": "code",
   "execution_count": 108,
   "id": "5aa5e26e-a925-4049-8e4a-b46598480c42",
   "metadata": {},
   "outputs": [
    {
     "ename": "IndexError",
     "evalue": "list index out of range",
     "output_type": "error",
     "traceback": [
      "\u001b[1;31m---------------------------------------------------------------------------\u001b[0m",
      "\u001b[1;31mIndexError\u001b[0m                                Traceback (most recent call last)",
      "Cell \u001b[1;32mIn[108], line 1\u001b[0m\n\u001b[1;32m----> 1\u001b[0m l[\u001b[38;5;241m30\u001b[39m]\n",
      "\u001b[1;31mIndexError\u001b[0m: list index out of range"
     ]
    }
   ],
   "source": [
    "l[30]   #index is out of range "
   ]
  },
  {
   "cell_type": "code",
   "execution_count": 110,
   "id": "83f0e9a8-76af-4947-9ebd-13f85330c9d7",
   "metadata": {},
   "outputs": [
    {
     "data": {
      "text/plain": [
       "[10,\n",
       " 10,\n",
       " 10,\n",
       " 20,\n",
       " 30,\n",
       " 40,\n",
       " 10,\n",
       " 20,\n",
       " 30,\n",
       " 40,\n",
       " 10,\n",
       " 10,\n",
       " 20,\n",
       " 20,\n",
       " 30,\n",
       " 40,\n",
       " 50,\n",
       " 10,\n",
       " 10,\n",
       " 20,\n",
       " 30,\n",
       " 40,\n",
       " 50,\n",
       " 20,\n",
       " 30,\n",
       " 40,\n",
       " 50]"
      ]
     },
     "execution_count": 110,
     "metadata": {},
     "output_type": "execute_result"
    }
   ],
   "source": [
    "l2"
   ]
  },
  {
   "cell_type": "code",
   "execution_count": 112,
   "id": "1262aa92-5f83-43df-8773-b27fecfa1e64",
   "metadata": {},
   "outputs": [],
   "source": [
    "l2.clear()"
   ]
  },
  {
   "cell_type": "code",
   "execution_count": 114,
   "id": "044a0b38-e951-4cf2-8767-a8dc408f2ca9",
   "metadata": {},
   "outputs": [
    {
     "data": {
      "text/plain": [
       "[]"
      ]
     },
     "execution_count": 114,
     "metadata": {},
     "output_type": "execute_result"
    }
   ],
   "source": [
    "l2\n"
   ]
  },
  {
   "cell_type": "code",
   "execution_count": 116,
   "id": "69ff3460-0d28-4e33-8893-81fd63cb3745",
   "metadata": {},
   "outputs": [],
   "source": [
    "del(l2)"
   ]
  },
  {
   "cell_type": "code",
   "execution_count": 118,
   "id": "65a312ee-06ee-444e-8528-72a9cee7411a",
   "metadata": {},
   "outputs": [
    {
     "ename": "NameError",
     "evalue": "name 'l2' is not defined",
     "output_type": "error",
     "traceback": [
      "\u001b[1;31m---------------------------------------------------------------------------\u001b[0m",
      "\u001b[1;31mNameError\u001b[0m                                 Traceback (most recent call last)",
      "Cell \u001b[1;32mIn[118], line 1\u001b[0m\n\u001b[1;32m----> 1\u001b[0m l2\n",
      "\u001b[1;31mNameError\u001b[0m: name 'l2' is not defined"
     ]
    }
   ],
   "source": [
    "l2     #l2 will be deleted "
   ]
  },
  {
   "cell_type": "code",
   "execution_count": 120,
   "id": "169554ca-32bb-4d42-9069-e20b9546c6c7",
   "metadata": {},
   "outputs": [
    {
     "name": "stdout",
     "output_type": "stream",
     "text": [
      "[10, 10, 10, 20, 30, 40, 10, 20, 30, 40, 10, 10, 20, 20, 30, 40, 50, 10, 10, 20, 30, 40, 50, 20, 30, 40, 50, 20, 'nit', 10.3, (6+8j)]\n"
     ]
    }
   ],
   "source": [
    "print(l1)"
   ]
  },
  {
   "cell_type": "code",
   "execution_count": 122,
   "id": "2f93b590-48ff-4aab-a635-9701df941af0",
   "metadata": {},
   "outputs": [
    {
     "data": {
      "text/plain": [
       "[20, 20, 10]"
      ]
     },
     "execution_count": 122,
     "metadata": {},
     "output_type": "execute_result"
    }
   ],
   "source": [
    "l[3:12:4]"
   ]
  },
  {
   "cell_type": "code",
   "execution_count": 124,
   "id": "c280c63d-ae81-4490-9566-0f6f6dcd0833",
   "metadata": {},
   "outputs": [
    {
     "data": {
      "text/plain": [
       "28"
      ]
     },
     "execution_count": 124,
     "metadata": {},
     "output_type": "execute_result"
    }
   ],
   "source": [
    "l1.index('nit')    #index is like i8n above l1 it will search and print the number which l1 is defined"
   ]
  },
  {
   "cell_type": "code",
   "execution_count": 126,
   "id": "59624f55-3c5b-49b9-ac62-a68d16dc0662",
   "metadata": {},
   "outputs": [
    {
     "data": {
      "text/plain": [
       "0"
      ]
     },
     "execution_count": 126,
     "metadata": {},
     "output_type": "execute_result"
    }
   ],
   "source": [
    "l1.index(10)    #where l1 is in 0 th position so the output is 0 "
   ]
  },
  {
   "cell_type": "markdown",
   "id": "9197fb89-36d3-4011-a9b9-d2f6e604f1f4",
   "metadata": {},
   "source": [
    "##### list = append,copy,clear,index    #thesse are we completed \n",
    "l.append()\n",
    "l.copy()\n",
    "l.clear()\n",
    "l.index()"
   ]
  },
  {
   "cell_type": "code",
   "execution_count": 128,
   "id": "3647887c-6ca5-4774-b7c7-0cde64809494",
   "metadata": {},
   "outputs": [
    {
     "name": "stdout",
     "output_type": "stream",
     "text": [
      "2\n"
     ]
    }
   ],
   "source": [
    "x = 5 \n",
    "y = 2\n",
    "print(x // y)"
   ]
  },
  {
   "cell_type": "code",
   "execution_count": 130,
   "id": "0dc3e2f5-064a-4e28-81ac-372fabfcf6b8",
   "metadata": {},
   "outputs": [
    {
     "data": {
      "text/plain": [
       "'hello world'"
      ]
     },
     "execution_count": 130,
     "metadata": {},
     "output_type": "execute_result"
    }
   ],
   "source": [
    "a = 'hello world'\n",
    "a \n"
   ]
  },
  {
   "cell_type": "code",
   "execution_count": 132,
   "id": "3196a563-0539-4ce2-b399-15fff2a408d7",
   "metadata": {},
   "outputs": [
    {
     "data": {
      "text/plain": [
       "'ello'"
      ]
     },
     "execution_count": 132,
     "metadata": {},
     "output_type": "execute_result"
    }
   ],
   "source": [
    "a[1:5]"
   ]
  },
  {
   "cell_type": "code",
   "execution_count": 134,
   "id": "cccb564c-131b-41bb-b1a7-11eb1e12617e",
   "metadata": {},
   "outputs": [
    {
     "data": {
      "text/plain": [
       "'llo'"
      ]
     },
     "execution_count": 134,
     "metadata": {},
     "output_type": "execute_result"
    }
   ],
   "source": [
    "a[2:5]"
   ]
  },
  {
   "cell_type": "code",
   "execution_count": null,
   "id": "cf4b3e30-cfb6-4599-baa0-a914478cf87d",
   "metadata": {},
   "outputs": [],
   "source": []
  }
 ],
 "metadata": {
  "kernelspec": {
   "display_name": "Python [conda env:base] *",
   "language": "python",
   "name": "conda-base-py"
  },
  "language_info": {
   "codemirror_mode": {
    "name": "ipython",
    "version": 3
   },
   "file_extension": ".py",
   "mimetype": "text/x-python",
   "name": "python",
   "nbconvert_exporter": "python",
   "pygments_lexer": "ipython3",
   "version": "3.12.7"
  }
 },
 "nbformat": 4,
 "nbformat_minor": 5
}
