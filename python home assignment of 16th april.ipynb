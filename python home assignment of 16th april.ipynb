{
 "cells": [
  {
   "cell_type": "code",
   "execution_count": 1,
   "id": "c1a9bc4b-42d3-4d08-839e-5193b509b158",
   "metadata": {},
   "outputs": [
    {
     "name": "stdout",
     "output_type": "stream",
     "text": [
      "7\n"
     ]
    }
   ],
   "source": [
    "a = 3         \n",
    "b = 4\n",
    "print(a+b)"
   ]
  },
  {
   "cell_type": "code",
   "execution_count": 5,
   "id": "827d19aa-a72a-4a7d-9841-4a3d5bf2d0bd",
   "metadata": {},
   "outputs": [
    {
     "name": "stdout",
     "output_type": "stream",
     "text": [
      "-1\n"
     ]
    }
   ],
   "source": [
    "a = 3\n",
    "b = 4\n",
    "print(a-b)"
   ]
  },
  {
   "cell_type": "code",
   "execution_count": 7,
   "id": "11c312d9-2ecd-454b-9af8-d79161446260",
   "metadata": {},
   "outputs": [
    {
     "name": "stdout",
     "output_type": "stream",
     "text": [
      "12\n"
     ]
    }
   ],
   "source": [
    "a = 3              \n",
    "b = 4\n",
    "print(a*b)"
   ]
  },
  {
   "cell_type": "code",
   "execution_count": 9,
   "id": "b3fc114d-b5ea-43ed-a121-4966c067c36d",
   "metadata": {},
   "outputs": [
    {
     "name": "stdout",
     "output_type": "stream",
     "text": [
      "81\n"
     ]
    }
   ],
   "source": [
    "a = 3\n",
    "b = 4                 # exponential operator \n",
    "print(a**b)"
   ]
  },
  {
   "cell_type": "code",
   "execution_count": 11,
   "id": "d985b1ee-bd49-4e61-a18e-2ac83e262c5d",
   "metadata": {},
   "outputs": [
    {
     "name": "stdout",
     "output_type": "stream",
     "text": [
      "0.75\n"
     ]
    }
   ],
   "source": [
    "a = 3\n",
    "b = 4\n",
    "print(a/b)"
   ]
  },
  {
   "cell_type": "code",
   "execution_count": 13,
   "id": "f6d45768-946f-4b59-bb78-1123b31bcd6f",
   "metadata": {},
   "outputs": [
    {
     "name": "stdout",
     "output_type": "stream",
     "text": [
      "0\n"
     ]
    }
   ],
   "source": [
    "a = 3                #     Floor divison operator(//)\n",
    "b = 4\n",
    "print(a//b)"
   ]
  },
  {
   "cell_type": "code",
   "execution_count": 15,
   "id": "74151590-3ff8-412e-bf81-b9d4aea8b9ad",
   "metadata": {},
   "outputs": [
    {
     "name": "stdout",
     "output_type": "stream",
     "text": [
      "3\n"
     ]
    }
   ],
   "source": [
    "a = 3           #    Modulous operator\n",
    "b = 4\n",
    "print(a%b)"
   ]
  },
  {
   "cell_type": "code",
   "execution_count": 17,
   "id": "ea2d156c-157b-4b3a-9365-3119f24f4180",
   "metadata": {},
   "outputs": [
    {
     "name": "stdout",
     "output_type": "stream",
     "text": [
      "7\n",
      "<class 'int'>\n"
     ]
    }
   ],
   "source": [
    "a = 3\n",
    "b = 4                 # Data type INT\n",
    "print(a+b)\n",
    "print(type(a+b))"
   ]
  },
  {
   "cell_type": "code",
   "execution_count": 19,
   "id": "1ace0965-1e3f-42d9-8acd-f71e01516299",
   "metadata": {},
   "outputs": [
    {
     "name": "stdout",
     "output_type": "stream",
     "text": [
      "<class 'float'>\n"
     ]
    }
   ],
   "source": [
    "a = 7.9\n",
    "print(type(a))          # Float datatype"
   ]
  },
  {
   "cell_type": "code",
   "execution_count": 25,
   "id": "5ae9c539-28ac-41be-8e5e-6e32c0b504d5",
   "metadata": {},
   "outputs": [
    {
     "name": "stdout",
     "output_type": "stream",
     "text": [
      "<class 'str'>\n"
     ]
    }
   ],
   "source": [
    "a = \"hello world\"       #string datatype\n",
    "print(type(a))"
   ]
  },
  {
   "cell_type": "code",
   "execution_count": 37,
   "id": "3d7a3ee7-ccb7-4bcf-b4d6-70c615e07461",
   "metadata": {},
   "outputs": [
    {
     "name": "stdout",
     "output_type": "stream",
     "text": [
      "<class 'complex'>\n"
     ]
    }
   ],
   "source": [
    "print(type(1+3j))         #complex datatype"
   ]
  },
  {
   "cell_type": "code",
   "execution_count": 39,
   "id": "e08d3fe7-51b9-4353-94a9-93bcb0f4f77c",
   "metadata": {},
   "outputs": [
    {
     "name": "stdout",
     "output_type": "stream",
     "text": [
      "<class 'bool'>\n"
     ]
    }
   ],
   "source": [
    " print(type(3 == 3))      #boolean datatype"
   ]
  },
  {
   "cell_type": "code",
   "execution_count": 41,
   "id": "87c0b383-8538-4314-861c-222a9a19648c",
   "metadata": {},
   "outputs": [
    {
     "name": "stdout",
     "output_type": "stream",
     "text": [
      "<class 'bool'>\n"
     ]
    }
   ],
   "source": [
    "print(type( 3 >= 4))        #boolean datatype"
   ]
  },
  {
   "cell_type": "code",
   "execution_count": 57,
   "id": "1b3b5d24-2c1a-4cbb-b1ae-07d7827e0554",
   "metadata": {},
   "outputs": [
    {
     "name": "stdout",
     "output_type": "stream",
     "text": [
      "<class 'tuple'>\n"
     ]
    }
   ],
   "source": [
    "print(type((3.5,4.6,9.0,2.3)))      #tuple datatype"
   ]
  },
  {
   "cell_type": "code",
   "execution_count": 55,
   "id": "50316d7c-3310-4682-b330-ac8031d9b6f7",
   "metadata": {},
   "outputs": [
    {
     "name": "stdout",
     "output_type": "stream",
     "text": [
      "<class 'set'>\n"
     ]
    }
   ],
   "source": [
    "print(type({3.5,4.6,5.7,5.6}))       #set datatype     (in these set datatype {} thses flower bracketts will be confirm)"
   ]
  },
  {
   "cell_type": "code",
   "execution_count": 59,
   "id": "45f90182-e91e-4e30-9ef5-32489716d4e9",
   "metadata": {},
   "outputs": [
    {
     "name": "stdout",
     "output_type": "stream",
     "text": [
      "<class 'bool'>\n"
     ]
    }
   ],
   "source": [
    "print(type( 3 <= 4))        #boolean datatype"
   ]
  },
  {
   "cell_type": "code",
   "execution_count": 73,
   "id": "ba0099a4-b322-41ae-bbc5-9c37a6b2539e",
   "metadata": {},
   "outputs": [
    {
     "name": "stdout",
     "output_type": "stream",
     "text": [
      "<class 'complex'>\n"
     ]
    }
   ],
   "source": [
    "print(type(1+2j))         #complex datatype    (j will be the confirm in the complex datatype)"
   ]
  },
  {
   "cell_type": "code",
   "execution_count": 75,
   "id": "3cd27206-7e34-40ea-8e78-fefd7ca2101f",
   "metadata": {},
   "outputs": [
    {
     "name": "stdout",
     "output_type": "stream",
     "text": [
      "<class 'list'>\n"
     ]
    }
   ],
   "source": [
    "print(type([1,2,3,4,5]))      #list datatype   #in the list datatype [] thses brackets will be confirm "
   ]
  },
  {
   "cell_type": "code",
   "execution_count": 79,
   "id": "df0c5486-6107-4bb3-971e-f85da2f09104",
   "metadata": {},
   "outputs": [
    {
     "name": "stdout",
     "output_type": "stream",
     "text": [
      "<class 'str'>\n"
     ]
    }
   ],
   "source": [
    "print(type('name;akshith'))          #in thses string we can use ::;; these symbols also"
   ]
  },
  {
   "cell_type": "code",
   "execution_count": 85,
   "id": "b96848ef-e470-4ca5-a7ac-fc342b5dbad2",
   "metadata": {},
   "outputs": [
    {
     "name": "stdout",
     "output_type": "stream",
     "text": [
      "<class 'dict'>\n"
     ]
    }
   ],
   "source": [
    "print(type(({'name':'akshith'})))     #in thses dictionary datatype : only thses symbol were used with the flower brackets {} with the 3 normal brackets "
   ]
  },
  {
   "cell_type": "code",
   "execution_count": 87,
   "id": "238563cc-d2ae-4d5d-9217-44ea2c2d23ad",
   "metadata": {},
   "outputs": [
    {
     "name": "stdout",
     "output_type": "stream",
     "text": [
      "<class 'set'>\n"
     ]
    }
   ],
   "source": [
    "print(type({1,2,3,4}))"
   ]
  },
  {
   "cell_type": "code",
   "execution_count": 91,
   "id": "d78bf7cb-818f-47fd-886f-315eebf6987c",
   "metadata": {},
   "outputs": [
    {
     "name": "stdout",
     "output_type": "stream",
     "text": [
      "<class 'str'>\n"
     ]
    }
   ],
   "source": [
    "print(type('p'))    # string is in single character or bunch of texts "
   ]
  },
  {
   "cell_type": "code",
   "execution_count": 95,
   "id": "b2fd67d8-0ef6-4012-a9c4-22c5550527aa",
   "metadata": {},
   "outputs": [
    {
     "name": "stdout",
     "output_type": "stream",
     "text": [
      "p\n"
     ]
    }
   ],
   "source": [
    "letter = 'p'\n",
    "print(letter)"
   ]
  },
  {
   "cell_type": "code",
   "execution_count": 97,
   "id": "7efa548f-021b-4dfd-9b4b-d20d0f03afb9",
   "metadata": {},
   "outputs": [
    {
     "name": "stdout",
     "output_type": "stream",
     "text": [
      "1\n"
     ]
    }
   ],
   "source": [
    "print(len(letter))     #len means length of the letter"
   ]
  },
  {
   "cell_type": "code",
   "execution_count": 99,
   "id": "3c102e9a-83fe-4ea9-b30f-b4af3dba34de",
   "metadata": {},
   "outputs": [
    {
     "name": "stdout",
     "output_type": "stream",
     "text": [
      "hello world\n"
     ]
    }
   ],
   "source": [
    "first = 'hello world'\n",
    "print(first)"
   ]
  },
  {
   "cell_type": "code",
   "execution_count": 101,
   "id": "dedeee37-a5dd-4f8b-b7ef-baa5068f3a47",
   "metadata": {},
   "outputs": [
    {
     "name": "stdout",
     "output_type": "stream",
     "text": [
      "hello world\n",
      "<class 'str'>\n"
     ]
    }
   ],
   "source": [
    "first = 'hello world'\n",
    "print(first)\n",
    "print(type(first))"
   ]
  },
  {
   "cell_type": "code",
   "execution_count": 103,
   "id": "5abd0f85-af50-4807-bb43-53a485e6d8e0",
   "metadata": {},
   "outputs": [
    {
     "name": "stdout",
     "output_type": "stream",
     "text": [
      "hello world\n",
      "11\n"
     ]
    }
   ],
   "source": [
    "first = 'hello world'     #in the output length of helloworld progvram is 11 because python always strt with the 0,1,2,infinity\n",
    "print(first)\n",
    "print(len(first))"
   ]
  },
  {
   "cell_type": "code",
   "execution_count": 109,
   "id": "e46e8cab-8ee7-4d1f-b7c9-61c248ca27e4",
   "metadata": {},
   "outputs": [
    {
     "name": "stdout",
     "output_type": "stream",
     "text": [
      "I hope you are enjoying 30 days of python challenge\n"
     ]
    }
   ],
   "source": [
    "sentence = \"I hope you are enjoying 30 days of python challenge\"\n",
    "print(sentence)\n"
   ]
  },
  {
   "cell_type": "code",
   "execution_count": 129,
   "id": "5ea41566-06e2-47ce-93b8-e6cd65d5d1d0",
   "metadata": {},
   "outputs": [
    {
     "name": "stdout",
     "output_type": "stream",
     "text": [
      "myself ! im akshith from cse-aiml,\n",
      "im currently pursuing btech in the snist \n",
      "i have good knowledge about python,sql.\n"
     ]
    }
   ],
   "source": [
    "abouturself = '''myself ! im akshith from cse-aiml,   #if we write 2 0r above lines of code then we ''' codes (3 codes)\n",
    "im currently pursuing btech in the snist \n",
    "i have good knowledge about python,sql.'''\n",
    "print(abouturself )\n",
    "                                                      "
   ]
  },
  {
   "cell_type": "code",
   "execution_count": 135,
   "id": "bd37046b-6a9b-40ae-bf08-f73e3754c152",
   "metadata": {},
   "outputs": [
    {
     "name": "stdout",
     "output_type": "stream",
     "text": [
      "myself ! im akshith from cse-aiml,\n",
      "im currently pursuing btech in the snist.\n"
     ]
    }
   ],
   "source": [
    "abouturself = '''myself ! im akshith from cse-aiml,\n",
    "im currently pursuing btech in the snist.'''\n",
    "print(abouturself )\n"
   ]
  },
  {
   "cell_type": "code",
   "execution_count": 141,
   "id": "95f8d4d3-d9ca-4170-bc63-56ec88a08e33",
   "metadata": {},
   "outputs": [
    {
     "name": "stdout",
     "output_type": "stream",
     "text": [
      "akshith teja mogili\n"
     ]
    }
   ],
   "source": [
    "first_name = \"akshith teja\"      # in these code ' ' these refers to the space of the sentence \n",
    "last_name = \"mogili\"\n",
    "full_name = first_name +' '+ last_name\n",
    "print(full_name)"
   ]
  },
  {
   "cell_type": "code",
   "execution_count": 143,
   "id": "6dfaf62b-82c8-4270-88b7-932447dd0b50",
   "metadata": {},
   "outputs": [
    {
     "name": "stdout",
     "output_type": "stream",
     "text": [
      "19\n"
     ]
    }
   ],
   "source": [
    "print(len(full_name))"
   ]
  },
  {
   "cell_type": "code",
   "execution_count": 145,
   "id": "e64aecfd-3671-45fb-8b2c-24c913a3d4a4",
   "metadata": {},
   "outputs": [
    {
     "name": "stdout",
     "output_type": "stream",
     "text": [
      "6\n"
     ]
    }
   ],
   "source": [
    "print(len(last_name))"
   ]
  },
  {
   "cell_type": "code",
   "execution_count": 147,
   "id": "1a1c2a4b-de18-452c-a27f-a9ea06d641be",
   "metadata": {},
   "outputs": [
    {
     "name": "stdout",
     "output_type": "stream",
     "text": [
      "12\n"
     ]
    }
   ],
   "source": [
    "print(len(first_name))"
   ]
  },
  {
   "cell_type": "code",
   "execution_count": 164,
   "id": "aa89cbdb-d466-4f00-ac04-dea71422b9ad",
   "metadata": {},
   "outputs": [
    {
     "name": "stdout",
     "output_type": "stream",
     "text": [
      "False\n"
     ]
    }
   ],
   "source": [
    "print(len(full_name) < len(last_name))         #true or false about the integer given above length of the integer "
   ]
  },
  {
   "cell_type": "code",
   "execution_count": 172,
   "id": "264d90f8-bdcd-49b5-95f2-f4c89a318fd5",
   "metadata": {},
   "outputs": [
    {
     "name": "stdout",
     "output_type": "stream",
     "text": [
      "False\n"
     ]
    }
   ],
   "source": [
    "print(len(full_name) == len(last_name))"
   ]
  },
  {
   "cell_type": "code",
   "execution_count": 186,
   "id": "f687f508-784b-4bf2-ba2f-970a9c810443",
   "metadata": {},
   "outputs": [
    {
     "name": "stdout",
     "output_type": "stream",
     "text": [
      "p\n"
     ]
    }
   ],
   "source": [
    "language = \"python\"\n",
    "a,b,c,d,e,f= language       #print each value \n",
    "print(a)"
   ]
  },
  {
   "cell_type": "code",
   "execution_count": 188,
   "id": "f04267bf-f3c3-4cee-b14b-a1778ff196db",
   "metadata": {},
   "outputs": [
    {
     "name": "stdout",
     "output_type": "stream",
     "text": [
      "y\n"
     ]
    }
   ],
   "source": [
    "print(b)"
   ]
  },
  {
   "cell_type": "code",
   "execution_count": 190,
   "id": "905c2bc7-096d-4d7a-9f6f-85630c0cfc4d",
   "metadata": {},
   "outputs": [
    {
     "name": "stdout",
     "output_type": "stream",
     "text": [
      "n\n"
     ]
    }
   ],
   "source": [
    "print(f)"
   ]
  },
  {
   "cell_type": "code",
   "execution_count": 198,
   "id": "09034a21-140e-45fa-8001-64fed6e046f1",
   "metadata": {},
   "outputs": [
    {
     "name": "stdout",
     "output_type": "stream",
     "text": [
      "p\n"
     ]
    }
   ],
   "source": [
    "lanuguage = \"python\"\n",
    "first_letter = language[0]      # in thses code 0 means first letter of the python \n",
    "print(first_letter)"
   ]
  },
  {
   "cell_type": "code",
   "execution_count": 200,
   "id": "301a1183-fceb-4c39-9201-a5ec2167a152",
   "metadata": {},
   "outputs": [
    {
     "name": "stdout",
     "output_type": "stream",
     "text": [
      "y\n"
     ]
    }
   ],
   "source": [
    "lanuguage = \"python\"\n",
    "first_letter = language[1]\n",
    "print(first_letter)"
   ]
  },
  {
   "cell_type": "code",
   "execution_count": 202,
   "id": "1d41c39d-d00e-4b9a-817d-a279ea7efe06",
   "metadata": {},
   "outputs": [
    {
     "name": "stdout",
     "output_type": "stream",
     "text": [
      "n\n"
     ]
    }
   ],
   "source": [
    "lanuguage = \"python\"\n",
    "first_letter = language[5]\n",
    "print(first_letter)"
   ]
  },
  {
   "cell_type": "code",
   "execution_count": 215,
   "id": "93667ddc-a3c2-4cc7-99ac-ac2576a63272",
   "metadata": {},
   "outputs": [
    {
     "name": "stdout",
     "output_type": "stream",
     "text": [
      "5\n"
     ]
    }
   ],
   "source": [
    "last_index = len(language)-1\n",
    "last_letter = last_index\n",
    "print(last_letter)"
   ]
  },
  {
   "cell_type": "code",
   "execution_count": 239,
   "id": "a7c4911a-f281-4cfa-8026-e34fca1eb17f",
   "metadata": {},
   "outputs": [
    {
     "name": "stdout",
     "output_type": "stream",
     "text": [
      "5\n"
     ]
    }
   ],
   "source": [
    "third_index = len(language)-1\n",
    "third_letter = third_index\n",
    "print(third_index)"
   ]
  },
  {
   "cell_type": "code",
   "execution_count": 237,
   "id": "41785ec6-b0cd-4d04-8662-c1016a73c779",
   "metadata": {},
   "outputs": [
    {
     "name": "stdout",
     "output_type": "stream",
     "text": [
      "n\n"
     ]
    }
   ],
   "source": [
    "third_index = len(language) - 1\n",
    "third_letter = language[third_index]\n",
    "print(third_letter)"
   ]
  },
  {
   "cell_type": "code",
   "execution_count": 241,
   "id": "7c0c3e57-9644-46ca-b999-3bf34420ab07",
   "metadata": {},
   "outputs": [
    {
     "data": {
      "text/plain": [
       "'python'"
      ]
     },
     "execution_count": 241,
     "metadata": {},
     "output_type": "execute_result"
    }
   ],
   "source": [
    "language"
   ]
  },
  {
   "cell_type": "code",
   "execution_count": 243,
   "id": "08b3d398-7890-4309-aff8-58e347d5cf7b",
   "metadata": {},
   "outputs": [
    {
     "name": "stdout",
     "output_type": "stream",
     "text": [
      "-1\n"
     ]
    }
   ],
   "source": [
    "print(-1)"
   ]
  },
  {
   "cell_type": "code",
   "execution_count": 247,
   "id": "9a586656-c183-42f0-afd7-628f6a63e672",
   "metadata": {},
   "outputs": [
    {
     "name": "stdout",
     "output_type": "stream",
     "text": [
      "n\n"
     ]
    }
   ],
   "source": [
    "last_letter = language[-1]\n",
    "print(last_letter)"
   ]
  },
  {
   "cell_type": "code",
   "execution_count": 249,
   "id": "cc32b5eb-a808-43f3-b00a-64be5f1251cd",
   "metadata": {},
   "outputs": [
    {
     "name": "stdout",
     "output_type": "stream",
     "text": [
      "o\n"
     ]
    }
   ],
   "source": [
    "last_letter = language[-2]\n",
    "print(last_letter)"
   ]
  },
  {
   "cell_type": "code",
   "execution_count": 251,
   "id": "34502201-404a-412a-8b8b-5bf265776243",
   "metadata": {},
   "outputs": [
    {
     "name": "stdout",
     "output_type": "stream",
     "text": [
      "pyt\n"
     ]
    }
   ],
   "source": [
    "first_three = language[0:3]\n",
    "print(first_three)"
   ]
  },
  {
   "cell_type": "code",
   "execution_count": 253,
   "id": "da84f0ce-a986-456d-b6d2-c186bec2fd7f",
   "metadata": {},
   "outputs": [
    {
     "name": "stdout",
     "output_type": "stream",
     "text": [
      "hon\n"
     ]
    }
   ],
   "source": [
    "last_three = language[3:6]\n",
    "print(last_three)"
   ]
  },
  {
   "cell_type": "code",
   "execution_count": 255,
   "id": "3ebb1d2c-7b7e-4cb4-a36c-fac8ac0c1fa7",
   "metadata": {},
   "outputs": [
    {
     "name": "stdout",
     "output_type": "stream",
     "text": [
      "I hope every one enjoying the python challenge.\n",
      "Do you ?\n"
     ]
    }
   ],
   "source": [
    "print('I hope every one enjoying the python challenge.\\nDo you ?') # line break\n"
   ]
  },
  {
   "cell_type": "code",
   "execution_count": 257,
   "id": "ffa74a5a-f106-4de5-a646-b06c58d3d0ef",
   "metadata": {},
   "outputs": [
    {
     "name": "stdout",
     "output_type": "stream",
     "text": [
      "my self akshith im currently a wrking proffesional.\n",
      " what you do man?\n"
     ]
    }
   ],
   "source": [
    "print('my self akshith im currently a wrking proffesional.\\n what you do man?')     #    \\n line break \n"
   ]
  },
  {
   "cell_type": "code",
   "execution_count": 259,
   "id": "184c7e99-5b05-49b0-8b0f-13227a44def1",
   "metadata": {},
   "outputs": [
    {
     "name": "stdout",
     "output_type": "stream",
     "text": [
      "Days\tTopics\tExercises\n"
     ]
    }
   ],
   "source": [
    "print('Days\\tTopics\\tExercises')\n"
   ]
  },
  {
   "cell_type": "code",
   "execution_count": 263,
   "id": "2830fcba-e51f-4a7f-a4a4-a26e771694e3",
   "metadata": {},
   "outputs": [
    {
     "name": "stdout",
     "output_type": "stream",
     "text": [
      "cricket\n",
      "volleyball\n",
      "football\n"
     ]
    }
   ],
   "source": [
    "print('cricket\\nvolleyball\\nfootball')"
   ]
  },
  {
   "cell_type": "code",
   "execution_count": 275,
   "id": "0b313cc3-3376-4029-a484-718fc375b321",
   "metadata": {},
   "outputs": [
    {
     "name": "stdout",
     "output_type": "stream",
     "text": [
      "cricket\t   volleyball\t   footbal\n"
     ]
    }
   ],
   "source": [
    "print('cricket\\t   volleyball\\t   footbal')      #   \\t print the values in the side by side "
   ]
  },
  {
   "cell_type": "code",
   "execution_count": 287,
   "id": "ee3309aa-fd9b-474a-9673-76a51afb4e41",
   "metadata": {},
   "outputs": [
    {
     "name": "stdout",
     "output_type": "stream",
     "text": [
      "Thirty days of python\n"
     ]
    }
   ],
   "source": [
    "challenge = 'thirty days of python'    \n",
    "print(challenge.capitalize())\n",
    "                                            # 'Thirty days of python' thsese capitalie usefull for capital letters of the startimng letter \n",
    "\n"
   ]
  },
  {
   "cell_type": "code",
   "execution_count": 295,
   "id": "f86176e5-b1e4-46e7-88c6-b7fdd95dd47b",
   "metadata": {},
   "outputs": [
    {
     "name": "stdout",
     "output_type": "stream",
     "text": [
      "3\n"
     ]
    }
   ],
   "source": [
    "print(challenge.count('y'))       #repeating like count of the variable \n"
   ]
  },
  {
   "cell_type": "code",
   "execution_count": 297,
   "id": "3f3ed162-cabc-4ef6-87a2-562e3353287e",
   "metadata": {},
   "outputs": [
    {
     "name": "stdout",
     "output_type": "stream",
     "text": [
      "1\n"
     ]
    }
   ],
   "source": [
    "print(challenge.count('r'))"
   ]
  },
  {
   "cell_type": "code",
   "execution_count": 301,
   "id": "b66f57f1-ecfb-4b53-acde-637006b43d5d",
   "metadata": {},
   "outputs": [
    {
     "name": "stdout",
     "output_type": "stream",
     "text": [
      "False\n"
     ]
    }
   ],
   "source": [
    "print(challenge.startswith('on'))        #start and ends with also defined "
   ]
  },
  {
   "cell_type": "code",
   "execution_count": 303,
   "id": "f06760d9-2805-4e69-ac2b-dce7f2ef1bc3",
   "metadata": {},
   "outputs": [
    {
     "name": "stdout",
     "output_type": "stream",
     "text": [
      "True\n"
     ]
    }
   ],
   "source": [
    "print(challenge.endswith('on'))        #start and ends with also defined "
   ]
  },
  {
   "cell_type": "code",
   "execution_count": null,
   "id": "fd15e0c6-c91b-4a03-9c4a-5ca8d367558b",
   "metadata": {},
   "outputs": [],
   "source": []
  }
 ],
 "metadata": {
  "kernelspec": {
   "display_name": "Python [conda env:base] *",
   "language": "python",
   "name": "conda-base-py"
  },
  "language_info": {
   "codemirror_mode": {
    "name": "ipython",
    "version": 3
   },
   "file_extension": ".py",
   "mimetype": "text/x-python",
   "name": "python",
   "nbconvert_exporter": "python",
   "pygments_lexer": "ipython3",
   "version": "3.12.7"
  }
 },
 "nbformat": 4,
 "nbformat_minor": 5
}
