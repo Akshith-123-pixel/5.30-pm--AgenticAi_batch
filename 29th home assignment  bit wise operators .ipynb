{
 "cells": [
  {
   "cell_type": "code",
   "execution_count": 1,
   "id": "3429e911-591b-4961-bdfc-e9020098c579",
   "metadata": {},
   "outputs": [
    {
     "name": "stdout",
     "output_type": "stream",
     "text": [
      "Welcome to Python 3.12's help utility! If this is your first time using\n",
      "Python, you should definitely check out the tutorial at\n",
      "https://docs.python.org/3.12/tutorial/.\n",
      "\n",
      "Enter the name of any module, keyword, or topic to get help on writing\n",
      "Python programs and using Python modules.  To get a list of available\n",
      "modules, keywords, symbols, or topics, enter \"modules\", \"keywords\",\n",
      "\"symbols\", or \"topics\".\n",
      "\n",
      "Each module also comes with a one-line summary of what it does; to list\n",
      "the modules whose name or summary contain a given string such as \"spam\",\n",
      "enter \"modules spam\".\n",
      "\n",
      "To quit this help utility and return to the interpreter,\n",
      "enter \"q\" or \"quit\".\n",
      "\n"
     ]
    },
    {
     "name": "stdin",
     "output_type": "stream",
     "text": [
      "help>  list\n"
     ]
    },
    {
     "name": "stdout",
     "output_type": "stream",
     "text": [
      "Help on class list in module builtins:\n",
      "\n",
      "class list(object)\n",
      " |  list(iterable=(), /)\n",
      " |\n",
      " |  Built-in mutable sequence.\n",
      " |\n",
      " |  If no argument is given, the constructor creates a new empty list.\n",
      " |  The argument must be an iterable if specified.\n",
      " |\n",
      " |  Methods defined here:\n",
      " |\n",
      " |  __add__(self, value, /)\n",
      " |      Return self+value.\n",
      " |\n",
      " |  __contains__(self, key, /)\n",
      " |      Return bool(key in self).\n",
      " |\n",
      " |  __delitem__(self, key, /)\n",
      " |      Delete self[key].\n",
      " |\n",
      " |  __eq__(self, value, /)\n",
      " |      Return self==value.\n",
      " |\n",
      " |  __ge__(self, value, /)\n",
      " |      Return self>=value.\n",
      " |\n",
      " |  __getattribute__(self, name, /)\n",
      " |      Return getattr(self, name).\n",
      " |\n",
      " |  __getitem__(self, index, /)\n",
      " |      Return self[index].\n",
      " |\n",
      " |  __gt__(self, value, /)\n",
      " |      Return self>value.\n",
      " |\n",
      " |  __iadd__(self, value, /)\n",
      " |      Implement self+=value.\n",
      " |\n",
      " |  __imul__(self, value, /)\n",
      " |      Implement self*=value.\n",
      " |\n",
      " |  __init__(self, /, *args, **kwargs)\n",
      " |      Initialize self.  See help(type(self)) for accurate signature.\n",
      " |\n",
      " |  __iter__(self, /)\n",
      " |      Implement iter(self).\n",
      " |\n",
      " |  __le__(self, value, /)\n",
      " |      Return self<=value.\n",
      " |\n",
      " |  __len__(self, /)\n",
      " |      Return len(self).\n",
      " |\n",
      " |  __lt__(self, value, /)\n",
      " |      Return self<value.\n",
      " |\n",
      " |  __mul__(self, value, /)\n",
      " |      Return self*value.\n",
      " |\n",
      " |  __ne__(self, value, /)\n",
      " |      Return self!=value.\n",
      " |\n",
      " |  __repr__(self, /)\n",
      " |      Return repr(self).\n",
      " |\n",
      " |  __reversed__(self, /)\n",
      " |      Return a reverse iterator over the list.\n",
      " |\n",
      " |  __rmul__(self, value, /)\n",
      " |      Return value*self.\n",
      " |\n",
      " |  __setitem__(self, key, value, /)\n",
      " |      Set self[key] to value.\n",
      " |\n",
      " |  __sizeof__(self, /)\n",
      " |      Return the size of the list in memory, in bytes.\n",
      " |\n",
      " |  append(self, object, /)\n",
      " |      Append object to the end of the list.\n",
      " |\n",
      " |  clear(self, /)\n",
      " |      Remove all items from list.\n",
      " |\n",
      " |  copy(self, /)\n",
      " |      Return a shallow copy of the list.\n",
      " |\n",
      " |  count(self, value, /)\n",
      " |      Return number of occurrences of value.\n",
      " |\n",
      " |  extend(self, iterable, /)\n",
      " |      Extend list by appending elements from the iterable.\n",
      " |\n",
      " |  index(self, value, start=0, stop=9223372036854775807, /)\n",
      " |      Return first index of value.\n",
      " |\n",
      " |      Raises ValueError if the value is not present.\n",
      " |\n",
      " |  insert(self, index, object, /)\n",
      " |      Insert object before index.\n",
      " |\n",
      " |  pop(self, index=-1, /)\n",
      " |      Remove and return item at index (default last).\n",
      " |\n",
      " |      Raises IndexError if list is empty or index is out of range.\n",
      " |\n",
      " |  remove(self, value, /)\n",
      " |      Remove first occurrence of value.\n",
      " |\n",
      " |      Raises ValueError if the value is not present.\n",
      " |\n",
      " |  reverse(self, /)\n",
      " |      Reverse *IN PLACE*.\n",
      " |\n",
      " |  sort(self, /, *, key=None, reverse=False)\n",
      " |      Sort the list in ascending order and return None.\n",
      " |\n",
      " |      The sort is in-place (i.e. the list itself is modified) and stable (i.e. the\n",
      " |      order of two equal elements is maintained).\n",
      " |\n",
      " |      If a key function is given, apply it once to each list item and sort them,\n",
      " |      ascending or descending, according to their function values.\n",
      " |\n",
      " |      The reverse flag can be set to sort in descending order.\n",
      " |\n",
      " |  ----------------------------------------------------------------------\n",
      " |  Class methods defined here:\n",
      " |\n",
      " |  __class_getitem__(...)\n",
      " |      See PEP 585\n",
      " |\n",
      " |  ----------------------------------------------------------------------\n",
      " |  Static methods defined here:\n",
      " |\n",
      " |  __new__(*args, **kwargs)\n",
      " |      Create and return a new object.  See help(type) for accurate signature.\n",
      " |\n",
      " |  ----------------------------------------------------------------------\n",
      " |  Data and other attributes defined here:\n",
      " |\n",
      " |  __hash__ = None\n",
      "\n"
     ]
    },
    {
     "name": "stdin",
     "output_type": "stream",
     "text": [
      "help>  \n"
     ]
    },
    {
     "name": "stdout",
     "output_type": "stream",
     "text": [
      "\n",
      "You are now leaving help and returning to the Python interpreter.\n",
      "If you want to ask for help on a particular object directly from the\n",
      "interpreter, you can type \"help(object)\".  Executing \"help('string')\"\n",
      "has the same effect as typing a particular string at the help> prompt.\n"
     ]
    }
   ],
   "source": [
    "help()   # this is bulit in fuction help functio9n"
   ]
  },
  {
   "cell_type": "code",
   "execution_count": 3,
   "id": "36de25dd-f566-4c7b-848c-c2a32b6882b0",
   "metadata": {},
   "outputs": [
    {
     "name": "stdout",
     "output_type": "stream",
     "text": [
      "Welcome to Python 3.12's help utility! If this is your first time using\n",
      "Python, you should definitely check out the tutorial at\n",
      "https://docs.python.org/3.12/tutorial/.\n",
      "\n",
      "Enter the name of any module, keyword, or topic to get help on writing\n",
      "Python programs and using Python modules.  To get a list of available\n",
      "modules, keywords, symbols, or topics, enter \"modules\", \"keywords\",\n",
      "\"symbols\", or \"topics\".\n",
      "\n",
      "Each module also comes with a one-line summary of what it does; to list\n",
      "the modules whose name or summary contain a given string such as \"spam\",\n",
      "enter \"modules spam\".\n",
      "\n",
      "To quit this help utility and return to the interpreter,\n",
      "enter \"q\" or \"quit\".\n",
      "\n"
     ]
    },
    {
     "name": "stdin",
     "output_type": "stream",
     "text": [
      "help>  q\n"
     ]
    },
    {
     "name": "stdout",
     "output_type": "stream",
     "text": [
      "\n",
      "You are now leaving help and returning to the Python interpreter.\n",
      "If you want to ask for help on a particular object directly from the\n",
      "interpreter, you can type \"help(object)\".  Executing \"help('string')\"\n",
      "has the same effect as typing a particular string at the help> prompt.\n"
     ]
    }
   ],
   "source": [
    "help()"
   ]
  },
  {
   "cell_type": "code",
   "execution_count": 5,
   "id": "22ef3a99-1555-44f0-8fd2-1342617a4deb",
   "metadata": {},
   "outputs": [
    {
     "data": {
      "text/plain": [
       "140717312846392"
      ]
     },
     "execution_count": 5,
     "metadata": {},
     "output_type": "execute_result"
    }
   ],
   "source": [
    "num = 5    # address of the given value  \n",
    "id(num)"
   ]
  },
  {
   "cell_type": "code",
   "execution_count": 7,
   "id": "582af5af-fe94-480a-a40f-0385382c19ea",
   "metadata": {},
   "outputs": [
    {
     "data": {
      "text/plain": [
       "1558201654112"
      ]
     },
     "execution_count": 7,
     "metadata": {},
     "output_type": "execute_result"
    }
   ],
   "source": [
    "name = 'nit'\n",
    "id(name)"
   ]
  },
  {
   "cell_type": "code",
   "execution_count": 9,
   "id": "7c267398-accc-4f1e-adb5-eba7931908eb",
   "metadata": {},
   "outputs": [],
   "source": [
    "pi = 3.14   # in math this is always constant "
   ]
  },
  {
   "cell_type": "code",
   "execution_count": 11,
   "id": "3dc33a60-203f-4614-b973-b3a544d217ea",
   "metadata": {},
   "outputs": [
    {
     "data": {
      "text/plain": [
       "3.14"
      ]
     },
     "execution_count": 11,
     "metadata": {},
     "output_type": "execute_result"
    }
   ],
   "source": [
    "pi\n"
   ]
  },
  {
   "cell_type": "code",
   "execution_count": 13,
   "id": "744cd3bf-466b-4276-b22e-0dfe34d3e23e",
   "metadata": {},
   "outputs": [],
   "source": [
    "pi = 3.18  "
   ]
  },
  {
   "cell_type": "code",
   "execution_count": 15,
   "id": "0ab40024-2694-4343-b9df-8a622ba4925a",
   "metadata": {},
   "outputs": [
    {
     "data": {
      "text/plain": [
       "3.18"
      ]
     },
     "execution_count": 15,
     "metadata": {},
     "output_type": "execute_result"
    }
   ],
   "source": [
    "pi"
   ]
  },
  {
   "cell_type": "code",
   "execution_count": 17,
   "id": "5dfdd85e-502a-4bf4-bae9-471f79d4453c",
   "metadata": {},
   "outputs": [
    {
     "data": {
      "text/plain": [
       "float"
      ]
     },
     "execution_count": 17,
     "metadata": {},
     "output_type": "execute_result"
    }
   ],
   "source": [
    "type(pi)"
   ]
  },
  {
   "cell_type": "markdown",
   "id": "2732c862-5518-4d6c-b165-9e898269eafa",
   "metadata": {},
   "source": [
    "# operators"
   ]
  },
  {
   "cell_type": "markdown",
   "id": "761f3861-0ebd-429b-92c3-f8673a53a63a",
   "metadata": {},
   "source": [
    "# arithemetic operator"
   ]
  },
  {
   "cell_type": "code",
   "execution_count": null,
   "id": "dce7ba47-14b9-4179-bd8e-7093040f0f39",
   "metadata": {},
   "outputs": [],
   "source": [
    "# + , - , * , / , // , **"
   ]
  },
  {
   "cell_type": "code",
   "execution_count": 21,
   "id": "2b7c013d-4a7d-4e3c-8496-24a65b6ddddb",
   "metadata": {},
   "outputs": [],
   "source": [
    "x1 , y1 = 10 , 5"
   ]
  },
  {
   "cell_type": "code",
   "execution_count": 23,
   "id": "41870734-781b-4a31-907a-552ce8f65088",
   "metadata": {},
   "outputs": [
    {
     "data": {
      "text/plain": [
       "15"
      ]
     },
     "execution_count": 23,
     "metadata": {},
     "output_type": "execute_result"
    }
   ],
   "source": [
    "x1 + y1"
   ]
  },
  {
   "cell_type": "code",
   "execution_count": 25,
   "id": "fbda4e71-ba92-49af-9968-f5559626a4d6",
   "metadata": {},
   "outputs": [
    {
     "data": {
      "text/plain": [
       "5"
      ]
     },
     "execution_count": 25,
     "metadata": {},
     "output_type": "execute_result"
    }
   ],
   "source": [
    "x1 - y1"
   ]
  },
  {
   "cell_type": "code",
   "execution_count": 27,
   "id": "ee79b55f-6ce3-4854-b0c3-890b8c424466",
   "metadata": {},
   "outputs": [
    {
     "data": {
      "text/plain": [
       "50"
      ]
     },
     "execution_count": 27,
     "metadata": {},
     "output_type": "execute_result"
    }
   ],
   "source": [
    "x1 * y1"
   ]
  },
  {
   "cell_type": "code",
   "execution_count": 29,
   "id": "c95f75fc-3cf2-4953-b7c7-fffc74cd59ee",
   "metadata": {},
   "outputs": [
    {
     "data": {
      "text/plain": [
       "2.0"
      ]
     },
     "execution_count": 29,
     "metadata": {},
     "output_type": "execute_result"
    }
   ],
   "source": [
    "x1 / y1"
   ]
  },
  {
   "cell_type": "code",
   "execution_count": 31,
   "id": "1ee1e00f-e3b0-48b8-bfb2-faa53a1e9d94",
   "metadata": {},
   "outputs": [
    {
     "data": {
      "text/plain": [
       "2"
      ]
     },
     "execution_count": 31,
     "metadata": {},
     "output_type": "execute_result"
    }
   ],
   "source": [
    "x1 // y1"
   ]
  },
  {
   "cell_type": "code",
   "execution_count": 33,
   "id": "82feceb2-ab1c-430e-8b98-9ba7b30ceabb",
   "metadata": {},
   "outputs": [
    {
     "data": {
      "text/plain": [
       "0"
      ]
     },
     "execution_count": 33,
     "metadata": {},
     "output_type": "execute_result"
    }
   ],
   "source": [
    "x1 % y1"
   ]
  },
  {
   "cell_type": "code",
   "execution_count": 35,
   "id": "5571d08f-54c0-40ae-90e4-90972d2abd60",
   "metadata": {},
   "outputs": [
    {
     "data": {
      "text/plain": [
       "100000"
      ]
     },
     "execution_count": 35,
     "metadata": {},
     "output_type": "execute_result"
    }
   ],
   "source": [
    "x1 ** y1 "
   ]
  },
  {
   "cell_type": "code",
   "execution_count": 37,
   "id": "16e7e840-6c76-4146-a520-09681758b011",
   "metadata": {},
   "outputs": [
    {
     "data": {
      "text/plain": [
       "8"
      ]
     },
     "execution_count": 37,
     "metadata": {},
     "output_type": "execute_result"
    }
   ],
   "source": [
    "2 ** 3   # power "
   ]
  },
  {
   "cell_type": "markdown",
   "id": "6154073a-11ee-4db0-b598-c2534c2f1e4b",
   "metadata": {},
   "source": [
    "# assignment operator "
   ]
  },
  {
   "cell_type": "code",
   "execution_count": null,
   "id": "6e52f374-ac86-4be0-9797-bb17b1806213",
   "metadata": {},
   "outputs": [],
   "source": [
    " # += , -= , /= , *= , //="
   ]
  },
  {
   "cell_type": "code",
   "execution_count": 40,
   "id": "237a97ec-d558-4bb7-8315-a95a5a82fd18",
   "metadata": {},
   "outputs": [],
   "source": [
    "x = 2"
   ]
  },
  {
   "cell_type": "code",
   "execution_count": 42,
   "id": "61995312-75a8-4c65-a55f-dd1a77a6829e",
   "metadata": {},
   "outputs": [],
   "source": [
    " x = x+2"
   ]
  },
  {
   "cell_type": "code",
   "execution_count": 44,
   "id": "095b8404-4d11-4681-987e-d709ea54230e",
   "metadata": {},
   "outputs": [
    {
     "data": {
      "text/plain": [
       "4"
      ]
     },
     "execution_count": 44,
     "metadata": {},
     "output_type": "execute_result"
    }
   ],
   "source": [
    "x"
   ]
  },
  {
   "cell_type": "code",
   "execution_count": 46,
   "id": "9846f674-97e5-42ad-a4f6-3296318560e4",
   "metadata": {},
   "outputs": [],
   "source": [
    "x += 2 "
   ]
  },
  {
   "cell_type": "code",
   "execution_count": 48,
   "id": "76f240b3-ac8e-4ce0-ac0f-f61efce53a9d",
   "metadata": {},
   "outputs": [
    {
     "data": {
      "text/plain": [
       "6"
      ]
     },
     "execution_count": 48,
     "metadata": {},
     "output_type": "execute_result"
    }
   ],
   "source": [
    "x"
   ]
  },
  {
   "cell_type": "code",
   "execution_count": 50,
   "id": "68836960-3b29-4913-ac8d-ead523f39d93",
   "metadata": {},
   "outputs": [],
   "source": [
    "x *= 2"
   ]
  },
  {
   "cell_type": "code",
   "execution_count": 52,
   "id": "cd17a85c-1e72-4ba0-823c-1c972dad964c",
   "metadata": {},
   "outputs": [
    {
     "data": {
      "text/plain": [
       "12"
      ]
     },
     "execution_count": 52,
     "metadata": {},
     "output_type": "execute_result"
    }
   ],
   "source": [
    "x"
   ]
  },
  {
   "cell_type": "code",
   "execution_count": 54,
   "id": "7f61f133-55bb-40a4-89d3-bdf0dda841f3",
   "metadata": {},
   "outputs": [],
   "source": [
    "x -= 2"
   ]
  },
  {
   "cell_type": "code",
   "execution_count": 56,
   "id": "a35ff024-d48c-4ec5-ab5e-40bd70386e5b",
   "metadata": {},
   "outputs": [
    {
     "data": {
      "text/plain": [
       "10"
      ]
     },
     "execution_count": 56,
     "metadata": {},
     "output_type": "execute_result"
    }
   ],
   "source": [
    "x"
   ]
  },
  {
   "cell_type": "code",
   "execution_count": 58,
   "id": "e4811198-a956-4c3f-afb9-c0b048c6c9da",
   "metadata": {},
   "outputs": [],
   "source": [
    "x /= 2"
   ]
  },
  {
   "cell_type": "code",
   "execution_count": 60,
   "id": "588a24a0-262a-40a4-bd4a-a40d47e6934c",
   "metadata": {},
   "outputs": [
    {
     "data": {
      "text/plain": [
       "5.0"
      ]
     },
     "execution_count": 60,
     "metadata": {},
     "output_type": "execute_result"
    }
   ],
   "source": [
    "x"
   ]
  },
  {
   "cell_type": "code",
   "execution_count": 62,
   "id": "2767b7bb-21bb-4e4e-b9d6-93fb26d48cf7",
   "metadata": {},
   "outputs": [],
   "source": [
    "x //= 2"
   ]
  },
  {
   "cell_type": "code",
   "execution_count": 64,
   "id": "871b6f55-4515-4df8-8c99-d10ad0cff1a2",
   "metadata": {},
   "outputs": [
    {
     "data": {
      "text/plain": [
       "2.0"
      ]
     },
     "execution_count": 64,
     "metadata": {},
     "output_type": "execute_result"
    }
   ],
   "source": [
    "x"
   ]
  },
  {
   "cell_type": "code",
   "execution_count": 66,
   "id": "d0a96ac2-28df-4b91-8f95-a24cb02a584f",
   "metadata": {},
   "outputs": [],
   "source": [
    "a , b = 5 , 6"
   ]
  },
  {
   "cell_type": "code",
   "execution_count": 68,
   "id": "45acc1db-d1f0-441b-a49c-e8d916f5b316",
   "metadata": {},
   "outputs": [
    {
     "data": {
      "text/plain": [
       "5"
      ]
     },
     "execution_count": 68,
     "metadata": {},
     "output_type": "execute_result"
    }
   ],
   "source": [
    "a"
   ]
  },
  {
   "cell_type": "code",
   "execution_count": 70,
   "id": "3d0f7fff-2b9b-4b4c-a08c-138ef6aedea4",
   "metadata": {},
   "outputs": [
    {
     "data": {
      "text/plain": [
       "6"
      ]
     },
     "execution_count": 70,
     "metadata": {},
     "output_type": "execute_result"
    }
   ],
   "source": [
    "b"
   ]
  },
  {
   "cell_type": "markdown",
   "id": "8a11fca6-380f-4c6a-b856-864e38a4dde7",
   "metadata": {},
   "source": [
    "# unary operator "
   ]
  },
  {
   "cell_type": "code",
   "execution_count": null,
   "id": "21dfb020-eced-437d-9f72-f9d6b8030a98",
   "metadata": {},
   "outputs": [],
   "source": [
    "# here we are applying only one operator(-)"
   ]
  },
  {
   "cell_type": "code",
   "execution_count": 73,
   "id": "1ca33b2c-0492-4d84-8e78-fd54b5e9524d",
   "metadata": {},
   "outputs": [],
   "source": [
    "n = 7"
   ]
  },
  {
   "cell_type": "code",
   "execution_count": 75,
   "id": "89ceca9c-9364-4c39-9d1e-336f6875b0a8",
   "metadata": {},
   "outputs": [],
   "source": [
    "m = -(n)"
   ]
  },
  {
   "cell_type": "code",
   "execution_count": 77,
   "id": "4dd73111-b57e-487f-9f74-ea962c94bb12",
   "metadata": {},
   "outputs": [
    {
     "data": {
      "text/plain": [
       "-7"
      ]
     },
     "execution_count": 77,
     "metadata": {},
     "output_type": "execute_result"
    }
   ],
   "source": [
    "m"
   ]
  },
  {
   "cell_type": "code",
   "execution_count": 79,
   "id": "1526ea2c-6fe3-48a2-9426-d56740ba933a",
   "metadata": {},
   "outputs": [
    {
     "data": {
      "text/plain": [
       "7"
      ]
     },
     "execution_count": 79,
     "metadata": {},
     "output_type": "execute_result"
    }
   ],
   "source": [
    "n"
   ]
  },
  {
   "cell_type": "code",
   "execution_count": 81,
   "id": "9d5109b3-9507-4c05-b9ce-427bb2b3b447",
   "metadata": {},
   "outputs": [
    {
     "data": {
      "text/plain": [
       "-7"
      ]
     },
     "execution_count": 81,
     "metadata": {},
     "output_type": "execute_result"
    }
   ],
   "source": [
    "-n"
   ]
  },
  {
   "cell_type": "markdown",
   "id": "adece7e4-4145-498b-8669-13ec7aca8e8e",
   "metadata": {},
   "source": [
    "# relational operator "
   ]
  },
  {
   "cell_type": "markdown",
   "id": "eb3c66ba-f981-4fcd-96a4-d471a9ea3113",
   "metadata": {},
   "source": [
    "we are using this operator for comparing"
   ]
  },
  {
   "cell_type": "markdown",
   "id": "d92d9cd8-9c53-4630-b7b1-4373b0661b4f",
   "metadata": {},
   "source": [
    "== , >= , <= , != , > , < "
   ]
  },
  {
   "cell_type": "code",
   "execution_count": 87,
   "id": "739d583c-8a86-439c-a691-d6d623102912",
   "metadata": {},
   "outputs": [],
   "source": [
    "a = 5 \n",
    "b = 7"
   ]
  },
  {
   "cell_type": "code",
   "execution_count": 89,
   "id": "8d596895-4104-4a32-a1cb-45b32d778542",
   "metadata": {},
   "outputs": [
    {
     "data": {
      "text/plain": [
       "False"
      ]
     },
     "execution_count": 89,
     "metadata": {},
     "output_type": "execute_result"
    }
   ],
   "source": [
    "a == b"
   ]
  },
  {
   "cell_type": "code",
   "execution_count": 91,
   "id": "e16eb0d4-a328-4746-afb0-643513fc1751",
   "metadata": {},
   "outputs": [
    {
     "data": {
      "text/plain": [
       "True"
      ]
     },
     "execution_count": 91,
     "metadata": {},
     "output_type": "execute_result"
    }
   ],
   "source": [
    "a < b "
   ]
  },
  {
   "cell_type": "code",
   "execution_count": 93,
   "id": "eb066990-6b52-4fa8-b867-c9026351071b",
   "metadata": {},
   "outputs": [
    {
     "data": {
      "text/plain": [
       "False"
      ]
     },
     "execution_count": 93,
     "metadata": {},
     "output_type": "execute_result"
    }
   ],
   "source": [
    "a > b "
   ]
  },
  {
   "cell_type": "code",
   "execution_count": 95,
   "id": "63f56caf-f782-4bc8-bc16-04ab665d5e8a",
   "metadata": {},
   "outputs": [
    {
     "data": {
      "text/plain": [
       "False"
      ]
     },
     "execution_count": 95,
     "metadata": {},
     "output_type": "execute_result"
    }
   ],
   "source": [
    "a == b "
   ]
  },
  {
   "cell_type": "code",
   "execution_count": 97,
   "id": "b87f8f9c-fd03-45e7-9261-cf67517426f4",
   "metadata": {},
   "outputs": [],
   "source": [
    "a = 10 \n",
    "b = 10"
   ]
  },
  {
   "cell_type": "code",
   "execution_count": 99,
   "id": "61388e58-f401-4ceb-a48f-2bbe2755c2f2",
   "metadata": {},
   "outputs": [
    {
     "data": {
      "text/plain": [
       "True"
      ]
     },
     "execution_count": 99,
     "metadata": {},
     "output_type": "execute_result"
    }
   ],
   "source": [
    "a == b "
   ]
  },
  {
   "cell_type": "code",
   "execution_count": 101,
   "id": "ae10622f-6b61-498e-b77c-485be0d1f772",
   "metadata": {},
   "outputs": [
    {
     "data": {
      "text/plain": [
       "True"
      ]
     },
     "execution_count": 101,
     "metadata": {},
     "output_type": "execute_result"
    }
   ],
   "source": [
    "a >= b "
   ]
  },
  {
   "cell_type": "code",
   "execution_count": 103,
   "id": "42e91356-f377-42d9-9801-b4f01884dde8",
   "metadata": {},
   "outputs": [
    {
     "data": {
      "text/plain": [
       "True"
      ]
     },
     "execution_count": 103,
     "metadata": {},
     "output_type": "execute_result"
    }
   ],
   "source": [
    "a <= b "
   ]
  },
  {
   "cell_type": "code",
   "execution_count": 105,
   "id": "0612f655-df7d-4a47-9663-efc8ee57a254",
   "metadata": {},
   "outputs": [
    {
     "data": {
      "text/plain": [
       "False"
      ]
     },
     "execution_count": 105,
     "metadata": {},
     "output_type": "execute_result"
    }
   ],
   "source": [
    "a < b "
   ]
  },
  {
   "cell_type": "code",
   "execution_count": 107,
   "id": "e80fa70f-9fd8-4c6d-bf72-ff33b2c8455f",
   "metadata": {},
   "outputs": [
    {
     "data": {
      "text/plain": [
       "False"
      ]
     },
     "execution_count": 107,
     "metadata": {},
     "output_type": "execute_result"
    }
   ],
   "source": [
    "a> b "
   ]
  },
  {
   "cell_type": "code",
   "execution_count": 109,
   "id": "007da801-0660-45a6-a391-40afce73cf58",
   "metadata": {},
   "outputs": [
    {
     "data": {
      "text/plain": [
       "False"
      ]
     },
     "execution_count": 109,
     "metadata": {},
     "output_type": "execute_result"
    }
   ],
   "source": [
    "a != b "
   ]
  },
  {
   "cell_type": "code",
   "execution_count": 111,
   "id": "144c8606-39c0-45b3-bd81-e6d1145bed06",
   "metadata": {},
   "outputs": [],
   "source": [
    "b = 4"
   ]
  },
  {
   "cell_type": "code",
   "execution_count": 115,
   "id": "45f7341b-d5be-4c43-bfe4-8ddc12c3a925",
   "metadata": {},
   "outputs": [
    {
     "data": {
      "text/plain": [
       "True"
      ]
     },
     "execution_count": 115,
     "metadata": {},
     "output_type": "execute_result"
    }
   ],
   "source": [
    "a != b    # this is not equals "
   ]
  },
  {
   "cell_type": "markdown",
   "id": "af1b7322-3748-4090-8f2c-30399ba4d48d",
   "metadata": {},
   "source": [
    "# logical operator "
   ]
  },
  {
   "cell_type": "markdown",
   "id": "791bbc57-bf7b-4786-af4f-65c3a5336bdb",
   "metadata": {},
   "source": [
    "AND , OR , NOT "
   ]
  },
  {
   "cell_type": "code",
   "execution_count": 126,
   "id": "8422c517-8c4a-42bd-901d-0d54c99408f3",
   "metadata": {},
   "outputs": [],
   "source": [
    "a = 5\n",
    "b = 4"
   ]
  },
  {
   "cell_type": "code",
   "execution_count": 128,
   "id": "63308c4f-cbdc-4faa-ab79-db637a332d7c",
   "metadata": {},
   "outputs": [
    {
     "data": {
      "text/plain": [
       "False"
      ]
     },
     "execution_count": 128,
     "metadata": {},
     "output_type": "execute_result"
    }
   ],
   "source": [
    "a < b and b < a"
   ]
  },
  {
   "cell_type": "code",
   "execution_count": 130,
   "id": "502f9893-c812-4a5c-be10-28ec48392f4c",
   "metadata": {},
   "outputs": [
    {
     "data": {
      "text/plain": [
       "True"
      ]
     },
     "execution_count": 130,
     "metadata": {},
     "output_type": "execute_result"
    }
   ],
   "source": [
    "a < 8 and b < 5"
   ]
  },
  {
   "cell_type": "code",
   "execution_count": 132,
   "id": "a03ac426-c400-4e6a-9c26-388c66770d73",
   "metadata": {},
   "outputs": [
    {
     "data": {
      "text/plain": [
       "False"
      ]
     },
     "execution_count": 132,
     "metadata": {},
     "output_type": "execute_result"
    }
   ],
   "source": [
    "x = False \n",
    "x"
   ]
  },
  {
   "cell_type": "code",
   "execution_count": 134,
   "id": "699cdd8c-97c1-43f5-8497-1467ab7370a5",
   "metadata": {},
   "outputs": [
    {
     "data": {
      "text/plain": [
       "True"
      ]
     },
     "execution_count": 134,
     "metadata": {},
     "output_type": "execute_result"
    }
   ],
   "source": [
    "not x"
   ]
  },
  {
   "cell_type": "code",
   "execution_count": 136,
   "id": "25247a78-1699-48b9-9bc4-18ceb9151899",
   "metadata": {},
   "outputs": [
    {
     "data": {
      "text/plain": [
       "False"
      ]
     },
     "execution_count": 136,
     "metadata": {},
     "output_type": "execute_result"
    }
   ],
   "source": [
    "x "
   ]
  },
  {
   "cell_type": "code",
   "execution_count": 138,
   "id": "f1546bc5-0025-4ccf-b0dc-e72b0ab3613b",
   "metadata": {},
   "outputs": [
    {
     "data": {
      "text/plain": [
       "True"
      ]
     },
     "execution_count": 138,
     "metadata": {},
     "output_type": "execute_result"
    }
   ],
   "source": [
    "not x"
   ]
  },
  {
   "cell_type": "markdown",
   "id": "7bfdaad0-ed88-444f-bc3f-3360f8664133",
   "metadata": {},
   "source": [
    "# number system conversion (bit - binary digit)"
   ]
  },
  {
   "cell_type": "markdown",
   "id": "4e41c869-9a8d-453a-bc27-9a1c2b616eb8",
   "metadata": {},
   "source": [
    "# binary "
   ]
  },
  {
   "cell_type": "code",
   "execution_count": null,
   "id": "11ebe2c7-9eb7-4dd3-b87c-35e7d07c04de",
   "metadata": {},
   "outputs": [],
   "source": [
    "# in binary it will assign with 2 the basE VALUE IS 2 \n",
    "# binary alwyas represnt as \"0b\""
   ]
  },
  {
   "cell_type": "code",
   "execution_count": 141,
   "id": "4ba72324-2eec-45ca-bf0d-e59976f1e809",
   "metadata": {},
   "outputs": [
    {
     "data": {
      "text/plain": [
       "25"
      ]
     },
     "execution_count": 141,
     "metadata": {},
     "output_type": "execute_result"
    }
   ],
   "source": [
    "25"
   ]
  },
  {
   "cell_type": "code",
   "execution_count": 143,
   "id": "9eea33ac-b761-43fe-8c75-47d09e31224c",
   "metadata": {},
   "outputs": [
    {
     "data": {
      "text/plain": [
       "'0b11001'"
      ]
     },
     "execution_count": 143,
     "metadata": {},
     "output_type": "execute_result"
    }
   ],
   "source": [
    "bin(25)"
   ]
  },
  {
   "cell_type": "code",
   "execution_count": 147,
   "id": "699434ee-be83-4d1b-9a47-2c61ac7a1b0c",
   "metadata": {},
   "outputs": [
    {
     "data": {
      "text/plain": [
       "25"
      ]
     },
     "execution_count": 147,
     "metadata": {},
     "output_type": "execute_result"
    }
   ],
   "source": [
    "int(0b11001)"
   ]
  },
  {
   "cell_type": "code",
   "execution_count": 149,
   "id": "1482b4ab-879f-4cd3-b257-ed0eae71af86",
   "metadata": {},
   "outputs": [
    {
     "data": {
      "text/plain": [
       "'0b100011'"
      ]
     },
     "execution_count": 149,
     "metadata": {},
     "output_type": "execute_result"
    }
   ],
   "source": [
    "bin(35)"
   ]
  },
  {
   "cell_type": "code",
   "execution_count": 151,
   "id": "4ac9254c-4939-452c-838e-5d5ff5ba6f8c",
   "metadata": {},
   "outputs": [
    {
     "data": {
      "text/plain": [
       "35"
      ]
     },
     "execution_count": 151,
     "metadata": {},
     "output_type": "execute_result"
    }
   ],
   "source": [
    "int(0b100011)\n"
   ]
  },
  {
   "cell_type": "code",
   "execution_count": 153,
   "id": "7a09ea8a-325e-497e-9473-1e7fcd22ae10",
   "metadata": {},
   "outputs": [
    {
     "data": {
      "text/plain": [
       "'0b10100'"
      ]
     },
     "execution_count": 153,
     "metadata": {},
     "output_type": "execute_result"
    }
   ],
   "source": [
    "bin(20)"
   ]
  },
  {
   "cell_type": "code",
   "execution_count": 155,
   "id": "678c6ac2-6a7a-4039-8e01-9b3d4a4ccd67",
   "metadata": {},
   "outputs": [
    {
     "data": {
      "text/plain": [
       "20"
      ]
     },
     "execution_count": 155,
     "metadata": {},
     "output_type": "execute_result"
    }
   ],
   "source": [
    "int(0b10100)"
   ]
  },
  {
   "cell_type": "code",
   "execution_count": 157,
   "id": "e91cbc8d-9d51-458d-8c9f-334cf59323c1",
   "metadata": {},
   "outputs": [
    {
     "data": {
      "text/plain": [
       "15"
      ]
     },
     "execution_count": 157,
     "metadata": {},
     "output_type": "execute_result"
    }
   ],
   "source": [
    "int(0b1111)"
   ]
  },
  {
   "cell_type": "code",
   "execution_count": 159,
   "id": "e79d0e09-468c-43f7-b6f5-d1c9d9961718",
   "metadata": {},
   "outputs": [
    {
     "data": {
      "text/plain": [
       "'0b101'"
      ]
     },
     "execution_count": 159,
     "metadata": {},
     "output_type": "execute_result"
    }
   ],
   "source": [
    "bin(5)"
   ]
  },
  {
   "cell_type": "markdown",
   "id": "48cb0083-b80b-4d4d-8ce8-91cc7b86231a",
   "metadata": {},
   "source": [
    "# octal"
   ]
  },
  {
   "cell_type": "code",
   "execution_count": null,
   "id": "814ef599-3ce8-45ea-895a-12080a7593b7",
   "metadata": {},
   "outputs": [],
   "source": [
    "# in this octal the base value is alwys 8 \n",
    "# octal always represent as \"0o\""
   ]
  },
  {
   "cell_type": "code",
   "execution_count": 163,
   "id": "600b6dc8-00c9-4213-b0b4-c330e42d610f",
   "metadata": {},
   "outputs": [
    {
     "data": {
      "text/plain": [
       "'0o17'"
      ]
     },
     "execution_count": 163,
     "metadata": {},
     "output_type": "execute_result"
    }
   ],
   "source": [
    "oct(15)"
   ]
  },
  {
   "cell_type": "code",
   "execution_count": 165,
   "id": "c72ead28-3a24-4508-9593-5dc3461fdda5",
   "metadata": {},
   "outputs": [
    {
     "data": {
      "text/plain": [
       "15"
      ]
     },
     "execution_count": 165,
     "metadata": {},
     "output_type": "execute_result"
    }
   ],
   "source": [
    "int(0o17)"
   ]
  },
  {
   "cell_type": "code",
   "execution_count": 167,
   "id": "c0dff5bd-e284-4cc7-90dd-8b67811ce415",
   "metadata": {},
   "outputs": [
    {
     "data": {
      "text/plain": [
       "'0o24'"
      ]
     },
     "execution_count": 167,
     "metadata": {},
     "output_type": "execute_result"
    }
   ],
   "source": [
    "oct(20)"
   ]
  },
  {
   "cell_type": "code",
   "execution_count": 169,
   "id": "891d4122-0a98-4b03-8bd1-9573a0d55b77",
   "metadata": {},
   "outputs": [
    {
     "data": {
      "text/plain": [
       "20"
      ]
     },
     "execution_count": 169,
     "metadata": {},
     "output_type": "execute_result"
    }
   ],
   "source": [
    "int(0o24)"
   ]
  },
  {
   "cell_type": "markdown",
   "id": "b3f0718d-4707-4747-8a89-b2c0944cc8e8",
   "metadata": {},
   "source": [
    "# hexadecimal "
   ]
  },
  {
   "cell_type": "code",
   "execution_count": null,
   "id": "e91032b9-e904-4bca-a3d4-28cfb81c0dae",
   "metadata": {},
   "outputs": [],
   "source": [
    "# in hexadecimal the base va;lue is always 16 \n",
    "# 1 - 9 and a - f \n",
    "# it will always represent as \"0x\""
   ]
  },
  {
   "cell_type": "code",
   "execution_count": 172,
   "id": "51321648-05e5-47a9-bab5-59a241ac1e29",
   "metadata": {},
   "outputs": [
    {
     "data": {
      "text/plain": [
       "'0x9'"
      ]
     },
     "execution_count": 172,
     "metadata": {},
     "output_type": "execute_result"
    }
   ],
   "source": [
    "hex(9)"
   ]
  },
  {
   "cell_type": "code",
   "execution_count": 174,
   "id": "74e76d82-8dcf-44b7-a4b7-77987021a010",
   "metadata": {},
   "outputs": [
    {
     "data": {
      "text/plain": [
       "'0x23'"
      ]
     },
     "execution_count": 174,
     "metadata": {},
     "output_type": "execute_result"
    }
   ],
   "source": [
    "hex(35)"
   ]
  },
  {
   "cell_type": "code",
   "execution_count": 176,
   "id": "da260772-17f6-4989-aab7-0311108e474b",
   "metadata": {},
   "outputs": [
    {
     "data": {
      "text/plain": [
       "35"
      ]
     },
     "execution_count": 176,
     "metadata": {},
     "output_type": "execute_result"
    }
   ],
   "source": [
    "int(0x23)"
   ]
  },
  {
   "cell_type": "code",
   "execution_count": 178,
   "id": "7b487132-1b72-4c67-aab3-acec1a41333d",
   "metadata": {},
   "outputs": [
    {
     "data": {
      "text/plain": [
       "'0xa'"
      ]
     },
     "execution_count": 178,
     "metadata": {},
     "output_type": "execute_result"
    }
   ],
   "source": [
    "hex(10)  # in this hexa a = 10 , b = 12 , c = 13"
   ]
  },
  {
   "cell_type": "code",
   "execution_count": 180,
   "id": "a6072c2d-8b21-4056-b7dc-0c70456926df",
   "metadata": {},
   "outputs": [
    {
     "data": {
      "text/plain": [
       "'0xc'"
      ]
     },
     "execution_count": 180,
     "metadata": {},
     "output_type": "execute_result"
    }
   ],
   "source": [
    "hex(12)  # d = 1 , e = 15. "
   ]
  },
  {
   "cell_type": "code",
   "execution_count": 182,
   "id": "f37f522f-f3c0-4272-ba1d-3627687688ea",
   "metadata": {},
   "outputs": [
    {
     "data": {
      "text/plain": [
       "'0x10'"
      ]
     },
     "execution_count": 182,
     "metadata": {},
     "output_type": "execute_result"
    }
   ],
   "source": [
    "hex(16)"
   ]
  },
  {
   "cell_type": "markdown",
   "id": "32e3bd9a-c896-4663-88cb-1997a3d5da2c",
   "metadata": {},
   "source": [
    "# swap  variable in python "
   ]
  },
  {
   "cell_type": "markdown",
   "id": "3ccb2353-e146-4d94-a72c-11ca9d106fd9",
   "metadata": {},
   "source": [
    "(a , b = 5 , 6) After swap we should get === (a , b = 6 , 5 )\n",
    "# this is condition "
   ]
  },
  {
   "cell_type": "code",
   "execution_count": 186,
   "id": "02c4a200-4e0a-4ee5-a33c-5dc931d294a6",
   "metadata": {},
   "outputs": [],
   "source": [
    "a = 5 \n",
    "b = 6"
   ]
  },
  {
   "cell_type": "code",
   "execution_count": 188,
   "id": "e2350651-a38c-40cc-b3db-2fcb2c44c6a6",
   "metadata": {},
   "outputs": [],
   "source": [
    "a = b \n",
    "b = a"
   ]
  },
  {
   "cell_type": "code",
   "execution_count": 190,
   "id": "e8e62107-68bf-4a62-ac74-022873038762",
   "metadata": {},
   "outputs": [
    {
     "data": {
      "text/plain": [
       "6"
      ]
     },
     "execution_count": 190,
     "metadata": {},
     "output_type": "execute_result"
    }
   ],
   "source": [
    "a "
   ]
  },
  {
   "cell_type": "code",
   "execution_count": 192,
   "id": "aabbf9bf-4240-4564-9b65-ed8d39ede91f",
   "metadata": {},
   "outputs": [
    {
     "data": {
      "text/plain": [
       "6"
      ]
     },
     "execution_count": 192,
     "metadata": {},
     "output_type": "execute_result"
    }
   ],
   "source": [
    "b "
   ]
  },
  {
   "cell_type": "code",
   "execution_count": 196,
   "id": "a823d1f0-a5c0-4ea1-ae71-1de0d8f55abd",
   "metadata": {},
   "outputs": [
    {
     "name": "stdout",
     "output_type": "stream",
     "text": [
      "6\n",
      "6\n"
     ]
    }
   ],
   "source": [
    "print(a)   # in this process both will be 6 so we want b = 5 \n",
    "print(b)"
   ]
  },
  {
   "cell_type": "code",
   "execution_count": null,
   "id": "134d8e19-e805-4123-b1b4-4fd7c993ea0d",
   "metadata": {},
   "outputs": [],
   "source": [
    "# in abpve scenario we lost the variable 5 \n"
   ]
  },
  {
   "cell_type": "code",
   "execution_count": 198,
   "id": "81a6691b-4605-4b01-82f0-f468a5af971a",
   "metadata": {},
   "outputs": [],
   "source": [
    "a1 = 7\n",
    "b1 = 8 "
   ]
  },
  {
   "cell_type": "code",
   "execution_count": 200,
   "id": "787007e6-c559-4709-9599-05c09620124c",
   "metadata": {},
   "outputs": [],
   "source": [
    "temp = a1\n",
    "a1 = b1 \n",
    "b1 = temp"
   ]
  },
  {
   "cell_type": "code",
   "execution_count": 202,
   "id": "82f9b456-2f8e-49aa-bd56-334cfd07dcc7",
   "metadata": {},
   "outputs": [
    {
     "name": "stdout",
     "output_type": "stream",
     "text": [
      "8\n",
      "7\n"
     ]
    }
   ],
   "source": [
    "print(a1)\n",
    "print(b1)"
   ]
  },
  {
   "cell_type": "code",
   "execution_count": 204,
   "id": "324982c4-1190-4ac6-819c-7c81f427d1db",
   "metadata": {},
   "outputs": [],
   "source": [
    "a = 5 \n",
    "b = 6"
   ]
  },
  {
   "cell_type": "code",
   "execution_count": 206,
   "id": "4058c1b4-20e3-4c46-95a0-0d03055eef45",
   "metadata": {},
   "outputs": [],
   "source": [
    "temp = a\n",
    "a = b \n",
    "b = temp "
   ]
  },
  {
   "cell_type": "code",
   "execution_count": 208,
   "id": "0040f4a2-d046-42e1-aaaf-5a7fff009e7b",
   "metadata": {},
   "outputs": [
    {
     "data": {
      "text/plain": [
       "6"
      ]
     },
     "execution_count": 208,
     "metadata": {},
     "output_type": "execute_result"
    }
   ],
   "source": [
    "a"
   ]
  },
  {
   "cell_type": "code",
   "execution_count": 210,
   "id": "3a16e542-c22a-4371-8159-5b4c1166d7f2",
   "metadata": {},
   "outputs": [
    {
     "data": {
      "text/plain": [
       "5"
      ]
     },
     "execution_count": 210,
     "metadata": {},
     "output_type": "execute_result"
    }
   ],
   "source": [
    "b"
   ]
  },
  {
   "cell_type": "code",
   "execution_count": 212,
   "id": "bcc999fe-9488-43df-8a31-3ed3a15e6754",
   "metadata": {},
   "outputs": [
    {
     "name": "stdout",
     "output_type": "stream",
     "text": [
      "6\n",
      "5\n"
     ]
    }
   ],
   "source": [
    "print(a)\n",
    "print(b)"
   ]
  },
  {
   "cell_type": "code",
   "execution_count": null,
   "id": "fc023621-6d04-40bd-8148-a4096afa9690",
   "metadata": {},
   "outputs": [],
   "source": [
    "# swap variable formulas \n",
    "a2 = a2 + b2\n",
    "b2 = a2 - b2 \n",
    "a2 = a2 - b2 "
   ]
  },
  {
   "cell_type": "code",
   "execution_count": 216,
   "id": "e0055196-a0e9-4e03-a9fe-95f717ba744d",
   "metadata": {},
   "outputs": [
    {
     "name": "stdout",
     "output_type": "stream",
     "text": [
      "0b1011\n",
      "11\n"
     ]
    }
   ],
   "source": [
    "print(bin(11))\n",
    "print(0b1011)"
   ]
  },
  {
   "cell_type": "code",
   "execution_count": null,
   "id": "dc7ac5cc-4299-4770-9758-2a4428e2b91b",
   "metadata": {},
   "outputs": [],
   "source": [
    "# there is other way to work swaap variable also which is XOR \n",
    "#because it will not waste another extra bit "
   ]
  },
  {
   "cell_type": "raw",
   "id": "160eff75-1585-49eb-b01c-304c4a4962c1",
   "metadata": {},
   "source": [
    "a2 = a2 ^ b2 \n",
    "b2 = a2 ^ b2 \n",
    "a2 = a2 ^ b2"
   ]
  },
  {
   "cell_type": "code",
   "execution_count": 219,
   "id": "4376931e-3778-4fd4-ba8f-55466771939e",
   "metadata": {},
   "outputs": [],
   "source": [
    "a2 = 7 \n",
    "b2 = 8 "
   ]
  },
  {
   "cell_type": "code",
   "execution_count": 221,
   "id": "21368a22-190a-4dbd-85ea-a496da06866d",
   "metadata": {},
   "outputs": [],
   "source": [
    "a2 = a2 ^ b2 "
   ]
  },
  {
   "cell_type": "code",
   "execution_count": 223,
   "id": "de2eae44-6877-4876-836b-79e122622ff5",
   "metadata": {},
   "outputs": [
    {
     "data": {
      "text/plain": [
       "15"
      ]
     },
     "execution_count": 223,
     "metadata": {},
     "output_type": "execute_result"
    }
   ],
   "source": [
    "a2"
   ]
  },
  {
   "cell_type": "code",
   "execution_count": 225,
   "id": "4972eb86-5e00-4da3-8ef8-40b6ef71345d",
   "metadata": {},
   "outputs": [],
   "source": [
    "a2 = a2 ^ b2 \n",
    "b2 = a2 ^ b2\n",
    "a2 = a2 ^ b2"
   ]
  },
  {
   "cell_type": "code",
   "execution_count": 227,
   "id": "d1de6445-8491-4fc0-a106-161d75f9c9fb",
   "metadata": {},
   "outputs": [
    {
     "name": "stdout",
     "output_type": "stream",
     "text": [
      "8\n",
      "15\n"
     ]
    }
   ],
   "source": [
    "print(a2)\n",
    "print(b2)"
   ]
  },
  {
   "cell_type": "code",
   "execution_count": 229,
   "id": "a5cd9cdf-2458-4e30-a573-174104c23495",
   "metadata": {},
   "outputs": [],
   "source": [
    "b2 = a2 ^ b2"
   ]
  },
  {
   "cell_type": "code",
   "execution_count": 231,
   "id": "f682a39c-c049-455f-9754-e609af9f9ba7",
   "metadata": {},
   "outputs": [
    {
     "data": {
      "text/plain": [
       "7"
      ]
     },
     "execution_count": 231,
     "metadata": {},
     "output_type": "execute_result"
    }
   ],
   "source": [
    "b2"
   ]
  },
  {
   "cell_type": "code",
   "execution_count": 235,
   "id": "6327e87a-e0fd-45c4-a6f8-02ae33ccf83b",
   "metadata": {},
   "outputs": [
    {
     "data": {
      "text/plain": [
       "15"
      ]
     },
     "execution_count": 235,
     "metadata": {},
     "output_type": "execute_result"
    }
   ],
   "source": [
    "a2"
   ]
  },
  {
   "cell_type": "code",
   "execution_count": 237,
   "id": "83608c68-aab3-4132-a37f-ab6db454f139",
   "metadata": {},
   "outputs": [
    {
     "name": "stdout",
     "output_type": "stream",
     "text": [
      "15\n"
     ]
    }
   ],
   "source": [
    "print(a2)"
   ]
  },
  {
   "cell_type": "code",
   "execution_count": 239,
   "id": "5f1ec192-d881-4154-a41c-faca568fa1a6",
   "metadata": {},
   "outputs": [],
   "source": [
    "a = 5 \n",
    "b = 6 "
   ]
  },
  {
   "cell_type": "code",
   "execution_count": 241,
   "id": "ffe8feb9-1c57-46b1-acc5-1831bfb70dad",
   "metadata": {},
   "outputs": [],
   "source": [
    "a = a ^ b     # XOR operation \n",
    "b = a ^ b\n",
    "a = a ^ b"
   ]
  },
  {
   "cell_type": "code",
   "execution_count": 243,
   "id": "1ebe1629-94de-4f06-b127-0311e9ad53c3",
   "metadata": {},
   "outputs": [
    {
     "name": "stdout",
     "output_type": "stream",
     "text": [
      "6\n",
      "5\n"
     ]
    }
   ],
   "source": [
    "print(a)\n",
    "print(b)"
   ]
  },
  {
   "cell_type": "code",
   "execution_count": 259,
   "id": "66bfd700-e065-4304-9f2d-94f8edc8f140",
   "metadata": {},
   "outputs": [
    {
     "data": {
      "text/plain": [
       "47"
      ]
     },
     "execution_count": 259,
     "metadata": {},
     "output_type": "execute_result"
    }
   ],
   "source": [
    "45 | 46"
   ]
  },
  {
   "cell_type": "code",
   "execution_count": 261,
   "id": "36c3bf2e-8986-46ca-8b1a-3e80ec3129c7",
   "metadata": {},
   "outputs": [
    {
     "data": {
      "text/plain": [
       "44"
      ]
     },
     "execution_count": 261,
     "metadata": {},
     "output_type": "execute_result"
    }
   ],
   "source": [
    "45 & 46"
   ]
  },
  {
   "cell_type": "code",
   "execution_count": 263,
   "id": "e1d68a6a-d240-4a8d-b86e-fb8f2533503c",
   "metadata": {},
   "outputs": [
    {
     "data": {
      "text/plain": [
       "47"
      ]
     },
     "execution_count": 263,
     "metadata": {},
     "output_type": "execute_result"
    }
   ],
   "source": [
    "47 or 48 "
   ]
  },
  {
   "cell_type": "markdown",
   "id": "492a43c7-da78-40df-afb0-a3078918fa47",
   "metadata": {},
   "source": [
    "# bit wise and operators "
   ]
  },
  {
   "cell_type": "markdown",
   "id": "ccbc669e-c904-4650-b1a7-172b9efef3a9",
   "metadata": {},
   "source": [
    "# complement operator "
   ]
  },
  {
   "cell_type": "code",
   "execution_count": null,
   "id": "2ed0a349-d107-44c9-acc5-e1cbe051c776",
   "metadata": {},
   "outputs": [],
   "source": [
    "# it will results as -ve value with +1"
   ]
  },
  {
   "cell_type": "code",
   "execution_count": 284,
   "id": "b22a1091-63d7-4f5c-95fb-8a8413eb29b3",
   "metadata": {},
   "outputs": [
    {
     "data": {
      "text/plain": [
       "-13"
      ]
     },
     "execution_count": 284,
     "metadata": {},
     "output_type": "execute_result"
    }
   ],
   "source": [
    "~12"
   ]
  },
  {
   "cell_type": "code",
   "execution_count": 286,
   "id": "3dc9a0fa-b5c9-409d-b031-bbcdd7bc8d60",
   "metadata": {},
   "outputs": [
    {
     "data": {
      "text/plain": [
       "-16"
      ]
     },
     "execution_count": 286,
     "metadata": {},
     "output_type": "execute_result"
    }
   ],
   "source": [
    "~15"
   ]
  },
  {
   "cell_type": "code",
   "execution_count": 288,
   "id": "8c26cee2-8c14-407d-9f84-9ce785e0bdf8",
   "metadata": {},
   "outputs": [
    {
     "data": {
      "text/plain": [
       "11"
      ]
     },
     "execution_count": 288,
     "metadata": {},
     "output_type": "execute_result"
    }
   ],
   "source": [
    "~-12"
   ]
  },
  {
   "cell_type": "code",
   "execution_count": 292,
   "id": "681e05a0-5aaf-4cd2-a902-9fdf0ec4259a",
   "metadata": {},
   "outputs": [
    {
     "data": {
      "text/plain": [
       "17"
      ]
     },
     "execution_count": 292,
     "metadata": {},
     "output_type": "execute_result"
    }
   ],
   "source": [
    "~-18"
   ]
  },
  {
   "cell_type": "markdown",
   "id": "becd477d-002f-4a90-bd44-b0cf3cb15c57",
   "metadata": {},
   "source": [
    "# AND OPERATOR "
   ]
  },
  {
   "cell_type": "markdown",
   "id": "283c4e7b-e9ed-465f-9e55-b3d31fe2c94b",
   "metadata": {},
   "source": [
    "# OR OPERATOR "
   ]
  },
  {
   "cell_type": "code",
   "execution_count": null,
   "id": "7443593d-1be5-4721-bfc2-d1d466999750",
   "metadata": {},
   "outputs": [],
   "source": [
    "12 & 13 "
   ]
  },
  {
   "cell_type": "code",
   "execution_count": 268,
   "id": "48d81add-722f-439e-8c84-331c3b8027ae",
   "metadata": {},
   "outputs": [
    {
     "data": {
      "text/plain": [
       "1"
      ]
     },
     "execution_count": 268,
     "metadata": {},
     "output_type": "execute_result"
    }
   ],
   "source": [
    "1 & 1"
   ]
  },
  {
   "cell_type": "code",
   "execution_count": 270,
   "id": "a435dd39-c592-4476-84f5-424ff74bc674",
   "metadata": {},
   "outputs": [
    {
     "data": {
      "text/plain": [
       "1"
      ]
     },
     "execution_count": 270,
     "metadata": {},
     "output_type": "execute_result"
    }
   ],
   "source": [
    "1 | 0 "
   ]
  },
  {
   "cell_type": "code",
   "execution_count": 273,
   "id": "a2ea779b-2a73-4b89-9bb0-49fd4e9e369b",
   "metadata": {},
   "outputs": [
    {
     "data": {
      "text/plain": [
       "0"
      ]
     },
     "execution_count": 273,
     "metadata": {},
     "output_type": "execute_result"
    }
   ],
   "source": [
    "1 & 0 \n"
   ]
  },
  {
   "cell_type": "code",
   "execution_count": 275,
   "id": "e5e56088-9a97-4158-bb78-8f7bb2e0b57c",
   "metadata": {},
   "outputs": [
    {
     "data": {
      "text/plain": [
       "13"
      ]
     },
     "execution_count": 275,
     "metadata": {},
     "output_type": "execute_result"
    }
   ],
   "source": [
    "12 | 13 "
   ]
  },
  {
   "cell_type": "code",
   "execution_count": 279,
   "id": "51cc97de-85ff-4b81-9959-609c630e87c0",
   "metadata": {},
   "outputs": [
    {
     "data": {
      "text/plain": [
       "32"
      ]
     },
     "execution_count": 279,
     "metadata": {},
     "output_type": "execute_result"
    }
   ],
   "source": [
    "35 & 40"
   ]
  },
  {
   "cell_type": "code",
   "execution_count": 281,
   "id": "f98c0353-7fda-41f6-815b-c638f8b11960",
   "metadata": {},
   "outputs": [
    {
     "data": {
      "text/plain": [
       "43"
      ]
     },
     "execution_count": 281,
     "metadata": {},
     "output_type": "execute_result"
    }
   ],
   "source": [
    "35 | 40"
   ]
  },
  {
   "cell_type": "markdown",
   "id": "3b94cc31-299c-4ba4-922c-d3125adef439",
   "metadata": {},
   "source": [
    "# XOR OPERATOR "
   ]
  },
  {
   "cell_type": "markdown",
   "id": "fd1b80ea-bfe4-420a-94cd-d082cef65faf",
   "metadata": {},
   "source": [
    "# xor operator it will always represents with ^"
   ]
  },
  {
   "cell_type": "code",
   "execution_count": 301,
   "id": "097997af-8b5c-44b8-b83e-3aea4aef4ed8",
   "metadata": {},
   "outputs": [
    {
     "data": {
      "text/plain": [
       "1"
      ]
     },
     "execution_count": 301,
     "metadata": {},
     "output_type": "execute_result"
    }
   ],
   "source": [
    "12 ^ 13"
   ]
  },
  {
   "cell_type": "code",
   "execution_count": 303,
   "id": "4e3e94e3-ce82-424c-852d-f269443818da",
   "metadata": {},
   "outputs": [
    {
     "data": {
      "text/plain": [
       "0"
      ]
     },
     "execution_count": 303,
     "metadata": {},
     "output_type": "execute_result"
    }
   ],
   "source": [
    "13 ^ 13"
   ]
  },
  {
   "cell_type": "code",
   "execution_count": 307,
   "id": "7adbe473-d514-4526-879a-8ec513a30c4e",
   "metadata": {},
   "outputs": [
    {
     "data": {
      "text/plain": [
       "7"
      ]
     },
     "execution_count": 307,
     "metadata": {},
     "output_type": "execute_result"
    }
   ],
   "source": [
    "25 ^ 30"
   ]
  },
  {
   "cell_type": "code",
   "execution_count": 309,
   "id": "f3c00ce8-9257-418a-be92-c20585833421",
   "metadata": {},
   "outputs": [
    {
     "data": {
      "text/plain": [
       "'0b11001'"
      ]
     },
     "execution_count": 309,
     "metadata": {},
     "output_type": "execute_result"
    }
   ],
   "source": [
    "bin(25)"
   ]
  },
  {
   "cell_type": "code",
   "execution_count": 311,
   "id": "338c5a59-83c7-4c72-8a5f-7d89b18e5083",
   "metadata": {},
   "outputs": [
    {
     "data": {
      "text/plain": [
       "'0b11110'"
      ]
     },
     "execution_count": 311,
     "metadata": {},
     "output_type": "execute_result"
    }
   ],
   "source": [
    "bin(30)"
   ]
  },
  {
   "cell_type": "code",
   "execution_count": 313,
   "id": "5b557dec-840c-47f6-b667-77d746e37837",
   "metadata": {},
   "outputs": [
    {
     "data": {
      "text/plain": [
       "30"
      ]
     },
     "execution_count": 313,
     "metadata": {},
     "output_type": "execute_result"
    }
   ],
   "source": [
    "int(0b11110)"
   ]
  },
  {
   "cell_type": "markdown",
   "id": "7ecdc368-674e-46e0-83aa-ff60b5ad7fb9",
   "metadata": {},
   "source": [
    "# left shift opereator "
   ]
  },
  {
   "cell_type": "code",
   "execution_count": null,
   "id": "592736f5-72eb-43bf-be25-4a391f48c982",
   "metadata": {},
   "outputs": [],
   "source": [
    "# it will always represent as <<\n",
    "# in leftshift we have to take the values inside from outside of the ponit "
   ]
  },
  {
   "cell_type": "code",
   "execution_count": 316,
   "id": "dc996e00-3931-4fd4-afcf-d3e364ebddca",
   "metadata": {},
   "outputs": [
    {
     "data": {
      "text/plain": [
       "320"
      ]
     },
     "execution_count": 316,
     "metadata": {},
     "output_type": "execute_result"
    }
   ],
   "source": [
    "20 << 4 "
   ]
  },
  {
   "cell_type": "code",
   "execution_count": 318,
   "id": "bd6f8807-1559-48c4-a094-d26ff4f8ca12",
   "metadata": {},
   "outputs": [
    {
     "data": {
      "text/plain": [
       "40"
      ]
     },
     "execution_count": 318,
     "metadata": {},
     "output_type": "execute_result"
    }
   ],
   "source": [
    "10<<2"
   ]
  },
  {
   "cell_type": "code",
   "execution_count": 320,
   "id": "970f9bd9-f384-4a31-b3a8-e1309b7199bd",
   "metadata": {},
   "outputs": [
    {
     "data": {
      "text/plain": [
       "96"
      ]
     },
     "execution_count": 320,
     "metadata": {},
     "output_type": "execute_result"
    }
   ],
   "source": [
    "12 << 3"
   ]
  },
  {
   "cell_type": "markdown",
   "id": "aec62b26-b83f-409f-973a-c0f181a285eb",
   "metadata": {},
   "source": [
    "# right shift operator "
   ]
  },
  {
   "cell_type": "code",
   "execution_count": null,
   "id": "1fa76f9f-2070-48ea-a1a9-2347746fc110",
   "metadata": {},
   "outputs": [],
   "source": [
    "# it is always defined as >> \n",
    "# we can give values to inside the decimal "
   ]
  },
  {
   "cell_type": "code",
   "execution_count": 323,
   "id": "99b9b899-356d-4f00-8ae1-e99761212715",
   "metadata": {},
   "outputs": [
    {
     "data": {
      "text/plain": [
       "2"
      ]
     },
     "execution_count": 323,
     "metadata": {},
     "output_type": "execute_result"
    }
   ],
   "source": [
    "10 >> 2"
   ]
  },
  {
   "cell_type": "code",
   "execution_count": 325,
   "id": "cd518ef4-b763-4726-9470-c50d79fa433d",
   "metadata": {},
   "outputs": [
    {
     "data": {
      "text/plain": [
       "1"
      ]
     },
     "execution_count": 325,
     "metadata": {},
     "output_type": "execute_result"
    }
   ],
   "source": [
    "15 >> 3"
   ]
  },
  {
   "cell_type": "code",
   "execution_count": 327,
   "id": "e1f6fdde-6df4-435d-bd01-251c51698970",
   "metadata": {},
   "outputs": [
    {
     "data": {
      "text/plain": [
       "4"
      ]
     },
     "execution_count": 327,
     "metadata": {},
     "output_type": "execute_result"
    }
   ],
   "source": [
    "35 >> 3"
   ]
  },
  {
   "cell_type": "code",
   "execution_count": 329,
   "id": "fc783df0-d0bc-4f83-89f4-786ed27fcbca",
   "metadata": {},
   "outputs": [
    {
     "data": {
      "text/plain": [
       "'0b11110'"
      ]
     },
     "execution_count": 329,
     "metadata": {},
     "output_type": "execute_result"
    }
   ],
   "source": [
    "bin(30)"
   ]
  },
  {
   "cell_type": "code",
   "execution_count": 331,
   "id": "5b7de13b-90b7-482a-96ed-cf012903d483",
   "metadata": {},
   "outputs": [
    {
     "data": {
      "text/plain": [
       "7"
      ]
     },
     "execution_count": 331,
     "metadata": {},
     "output_type": "execute_result"
    }
   ],
   "source": [
    "30 >> 2"
   ]
  },
  {
   "cell_type": "code",
   "execution_count": null,
   "id": "7551dbf6-d97b-47d9-94c3-479bec5539e6",
   "metadata": {},
   "outputs": [],
   "source": []
  }
 ],
 "metadata": {
  "kernelspec": {
   "display_name": "Python [conda env:base] *",
   "language": "python",
   "name": "conda-base-py"
  },
  "language_info": {
   "codemirror_mode": {
    "name": "ipython",
    "version": 3
   },
   "file_extension": ".py",
   "mimetype": "text/x-python",
   "name": "python",
   "nbconvert_exporter": "python",
   "pygments_lexer": "ipython3",
   "version": "3.12.7"
  }
 },
 "nbformat": 4,
 "nbformat_minor": 5
}
