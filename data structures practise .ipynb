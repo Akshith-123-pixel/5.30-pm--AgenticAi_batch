{
 "cells": [
  {
   "cell_type": "code",
   "execution_count": 1,
   "id": "962ee66e-f9b9-4049-b3ec-8a175d3b999b",
   "metadata": {},
   "outputs": [
    {
     "data": {
      "text/plain": [
       "[10]"
      ]
     },
     "execution_count": 1,
     "metadata": {},
     "output_type": "execute_result"
    }
   ],
   "source": [
    "l = [10]\n",
    "l"
   ]
  },
  {
   "cell_type": "code",
   "execution_count": 3,
   "id": "f63c4d63-8ad1-4dfb-a5b9-2feffe21bd39",
   "metadata": {},
   "outputs": [],
   "source": [
    "l.append(20)\n",
    "l.append(30)\n",
    "l.append(40)\n",
    "l.append(50)"
   ]
  },
  {
   "cell_type": "code",
   "execution_count": 5,
   "id": "0ccbf2d7-0e6d-45d6-88b4-70468feef3f6",
   "metadata": {},
   "outputs": [
    {
     "data": {
      "text/plain": [
       "[10, 20, 30, 40, 50]"
      ]
     },
     "execution_count": 5,
     "metadata": {},
     "output_type": "execute_result"
    }
   ],
   "source": [
    "l\n"
   ]
  },
  {
   "cell_type": "code",
   "execution_count": 7,
   "id": "10f6d241-f32d-441f-b44d-0b0e2e7c955c",
   "metadata": {},
   "outputs": [
    {
     "ename": "TypeError",
     "evalue": "list.append() takes exactly one argument (3 given)",
     "output_type": "error",
     "traceback": [
      "\u001b[1;31m---------------------------------------------------------------------------\u001b[0m",
      "\u001b[1;31mTypeError\u001b[0m                                 Traceback (most recent call last)",
      "Cell \u001b[1;32mIn[7], line 1\u001b[0m\n\u001b[1;32m----> 1\u001b[0m l\u001b[38;5;241m.\u001b[39mappend(\u001b[38;5;241m60\u001b[39m,\u001b[38;5;241m70\u001b[39m,\u001b[38;5;241m80\u001b[39m)\n",
      "\u001b[1;31mTypeError\u001b[0m: list.append() takes exactly one argument (3 given)"
     ]
    }
   ],
   "source": [
    "l.append(60,70,80) #it will not accept multiple valuess "
   ]
  },
  {
   "cell_type": "code",
   "execution_count": 9,
   "id": "cde5f11a-70e0-4b21-9413-ab420d110fa7",
   "metadata": {},
   "outputs": [
    {
     "data": {
      "text/plain": [
       "list"
      ]
     },
     "execution_count": 9,
     "metadata": {},
     "output_type": "execute_result"
    }
   ],
   "source": [
    "type(l)"
   ]
  },
  {
   "cell_type": "code",
   "execution_count": 13,
   "id": "e1715211-255c-4678-88c7-609671bb266c",
   "metadata": {},
   "outputs": [
    {
     "data": {
      "text/plain": [
       "5"
      ]
     },
     "execution_count": 13,
     "metadata": {},
     "output_type": "execute_result"
    }
   ],
   "source": [
    "len(l)\n"
   ]
  },
  {
   "cell_type": "code",
   "execution_count": 15,
   "id": "018c0c24-054c-49b7-b8e1-4014932b98eb",
   "metadata": {},
   "outputs": [],
   "source": [
    "l.append(10)\n",
    "l.append('iit')\n",
    "l.append(10.3)\n",
    "l.append(2+8j)"
   ]
  },
  {
   "cell_type": "code",
   "execution_count": 17,
   "id": "0810295d-c5ba-4f26-aa27-51757b7ddede",
   "metadata": {},
   "outputs": [
    {
     "data": {
      "text/plain": [
       "[10, 20, 30, 40, 50, 10, 'iit', 10.3, (2+8j)]"
      ]
     },
     "execution_count": 17,
     "metadata": {},
     "output_type": "execute_result"
    }
   ],
   "source": [
    "l"
   ]
  },
  {
   "cell_type": "code",
   "execution_count": 19,
   "id": "221709fe-ec41-4999-a9de-b3c5f0648574",
   "metadata": {},
   "outputs": [
    {
     "data": {
      "text/plain": [
       "9"
      ]
     },
     "execution_count": 19,
     "metadata": {},
     "output_type": "execute_result"
    }
   ],
   "source": [
    "len(l)"
   ]
  },
  {
   "cell_type": "code",
   "execution_count": 23,
   "id": "b0213355-1555-4bb8-aba2-92dd17e850ea",
   "metadata": {},
   "outputs": [],
   "source": [
    "l1 = l.copy()"
   ]
  },
  {
   "cell_type": "code",
   "execution_count": 25,
   "id": "81e8de8a-346a-4fb9-a707-0ce1ca1172dc",
   "metadata": {},
   "outputs": [
    {
     "data": {
      "text/plain": [
       "[10, 20, 30, 40, 50, 10, 'iit', 10.3, (2+8j)]"
      ]
     },
     "execution_count": 25,
     "metadata": {},
     "output_type": "execute_result"
    }
   ],
   "source": [
    "l1"
   ]
  },
  {
   "cell_type": "code",
   "execution_count": 27,
   "id": "684a1a70-5f99-406a-ba56-aa05bc66c58e",
   "metadata": {},
   "outputs": [
    {
     "data": {
      "text/plain": [
       "9"
      ]
     },
     "execution_count": 27,
     "metadata": {},
     "output_type": "execute_result"
    }
   ],
   "source": [
    "len(l1)\n"
   ]
  },
  {
   "cell_type": "code",
   "execution_count": 29,
   "id": "2de2ff61-0319-435d-9633-7433ee83fa61",
   "metadata": {},
   "outputs": [
    {
     "data": {
      "text/plain": [
       "True"
      ]
     },
     "execution_count": 29,
     "metadata": {},
     "output_type": "execute_result"
    }
   ],
   "source": [
    "l == l1\n"
   ]
  },
  {
   "cell_type": "code",
   "execution_count": 31,
   "id": "9bfc6cd8-4477-495b-9388-fd92546868c7",
   "metadata": {},
   "outputs": [
    {
     "data": {
      "text/plain": [
       "[10, 20, 30, 40, 50, 10, 'iit', 10.3, (2+8j), 80]"
      ]
     },
     "execution_count": 31,
     "metadata": {},
     "output_type": "execute_result"
    }
   ],
   "source": [
    "l.append(80)\n",
    "l"
   ]
  },
  {
   "cell_type": "code",
   "execution_count": 33,
   "id": "9ed0f633-e745-4e27-9de2-52735e82e613",
   "metadata": {},
   "outputs": [
    {
     "data": {
      "text/plain": [
       "False"
      ]
     },
     "execution_count": 33,
     "metadata": {},
     "output_type": "execute_result"
    }
   ],
   "source": [
    "l == l1"
   ]
  },
  {
   "cell_type": "code",
   "execution_count": 37,
   "id": "17e1361f-9c84-4ed2-84e6-967d78102dc2",
   "metadata": {},
   "outputs": [
    {
     "data": {
      "text/plain": [
       "9"
      ]
     },
     "execution_count": 37,
     "metadata": {},
     "output_type": "execute_result"
    }
   ],
   "source": [
    "l.index(80)\n"
   ]
  },
  {
   "cell_type": "code",
   "execution_count": 39,
   "id": "c6722236-bcc9-4dcc-8000-2d0e75ff9254",
   "metadata": {},
   "outputs": [],
   "source": [
    "l2 = l.copy()"
   ]
  },
  {
   "cell_type": "code",
   "execution_count": 41,
   "id": "9fe0a988-f9e3-4546-800c-c58372c9fc62",
   "metadata": {},
   "outputs": [
    {
     "data": {
      "text/plain": [
       "[10, 20, 30, 40, 50, 10, 'iit', 10.3, (2+8j), 80]"
      ]
     },
     "execution_count": 41,
     "metadata": {},
     "output_type": "execute_result"
    }
   ],
   "source": [
    "l2"
   ]
  },
  {
   "cell_type": "code",
   "execution_count": 43,
   "id": "46fbeea6-b198-47d8-855b-6bb4d9310e6e",
   "metadata": {},
   "outputs": [
    {
     "data": {
      "text/plain": [
       "True"
      ]
     },
     "execution_count": 43,
     "metadata": {},
     "output_type": "execute_result"
    }
   ],
   "source": [
    "l == l2"
   ]
  },
  {
   "cell_type": "code",
   "execution_count": 45,
   "id": "d444c122-435d-4bb5-87c8-cd9325711108",
   "metadata": {},
   "outputs": [
    {
     "data": {
      "text/plain": [
       "False"
      ]
     },
     "execution_count": 45,
     "metadata": {},
     "output_type": "execute_result"
    }
   ],
   "source": [
    "l1 == l2"
   ]
  },
  {
   "cell_type": "code",
   "execution_count": 47,
   "id": "0c10de42-0f0e-46f9-8f80-a623b9adc935",
   "metadata": {},
   "outputs": [
    {
     "data": {
      "text/plain": [
       "[10, 20, 30, 40, 50, 10, 'iit', 10.3, (2+8j), 80]"
      ]
     },
     "execution_count": 47,
     "metadata": {},
     "output_type": "execute_result"
    }
   ],
   "source": [
    "l"
   ]
  },
  {
   "cell_type": "code",
   "execution_count": 49,
   "id": "6e8be586-7b98-4158-9bf4-f73eebd2ba50",
   "metadata": {},
   "outputs": [
    {
     "data": {
      "text/plain": [
       "10"
      ]
     },
     "execution_count": 49,
     "metadata": {},
     "output_type": "execute_result"
    }
   ],
   "source": [
    "len(l2)"
   ]
  },
  {
   "cell_type": "code",
   "execution_count": 51,
   "id": "00a3e202-1325-4a15-bd05-bb10758031dd",
   "metadata": {},
   "outputs": [
    {
     "name": "stdout",
     "output_type": "stream",
     "text": [
      "[10, 20, 30, 40, 50, 10, 'iit', 10.3, (2+8j), 80]\n",
      "[10, 20, 30, 40, 50, 10, 'iit', 10.3, (2+8j)]\n",
      "[10, 20, 30, 40, 50, 10, 'iit', 10.3, (2+8j), 80]\n"
     ]
    }
   ],
   "source": [
    "print(l)\n",
    "print(l1)\n",
    "print(l2)"
   ]
  },
  {
   "cell_type": "code",
   "execution_count": 53,
   "id": "97b63878-ab40-4398-9f77-00bd97684fee",
   "metadata": {},
   "outputs": [
    {
     "data": {
      "text/plain": [
       "[10, 20, 30, 40, 50, 10, 'iit', 10.3, (2+8j), 80]"
      ]
     },
     "execution_count": 53,
     "metadata": {},
     "output_type": "execute_result"
    }
   ],
   "source": [
    "l[:]"
   ]
  },
  {
   "cell_type": "code",
   "execution_count": 55,
   "id": "d5dff5d2-6d55-40f9-b570-ee4c5482edee",
   "metadata": {},
   "outputs": [
    {
     "data": {
      "text/plain": [
       "[10, 20, 30]"
      ]
     },
     "execution_count": 55,
     "metadata": {},
     "output_type": "execute_result"
    }
   ],
   "source": [
    "l[:3]"
   ]
  },
  {
   "cell_type": "code",
   "execution_count": 57,
   "id": "01adeb47-7109-4c41-8884-808ce4972ec5",
   "metadata": {},
   "outputs": [
    {
     "data": {
      "text/plain": [
       "[50, 10, 'iit', 10.3, (2+8j), 80]"
      ]
     },
     "execution_count": 57,
     "metadata": {},
     "output_type": "execute_result"
    }
   ],
   "source": [
    "l[4:]"
   ]
  },
  {
   "cell_type": "code",
   "execution_count": 59,
   "id": "c4a28a86-e271-4244-9921-bc3fd038c150",
   "metadata": {},
   "outputs": [
    {
     "data": {
      "text/plain": [
       "[10, 20, 30, 40, 50]"
      ]
     },
     "execution_count": 59,
     "metadata": {},
     "output_type": "execute_result"
    }
   ],
   "source": [
    "l[:5]"
   ]
  },
  {
   "cell_type": "code",
   "execution_count": 61,
   "id": "e51f7eda-3ef9-4173-8c94-16ba9b4b844d",
   "metadata": {},
   "outputs": [
    {
     "data": {
      "text/plain": [
       "[10.3, (2+8j), 80]"
      ]
     },
     "execution_count": 61,
     "metadata": {},
     "output_type": "execute_result"
    }
   ],
   "source": [
    "l[7:]"
   ]
  },
  {
   "cell_type": "code",
   "execution_count": 63,
   "id": "698a25e3-41da-49c2-8263-1a2c3adbfa03",
   "metadata": {},
   "outputs": [
    {
     "data": {
      "text/plain": [
       "[10, 20, 30, 40, 50, 10, 'iit', 10.3, (2+8j)]"
      ]
     },
     "execution_count": 63,
     "metadata": {},
     "output_type": "execute_result"
    }
   ],
   "source": [
    "l[:-1]"
   ]
  },
  {
   "cell_type": "code",
   "execution_count": 65,
   "id": "bf5088b8-62a5-4710-b5ce-cb78b90c7dda",
   "metadata": {},
   "outputs": [
    {
     "data": {
      "text/plain": [
       "[10, 20, 30, 40, 50, 10, 'iit']"
      ]
     },
     "execution_count": 65,
     "metadata": {},
     "output_type": "execute_result"
    }
   ],
   "source": [
    "l[:-3]"
   ]
  },
  {
   "cell_type": "code",
   "execution_count": 67,
   "id": "09564730-4ae7-4e82-abe4-d8e7f7be413f",
   "metadata": {},
   "outputs": [],
   "source": [
    "l2.clear()    #l2 has cleraed "
   ]
  },
  {
   "cell_type": "code",
   "execution_count": 69,
   "id": "d3b62b35-3d03-4e22-a4bc-4d7dd62c2068",
   "metadata": {},
   "outputs": [
    {
     "data": {
      "text/plain": [
       "[]"
      ]
     },
     "execution_count": 69,
     "metadata": {},
     "output_type": "execute_result"
    }
   ],
   "source": [
    "l2"
   ]
  },
  {
   "cell_type": "code",
   "execution_count": 71,
   "id": "733c705c-65bf-4ed1-b61b-44326257cb7f",
   "metadata": {},
   "outputs": [],
   "source": [
    "del(l2)      #in this l2 deleted the variables "
   ]
  },
  {
   "cell_type": "code",
   "execution_count": 73,
   "id": "3cb42e26-be3f-4645-ba9e-58376c80f751",
   "metadata": {},
   "outputs": [
    {
     "ename": "NameError",
     "evalue": "name 'l2' is not defined",
     "output_type": "error",
     "traceback": [
      "\u001b[1;31m---------------------------------------------------------------------------\u001b[0m",
      "\u001b[1;31mNameError\u001b[0m                                 Traceback (most recent call last)",
      "Cell \u001b[1;32mIn[73], line 1\u001b[0m\n\u001b[1;32m----> 1\u001b[0m l2\n",
      "\u001b[1;31mNameError\u001b[0m: name 'l2' is not defined"
     ]
    }
   ],
   "source": [
    "l2"
   ]
  },
  {
   "cell_type": "code",
   "execution_count": 75,
   "id": "5282515f-b0b7-4c0b-bc96-833a30eaf8d9",
   "metadata": {},
   "outputs": [
    {
     "ename": "NameError",
     "evalue": "name 'l2' is not defined",
     "output_type": "error",
     "traceback": [
      "\u001b[1;31m---------------------------------------------------------------------------\u001b[0m",
      "\u001b[1;31mNameError\u001b[0m                                 Traceback (most recent call last)",
      "Cell \u001b[1;32mIn[75], line 1\u001b[0m\n\u001b[1;32m----> 1\u001b[0m l2\n",
      "\u001b[1;31mNameError\u001b[0m: name 'l2' is not defined"
     ]
    }
   ],
   "source": [
    "l2"
   ]
  },
  {
   "cell_type": "code",
   "execution_count": 77,
   "id": "da15f5e1-61a2-4abd-8a83-debcc17b399e",
   "metadata": {},
   "outputs": [
    {
     "data": {
      "text/plain": [
       "[10, 20, 30, 40, 50, 10, 'iit', 10.3, (2+8j), 80]"
      ]
     },
     "execution_count": 77,
     "metadata": {},
     "output_type": "execute_result"
    }
   ],
   "source": [
    "l"
   ]
  },
  {
   "cell_type": "code",
   "execution_count": 79,
   "id": "b2a04c48-4b36-4e62-81b8-2950ea88e0e4",
   "metadata": {},
   "outputs": [
    {
     "data": {
      "text/plain": [
       "7"
      ]
     },
     "execution_count": 79,
     "metadata": {},
     "output_type": "execute_result"
    }
   ],
   "source": [
    "l.index(10.3)"
   ]
  },
  {
   "cell_type": "code",
   "execution_count": 81,
   "id": "eaf2b103-792e-4c66-b46e-a028704d5722",
   "metadata": {},
   "outputs": [
    {
     "data": {
      "text/plain": [
       "6"
      ]
     },
     "execution_count": 81,
     "metadata": {},
     "output_type": "execute_result"
    }
   ],
   "source": [
    "l.index('iit')"
   ]
  },
  {
   "cell_type": "code",
   "execution_count": 85,
   "id": "ec0f5ed3-4952-412f-b5c7-a04df6c58892",
   "metadata": {},
   "outputs": [],
   "source": [
    "nums = [10,20,30]"
   ]
  },
  {
   "cell_type": "code",
   "execution_count": 87,
   "id": "d737a151-9f6f-43c2-987c-d5337d797c57",
   "metadata": {},
   "outputs": [
    {
     "data": {
      "text/plain": [
       "[10, 20, 30]"
      ]
     },
     "execution_count": 87,
     "metadata": {},
     "output_type": "execute_result"
    }
   ],
   "source": [
    "nums"
   ]
  },
  {
   "cell_type": "code",
   "execution_count": 91,
   "id": "635fbbce-54e7-4386-9f93-42a1e446b04d",
   "metadata": {},
   "outputs": [
    {
     "data": {
      "text/plain": [
       "30"
      ]
     },
     "execution_count": 91,
     "metadata": {},
     "output_type": "execute_result"
    }
   ],
   "source": [
    "nums[-1]"
   ]
  },
  {
   "cell_type": "code",
   "execution_count": 95,
   "id": "c3e9e971-5f01-4660-a52a-9f7cfd1514b6",
   "metadata": {},
   "outputs": [
    {
     "data": {
      "text/plain": [
       "[10, 20]"
      ]
     },
     "execution_count": 95,
     "metadata": {},
     "output_type": "execute_result"
    }
   ],
   "source": [
    "nums[:2]"
   ]
  },
  {
   "cell_type": "code",
   "execution_count": 97,
   "id": "ee5f2b68-cd65-442e-b3c8-e86381937c93",
   "metadata": {},
   "outputs": [],
   "source": [
    "num1 = 'hi' , 'bye'"
   ]
  },
  {
   "cell_type": "code",
   "execution_count": 99,
   "id": "1406a312-2696-46a0-84ff-a5df25680837",
   "metadata": {},
   "outputs": [
    {
     "data": {
      "text/plain": [
       "('hi', 'bye')"
      ]
     },
     "execution_count": 99,
     "metadata": {},
     "output_type": "execute_result"
    }
   ],
   "source": [
    "num1"
   ]
  },
  {
   "cell_type": "code",
   "execution_count": 101,
   "id": "26d251d4-50a5-4da2-b7a7-7e8f3765fcd0",
   "metadata": {},
   "outputs": [
    {
     "data": {
      "text/plain": [
       "'uday waste fellow'"
      ]
     },
     "execution_count": 101,
     "metadata": {},
     "output_type": "execute_result"
    }
   ],
   "source": [
    "num2 =  'uday waste fellow'\n",
    "num2"
   ]
  },
  {
   "cell_type": "code",
   "execution_count": 105,
   "id": "7f26b75e-b301-4687-85eb-f97dfe87b9b6",
   "metadata": {},
   "outputs": [
    {
     "data": {
      "text/plain": [
       "(('hi', 'bye'), 'uday waste fellow')"
      ]
     },
     "execution_count": 105,
     "metadata": {},
     "output_type": "execute_result"
    }
   ],
   "source": [
    "nums = num1 , num2 \n",
    "nums"
   ]
  },
  {
   "cell_type": "code",
   "execution_count": 111,
   "id": "42ae0ed7-922e-4a9d-8eec-c65141cc00cc",
   "metadata": {},
   "outputs": [
    {
     "data": {
      "text/plain": [
       "(('hi', 'bye'), 'uday waste fellow')"
      ]
     },
     "execution_count": 111,
     "metadata": {},
     "output_type": "execute_result"
    }
   ],
   "source": [
    "nums"
   ]
  },
  {
   "cell_type": "code",
   "execution_count": 123,
   "id": "95643765-e37e-4d6d-b259-2624f182598d",
   "metadata": {},
   "outputs": [
    {
     "data": {
      "text/plain": [
       "[10, 20, 30, 40]"
      ]
     },
     "execution_count": 123,
     "metadata": {},
     "output_type": "execute_result"
    }
   ],
   "source": [
    "nums = [10,20,30,40]\n",
    "nums"
   ]
  },
  {
   "cell_type": "code",
   "execution_count": 121,
   "id": "7caebfac-8d03-4d51-b5fa-fe28d2cf3c35",
   "metadata": {},
   "outputs": [
    {
     "data": {
      "text/plain": [
       "[10]"
      ]
     },
     "execution_count": 121,
     "metadata": {},
     "output_type": "execute_result"
    }
   ],
   "source": [
    "l = [10]\n",
    "l"
   ]
  },
  {
   "cell_type": "code",
   "execution_count": 125,
   "id": "857dad06-db61-4f82-9f5d-b01da7190aaa",
   "metadata": {},
   "outputs": [],
   "source": [
    "nums.append(50)"
   ]
  },
  {
   "cell_type": "code",
   "execution_count": 127,
   "id": "340a31fe-7635-40ee-9377-e27a41de922b",
   "metadata": {},
   "outputs": [
    {
     "data": {
      "text/plain": [
       "[10, 20, 30, 40, 50]"
      ]
     },
     "execution_count": 127,
     "metadata": {},
     "output_type": "execute_result"
    }
   ],
   "source": [
    "nums"
   ]
  },
  {
   "cell_type": "code",
   "execution_count": 129,
   "id": "a1ca92f2-6655-4cdd-a4cc-ea5de5a26204",
   "metadata": {},
   "outputs": [
    {
     "data": {
      "text/plain": [
       "[10, 20, 30, 40]"
      ]
     },
     "execution_count": 129,
     "metadata": {},
     "output_type": "execute_result"
    }
   ],
   "source": [
    "nums.remove(50)\n",
    "nums"
   ]
  },
  {
   "cell_type": "code",
   "execution_count": 137,
   "id": "9c47fae7-fd05-4034-8be0-d06195788fcb",
   "metadata": {},
   "outputs": [
    {
     "data": {
      "text/plain": [
       "[10, 20]"
      ]
     },
     "execution_count": 137,
     "metadata": {},
     "output_type": "execute_result"
    }
   ],
   "source": [
    "nums"
   ]
  },
  {
   "cell_type": "code",
   "execution_count": 141,
   "id": "c6e3ea25-a6b7-44ba-9f69-6cdfecf3f71a",
   "metadata": {},
   "outputs": [
    {
     "data": {
      "text/plain": [
       "[50, 60, 70, 80]"
      ]
     },
     "execution_count": 141,
     "metadata": {},
     "output_type": "execute_result"
    }
   ],
   "source": [
    "nums = [50,60,70,80]\n",
    "nums"
   ]
  },
  {
   "cell_type": "code",
   "execution_count": 143,
   "id": "7fe15938-1a85-4698-9c05-18c2a66ca353",
   "metadata": {},
   "outputs": [
    {
     "data": {
      "text/plain": [
       "80"
      ]
     },
     "execution_count": 143,
     "metadata": {},
     "output_type": "execute_result"
    }
   ],
   "source": [
    "nums.pop(3)"
   ]
  },
  {
   "cell_type": "code",
   "execution_count": 145,
   "id": "f742bffe-f0d5-4e8e-b6bd-6cf18d2f4fd4",
   "metadata": {},
   "outputs": [
    {
     "data": {
      "text/plain": [
       "[50, 60, 70]"
      ]
     },
     "execution_count": 145,
     "metadata": {},
     "output_type": "execute_result"
    }
   ],
   "source": [
    "nums"
   ]
  },
  {
   "cell_type": "code",
   "execution_count": 147,
   "id": "376ac2b3-0f62-456e-985a-71b399c78fd4",
   "metadata": {},
   "outputs": [
    {
     "data": {
      "text/plain": [
       "60"
      ]
     },
     "execution_count": 147,
     "metadata": {},
     "output_type": "execute_result"
    }
   ],
   "source": [
    "nums.pop(1)"
   ]
  },
  {
   "cell_type": "code",
   "execution_count": 149,
   "id": "fcb4ae22-d183-428c-b366-9f4b01be2b15",
   "metadata": {},
   "outputs": [
    {
     "data": {
      "text/plain": [
       "[50, 70]"
      ]
     },
     "execution_count": 149,
     "metadata": {},
     "output_type": "execute_result"
    }
   ],
   "source": [
    "nums"
   ]
  },
  {
   "cell_type": "code",
   "execution_count": 159,
   "id": "1b1804cc-2cab-4789-9a6b-45cd2c64b170",
   "metadata": {},
   "outputs": [],
   "source": [
    "nums.insert(10,20)  #10 was an index number and 20 was an object or elemnt will be insterted "
   ]
  },
  {
   "cell_type": "code",
   "execution_count": 155,
   "id": "a0969f2b-cffb-486c-be42-483ff16c532b",
   "metadata": {},
   "outputs": [
    {
     "data": {
      "text/plain": [
       "[50, 70, 20]"
      ]
     },
     "execution_count": 155,
     "metadata": {},
     "output_type": "execute_result"
    }
   ],
   "source": [
    "nums"
   ]
  },
  {
   "cell_type": "code",
   "execution_count": 161,
   "id": "b9c1c9e3-0e56-4c17-a142-2cf0b8597ba0",
   "metadata": {},
   "outputs": [],
   "source": [
    "nums.insert(1,30)   #for example"
   ]
  },
  {
   "cell_type": "code",
   "execution_count": 163,
   "id": "b049804b-c323-486d-899b-f4c29f3f31bd",
   "metadata": {},
   "outputs": [
    {
     "data": {
      "text/plain": [
       "[50, 30, 70, 20, 20]"
      ]
     },
     "execution_count": 163,
     "metadata": {},
     "output_type": "execute_result"
    }
   ],
   "source": [
    "nums"
   ]
  },
  {
   "cell_type": "code",
   "execution_count": 173,
   "id": "632cc8c3-2e11-4578-b314-82cde0ce43b0",
   "metadata": {},
   "outputs": [],
   "source": [
    "nums.extend([20 , 30])        #it will extend list from the last elemenet "
   ]
  },
  {
   "cell_type": "code",
   "execution_count": 175,
   "id": "ed4a2482-1311-4105-85f3-0ad2310d00da",
   "metadata": {},
   "outputs": [
    {
     "data": {
      "text/plain": [
       "[50, 30, 70, 20, 20, 20, 30]"
      ]
     },
     "execution_count": 175,
     "metadata": {},
     "output_type": "execute_result"
    }
   ],
   "source": [
    "nums"
   ]
  },
  {
   "cell_type": "code",
   "execution_count": 177,
   "id": "e8f8599b-31dc-4105-969b-d4ed70f4bc85",
   "metadata": {},
   "outputs": [],
   "source": [
    "nums.extend([30])        #it will extend list from the last elemenet "
   ]
  },
  {
   "cell_type": "code",
   "execution_count": 179,
   "id": "dd40db81-0706-413b-880b-4a4568e53d5a",
   "metadata": {},
   "outputs": [
    {
     "data": {
      "text/plain": [
       "[50, 30, 70, 20, 20, 20, 30, 30]"
      ]
     },
     "execution_count": 179,
     "metadata": {},
     "output_type": "execute_result"
    }
   ],
   "source": [
    "nums"
   ]
  },
  {
   "cell_type": "code",
   "execution_count": 181,
   "id": "abe018f5-9dd6-42ca-b643-35707820cbba",
   "metadata": {},
   "outputs": [],
   "source": [
    "nums.extend(['a',50])"
   ]
  },
  {
   "cell_type": "code",
   "execution_count": 183,
   "id": "6c695df3-8ebe-4e9f-aa5b-d9a58e3e469d",
   "metadata": {},
   "outputs": [
    {
     "data": {
      "text/plain": [
       "[50, 30, 70, 20, 20, 20, 30, 30, 'a', 50]"
      ]
     },
     "execution_count": 183,
     "metadata": {},
     "output_type": "execute_result"
    }
   ],
   "source": [
    "nums"
   ]
  },
  {
   "cell_type": "code",
   "execution_count": 187,
   "id": "8588e014-d98a-41af-834a-5c1a509ce79c",
   "metadata": {},
   "outputs": [
    {
     "data": {
      "text/plain": [
       "10"
      ]
     },
     "execution_count": 187,
     "metadata": {},
     "output_type": "execute_result"
    }
   ],
   "source": [
    "len(nums)"
   ]
  },
  {
   "cell_type": "code",
   "execution_count": 191,
   "id": "0ad3b85b-b614-40ae-b633-117920f6d9cd",
   "metadata": {},
   "outputs": [],
   "source": [
    "nums.remove('a')"
   ]
  },
  {
   "cell_type": "code",
   "execution_count": 193,
   "id": "175f3f48-9618-4204-801a-97d489a1eb65",
   "metadata": {},
   "outputs": [
    {
     "data": {
      "text/plain": [
       "[20, 20, 20, 30, 30, 30, 50, 70, 50]"
      ]
     },
     "execution_count": 193,
     "metadata": {},
     "output_type": "execute_result"
    }
   ],
   "source": [
    "nums"
   ]
  },
  {
   "cell_type": "code",
   "execution_count": 195,
   "id": "ec0e2475-368f-4fc1-b3b9-ac097fd5f337",
   "metadata": {},
   "outputs": [],
   "source": [
    "nums.sort()      # accending order sort means "
   ]
  },
  {
   "cell_type": "code",
   "execution_count": 197,
   "id": "dc7222f2-2741-4c54-83ed-622c6a651ecc",
   "metadata": {},
   "outputs": [
    {
     "data": {
      "text/plain": [
       "[20, 20, 20, 30, 30, 30, 50, 50, 70]"
      ]
     },
     "execution_count": 197,
     "metadata": {},
     "output_type": "execute_result"
    }
   ],
   "source": [
    "nums"
   ]
  },
  {
   "cell_type": "code",
   "execution_count": 199,
   "id": "6c65a57c-f774-4476-ae0d-ba716f20a7d2",
   "metadata": {},
   "outputs": [],
   "source": [
    "nums.reverse()        # it will reverse the elemnts "
   ]
  },
  {
   "cell_type": "code",
   "execution_count": 201,
   "id": "4f11ef1a-458f-44b0-bcdd-669e94525948",
   "metadata": {},
   "outputs": [
    {
     "data": {
      "text/plain": [
       "[70, 50, 50, 30, 30, 30, 20, 20, 20]"
      ]
     },
     "execution_count": 201,
     "metadata": {},
     "output_type": "execute_result"
    }
   ],
   "source": [
    "nums"
   ]
  },
  {
   "cell_type": "code",
   "execution_count": 203,
   "id": "8b4dd853-1b59-48c1-a4d6-5b5862ca5999",
   "metadata": {},
   "outputs": [],
   "source": [
    "tup = (10,20,30)\n"
   ]
  },
  {
   "cell_type": "code",
   "execution_count": 205,
   "id": "e9b1087b-7b39-41ef-9ae6-433fb97801e2",
   "metadata": {},
   "outputs": [
    {
     "data": {
      "text/plain": [
       "(10, 20, 30)"
      ]
     },
     "execution_count": 205,
     "metadata": {},
     "output_type": "execute_result"
    }
   ],
   "source": [
    "tup"
   ]
  },
  {
   "cell_type": "code",
   "execution_count": 211,
   "id": "2aeadf1c-eaaa-4b1d-80a9-6667fc34faa8",
   "metadata": {},
   "outputs": [
    {
     "data": {
      "text/plain": [
       "1"
      ]
     },
     "execution_count": 211,
     "metadata": {},
     "output_type": "execute_result"
    }
   ],
   "source": [
    "tup.count(20)  #it will count the elements how many are in the list 10 "
   ]
  },
  {
   "cell_type": "code",
   "execution_count": 213,
   "id": "f6a1f13f-4e13-4dbf-83bb-56b51cfe473d",
   "metadata": {},
   "outputs": [],
   "source": [
    "tup = (20,30,40,20,30,40)"
   ]
  },
  {
   "cell_type": "code",
   "execution_count": 215,
   "id": "7e18d0cd-3152-4efc-9bd3-4c657c2e9e21",
   "metadata": {},
   "outputs": [
    {
     "data": {
      "text/plain": [
       "(20, 30, 40, 20, 30, 40)"
      ]
     },
     "execution_count": 215,
     "metadata": {},
     "output_type": "execute_result"
    }
   ],
   "source": [
    "tup"
   ]
  },
  {
   "cell_type": "code",
   "execution_count": 217,
   "id": "258b4612-d9c3-4a32-bdca-56bb6e7f2ba1",
   "metadata": {},
   "outputs": [
    {
     "data": {
      "text/plain": [
       "2"
      ]
     },
     "execution_count": 217,
     "metadata": {},
     "output_type": "execute_result"
    }
   ],
   "source": [
    "tup.count(20)"
   ]
  },
  {
   "cell_type": "code",
   "execution_count": 227,
   "id": "4fc86f49-45f1-4a76-a43b-6dc61bce2f60",
   "metadata": {},
   "outputs": [
    {
     "data": {
      "text/plain": [
       "1"
      ]
     },
     "execution_count": 227,
     "metadata": {},
     "output_type": "execute_result"
    }
   ],
   "source": [
    "tup.index(30)      # index means it will count the which the number is present like place of the numbetr "
   ]
  },
  {
   "cell_type": "markdown",
   "id": "07c7e11a-b328-4d99-be32-e8850b3f29f3",
   "metadata": {},
   "source": [
    "#set"
   ]
  },
  {
   "cell_type": "code",
   "execution_count": 3,
   "id": "3f5afec2-f695-4828-96cb-2490273c2ed7",
   "metadata": {},
   "outputs": [
    {
     "data": {
      "text/plain": [
       "{10, 20, 30, 40, 50}"
      ]
     },
     "execution_count": 3,
     "metadata": {},
     "output_type": "execute_result"
    }
   ],
   "source": [
    "s = {10,20,30,40,50}\n",
    "s"
   ]
  },
  {
   "cell_type": "code",
   "execution_count": 5,
   "id": "ac6dfc13-6ec5-4cd6-b190-15836090c0f8",
   "metadata": {},
   "outputs": [],
   "source": [
    "s1 = {'nit' , 'iit' , 'akshith'}"
   ]
  },
  {
   "cell_type": "code",
   "execution_count": 7,
   "id": "d7c9aa29-deec-46dd-adf3-6bd9e9f630ec",
   "metadata": {},
   "outputs": [
    {
     "data": {
      "text/plain": [
       "{'akshith', 'iit', 'nit'}"
      ]
     },
     "execution_count": 7,
     "metadata": {},
     "output_type": "execute_result"
    }
   ],
   "source": [
    "s1"
   ]
  },
  {
   "cell_type": "code",
   "execution_count": 9,
   "id": "a5048d34-87f2-4e42-b5d4-97f7c4a19eea",
   "metadata": {},
   "outputs": [
    {
     "data": {
      "text/plain": [
       "False"
      ]
     },
     "execution_count": 9,
     "metadata": {},
     "output_type": "execute_result"
    }
   ],
   "source": [
    "s == s1"
   ]
  },
  {
   "cell_type": "code",
   "execution_count": 11,
   "id": "05d9ee26-d00e-4f0d-8c32-c64fb946c798",
   "metadata": {},
   "outputs": [],
   "source": [
    "s1 = s.copy()"
   ]
  },
  {
   "cell_type": "code",
   "execution_count": 13,
   "id": "b9a2f86c-49aa-4ee2-8418-4ac116b80210",
   "metadata": {},
   "outputs": [
    {
     "data": {
      "text/plain": [
       "{10, 20, 30, 40, 50}"
      ]
     },
     "execution_count": 13,
     "metadata": {},
     "output_type": "execute_result"
    }
   ],
   "source": [
    "s1"
   ]
  },
  {
   "cell_type": "code",
   "execution_count": 15,
   "id": "0d93cc1d-cd63-408a-bf99-9768ee2433ca",
   "metadata": {},
   "outputs": [
    {
     "data": {
      "text/plain": [
       "True"
      ]
     },
     "execution_count": 15,
     "metadata": {},
     "output_type": "execute_result"
    }
   ],
   "source": [
    "s1 == s"
   ]
  },
  {
   "cell_type": "code",
   "execution_count": 17,
   "id": "29864cca-d11d-4251-89a8-973dc8d404e4",
   "metadata": {},
   "outputs": [
    {
     "ename": "TypeError",
     "evalue": "'set' object is not subscriptable",
     "output_type": "error",
     "traceback": [
      "\u001b[1;31m---------------------------------------------------------------------------\u001b[0m",
      "\u001b[1;31mTypeError\u001b[0m                                 Traceback (most recent call last)",
      "Cell \u001b[1;32mIn[17], line 1\u001b[0m\n\u001b[1;32m----> 1\u001b[0m s[\u001b[38;5;241m1\u001b[39m]\n",
      "\u001b[1;31mTypeError\u001b[0m: 'set' object is not subscriptable"
     ]
    }
   ],
   "source": [
    "s[1]  #index is not supported in sets "
   ]
  },
  {
   "cell_type": "code",
   "execution_count": 19,
   "id": "19bbcab8-e457-4543-93c9-112bccd48608",
   "metadata": {},
   "outputs": [
    {
     "data": {
      "text/plain": [
       "{10, 20, 30, 40, 50}"
      ]
     },
     "execution_count": 19,
     "metadata": {},
     "output_type": "execute_result"
    }
   ],
   "source": [
    "s"
   ]
  },
  {
   "cell_type": "code",
   "execution_count": null,
   "id": "5ab555d3-cdef-4be1-b31a-f4e6dfb6c7dd",
   "metadata": {},
   "outputs": [],
   "source": []
  }
 ],
 "metadata": {
  "kernelspec": {
   "display_name": "Python [conda env:base] *",
   "language": "python",
   "name": "conda-base-py"
  },
  "language_info": {
   "codemirror_mode": {
    "name": "ipython",
    "version": 3
   },
   "file_extension": ".py",
   "mimetype": "text/x-python",
   "name": "python",
   "nbconvert_exporter": "python",
   "pygments_lexer": "ipython3",
   "version": "3.12.7"
  }
 },
 "nbformat": 4,
 "nbformat_minor": 5
}
