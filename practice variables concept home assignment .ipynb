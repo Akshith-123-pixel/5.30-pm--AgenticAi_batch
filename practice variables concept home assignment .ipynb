{
 "cells": [
  {
   "cell_type": "code",
   "execution_count": 7,
   "id": "c7960dd4-df7c-40cc-b0a2-7452fc532315",
   "metadata": {},
   "outputs": [
    {
     "name": "stdout",
     "output_type": "stream",
     "text": [
      "johndoe\n"
     ]
    }
   ],
   "source": [
    "First_name = \"john\"\n",
    "Last_name = \"doe\"\n",
    "Full_name = First_name + Last_name       # this was no space in the output if we want space then we use \"\" \n",
    "print(Full_name)"
   ]
  },
  {
   "cell_type": "code",
   "execution_count": 9,
   "id": "6f4523c0-b522-49bb-bcc7-d8eedaf03e02",
   "metadata": {},
   "outputs": [
    {
     "name": "stdout",
     "output_type": "stream",
     "text": [
      "john doe\n"
     ]
    }
   ],
   "source": [
    "First_name = \"john\"        #Conceataneting strings \n",
    "Last_name = \"doe\"\n",
    "Full_name = First_name + \" \" + Last_name      \n",
    "print(Full_name)\n"
   ]
  },
  {
   "cell_type": "code",
   "execution_count": 13,
   "id": "abca2d13-1375-4ebf-8b92-dc3441d31e9b",
   "metadata": {},
   "outputs": [
    {
     "name": "stdout",
     "output_type": "stream",
     "text": [
      "4000\n"
     ]
    }
   ],
   "source": [
    "length = 50     #  Using variables in caluclations \n",
    "width = 80\n",
    "area = length*width\n",
    "print(area)"
   ]
  },
  {
   "cell_type": "code",
   "execution_count": 27,
   "id": "72dee6a0-43fa-4241-84d1-4b9f506d64bb",
   "metadata": {},
   "outputs": [
    {
     "name": "stdout",
     "output_type": "stream",
     "text": [
      "19.09\n"
     ]
    }
   ],
   "source": [
    "Age = 19.09\n",
    "print(Age)"
   ]
  },
  {
   "cell_type": "code",
   "execution_count": 25,
   "id": "1ccafae4-2a0f-43a0-9eda-1115d33c4edd",
   "metadata": {},
   "outputs": [
    {
     "name": "stdout",
     "output_type": "stream",
     "text": [
      "90.09\n"
     ]
    }
   ],
   "source": [
    "age = 90.09\n",
    "print(age)"
   ]
  },
  {
   "cell_type": "code",
   "execution_count": 29,
   "id": "411d3a6d-48de-4f96-b642-faf7d61fb934",
   "metadata": {},
   "outputs": [
    {
     "name": "stdout",
     "output_type": "stream",
     "text": [
      "7\n",
      "9\n"
     ]
    }
   ],
   "source": [
    "a = 7\n",
    "b = 9 \n",
    "print (a)\n",
    "print (b)"
   ]
  },
  {
   "cell_type": "code",
   "execution_count": 31,
   "id": "cabb4d90-aa95-486f-bda3-59d7ad496d0e",
   "metadata": {},
   "outputs": [
    {
     "name": "stdout",
     "output_type": "stream",
     "text": [
      "16\n"
     ]
    }
   ],
   "source": [
    "a = 7\n",
    "b = 9 \n",
    "print (a +b)\n"
   ]
  },
  {
   "cell_type": "code",
   "execution_count": 33,
   "id": "c885bb34-bbeb-4386-8968-413b0b50c766",
   "metadata": {},
   "outputs": [
    {
     "name": "stdout",
     "output_type": "stream",
     "text": [
      "16\n"
     ]
    }
   ],
   "source": [
    "a = 7\n",
    "b = 9 \n",
    "result = a + b\n",
    "print(result)\n"
   ]
  },
  {
   "cell_type": "code",
   "execution_count": 37,
   "id": "5830bddb-c691-4715-9d95-1080758b87d6",
   "metadata": {},
   "outputs": [
    {
     "data": {
      "text/plain": [
       "15"
      ]
     },
     "execution_count": 37,
     "metadata": {},
     "output_type": "execute_result"
    }
   ],
   "source": [
    "true = 15\n",
    "true"
   ]
  },
  {
   "cell_type": "code",
   "execution_count": 45,
   "id": "64670062-ec3c-46db-a3b5-451f8dbb2abb",
   "metadata": {},
   "outputs": [
    {
     "data": {
      "text/plain": [
       "23"
      ]
     },
     "execution_count": 45,
     "metadata": {},
     "output_type": "execute_result"
    }
   ],
   "source": [
    "va = 23\n",
    "va "
   ]
  },
  {
   "cell_type": "code",
   "execution_count": 47,
   "id": "036a2456-fafc-422f-908d-9d5422ff4210",
   "metadata": {},
   "outputs": [
    {
     "data": {
      "text/plain": [
       "140715749944440"
      ]
     },
     "execution_count": 47,
     "metadata": {},
     "output_type": "execute_result"
    }
   ],
   "source": [
    "id(va)"
   ]
  },
  {
   "cell_type": "code",
   "execution_count": 49,
   "id": "4d8e3477-46dc-4a9e-bf08-ecd6e19f402f",
   "metadata": {},
   "outputs": [
    {
     "data": {
      "text/plain": [
       "9"
      ]
     },
     "execution_count": 49,
     "metadata": {},
     "output_type": "execute_result"
    }
   ],
   "source": [
    "iit1 = 9\n",
    "iit1"
   ]
  },
  {
   "cell_type": "code",
   "execution_count": 51,
   "id": "d6868b1b-6cec-4141-bc03-b2e19a1553ca",
   "metadata": {},
   "outputs": [
    {
     "ename": "SyntaxError",
     "evalue": "invalid syntax (434845991.py, line 1)",
     "output_type": "error",
     "traceback": [
      "\u001b[1;36m  Cell \u001b[1;32mIn[51], line 1\u001b[1;36m\u001b[0m\n\u001b[1;33m    v$ = 90\u001b[0m\n\u001b[1;37m     ^\u001b[0m\n\u001b[1;31mSyntaxError\u001b[0m\u001b[1;31m:\u001b[0m invalid syntax\n"
     ]
    }
   ],
   "source": [
    "v$ = 90    #special characters are not allowed\n",
    "v$"
   ]
  },
  {
   "cell_type": "code",
   "execution_count": 53,
   "id": "0c433563-72bb-404b-9166-811221f936e9",
   "metadata": {},
   "outputs": [
    {
     "data": {
      "text/plain": [
       "60"
      ]
     },
     "execution_count": 53,
     "metadata": {},
     "output_type": "execute_result"
    }
   ],
   "source": [
    "s_ = 60    #except underscore\n",
    "s_"
   ]
  },
  {
   "cell_type": "code",
   "execution_count": 55,
   "id": "08c3a0b7-55f9-4678-aa67-70ab020f6a49",
   "metadata": {},
   "outputs": [
    {
     "data": {
      "text/plain": [
       "90"
      ]
     },
     "execution_count": 55,
     "metadata": {},
     "output_type": "execute_result"
    }
   ],
   "source": [
    "_h = 90\n",
    "_h"
   ]
  },
  {
   "cell_type": "code",
   "execution_count": 57,
   "id": "26b99b05-1b8b-475e-b51b-1b23ad2fa500",
   "metadata": {},
   "outputs": [
    {
     "data": {
      "text/plain": [
       "['False',\n",
       " 'None',\n",
       " 'True',\n",
       " 'and',\n",
       " 'as',\n",
       " 'assert',\n",
       " 'async',\n",
       " 'await',\n",
       " 'break',\n",
       " 'class',\n",
       " 'continue',\n",
       " 'def',\n",
       " 'del',\n",
       " 'elif',\n",
       " 'else',\n",
       " 'except',\n",
       " 'finally',\n",
       " 'for',\n",
       " 'from',\n",
       " 'global',\n",
       " 'if',\n",
       " 'import',\n",
       " 'in',\n",
       " 'is',\n",
       " 'lambda',\n",
       " 'nonlocal',\n",
       " 'not',\n",
       " 'or',\n",
       " 'pass',\n",
       " 'raise',\n",
       " 'return',\n",
       " 'try',\n",
       " 'while',\n",
       " 'with',\n",
       " 'yield']"
      ]
     },
     "execution_count": 57,
     "metadata": {},
     "output_type": "execute_result"
    }
   ],
   "source": [
    "import keyword \n",
    "keyword.kwlist        # These are the keywords of  python "
   ]
  },
  {
   "cell_type": "code",
   "execution_count": 71,
   "id": "f01dbc30-f838-4808-a592-8569e6646ef2",
   "metadata": {},
   "outputs": [
    {
     "data": {
      "text/plain": [
       "9.0"
      ]
     },
     "execution_count": 71,
     "metadata": {},
     "output_type": "execute_result"
    }
   ],
   "source": [
    "Pass = 9.0\n",
    "Pass \n"
   ]
  },
  {
   "cell_type": "code",
   "execution_count": 73,
   "id": "89b080ca-e421-4d73-ab7c-23fb2049fd6d",
   "metadata": {},
   "outputs": [
    {
     "ename": "SyntaxError",
     "evalue": "invalid syntax (2104124504.py, line 1)",
     "output_type": "error",
     "traceback": [
      "\u001b[1;36m  Cell \u001b[1;32mIn[73], line 1\u001b[1;36m\u001b[0m\n\u001b[1;33m    def = 90\u001b[0m\n\u001b[1;37m        ^\u001b[0m\n\u001b[1;31mSyntaxError\u001b[0m\u001b[1;31m:\u001b[0m invalid syntax\n"
     ]
    }
   ],
   "source": [
    "def = 90\n",
    "def"
   ]
  },
  {
   "cell_type": "code",
   "execution_count": 75,
   "id": "be6c6535-84df-42ae-841a-d184b17d60e7",
   "metadata": {},
   "outputs": [
    {
     "data": {
      "text/plain": [
       "90"
      ]
     },
     "execution_count": 75,
     "metadata": {},
     "output_type": "execute_result"
    }
   ],
   "source": [
    "Def = 90\n",
    "Def"
   ]
  },
  {
   "cell_type": "code",
   "execution_count": 77,
   "id": "07fc1f8d-7859-4f4c-a4c3-317395cd4a19",
   "metadata": {},
   "outputs": [
    {
     "data": {
      "text/plain": [
       "35"
      ]
     },
     "execution_count": 77,
     "metadata": {},
     "output_type": "execute_result"
    }
   ],
   "source": [
    "len(keyword.kwlist)     # len means length thsese line is the length of the keywords "
   ]
  },
  {
   "cell_type": "code",
   "execution_count": 79,
   "id": "45eadd91-8f37-444e-9e9e-da62f96940be",
   "metadata": {},
   "outputs": [
    {
     "ename": "SyntaxError",
     "evalue": "invalid syntax (887436888.py, line 1)",
     "output_type": "error",
     "traceback": [
      "\u001b[1;36m  Cell \u001b[1;32mIn[79], line 1\u001b[1;36m\u001b[0m\n\u001b[1;33m    for = 78\u001b[0m\n\u001b[1;37m        ^\u001b[0m\n\u001b[1;31mSyntaxError\u001b[0m\u001b[1;31m:\u001b[0m invalid syntax\n"
     ]
    }
   ],
   "source": [
    "for = 78\n",
    "for "
   ]
  },
  {
   "cell_type": "code",
   "execution_count": 83,
   "id": "6b27c230-cf3a-4e31-989f-acd3c1d906b3",
   "metadata": {},
   "outputs": [
    {
     "data": {
      "text/plain": [
       "78"
      ]
     },
     "execution_count": 83,
     "metadata": {},
     "output_type": "execute_result"
    }
   ],
   "source": [
    "For = 78       #keywords always start with capitals \n",
    "For"
   ]
  },
  {
   "cell_type": "code",
   "execution_count": 85,
   "id": "79a41acf-ada0-4b16-a711-09394dee06b0",
   "metadata": {},
   "outputs": [
    {
     "data": {
      "text/plain": [
       "'3.12.7 | packaged by Anaconda, Inc. | (main, Oct  4 2024, 13:17:27) [MSC v.1929 64 bit (AMD64)]'"
      ]
     },
     "execution_count": 85,
     "metadata": {},
     "output_type": "execute_result"
    }
   ],
   "source": [
    "import sys        #version of the system\n",
    "sys.version"
   ]
  },
  {
   "cell_type": "code",
   "execution_count": 87,
   "id": "c20251ee-bcc4-4aea-96b3-412ac3818004",
   "metadata": {},
   "outputs": [
    {
     "data": {
      "text/plain": [
       "12"
      ]
     },
     "execution_count": 87,
     "metadata": {},
     "output_type": "execute_result"
    }
   ],
   "source": [
    "import_16 = 12\n",
    "import_16"
   ]
  },
  {
   "cell_type": "code",
   "execution_count": 89,
   "id": "28e30733-7ac2-4d07-a96d-a88250fbc3ba",
   "metadata": {},
   "outputs": [
    {
     "data": {
      "text/plain": [
       "9"
      ]
     },
     "execution_count": 89,
     "metadata": {},
     "output_type": "execute_result"
    }
   ],
   "source": [
    "a = 8        #it shows only the last digit c\n",
    "b = 9\n",
    "c = 9 \n",
    "a\n",
    "b \n",
    "c"
   ]
  },
  {
   "cell_type": "code",
   "execution_count": 91,
   "id": "ad4a8026-38f4-4ddf-bb74-2875426705b2",
   "metadata": {},
   "outputs": [
    {
     "name": "stdout",
     "output_type": "stream",
     "text": [
      "26\n"
     ]
    }
   ],
   "source": [
    "a = 8\n",
    "b = 9\n",
    "c = 9 \n",
    "print(a+b+c)"
   ]
  },
  {
   "cell_type": "code",
   "execution_count": 97,
   "id": "64224be5-fc30-43e4-95c6-128f7b9bd004",
   "metadata": {},
   "outputs": [
    {
     "name": "stdout",
     "output_type": "stream",
     "text": [
      "hello world!\n"
     ]
    }
   ],
   "source": [
    "print(\"hello world!\")"
   ]
  },
  {
   "cell_type": "code",
   "execution_count": 99,
   "id": "599e8ae1-9958-4b44-acca-d73847337e0e",
   "metadata": {},
   "outputs": [
    {
     "data": {
      "text/plain": [
       "10"
      ]
     },
     "execution_count": 99,
     "metadata": {},
     "output_type": "execute_result"
    }
   ],
   "source": [
    "len(\"helloworld\")"
   ]
  },
  {
   "cell_type": "code",
   "execution_count": 101,
   "id": "8824c43c-a73a-46e5-9d9a-2c5800cea907",
   "metadata": {},
   "outputs": [
    {
     "data": {
      "text/plain": [
       "12"
      ]
     },
     "execution_count": 101,
     "metadata": {},
     "output_type": "execute_result"
    }
   ],
   "source": [
    "len(\"akshith teja\")"
   ]
  },
  {
   "cell_type": "code",
   "execution_count": 111,
   "id": "f2b791ed-617b-40d5-9260-7ec15eb08cb2",
   "metadata": {},
   "outputs": [
    {
     "data": {
      "text/plain": [
       "'akshith'"
      ]
     },
     "execution_count": 111,
     "metadata": {},
     "output_type": "execute_result"
    }
   ],
   "source": [
    "s  = \"akshith\" \n",
    "s\n"
   ]
  },
  {
   "cell_type": "code",
   "execution_count": 117,
   "id": "326f102f-357e-4720-ba4b-06e79057bf0a",
   "metadata": {},
   "outputs": [
    {
     "data": {
      "text/plain": [
       "'hha'"
      ]
     },
     "execution_count": 117,
     "metadata": {},
     "output_type": "execute_result"
    }
   ],
   "source": [
    "s[::-3]"
   ]
  },
  {
   "cell_type": "code",
   "execution_count": 119,
   "id": "c531d322-bb91-4178-af26-3c29c96e5505",
   "metadata": {},
   "outputs": [
    {
     "data": {
      "text/plain": [
       "'h'"
      ]
     },
     "execution_count": 119,
     "metadata": {},
     "output_type": "execute_result"
    }
   ],
   "source": [
    "s[3]"
   ]
  },
  {
   "cell_type": "code",
   "execution_count": 121,
   "id": "73a9e2c4-8924-47e7-867b-f0827099660a",
   "metadata": {},
   "outputs": [
    {
     "data": {
      "text/plain": [
       "'htihska'"
      ]
     },
     "execution_count": 121,
     "metadata": {},
     "output_type": "execute_result"
    }
   ],
   "source": [
    "s[::-1]    #reverse indexing"
   ]
  },
  {
   "cell_type": "code",
   "execution_count": 131,
   "id": "c9d6da90-0e5d-4004-828a-d52e48001561",
   "metadata": {},
   "outputs": [
    {
     "ename": "IndentationError",
     "evalue": "expected an indented block after 'for' statement on line 1 (2367511359.py, line 2)",
     "output_type": "error",
     "traceback": [
      "\u001b[1;36m  Cell \u001b[1;32mIn[131], line 2\u001b[1;36m\u001b[0m\n\u001b[1;33m    print (i)\u001b[0m\n\u001b[1;37m    ^\u001b[0m\n\u001b[1;31mIndentationError\u001b[0m\u001b[1;31m:\u001b[0m expected an indented block after 'for' statement on line 1\n"
     ]
    }
   ],
   "source": [
    "for i in s:\n",
    "print (i)"
   ]
  },
  {
   "cell_type": "code",
   "execution_count": 133,
   "id": "5de92ca5-57ab-4aa1-b5aa-6dac9f21d258",
   "metadata": {},
   "outputs": [
    {
     "data": {
      "text/plain": [
       "'akshith'"
      ]
     },
     "execution_count": 133,
     "metadata": {},
     "output_type": "execute_result"
    }
   ],
   "source": [
    "s"
   ]
  },
  {
   "cell_type": "code",
   "execution_count": 135,
   "id": "804953a2-a6f7-4995-bd26-9f6b93b8382e",
   "metadata": {},
   "outputs": [
    {
     "name": "stdout",
     "output_type": "stream",
     "text": [
      "a\n",
      "k\n",
      "s\n",
      "h\n",
      "i\n",
      "t\n",
      "h\n"
     ]
    }
   ],
   "source": [
    "for i in s:\n",
    "    print (i)\n",
    "    "
   ]
  },
  {
   "cell_type": "code",
   "execution_count": 137,
   "id": "7a37dc64-686a-4eef-99e2-4f5b46f65833",
   "metadata": {},
   "outputs": [
    {
     "name": "stdout",
     "output_type": "stream",
     "text": [
      "akshith\n",
      "akshith\n",
      "akshith\n",
      "akshith\n",
      "akshith\n",
      "akshith\n",
      "akshith\n"
     ]
    }
   ],
   "source": [
    "for i in s:\n",
    "    print (s)\n",
    "    "
   ]
  },
  {
   "cell_type": "code",
   "execution_count": 139,
   "id": "b2d52038-cfbc-406c-82b7-b2e9215a69e6",
   "metadata": {},
   "outputs": [
    {
     "data": {
      "text/plain": [
       "8"
      ]
     },
     "execution_count": 139,
     "metadata": {},
     "output_type": "execute_result"
    }
   ],
   "source": [
    "m = 8\n",
    "m                 #Unary operator it will give only one value "
   ]
  },
  {
   "cell_type": "code",
   "execution_count": 147,
   "id": "76e704c2-dbd3-4cfa-ac19-a877ff067fe0",
   "metadata": {},
   "outputs": [
    {
     "data": {
      "text/plain": [
       "-8"
      ]
     },
     "execution_count": 147,
     "metadata": {},
     "output_type": "execute_result"
    }
   ],
   "source": [
    "n = -m\n",
    "n"
   ]
  },
  {
   "cell_type": "code",
   "execution_count": null,
   "id": "c925b603-6cc6-4f1a-9a60-9e51a27cc626",
   "metadata": {},
   "outputs": [],
   "source": [
    "INCREMENTAL OPERATOR"
   ]
  },
  {
   "cell_type": "code",
   "execution_count": 149,
   "id": "939d04e4-1058-4211-bc2b-9cb0ee977cea",
   "metadata": {},
   "outputs": [
    {
     "data": {
      "text/plain": [
       "10"
      ]
     },
     "execution_count": 149,
     "metadata": {},
     "output_type": "execute_result"
    }
   ],
   "source": [
    "x = 10\n",
    "x"
   ]
  },
  {
   "cell_type": "code",
   "execution_count": 151,
   "id": "a9b3f4ba-bd7b-4973-a101-3d8631f21257",
   "metadata": {},
   "outputs": [
    {
     "data": {
      "text/plain": [
       "20"
      ]
     },
     "execution_count": 151,
     "metadata": {},
     "output_type": "execute_result"
    }
   ],
   "source": [
    "x += 10\n",
    "x"
   ]
  },
  {
   "cell_type": "code",
   "execution_count": 153,
   "id": "52eb2d4c-d600-48a0-ab56-6d8578011c0d",
   "metadata": {},
   "outputs": [
    {
     "data": {
      "text/plain": [
       "30"
      ]
     },
     "execution_count": 153,
     "metadata": {},
     "output_type": "execute_result"
    }
   ],
   "source": [
    "x += 10\n",
    "x"
   ]
  },
  {
   "cell_type": "code",
   "execution_count": 157,
   "id": "e8e8893d-fb34-42cc-991a-95edd3e3f8f0",
   "metadata": {},
   "outputs": [
    {
     "data": {
      "text/plain": [
       "10"
      ]
     },
     "execution_count": 157,
     "metadata": {},
     "output_type": "execute_result"
    }
   ],
   "source": [
    "x -= 10        #decremenatal operator\n",
    "x"
   ]
  },
  {
   "cell_type": "code",
   "execution_count": 159,
   "id": "84da2421-fcf9-4fcf-bf76-acb17c2d1663",
   "metadata": {},
   "outputs": [
    {
     "data": {
      "text/plain": [
       "0"
      ]
     },
     "execution_count": 159,
     "metadata": {},
     "output_type": "execute_result"
    }
   ],
   "source": [
    "x -= 10\n",
    "x"
   ]
  },
  {
   "cell_type": "code",
   "execution_count": 161,
   "id": "bab6e370-7cef-4751-9b4d-a10184646ea6",
   "metadata": {},
   "outputs": [
    {
     "data": {
      "text/plain": [
       "10"
      ]
     },
     "execution_count": 161,
     "metadata": {},
     "output_type": "execute_result"
    }
   ],
   "source": [
    "x += 10\n",
    "x"
   ]
  },
  {
   "cell_type": "code",
   "execution_count": 163,
   "id": "52d94439-4752-47f4-89d0-0fdab6eefae7",
   "metadata": {},
   "outputs": [
    {
     "data": {
      "text/plain": [
       "0"
      ]
     },
     "execution_count": 163,
     "metadata": {},
     "output_type": "execute_result"
    }
   ],
   "source": [
    "x -= 10\n",
    "x"
   ]
  },
  {
   "cell_type": "code",
   "execution_count": 165,
   "id": "819076b0-2def-4e37-b549-6a34307d818f",
   "metadata": {},
   "outputs": [
    {
     "data": {
      "text/plain": [
       "-10"
      ]
     },
     "execution_count": 165,
     "metadata": {},
     "output_type": "execute_result"
    }
   ],
   "source": [
    "x -= 10\n",
    "x"
   ]
  },
  {
   "cell_type": "code",
   "execution_count": null,
   "id": "a80e45ce-3c5d-4131-a6d1-632824da1790",
   "metadata": {},
   "outputs": [],
   "source": [
    "Division operator\n"
   ]
  },
  {
   "cell_type": "code",
   "execution_count": 169,
   "id": "c5ef186c-fd62-4457-8f44-be0247bb05cd",
   "metadata": {},
   "outputs": [
    {
     "data": {
      "text/plain": [
       "-0.1"
      ]
     },
     "execution_count": 169,
     "metadata": {},
     "output_type": "execute_result"
    }
   ],
   "source": [
    "x /= 10\n",
    "x"
   ]
  },
  {
   "cell_type": "code",
   "execution_count": 171,
   "id": "748d2349-7b1a-4b4f-bb25-53b5ccad12fe",
   "metadata": {},
   "outputs": [
    {
     "data": {
      "text/plain": [
       "-1.0"
      ]
     },
     "execution_count": 171,
     "metadata": {},
     "output_type": "execute_result"
    }
   ],
   "source": [
    "x //=10\n",
    "x"
   ]
  },
  {
   "cell_type": "code",
   "execution_count": 173,
   "id": "c8bb8633-51d2-4873-ba86-a6aefccb8943",
   "metadata": {},
   "outputs": [
    {
     "ename": "SyntaxError",
     "evalue": "invalid syntax (81628934.py, line 1)",
     "output_type": "error",
     "traceback": [
      "\u001b[1;36m  Cell \u001b[1;32mIn[173], line 1\u001b[1;36m\u001b[0m\n\u001b[1;33m    x ///=10\u001b[0m\n\u001b[1;37m        ^\u001b[0m\n\u001b[1;31mSyntaxError\u001b[0m\u001b[1;31m:\u001b[0m invalid syntax\n"
     ]
    }
   ],
   "source": [
    "x ///=10\n",
    "x"
   ]
  },
  {
   "cell_type": "code",
   "execution_count": null,
   "id": "7c66f92e-ab1d-4646-81fe-124d61cdeca1",
   "metadata": {},
   "outputs": [],
   "source": [
    "x ++="
   ]
  }
 ],
 "metadata": {
  "kernelspec": {
   "display_name": "Python [conda env:base] *",
   "language": "python",
   "name": "conda-base-py"
  },
  "language_info": {
   "codemirror_mode": {
    "name": "ipython",
    "version": 3
   },
   "file_extension": ".py",
   "mimetype": "text/x-python",
   "name": "python",
   "nbconvert_exporter": "python",
   "pygments_lexer": "ipython3",
   "version": "3.12.7"
  }
 },
 "nbformat": 4,
 "nbformat_minor": 5
}
