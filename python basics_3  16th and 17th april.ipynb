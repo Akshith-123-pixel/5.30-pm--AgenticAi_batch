{
 "cells": [
  {
   "cell_type": "markdown",
   "id": "e22bbefa-9966-40ab-a726-386a2f1de0b4",
   "metadata": {},
   "source": [
    "#16th april\n"
   ]
  },
  {
   "cell_type": "markdown",
   "id": "d69e0dfe-a109-4057-8fbe-70e6f3c39c66",
   "metadata": {},
   "source": [
    "variable name = value \n",
    "i = 10 (a- variable , valu = 10) 10-int\n",
    "tyep (a)-int\n",
    "f = 1.09--float\n",
    "\n",
    "\n",
    "datatypes born with variable concept"
   ]
  },
  {
   "cell_type": "markdown",
   "id": "adec1a4f-e70c-400e-b8c1-53d70ee80637",
   "metadata": {},
   "source": [
    "#integer datatypes"
   ]
  },
  {
   "cell_type": "code",
   "execution_count": 3,
   "id": "84ef5160-7f54-429d-9114-057673025a34",
   "metadata": {},
   "outputs": [
    {
     "data": {
      "text/plain": [
       "30"
      ]
     },
     "execution_count": 3,
     "metadata": {},
     "output_type": "execute_result"
    }
   ],
   "source": [
    "i = 30\n",
    "i"
   ]
  },
  {
   "cell_type": "code",
   "execution_count": 7,
   "id": "59be0488-8dd9-4806-8901-e1c1db753677",
   "metadata": {},
   "outputs": [
    {
     "name": "stdout",
     "output_type": "stream",
     "text": [
      "30\n",
      "<class 'int'>\n"
     ]
    }
   ],
   "source": [
    "i = 30         #INT datatype    class int is a inbulit integer\n",
    "print(i)\n",
    "print(type(i))"
   ]
  },
  {
   "cell_type": "code",
   "execution_count": 9,
   "id": "b535e8ff-9f71-4fc3-a28c-3a67117974d8",
   "metadata": {},
   "outputs": [
    {
     "data": {
      "text/plain": [
       "110.9"
      ]
     },
     "execution_count": 9,
     "metadata": {},
     "output_type": "execute_result"
    }
   ],
   "source": [
    "diesel = 110.90      #Float datatype\n",
    "diesel"
   ]
  },
  {
   "cell_type": "code",
   "execution_count": 15,
   "id": "bb153767-7c62-4aa4-a234-06c89847c091",
   "metadata": {},
   "outputs": [
    {
     "name": "stdout",
     "output_type": "stream",
     "text": [
      "<class 'float'>\n"
     ]
    }
   ],
   "source": [
    "print(type(diesel))"
   ]
  },
  {
   "cell_type": "code",
   "execution_count": 21,
   "id": "187f9c04-5992-4422-9458-dd45cb61f488",
   "metadata": {},
   "outputs": [
    {
     "name": "stdout",
     "output_type": "stream",
     "text": [
      "12\n",
      "13\n",
      "25\n"
     ]
    }
   ],
   "source": [
    "a1 , a2 = 12 , 13\n",
    "print(a1)\n",
    "print(a2)\n",
    "print(a1+a2)"
   ]
  },
  {
   "cell_type": "markdown",
   "id": "9d8a5f75-aa94-47ab-93fa-fdd4d9eec609",
   "metadata": {},
   "source": [
    "STRING DATATYPE"
   ]
  },
  {
   "cell_type": "code",
   "execution_count": 23,
   "id": "6d01bb68-1914-42a3-968b-48551a0d06a0",
   "metadata": {},
   "outputs": [
    {
     "ename": "SyntaxError",
     "evalue": "invalid syntax (2742282743.py, line 1)",
     "output_type": "error",
     "traceback": [
      "\u001b[1;36m  Cell \u001b[1;32mIn[23], line 1\u001b[1;36m\u001b[0m\n\u001b[1;33m    s = akshith teja\u001b[0m\n\u001b[1;37m                ^\u001b[0m\n\u001b[1;31mSyntaxError\u001b[0m\u001b[1;31m:\u001b[0m invalid syntax\n"
     ]
    }
   ],
   "source": [
    "s = akshith teja     #string always strt with single code"
   ]
  },
  {
   "cell_type": "code",
   "execution_count": 27,
   "id": "4054c767-ef73-4458-840d-6751441cc0c1",
   "metadata": {},
   "outputs": [
    {
     "data": {
      "text/plain": [
       "'akshith teja'"
      ]
     },
     "execution_count": 27,
     "metadata": {},
     "output_type": "execute_result"
    }
   ],
   "source": [
    "s = 'akshith teja'\n",
    "s"
   ]
  },
  {
   "cell_type": "code",
   "execution_count": 29,
   "id": "779cafa4-0043-4874-9ab3-37a05c90beec",
   "metadata": {},
   "outputs": [
    {
     "data": {
      "text/plain": [
       "str"
      ]
     },
     "execution_count": 29,
     "metadata": {},
     "output_type": "execute_result"
    }
   ],
   "source": [
    "type(s)"
   ]
  },
  {
   "cell_type": "code",
   "execution_count": 31,
   "id": "5b464b3f-1447-40dd-96e3-b1794bcdf4bd",
   "metadata": {},
   "outputs": [
    {
     "data": {
      "text/plain": [
       "'akshith teja'"
      ]
     },
     "execution_count": 31,
     "metadata": {},
     "output_type": "execute_result"
    }
   ],
   "source": [
    "s = \"akshith teja\"\n",
    "s"
   ]
  },
  {
   "cell_type": "code",
   "execution_count": 33,
   "id": "dd3497d6-659f-4cae-b2cf-c37ca3feecb8",
   "metadata": {},
   "outputs": [
    {
     "data": {
      "text/plain": [
       "str"
      ]
     },
     "execution_count": 33,
     "metadata": {},
     "output_type": "execute_result"
    }
   ],
   "source": [
    "type(s)\n"
   ]
  },
  {
   "cell_type": "code",
   "execution_count": 37,
   "id": "915218ae-27b2-4cc3-bd85-9aec19dd0e7c",
   "metadata": {},
   "outputs": [
    {
     "data": {
      "text/plain": [
       "'naresh it technology datascience, ai student---6 months i will change your brain'"
      ]
     },
     "execution_count": 37,
     "metadata": {},
     "output_type": "execute_result"
    }
   ],
   "source": [
    "s1 = \"naresh it technology datascience, ai student---6 months i will change your brain\"\n",
    "s1"
   ]
  },
  {
   "cell_type": "code",
   "execution_count": 39,
   "id": "77966717-0eb0-4a72-b383-09d9c59cb781",
   "metadata": {},
   "outputs": [
    {
     "ename": "SyntaxError",
     "evalue": "unterminated string literal (detected at line 1) (1683290652.py, line 1)",
     "output_type": "error",
     "traceback": [
      "\u001b[1;36m  Cell \u001b[1;32mIn[39], line 1\u001b[1;36m\u001b[0m\n\u001b[1;33m    s1 = \"naresh it technology datascience,\u001b[0m\n\u001b[1;37m         ^\u001b[0m\n\u001b[1;31mSyntaxError\u001b[0m\u001b[1;31m:\u001b[0m unterminated string literal (detected at line 1)\n"
     ]
    }
   ],
   "source": [
    "s1 = \"naresh it technology datascience,    #3 lines codes always have 3 codes \n",
    "ai student---\n",
    "6 months i will change your brain\"\n",
    "s1"
   ]
  },
  {
   "cell_type": "code",
   "execution_count": 43,
   "id": "526b2c00-d7ee-4bdb-ab83-9898e646db79",
   "metadata": {},
   "outputs": [
    {
     "data": {
      "text/plain": [
       "'naresh it technology datascience,    #3 lines codes always have 3 codes \\nai student---\\n6 months i will change your brain'"
      ]
     },
     "execution_count": 43,
     "metadata": {},
     "output_type": "execute_result"
    }
   ],
   "source": [
    "s1 = '''naresh it technology datascience,    #3 lines codes always have 3 codes , 3 codes ''' is for multiple lines \n",
    "ai student---\n",
    "6 months i will change your brain'''\n",
    "s1"
   ]
  },
  {
   "cell_type": "code",
   "execution_count": 45,
   "id": "e6153af7-ebff-4eb6-a137-03be2aafe77f",
   "metadata": {},
   "outputs": [
    {
     "data": {
      "text/plain": [
       "'akshith teja'"
      ]
     },
     "execution_count": 45,
     "metadata": {},
     "output_type": "execute_result"
    }
   ],
   "source": [
    "s[0]\n",
    "s"
   ]
  },
  {
   "cell_type": "code",
   "execution_count": 47,
   "id": "5bbaedf9-d811-447d-955c-e2d165ab3b50",
   "metadata": {},
   "outputs": [
    {
     "name": "stdout",
     "output_type": "stream",
     "text": [
      "a\n"
     ]
    }
   ],
   "source": [
    "print(s[0])           #forward indexing  left to right\n"
   ]
  },
  {
   "cell_type": "code",
   "execution_count": 49,
   "id": "78ec24de-53b4-4eaf-8240-aea177b1de9a",
   "metadata": {},
   "outputs": [
    {
     "name": "stdout",
     "output_type": "stream",
     "text": [
      "a\n"
     ]
    }
   ],
   "source": [
    "print(s[-1])         #backward indexing    right to left "
   ]
  },
  {
   "cell_type": "code",
   "execution_count": 51,
   "id": "b856d96d-e70c-431c-bae1-f5077a71465e",
   "metadata": {},
   "outputs": [
    {
     "data": {
      "text/plain": [
       "'shi'"
      ]
     },
     "execution_count": 51,
     "metadata": {},
     "output_type": "execute_result"
    }
   ],
   "source": [
    "s[2:5]      # n(n-1) applicable for python in the right side  "
   ]
  },
  {
   "cell_type": "code",
   "execution_count": 53,
   "id": "4b05b358-e2bd-4cd0-9f4f-6f73907ad5a1",
   "metadata": {},
   "outputs": [
    {
     "data": {
      "text/plain": [
       "'ksh'"
      ]
     },
     "execution_count": 53,
     "metadata": {},
     "output_type": "execute_result"
    }
   ],
   "source": [
    "s[1:4]"
   ]
  },
  {
   "cell_type": "markdown",
   "id": "57dd9d2c-687a-4610-8cd7-b5a8f34a443a",
   "metadata": {},
   "source": [
    "#17th april gen ai agentic ai python basics \n"
   ]
  },
  {
   "cell_type": "code",
   "execution_count": 3,
   "id": "a8c29c3a-748b-412b-99ae-50dd77704605",
   "metadata": {},
   "outputs": [
    {
     "name": "stdout",
     "output_type": "stream",
     "text": [
      "<class 'bool'>\n"
     ]
    }
   ],
   "source": [
    "a = 3          #   boolean datatype\n",
    "b = 3\n",
    "a == b \n",
    "print(type(a==b))"
   ]
  },
  {
   "cell_type": "code",
   "execution_count": 5,
   "id": "03fb13e7-b65e-4364-bc6d-06ee347c2f2c",
   "metadata": {},
   "outputs": [
    {
     "data": {
      "text/plain": [
       "True"
      ]
     },
     "execution_count": 5,
     "metadata": {},
     "output_type": "execute_result"
    }
   ],
   "source": [
    "True"
   ]
  },
  {
   "cell_type": "code",
   "execution_count": 9,
   "id": "06139be0-8939-40ac-acc5-8aeff2aab402",
   "metadata": {},
   "outputs": [
    {
     "data": {
      "text/plain": [
       "False"
      ]
     },
     "execution_count": 9,
     "metadata": {},
     "output_type": "execute_result"
    }
   ],
   "source": [
    "False "
   ]
  },
  {
   "cell_type": "code",
   "execution_count": 19,
   "id": "5a460de6-8f34-410b-b547-7a0c2435541a",
   "metadata": {},
   "outputs": [
    {
     "name": "stdout",
     "output_type": "stream",
     "text": [
      "<class 'bool'>\n"
     ]
    }
   ],
   "source": [
    "b = True \n",
    "b1 = False \n",
    "b > b1\n",
    "print(type(b > b1))\n"
   ]
  },
  {
   "cell_type": "code",
   "execution_count": 23,
   "id": "49968ec5-a5e5-4b74-b405-e1980353215f",
   "metadata": {},
   "outputs": [
    {
     "data": {
      "text/plain": [
       "True"
      ]
     },
     "execution_count": 23,
     "metadata": {},
     "output_type": "execute_result"
    }
   ],
   "source": [
    "b = True \n",
    "b1 = False \n",
    "b"
   ]
  },
  {
   "cell_type": "code",
   "execution_count": 25,
   "id": "673e5a79-8b50-42fa-b444-7524c301afda",
   "metadata": {},
   "outputs": [
    {
     "name": "stdout",
     "output_type": "stream",
     "text": [
      "0\n"
     ]
    }
   ],
   "source": [
    "print(b*b1)\n"
   ]
  },
  {
   "cell_type": "code",
   "execution_count": 27,
   "id": "14ee84b3-2564-4e09-82c2-af65160162e9",
   "metadata": {},
   "outputs": [
    {
     "name": "stdout",
     "output_type": "stream",
     "text": [
      "-1\n"
     ]
    }
   ],
   "source": [
    "print(b1-b)\n"
   ]
  },
  {
   "cell_type": "code",
   "execution_count": 29,
   "id": "1f55e0be-cb6f-4c22-a99e-ceb455a32d4e",
   "metadata": {},
   "outputs": [
    {
     "name": "stdout",
     "output_type": "stream",
     "text": [
      "1\n"
     ]
    }
   ],
   "source": [
    "print(b1-b)\n"
   ]
  },
  {
   "cell_type": "code",
   "execution_count": 41,
   "id": "12488568-f1d1-4801-9164-1105021a706a",
   "metadata": {},
   "outputs": [
    {
     "name": "stdout",
     "output_type": "stream",
     "text": [
      "0\n",
      "-1\n",
      "1\n",
      "0\n"
     ]
    }
   ],
   "source": [
    "print(b*b1)\n",
    "print(b1-b)          #boolean datatype\n",
    "print(b-b1)\n",
    "print(b1//b)"
   ]
  },
  {
   "cell_type": "code",
   "execution_count": 39,
   "id": "ce74615a-5532-426c-8eff-4c77322bfe20",
   "metadata": {},
   "outputs": [
    {
     "name": "stdout",
     "output_type": "stream",
     "text": [
      "0\n"
     ]
    }
   ],
   "source": [
    "print(b1//b)"
   ]
  },
  {
   "cell_type": "markdown",
   "id": "42cc4945-784d-4341-974b-14696610508f",
   "metadata": {},
   "source": [
    "# Complex datatype\n"
   ]
  },
  {
   "cell_type": "code",
   "execution_count": null,
   "id": "98878338-481e-4a27-8f06-f78c2fa8af0b",
   "metadata": {},
   "outputs": [],
   "source": [
    "a + bj \n",
    "a = real part\n",
    "b = imaginary part\n",
    "j = square root of -1\n"
   ]
  },
  {
   "cell_type": "code",
   "execution_count": 63,
   "id": "9c7d5357-ecc5-4264-8875-320a61e79fe1",
   "metadata": {},
   "outputs": [
    {
     "name": "stdout",
     "output_type": "stream",
     "text": [
      "<class 'complex'>\n"
     ]
    }
   ],
   "source": [
    "c1 = 10 + 20j\n",
    "c2 = 9 + 5j                   # a +bj is the formula of complex\n",
    "print(type(c1))"
   ]
  },
  {
   "cell_type": "code",
   "execution_count": 47,
   "id": "cdcdf44e-435e-4773-817e-4e9625817f7b",
   "metadata": {},
   "outputs": [
    {
     "data": {
      "text/plain": [
       "complex"
      ]
     },
     "execution_count": 47,
     "metadata": {},
     "output_type": "execute_result"
    }
   ],
   "source": [
    "5 + 7j\n",
    "type(5+7j)"
   ]
  },
  {
   "cell_type": "code",
   "execution_count": 49,
   "id": "dbcfbc4d-e137-4320-ba13-9d271342531e",
   "metadata": {},
   "outputs": [
    {
     "data": {
      "text/plain": [
       "10.0"
      ]
     },
     "execution_count": 49,
     "metadata": {},
     "output_type": "execute_result"
    }
   ],
   "source": [
    "c1.real      #to call any in built function we use . and tab "
   ]
  },
  {
   "cell_type": "code",
   "execution_count": 51,
   "id": "58f0f428-2aaf-48d1-96b7-ab6d874475f5",
   "metadata": {},
   "outputs": [
    {
     "data": {
      "text/plain": [
       "20.0"
      ]
     },
     "execution_count": 51,
     "metadata": {},
     "output_type": "execute_result"
    }
   ],
   "source": [
    "c1.imag"
   ]
  },
  {
   "cell_type": "code",
   "execution_count": 53,
   "id": "4d9a546d-25c2-4844-a5c9-e9eac7dba0d1",
   "metadata": {},
   "outputs": [
    {
     "data": {
      "text/plain": [
       "<function complex.conjugate()>"
      ]
     },
     "execution_count": 53,
     "metadata": {},
     "output_type": "execute_result"
    }
   ],
   "source": [
    "c1.conjugate"
   ]
  },
  {
   "cell_type": "code",
   "execution_count": 65,
   "id": "0b847783-4caf-473c-a8f3-101e3d487a2c",
   "metadata": {},
   "outputs": [
    {
     "name": "stdout",
     "output_type": "stream",
     "text": [
      "(10+20j)\n",
      "(9+5j)\n"
     ]
    }
   ],
   "source": [
    "print(c1)\n",
    "print(c2)"
   ]
  },
  {
   "cell_type": "code",
   "execution_count": 67,
   "id": "b6cf2178-6ce2-4387-aaba-78afb05fbedd",
   "metadata": {},
   "outputs": [
    {
     "data": {
      "text/plain": [
       "(19+25j)"
      ]
     },
     "execution_count": 67,
     "metadata": {},
     "output_type": "execute_result"
    }
   ],
   "source": [
    "c1 + c2"
   ]
  },
  {
   "cell_type": "code",
   "execution_count": 69,
   "id": "08ba97e1-65ac-437c-b7a3-b75f9fb676db",
   "metadata": {},
   "outputs": [
    {
     "data": {
      "text/plain": [
       "(1+15j)"
      ]
     },
     "execution_count": 69,
     "metadata": {},
     "output_type": "execute_result"
    }
   ],
   "source": [
    "c1 - c2"
   ]
  },
  {
   "cell_type": "markdown",
   "id": "1ef7eb31-1d79-4e12-a90d-454a9b9f2b5c",
   "metadata": {},
   "source": [
    "TYPE CASTING OR TYPE CONVERSION \n",
    "\n",
    "#python function always ends with   ():\n",
    "fam3(d,m)- d,m are the argument or parameter   #fam3()- it is a function\n"
   ]
  },
  {
   "cell_type": "code",
   "execution_count": 71,
   "id": "e5e1804f-a9dc-404e-9810-98c2764fd0ab",
   "metadata": {},
   "outputs": [
    {
     "data": {
      "text/plain": [
       "3"
      ]
     },
     "execution_count": 71,
     "metadata": {},
     "output_type": "execute_result"
    }
   ],
   "source": [
    "int(3.4)      #float datatype to integer "
   ]
  },
  {
   "cell_type": "code",
   "execution_count": 73,
   "id": "28b3378b-4062-4c1e-977a-f6ca2c57cc9e",
   "metadata": {},
   "outputs": [
    {
     "ename": "TypeError",
     "evalue": "'float' object cannot be interpreted as an integer",
     "output_type": "error",
     "traceback": [
      "\u001b[1;31m---------------------------------------------------------------------------\u001b[0m",
      "\u001b[1;31mTypeError\u001b[0m                                 Traceback (most recent call last)",
      "Cell \u001b[1;32mIn[73], line 1\u001b[0m\n\u001b[1;32m----> 1\u001b[0m \u001b[38;5;28mint\u001b[39m(\u001b[38;5;241m3.4\u001b[39m,\u001b[38;5;241m5.7\u001b[39m)\n",
      "\u001b[1;31mTypeError\u001b[0m: 'float' object cannot be interpreted as an integer"
     ]
    }
   ],
   "source": [
    "int(3.4,5.7)    #only one is allowed arguments in type casting \n"
   ]
  },
  {
   "cell_type": "code",
   "execution_count": 75,
   "id": "29f7fbb9-6630-43ee-aea5-b351923a1d62",
   "metadata": {},
   "outputs": [
    {
     "data": {
      "text/plain": [
       "1"
      ]
     },
     "execution_count": 75,
     "metadata": {},
     "output_type": "execute_result"
    }
   ],
   "source": [
    "int(True)"
   ]
  },
  {
   "cell_type": "code",
   "execution_count": 77,
   "id": "3fe0f148-ea57-49e3-a9d6-49457bb659d0",
   "metadata": {},
   "outputs": [
    {
     "ename": "TypeError",
     "evalue": "int() can't convert non-string with explicit base",
     "output_type": "error",
     "traceback": [
      "\u001b[1;31m---------------------------------------------------------------------------\u001b[0m",
      "\u001b[1;31mTypeError\u001b[0m                                 Traceback (most recent call last)",
      "Cell \u001b[1;32mIn[77], line 1\u001b[0m\n\u001b[1;32m----> 1\u001b[0m \u001b[38;5;28mint\u001b[39m(\u001b[38;5;28;01mTrue\u001b[39;00m,\u001b[38;5;28;01mFalse\u001b[39;00m)\n",
      "\u001b[1;31mTypeError\u001b[0m: int() can't convert non-string with explicit base"
     ]
    }
   ],
   "source": [
    "int(True,False)\n"
   ]
  },
  {
   "cell_type": "code",
   "execution_count": 79,
   "id": "6e671447-e8b2-4202-b8fa-6f3bf0b89c25",
   "metadata": {},
   "outputs": [
    {
     "data": {
      "text/plain": [
       "0"
      ]
     },
     "execution_count": 79,
     "metadata": {},
     "output_type": "execute_result"
    }
   ],
   "source": [
    "int(False)\n"
   ]
  },
  {
   "cell_type": "code",
   "execution_count": 81,
   "id": "637c9252-d277-400a-8ddc-dc8c498db8ba",
   "metadata": {},
   "outputs": [
    {
     "name": "stdout",
     "output_type": "stream",
     "text": [
      "3\n",
      "1\n",
      "10\n"
     ]
    }
   ],
   "source": [
    "print(int(3.4))\n",
    "print(int(True))      # in string only number string will be accepted \n",
    "print(int('10'))\n"
   ]
  },
  {
   "cell_type": "code",
   "execution_count": 83,
   "id": "c8276512-a220-4f16-ad83-2cbb1f444e0a",
   "metadata": {},
   "outputs": [
    {
     "ename": "TypeError",
     "evalue": "int() argument must be a string, a bytes-like object or a real number, not 'complex'",
     "output_type": "error",
     "traceback": [
      "\u001b[1;31m---------------------------------------------------------------------------\u001b[0m",
      "\u001b[1;31mTypeError\u001b[0m                                 Traceback (most recent call last)",
      "Cell \u001b[1;32mIn[83], line 1\u001b[0m\n\u001b[1;32m----> 1\u001b[0m \u001b[38;5;28mprint\u001b[39m(\u001b[38;5;28mint\u001b[39m(\u001b[38;5;241m10\u001b[39m\u001b[38;5;241m+\u001b[39m\u001b[38;5;241m20\u001b[39mj))\n",
      "\u001b[1;31mTypeError\u001b[0m: int() argument must be a string, a bytes-like object or a real number, not 'complex'"
     ]
    }
   ],
   "source": [
    "print(int(10+20j))        #complex is error is will not accept in type cassting "
   ]
  },
  {
   "cell_type": "markdown",
   "id": "535fd040-a8b7-4332-b436-ed6989dcfb92",
   "metadata": {},
   "source": [
    "#IN TYPE CASTING FROM OTHER DATATYPE TO INT POSSIBLE EXCEPT COMPLEX "
   ]
  },
  {
   "cell_type": "code",
   "execution_count": null,
   "id": "f8d193eb-f5f0-439d-bbdb-8812644b24c6",
   "metadata": {},
   "outputs": [],
   "source": []
  }
 ],
 "metadata": {
  "kernelspec": {
   "display_name": "Python [conda env:base] *",
   "language": "python",
   "name": "conda-base-py"
  },
  "language_info": {
   "codemirror_mode": {
    "name": "ipython",
    "version": 3
   },
   "file_extension": ".py",
   "mimetype": "text/x-python",
   "name": "python",
   "nbconvert_exporter": "python",
   "pygments_lexer": "ipython3",
   "version": "3.12.7"
  }
 },
 "nbformat": 4,
 "nbformat_minor": 5
}
