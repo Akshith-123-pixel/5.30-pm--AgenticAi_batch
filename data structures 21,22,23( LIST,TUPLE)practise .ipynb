{
 "cells": [
  {
   "cell_type": "code",
   "execution_count": 1,
   "id": "962ee66e-f9b9-4049-b3ec-8a175d3b999b",
   "metadata": {},
   "outputs": [
    {
     "data": {
      "text/plain": [
       "[10]"
      ]
     },
     "execution_count": 1,
     "metadata": {},
     "output_type": "execute_result"
    }
   ],
   "source": [
    "l = [10]\n",
    "l"
   ]
  },
  {
   "cell_type": "code",
   "execution_count": 3,
   "id": "f63c4d63-8ad1-4dfb-a5b9-2feffe21bd39",
   "metadata": {},
   "outputs": [],
   "source": [
    "l.append(20)\n",
    "l.append(30)\n",
    "l.append(40)\n",
    "l.append(50)"
   ]
  },
  {
   "cell_type": "code",
   "execution_count": 5,
   "id": "0ccbf2d7-0e6d-45d6-88b4-70468feef3f6",
   "metadata": {},
   "outputs": [
    {
     "data": {
      "text/plain": [
       "[10, 20, 30, 40, 50]"
      ]
     },
     "execution_count": 5,
     "metadata": {},
     "output_type": "execute_result"
    }
   ],
   "source": [
    "l\n"
   ]
  },
  {
   "cell_type": "code",
   "execution_count": 7,
   "id": "10f6d241-f32d-441f-b44d-0b0e2e7c955c",
   "metadata": {},
   "outputs": [
    {
     "ename": "TypeError",
     "evalue": "list.append() takes exactly one argument (3 given)",
     "output_type": "error",
     "traceback": [
      "\u001b[1;31m---------------------------------------------------------------------------\u001b[0m",
      "\u001b[1;31mTypeError\u001b[0m                                 Traceback (most recent call last)",
      "Cell \u001b[1;32mIn[7], line 1\u001b[0m\n\u001b[1;32m----> 1\u001b[0m l\u001b[38;5;241m.\u001b[39mappend(\u001b[38;5;241m60\u001b[39m,\u001b[38;5;241m70\u001b[39m,\u001b[38;5;241m80\u001b[39m)\n",
      "\u001b[1;31mTypeError\u001b[0m: list.append() takes exactly one argument (3 given)"
     ]
    }
   ],
   "source": [
    "l.append(60,70,80) #it will not accept multiple valuess "
   ]
  },
  {
   "cell_type": "code",
   "execution_count": 9,
   "id": "cde5f11a-70e0-4b21-9413-ab420d110fa7",
   "metadata": {},
   "outputs": [
    {
     "data": {
      "text/plain": [
       "list"
      ]
     },
     "execution_count": 9,
     "metadata": {},
     "output_type": "execute_result"
    }
   ],
   "source": [
    "type(l)"
   ]
  },
  {
   "cell_type": "code",
   "execution_count": 13,
   "id": "e1715211-255c-4678-88c7-609671bb266c",
   "metadata": {},
   "outputs": [
    {
     "data": {
      "text/plain": [
       "5"
      ]
     },
     "execution_count": 13,
     "metadata": {},
     "output_type": "execute_result"
    }
   ],
   "source": [
    "len(l)\n"
   ]
  },
  {
   "cell_type": "code",
   "execution_count": 15,
   "id": "018c0c24-054c-49b7-b8e1-4014932b98eb",
   "metadata": {},
   "outputs": [],
   "source": [
    "l.append(10)\n",
    "l.append('iit')\n",
    "l.append(10.3)\n",
    "l.append(2+8j)"
   ]
  },
  {
   "cell_type": "code",
   "execution_count": 17,
   "id": "0810295d-c5ba-4f26-aa27-51757b7ddede",
   "metadata": {},
   "outputs": [
    {
     "data": {
      "text/plain": [
       "[10, 20, 30, 40, 50, 10, 'iit', 10.3, (2+8j)]"
      ]
     },
     "execution_count": 17,
     "metadata": {},
     "output_type": "execute_result"
    }
   ],
   "source": [
    "l"
   ]
  },
  {
   "cell_type": "code",
   "execution_count": 19,
   "id": "221709fe-ec41-4999-a9de-b3c5f0648574",
   "metadata": {},
   "outputs": [
    {
     "data": {
      "text/plain": [
       "9"
      ]
     },
     "execution_count": 19,
     "metadata": {},
     "output_type": "execute_result"
    }
   ],
   "source": [
    "len(l)"
   ]
  },
  {
   "cell_type": "code",
   "execution_count": 23,
   "id": "b0213355-1555-4bb8-aba2-92dd17e850ea",
   "metadata": {},
   "outputs": [],
   "source": [
    "l1 = l.copy()"
   ]
  },
  {
   "cell_type": "code",
   "execution_count": 25,
   "id": "81e8de8a-346a-4fb9-a707-0ce1ca1172dc",
   "metadata": {},
   "outputs": [
    {
     "data": {
      "text/plain": [
       "[10, 20, 30, 40, 50, 10, 'iit', 10.3, (2+8j)]"
      ]
     },
     "execution_count": 25,
     "metadata": {},
     "output_type": "execute_result"
    }
   ],
   "source": [
    "l1"
   ]
  },
  {
   "cell_type": "code",
   "execution_count": 27,
   "id": "684a1a70-5f99-406a-ba56-aa05bc66c58e",
   "metadata": {},
   "outputs": [
    {
     "data": {
      "text/plain": [
       "9"
      ]
     },
     "execution_count": 27,
     "metadata": {},
     "output_type": "execute_result"
    }
   ],
   "source": [
    "len(l1)\n"
   ]
  },
  {
   "cell_type": "code",
   "execution_count": 29,
   "id": "2de2ff61-0319-435d-9633-7433ee83fa61",
   "metadata": {},
   "outputs": [
    {
     "data": {
      "text/plain": [
       "True"
      ]
     },
     "execution_count": 29,
     "metadata": {},
     "output_type": "execute_result"
    }
   ],
   "source": [
    "l == l1\n"
   ]
  },
  {
   "cell_type": "code",
   "execution_count": 31,
   "id": "9bfc6cd8-4477-495b-9388-fd92546868c7",
   "metadata": {},
   "outputs": [
    {
     "data": {
      "text/plain": [
       "[10, 20, 30, 40, 50, 10, 'iit', 10.3, (2+8j), 80]"
      ]
     },
     "execution_count": 31,
     "metadata": {},
     "output_type": "execute_result"
    }
   ],
   "source": [
    "l.append(80)\n",
    "l"
   ]
  },
  {
   "cell_type": "code",
   "execution_count": 33,
   "id": "9ed0f633-e745-4e27-9de2-52735e82e613",
   "metadata": {},
   "outputs": [
    {
     "data": {
      "text/plain": [
       "False"
      ]
     },
     "execution_count": 33,
     "metadata": {},
     "output_type": "execute_result"
    }
   ],
   "source": [
    "l == l1"
   ]
  },
  {
   "cell_type": "code",
   "execution_count": 37,
   "id": "17e1361f-9c84-4ed2-84e6-967d78102dc2",
   "metadata": {},
   "outputs": [
    {
     "data": {
      "text/plain": [
       "9"
      ]
     },
     "execution_count": 37,
     "metadata": {},
     "output_type": "execute_result"
    }
   ],
   "source": [
    "l.index(80)\n"
   ]
  },
  {
   "cell_type": "code",
   "execution_count": 39,
   "id": "c6722236-bcc9-4dcc-8000-2d0e75ff9254",
   "metadata": {},
   "outputs": [],
   "source": [
    "l2 = l.copy()"
   ]
  },
  {
   "cell_type": "code",
   "execution_count": 41,
   "id": "9fe0a988-f9e3-4546-800c-c58372c9fc62",
   "metadata": {},
   "outputs": [
    {
     "data": {
      "text/plain": [
       "[10, 20, 30, 40, 50, 10, 'iit', 10.3, (2+8j), 80]"
      ]
     },
     "execution_count": 41,
     "metadata": {},
     "output_type": "execute_result"
    }
   ],
   "source": [
    "l2"
   ]
  },
  {
   "cell_type": "code",
   "execution_count": 43,
   "id": "46fbeea6-b198-47d8-855b-6bb4d9310e6e",
   "metadata": {},
   "outputs": [
    {
     "data": {
      "text/plain": [
       "True"
      ]
     },
     "execution_count": 43,
     "metadata": {},
     "output_type": "execute_result"
    }
   ],
   "source": [
    "l == l2"
   ]
  },
  {
   "cell_type": "code",
   "execution_count": 45,
   "id": "d444c122-435d-4bb5-87c8-cd9325711108",
   "metadata": {},
   "outputs": [
    {
     "data": {
      "text/plain": [
       "False"
      ]
     },
     "execution_count": 45,
     "metadata": {},
     "output_type": "execute_result"
    }
   ],
   "source": [
    "l1 == l2"
   ]
  },
  {
   "cell_type": "code",
   "execution_count": 47,
   "id": "0c10de42-0f0e-46f9-8f80-a623b9adc935",
   "metadata": {},
   "outputs": [
    {
     "data": {
      "text/plain": [
       "[10, 20, 30, 40, 50, 10, 'iit', 10.3, (2+8j), 80]"
      ]
     },
     "execution_count": 47,
     "metadata": {},
     "output_type": "execute_result"
    }
   ],
   "source": [
    "l"
   ]
  },
  {
   "cell_type": "code",
   "execution_count": 49,
   "id": "6e8be586-7b98-4158-9bf4-f73eebd2ba50",
   "metadata": {},
   "outputs": [
    {
     "data": {
      "text/plain": [
       "10"
      ]
     },
     "execution_count": 49,
     "metadata": {},
     "output_type": "execute_result"
    }
   ],
   "source": [
    "len(l2)"
   ]
  },
  {
   "cell_type": "code",
   "execution_count": 51,
   "id": "00a3e202-1325-4a15-bd05-bb10758031dd",
   "metadata": {},
   "outputs": [
    {
     "name": "stdout",
     "output_type": "stream",
     "text": [
      "[10, 20, 30, 40, 50, 10, 'iit', 10.3, (2+8j), 80]\n",
      "[10, 20, 30, 40, 50, 10, 'iit', 10.3, (2+8j)]\n",
      "[10, 20, 30, 40, 50, 10, 'iit', 10.3, (2+8j), 80]\n"
     ]
    }
   ],
   "source": [
    "print(l)\n",
    "print(l1)\n",
    "print(l2)"
   ]
  },
  {
   "cell_type": "code",
   "execution_count": 53,
   "id": "97b63878-ab40-4398-9f77-00bd97684fee",
   "metadata": {},
   "outputs": [
    {
     "data": {
      "text/plain": [
       "[10, 20, 30, 40, 50, 10, 'iit', 10.3, (2+8j), 80]"
      ]
     },
     "execution_count": 53,
     "metadata": {},
     "output_type": "execute_result"
    }
   ],
   "source": [
    "l[:]"
   ]
  },
  {
   "cell_type": "code",
   "execution_count": 55,
   "id": "d5dff5d2-6d55-40f9-b570-ee4c5482edee",
   "metadata": {},
   "outputs": [
    {
     "data": {
      "text/plain": [
       "[10, 20, 30]"
      ]
     },
     "execution_count": 55,
     "metadata": {},
     "output_type": "execute_result"
    }
   ],
   "source": [
    "l[:3]"
   ]
  },
  {
   "cell_type": "code",
   "execution_count": 57,
   "id": "01adeb47-7109-4c41-8884-808ce4972ec5",
   "metadata": {},
   "outputs": [
    {
     "data": {
      "text/plain": [
       "[50, 10, 'iit', 10.3, (2+8j), 80]"
      ]
     },
     "execution_count": 57,
     "metadata": {},
     "output_type": "execute_result"
    }
   ],
   "source": [
    "l[4:]"
   ]
  },
  {
   "cell_type": "code",
   "execution_count": 59,
   "id": "c4a28a86-e271-4244-9921-bc3fd038c150",
   "metadata": {},
   "outputs": [
    {
     "data": {
      "text/plain": [
       "[10, 20, 30, 40, 50]"
      ]
     },
     "execution_count": 59,
     "metadata": {},
     "output_type": "execute_result"
    }
   ],
   "source": [
    "l[:5]"
   ]
  },
  {
   "cell_type": "code",
   "execution_count": 61,
   "id": "e51f7eda-3ef9-4173-8c94-16ba9b4b844d",
   "metadata": {},
   "outputs": [
    {
     "data": {
      "text/plain": [
       "[10.3, (2+8j), 80]"
      ]
     },
     "execution_count": 61,
     "metadata": {},
     "output_type": "execute_result"
    }
   ],
   "source": [
    "l[7:]"
   ]
  },
  {
   "cell_type": "code",
   "execution_count": 63,
   "id": "698a25e3-41da-49c2-8263-1a2c3adbfa03",
   "metadata": {},
   "outputs": [
    {
     "data": {
      "text/plain": [
       "[10, 20, 30, 40, 50, 10, 'iit', 10.3, (2+8j)]"
      ]
     },
     "execution_count": 63,
     "metadata": {},
     "output_type": "execute_result"
    }
   ],
   "source": [
    "l[:-1]"
   ]
  },
  {
   "cell_type": "code",
   "execution_count": 65,
   "id": "bf5088b8-62a5-4710-b5ce-cb78b90c7dda",
   "metadata": {},
   "outputs": [
    {
     "data": {
      "text/plain": [
       "[10, 20, 30, 40, 50, 10, 'iit']"
      ]
     },
     "execution_count": 65,
     "metadata": {},
     "output_type": "execute_result"
    }
   ],
   "source": [
    "l[:-3]"
   ]
  },
  {
   "cell_type": "code",
   "execution_count": 67,
   "id": "09564730-4ae7-4e82-abe4-d8e7f7be413f",
   "metadata": {},
   "outputs": [],
   "source": [
    "l2.clear()    #l2 has cleraed "
   ]
  },
  {
   "cell_type": "code",
   "execution_count": 69,
   "id": "d3b62b35-3d03-4e22-a4bc-4d7dd62c2068",
   "metadata": {},
   "outputs": [
    {
     "data": {
      "text/plain": [
       "[]"
      ]
     },
     "execution_count": 69,
     "metadata": {},
     "output_type": "execute_result"
    }
   ],
   "source": [
    "l2"
   ]
  },
  {
   "cell_type": "code",
   "execution_count": 71,
   "id": "733c705c-65bf-4ed1-b61b-44326257cb7f",
   "metadata": {},
   "outputs": [],
   "source": [
    "del(l2)      #in this l2 deleted the variables "
   ]
  },
  {
   "cell_type": "code",
   "execution_count": 73,
   "id": "3cb42e26-be3f-4645-ba9e-58376c80f751",
   "metadata": {},
   "outputs": [
    {
     "ename": "NameError",
     "evalue": "name 'l2' is not defined",
     "output_type": "error",
     "traceback": [
      "\u001b[1;31m---------------------------------------------------------------------------\u001b[0m",
      "\u001b[1;31mNameError\u001b[0m                                 Traceback (most recent call last)",
      "Cell \u001b[1;32mIn[73], line 1\u001b[0m\n\u001b[1;32m----> 1\u001b[0m l2\n",
      "\u001b[1;31mNameError\u001b[0m: name 'l2' is not defined"
     ]
    }
   ],
   "source": [
    "l2"
   ]
  },
  {
   "cell_type": "code",
   "execution_count": 75,
   "id": "5282515f-b0b7-4c0b-bc96-833a30eaf8d9",
   "metadata": {},
   "outputs": [
    {
     "ename": "NameError",
     "evalue": "name 'l2' is not defined",
     "output_type": "error",
     "traceback": [
      "\u001b[1;31m---------------------------------------------------------------------------\u001b[0m",
      "\u001b[1;31mNameError\u001b[0m                                 Traceback (most recent call last)",
      "Cell \u001b[1;32mIn[75], line 1\u001b[0m\n\u001b[1;32m----> 1\u001b[0m l2\n",
      "\u001b[1;31mNameError\u001b[0m: name 'l2' is not defined"
     ]
    }
   ],
   "source": [
    "l2"
   ]
  },
  {
   "cell_type": "code",
   "execution_count": 77,
   "id": "da15f5e1-61a2-4abd-8a83-debcc17b399e",
   "metadata": {},
   "outputs": [
    {
     "data": {
      "text/plain": [
       "[10, 20, 30, 40, 50, 10, 'iit', 10.3, (2+8j), 80]"
      ]
     },
     "execution_count": 77,
     "metadata": {},
     "output_type": "execute_result"
    }
   ],
   "source": [
    "l"
   ]
  },
  {
   "cell_type": "code",
   "execution_count": 79,
   "id": "b2a04c48-4b36-4e62-81b8-2950ea88e0e4",
   "metadata": {},
   "outputs": [
    {
     "data": {
      "text/plain": [
       "7"
      ]
     },
     "execution_count": 79,
     "metadata": {},
     "output_type": "execute_result"
    }
   ],
   "source": [
    "l.index(10.3)"
   ]
  },
  {
   "cell_type": "code",
   "execution_count": 81,
   "id": "eaf2b103-792e-4c66-b46e-a028704d5722",
   "metadata": {},
   "outputs": [
    {
     "data": {
      "text/plain": [
       "6"
      ]
     },
     "execution_count": 81,
     "metadata": {},
     "output_type": "execute_result"
    }
   ],
   "source": [
    "l.index('iit')"
   ]
  },
  {
   "cell_type": "code",
   "execution_count": 85,
   "id": "ec0f5ed3-4952-412f-b5c7-a04df6c58892",
   "metadata": {},
   "outputs": [],
   "source": [
    "nums = [10,20,30]"
   ]
  },
  {
   "cell_type": "code",
   "execution_count": 87,
   "id": "d737a151-9f6f-43c2-987c-d5337d797c57",
   "metadata": {},
   "outputs": [
    {
     "data": {
      "text/plain": [
       "[10, 20, 30]"
      ]
     },
     "execution_count": 87,
     "metadata": {},
     "output_type": "execute_result"
    }
   ],
   "source": [
    "nums"
   ]
  },
  {
   "cell_type": "code",
   "execution_count": 91,
   "id": "635fbbce-54e7-4386-9f93-42a1e446b04d",
   "metadata": {},
   "outputs": [
    {
     "data": {
      "text/plain": [
       "30"
      ]
     },
     "execution_count": 91,
     "metadata": {},
     "output_type": "execute_result"
    }
   ],
   "source": [
    "nums[-1]"
   ]
  },
  {
   "cell_type": "code",
   "execution_count": 95,
   "id": "c3e9e971-5f01-4660-a52a-9f7cfd1514b6",
   "metadata": {},
   "outputs": [
    {
     "data": {
      "text/plain": [
       "[10, 20]"
      ]
     },
     "execution_count": 95,
     "metadata": {},
     "output_type": "execute_result"
    }
   ],
   "source": [
    "nums[:2]"
   ]
  },
  {
   "cell_type": "code",
   "execution_count": 97,
   "id": "ee5f2b68-cd65-442e-b3c8-e86381937c93",
   "metadata": {},
   "outputs": [],
   "source": [
    "num1 = 'hi' , 'bye'"
   ]
  },
  {
   "cell_type": "code",
   "execution_count": 99,
   "id": "1406a312-2696-46a0-84ff-a5df25680837",
   "metadata": {},
   "outputs": [
    {
     "data": {
      "text/plain": [
       "('hi', 'bye')"
      ]
     },
     "execution_count": 99,
     "metadata": {},
     "output_type": "execute_result"
    }
   ],
   "source": [
    "num1"
   ]
  },
  {
   "cell_type": "code",
   "execution_count": 101,
   "id": "26d251d4-50a5-4da2-b7a7-7e8f3765fcd0",
   "metadata": {},
   "outputs": [
    {
     "data": {
      "text/plain": [
       "'uday waste fellow'"
      ]
     },
     "execution_count": 101,
     "metadata": {},
     "output_type": "execute_result"
    }
   ],
   "source": [
    "num2 =  'uday waste fellow'\n",
    "num2"
   ]
  },
  {
   "cell_type": "code",
   "execution_count": 105,
   "id": "7f26b75e-b301-4687-85eb-f97dfe87b9b6",
   "metadata": {},
   "outputs": [
    {
     "data": {
      "text/plain": [
       "(('hi', 'bye'), 'uday waste fellow')"
      ]
     },
     "execution_count": 105,
     "metadata": {},
     "output_type": "execute_result"
    }
   ],
   "source": [
    "nums = num1 , num2 \n",
    "nums"
   ]
  },
  {
   "cell_type": "code",
   "execution_count": 111,
   "id": "42ae0ed7-922e-4a9d-8eec-c65141cc00cc",
   "metadata": {},
   "outputs": [
    {
     "data": {
      "text/plain": [
       "(('hi', 'bye'), 'uday waste fellow')"
      ]
     },
     "execution_count": 111,
     "metadata": {},
     "output_type": "execute_result"
    }
   ],
   "source": [
    "nums"
   ]
  },
  {
   "cell_type": "code",
   "execution_count": 123,
   "id": "95643765-e37e-4d6d-b259-2624f182598d",
   "metadata": {},
   "outputs": [
    {
     "data": {
      "text/plain": [
       "[10, 20, 30, 40]"
      ]
     },
     "execution_count": 123,
     "metadata": {},
     "output_type": "execute_result"
    }
   ],
   "source": [
    "nums = [10,20,30,40]\n",
    "nums"
   ]
  },
  {
   "cell_type": "code",
   "execution_count": 121,
   "id": "7caebfac-8d03-4d51-b5fa-fe28d2cf3c35",
   "metadata": {},
   "outputs": [
    {
     "data": {
      "text/plain": [
       "[10]"
      ]
     },
     "execution_count": 121,
     "metadata": {},
     "output_type": "execute_result"
    }
   ],
   "source": [
    "l = [10]\n",
    "l"
   ]
  },
  {
   "cell_type": "code",
   "execution_count": 125,
   "id": "857dad06-db61-4f82-9f5d-b01da7190aaa",
   "metadata": {},
   "outputs": [],
   "source": [
    "nums.append(50)"
   ]
  },
  {
   "cell_type": "code",
   "execution_count": 127,
   "id": "340a31fe-7635-40ee-9377-e27a41de922b",
   "metadata": {},
   "outputs": [
    {
     "data": {
      "text/plain": [
       "[10, 20, 30, 40, 50]"
      ]
     },
     "execution_count": 127,
     "metadata": {},
     "output_type": "execute_result"
    }
   ],
   "source": [
    "nums"
   ]
  },
  {
   "cell_type": "code",
   "execution_count": 129,
   "id": "a1ca92f2-6655-4cdd-a4cc-ea5de5a26204",
   "metadata": {},
   "outputs": [
    {
     "data": {
      "text/plain": [
       "[10, 20, 30, 40]"
      ]
     },
     "execution_count": 129,
     "metadata": {},
     "output_type": "execute_result"
    }
   ],
   "source": [
    "nums.remove(50)\n",
    "nums"
   ]
  },
  {
   "cell_type": "code",
   "execution_count": 137,
   "id": "9c47fae7-fd05-4034-8be0-d06195788fcb",
   "metadata": {},
   "outputs": [
    {
     "data": {
      "text/plain": [
       "[10, 20]"
      ]
     },
     "execution_count": 137,
     "metadata": {},
     "output_type": "execute_result"
    }
   ],
   "source": [
    "nums"
   ]
  },
  {
   "cell_type": "code",
   "execution_count": 141,
   "id": "c6e3ea25-a6b7-44ba-9f69-6cdfecf3f71a",
   "metadata": {},
   "outputs": [
    {
     "data": {
      "text/plain": [
       "[50, 60, 70, 80]"
      ]
     },
     "execution_count": 141,
     "metadata": {},
     "output_type": "execute_result"
    }
   ],
   "source": [
    "nums = [50,60,70,80]\n",
    "nums"
   ]
  },
  {
   "cell_type": "code",
   "execution_count": 143,
   "id": "7fe15938-1a85-4698-9c05-18c2a66ca353",
   "metadata": {},
   "outputs": [
    {
     "data": {
      "text/plain": [
       "80"
      ]
     },
     "execution_count": 143,
     "metadata": {},
     "output_type": "execute_result"
    }
   ],
   "source": [
    "nums.pop(3)"
   ]
  },
  {
   "cell_type": "code",
   "execution_count": 145,
   "id": "f742bffe-f0d5-4e8e-b6bd-6cf18d2f4fd4",
   "metadata": {},
   "outputs": [
    {
     "data": {
      "text/plain": [
       "[50, 60, 70]"
      ]
     },
     "execution_count": 145,
     "metadata": {},
     "output_type": "execute_result"
    }
   ],
   "source": [
    "nums"
   ]
  },
  {
   "cell_type": "code",
   "execution_count": 147,
   "id": "376ac2b3-0f62-456e-985a-71b399c78fd4",
   "metadata": {},
   "outputs": [
    {
     "data": {
      "text/plain": [
       "60"
      ]
     },
     "execution_count": 147,
     "metadata": {},
     "output_type": "execute_result"
    }
   ],
   "source": [
    "nums.pop(1)"
   ]
  },
  {
   "cell_type": "code",
   "execution_count": 149,
   "id": "fcb4ae22-d183-428c-b366-9f4b01be2b15",
   "metadata": {},
   "outputs": [
    {
     "data": {
      "text/plain": [
       "[50, 70]"
      ]
     },
     "execution_count": 149,
     "metadata": {},
     "output_type": "execute_result"
    }
   ],
   "source": [
    "nums"
   ]
  },
  {
   "cell_type": "code",
   "execution_count": 159,
   "id": "1b1804cc-2cab-4789-9a6b-45cd2c64b170",
   "metadata": {},
   "outputs": [],
   "source": [
    "nums.insert(10,20)  #10 was an index number and 20 was an object or elemnt will be insterted "
   ]
  },
  {
   "cell_type": "code",
   "execution_count": 155,
   "id": "a0969f2b-cffb-486c-be42-483ff16c532b",
   "metadata": {},
   "outputs": [
    {
     "data": {
      "text/plain": [
       "[50, 70, 20]"
      ]
     },
     "execution_count": 155,
     "metadata": {},
     "output_type": "execute_result"
    }
   ],
   "source": [
    "nums"
   ]
  },
  {
   "cell_type": "code",
   "execution_count": 161,
   "id": "b9c1c9e3-0e56-4c17-a142-2cf0b8597ba0",
   "metadata": {},
   "outputs": [],
   "source": [
    "nums.insert(1,30)   #for example"
   ]
  },
  {
   "cell_type": "code",
   "execution_count": 163,
   "id": "b049804b-c323-486d-899b-f4c29f3f31bd",
   "metadata": {},
   "outputs": [
    {
     "data": {
      "text/plain": [
       "[50, 30, 70, 20, 20]"
      ]
     },
     "execution_count": 163,
     "metadata": {},
     "output_type": "execute_result"
    }
   ],
   "source": [
    "nums"
   ]
  },
  {
   "cell_type": "code",
   "execution_count": 173,
   "id": "632cc8c3-2e11-4578-b314-82cde0ce43b0",
   "metadata": {},
   "outputs": [],
   "source": [
    "nums.extend([20 , 30])        #it will extend list from the last elemenet "
   ]
  },
  {
   "cell_type": "code",
   "execution_count": 175,
   "id": "ed4a2482-1311-4105-85f3-0ad2310d00da",
   "metadata": {},
   "outputs": [
    {
     "data": {
      "text/plain": [
       "[50, 30, 70, 20, 20, 20, 30]"
      ]
     },
     "execution_count": 175,
     "metadata": {},
     "output_type": "execute_result"
    }
   ],
   "source": [
    "nums"
   ]
  },
  {
   "cell_type": "code",
   "execution_count": 177,
   "id": "e8f8599b-31dc-4105-969b-d4ed70f4bc85",
   "metadata": {},
   "outputs": [],
   "source": [
    "nums.extend([30])        #it will extend list from the last elemenet "
   ]
  },
  {
   "cell_type": "code",
   "execution_count": 179,
   "id": "dd40db81-0706-413b-880b-4a4568e53d5a",
   "metadata": {},
   "outputs": [
    {
     "data": {
      "text/plain": [
       "[50, 30, 70, 20, 20, 20, 30, 30]"
      ]
     },
     "execution_count": 179,
     "metadata": {},
     "output_type": "execute_result"
    }
   ],
   "source": [
    "nums"
   ]
  },
  {
   "cell_type": "code",
   "execution_count": 181,
   "id": "abe018f5-9dd6-42ca-b643-35707820cbba",
   "metadata": {},
   "outputs": [],
   "source": [
    "nums.extend(['a',50])"
   ]
  },
  {
   "cell_type": "code",
   "execution_count": 183,
   "id": "6c695df3-8ebe-4e9f-aa5b-d9a58e3e469d",
   "metadata": {},
   "outputs": [
    {
     "data": {
      "text/plain": [
       "[50, 30, 70, 20, 20, 20, 30, 30, 'a', 50]"
      ]
     },
     "execution_count": 183,
     "metadata": {},
     "output_type": "execute_result"
    }
   ],
   "source": [
    "nums"
   ]
  },
  {
   "cell_type": "code",
   "execution_count": 187,
   "id": "8588e014-d98a-41af-834a-5c1a509ce79c",
   "metadata": {},
   "outputs": [
    {
     "data": {
      "text/plain": [
       "10"
      ]
     },
     "execution_count": 187,
     "metadata": {},
     "output_type": "execute_result"
    }
   ],
   "source": [
    "len(nums)"
   ]
  },
  {
   "cell_type": "code",
   "execution_count": 191,
   "id": "0ad3b85b-b614-40ae-b633-117920f6d9cd",
   "metadata": {},
   "outputs": [],
   "source": [
    "nums.remove('a')"
   ]
  },
  {
   "cell_type": "code",
   "execution_count": 193,
   "id": "175f3f48-9618-4204-801a-97d489a1eb65",
   "metadata": {},
   "outputs": [
    {
     "data": {
      "text/plain": [
       "[20, 20, 20, 30, 30, 30, 50, 70, 50]"
      ]
     },
     "execution_count": 193,
     "metadata": {},
     "output_type": "execute_result"
    }
   ],
   "source": [
    "nums"
   ]
  },
  {
   "cell_type": "code",
   "execution_count": 195,
   "id": "ec0e2475-368f-4fc1-b3b9-ac097fd5f337",
   "metadata": {},
   "outputs": [],
   "source": [
    "nums.sort()      # accending order sort means "
   ]
  },
  {
   "cell_type": "code",
   "execution_count": 197,
   "id": "dc7222f2-2741-4c54-83ed-622c6a651ecc",
   "metadata": {},
   "outputs": [
    {
     "data": {
      "text/plain": [
       "[20, 20, 20, 30, 30, 30, 50, 50, 70]"
      ]
     },
     "execution_count": 197,
     "metadata": {},
     "output_type": "execute_result"
    }
   ],
   "source": [
    "nums"
   ]
  },
  {
   "cell_type": "code",
   "execution_count": 199,
   "id": "6c65a57c-f774-4476-ae0d-ba716f20a7d2",
   "metadata": {},
   "outputs": [],
   "source": [
    "nums.reverse()        # it will reverse the elemnts "
   ]
  },
  {
   "cell_type": "code",
   "execution_count": 201,
   "id": "4f11ef1a-458f-44b0-bcdd-669e94525948",
   "metadata": {},
   "outputs": [
    {
     "data": {
      "text/plain": [
       "[70, 50, 50, 30, 30, 30, 20, 20, 20]"
      ]
     },
     "execution_count": 201,
     "metadata": {},
     "output_type": "execute_result"
    }
   ],
   "source": [
    "nums"
   ]
  },
  {
   "cell_type": "code",
   "execution_count": 203,
   "id": "8b4dd853-1b59-48c1-a4d6-5b5862ca5999",
   "metadata": {},
   "outputs": [],
   "source": [
    "tup = (10,20,30)\n"
   ]
  },
  {
   "cell_type": "code",
   "execution_count": 205,
   "id": "e9b1087b-7b39-41ef-9ae6-433fb97801e2",
   "metadata": {},
   "outputs": [
    {
     "data": {
      "text/plain": [
       "(10, 20, 30)"
      ]
     },
     "execution_count": 205,
     "metadata": {},
     "output_type": "execute_result"
    }
   ],
   "source": [
    "tup"
   ]
  },
  {
   "cell_type": "code",
   "execution_count": 211,
   "id": "2aeadf1c-eaaa-4b1d-80a9-6667fc34faa8",
   "metadata": {},
   "outputs": [
    {
     "data": {
      "text/plain": [
       "1"
      ]
     },
     "execution_count": 211,
     "metadata": {},
     "output_type": "execute_result"
    }
   ],
   "source": [
    "tup.count(20)  #it will count the elements how many are in the list 10 "
   ]
  },
  {
   "cell_type": "code",
   "execution_count": 213,
   "id": "f6a1f13f-4e13-4dbf-83bb-56b51cfe473d",
   "metadata": {},
   "outputs": [],
   "source": [
    "tup = (20,30,40,20,30,40)"
   ]
  },
  {
   "cell_type": "code",
   "execution_count": 215,
   "id": "7e18d0cd-3152-4efc-9bd3-4c657c2e9e21",
   "metadata": {},
   "outputs": [
    {
     "data": {
      "text/plain": [
       "(20, 30, 40, 20, 30, 40)"
      ]
     },
     "execution_count": 215,
     "metadata": {},
     "output_type": "execute_result"
    }
   ],
   "source": [
    "tup"
   ]
  },
  {
   "cell_type": "code",
   "execution_count": 217,
   "id": "258b4612-d9c3-4a32-bdca-56bb6e7f2ba1",
   "metadata": {},
   "outputs": [
    {
     "data": {
      "text/plain": [
       "2"
      ]
     },
     "execution_count": 217,
     "metadata": {},
     "output_type": "execute_result"
    }
   ],
   "source": [
    "tup.count(20)"
   ]
  },
  {
   "cell_type": "code",
   "execution_count": 227,
   "id": "4fc86f49-45f1-4a76-a43b-6dc61bce2f60",
   "metadata": {},
   "outputs": [
    {
     "data": {
      "text/plain": [
       "1"
      ]
     },
     "execution_count": 227,
     "metadata": {},
     "output_type": "execute_result"
    }
   ],
   "source": [
    "tup.index(30)      # index means it will count the which the number is present like place of the numbetr "
   ]
  },
  {
   "cell_type": "markdown",
   "id": "07c7e11a-b328-4d99-be32-e8850b3f29f3",
   "metadata": {},
   "source": [
    "#set"
   ]
  },
  {
   "cell_type": "code",
   "execution_count": 3,
   "id": "3f5afec2-f695-4828-96cb-2490273c2ed7",
   "metadata": {},
   "outputs": [
    {
     "data": {
      "text/plain": [
       "{10, 20, 30, 40, 50}"
      ]
     },
     "execution_count": 3,
     "metadata": {},
     "output_type": "execute_result"
    }
   ],
   "source": [
    "s = {10,20,30,40,50}\n",
    "s"
   ]
  },
  {
   "cell_type": "code",
   "execution_count": 5,
   "id": "ac6dfc13-6ec5-4cd6-b190-15836090c0f8",
   "metadata": {},
   "outputs": [],
   "source": [
    "s1 = {'nit' , 'iit' , 'akshith'}"
   ]
  },
  {
   "cell_type": "code",
   "execution_count": 7,
   "id": "d7c9aa29-deec-46dd-adf3-6bd9e9f630ec",
   "metadata": {},
   "outputs": [
    {
     "data": {
      "text/plain": [
       "{'akshith', 'iit', 'nit'}"
      ]
     },
     "execution_count": 7,
     "metadata": {},
     "output_type": "execute_result"
    }
   ],
   "source": [
    "s1"
   ]
  },
  {
   "cell_type": "code",
   "execution_count": 9,
   "id": "a5048d34-87f2-4e42-b5d4-97f7c4a19eea",
   "metadata": {},
   "outputs": [
    {
     "data": {
      "text/plain": [
       "False"
      ]
     },
     "execution_count": 9,
     "metadata": {},
     "output_type": "execute_result"
    }
   ],
   "source": [
    "s == s1"
   ]
  },
  {
   "cell_type": "code",
   "execution_count": 11,
   "id": "05d9ee26-d00e-4f0d-8c32-c64fb946c798",
   "metadata": {},
   "outputs": [],
   "source": [
    "s1 = s.copy()"
   ]
  },
  {
   "cell_type": "code",
   "execution_count": 13,
   "id": "b9a2f86c-49aa-4ee2-8418-4ac116b80210",
   "metadata": {},
   "outputs": [
    {
     "data": {
      "text/plain": [
       "{10, 20, 30, 40, 50}"
      ]
     },
     "execution_count": 13,
     "metadata": {},
     "output_type": "execute_result"
    }
   ],
   "source": [
    "s1"
   ]
  },
  {
   "cell_type": "code",
   "execution_count": 15,
   "id": "0d93cc1d-cd63-408a-bf99-9768ee2433ca",
   "metadata": {},
   "outputs": [
    {
     "data": {
      "text/plain": [
       "True"
      ]
     },
     "execution_count": 15,
     "metadata": {},
     "output_type": "execute_result"
    }
   ],
   "source": [
    "s1 == s"
   ]
  },
  {
   "cell_type": "code",
   "execution_count": 17,
   "id": "29864cca-d11d-4251-89a8-973dc8d404e4",
   "metadata": {},
   "outputs": [
    {
     "ename": "TypeError",
     "evalue": "'set' object is not subscriptable",
     "output_type": "error",
     "traceback": [
      "\u001b[1;31m---------------------------------------------------------------------------\u001b[0m",
      "\u001b[1;31mTypeError\u001b[0m                                 Traceback (most recent call last)",
      "Cell \u001b[1;32mIn[17], line 1\u001b[0m\n\u001b[1;32m----> 1\u001b[0m s[\u001b[38;5;241m1\u001b[39m]\n",
      "\u001b[1;31mTypeError\u001b[0m: 'set' object is not subscriptable"
     ]
    }
   ],
   "source": [
    "s[1]  #index is not supported in sets "
   ]
  },
  {
   "cell_type": "code",
   "execution_count": 19,
   "id": "19bbcab8-e457-4543-93c9-112bccd48608",
   "metadata": {},
   "outputs": [
    {
     "data": {
      "text/plain": [
       "{10, 20, 30, 40, 50}"
      ]
     },
     "execution_count": 19,
     "metadata": {},
     "output_type": "execute_result"
    }
   ],
   "source": [
    "s"
   ]
  },
  {
   "cell_type": "markdown",
   "id": "55afbd4d-164a-45b3-a920-5457a6e11eaa",
   "metadata": {},
   "source": [
    "#mutable - we can modify any value   list = mutable\n",
    "22 nd april\n"
   ]
  },
  {
   "cell_type": "code",
   "execution_count": 5,
   "id": "5d65339f-f319-4a33-bd9d-6953139f02c6",
   "metadata": {},
   "outputs": [
    {
     "ename": "NameError",
     "evalue": "name 'l' is not defined",
     "output_type": "error",
     "traceback": [
      "\u001b[1;31m---------------------------------------------------------------------------\u001b[0m",
      "\u001b[1;31mNameError\u001b[0m                                 Traceback (most recent call last)",
      "Cell \u001b[1;32mIn[5], line 1\u001b[0m\n\u001b[1;32m----> 1\u001b[0m l\u001b[38;5;241m.\u001b[39mappend(\u001b[38;5;241m10\u001b[39m)\n\u001b[0;32m      2\u001b[0m l\u001b[38;5;241m.\u001b[39mappend(\u001b[38;5;124m'\u001b[39m\u001b[38;5;124miit\u001b[39m\u001b[38;5;124m'\u001b[39m)\n\u001b[0;32m      3\u001b[0m l\u001b[38;5;241m.\u001b[39mappend(\u001b[38;5;241m10.3\u001b[39m)\n",
      "\u001b[1;31mNameError\u001b[0m: name 'l' is not defined"
     ]
    }
   ],
   "source": [
    "l.append(10)\n",
    "l.append('iit')\n",
    "l.append(10.3)\n",
    "l.append(2+8j)\n",
    "l"
   ]
  },
  {
   "cell_type": "code",
   "execution_count": 1,
   "id": "52acff55-9784-4a64-8668-7a19aea82ecd",
   "metadata": {},
   "outputs": [
    {
     "data": {
      "text/plain": [
       "[]"
      ]
     },
     "execution_count": 1,
     "metadata": {},
     "output_type": "execute_result"
    }
   ],
   "source": [
    "l = []\n",
    "l"
   ]
  },
  {
   "cell_type": "code",
   "execution_count": 3,
   "id": "14c8df7f-2061-4668-844e-13c3600c5d9f",
   "metadata": {},
   "outputs": [
    {
     "data": {
      "text/plain": [
       "[10, 'akshith', 6.5, (2+7j)]"
      ]
     },
     "execution_count": 3,
     "metadata": {},
     "output_type": "execute_result"
    }
   ],
   "source": [
    "l.append(10)            #adding the last element in the list \n",
    "l.append('akshith')\n",
    "l.append(6.5)\n",
    "l.append(2+7j)\n",
    "l"
   ]
  },
  {
   "cell_type": "code",
   "execution_count": 5,
   "id": "d77705c8-765d-4f43-ab14-6b3240afc15c",
   "metadata": {},
   "outputs": [
    {
     "data": {
      "text/plain": [
       "[10, 'akshith', 6.5, (2+7j)]"
      ]
     },
     "execution_count": 5,
     "metadata": {},
     "output_type": "execute_result"
    }
   ],
   "source": [
    "l"
   ]
  },
  {
   "cell_type": "code",
   "execution_count": 7,
   "id": "9d97a006-4a17-4c0d-a5ba-30efbdf0aa5d",
   "metadata": {},
   "outputs": [],
   "source": [
    "l1 = l.copy()"
   ]
  },
  {
   "cell_type": "code",
   "execution_count": 9,
   "id": "ca1f4b6c-dd99-4d67-add0-40ad37fba87a",
   "metadata": {},
   "outputs": [
    {
     "data": {
      "text/plain": [
       "[10, 'akshith', 6.5, (2+7j)]"
      ]
     },
     "execution_count": 9,
     "metadata": {},
     "output_type": "execute_result"
    }
   ],
   "source": [
    "l1"
   ]
  },
  {
   "cell_type": "code",
   "execution_count": 11,
   "id": "a0fdd909-03f6-4c7d-b97b-6870632da9dd",
   "metadata": {},
   "outputs": [
    {
     "data": {
      "text/plain": [
       "True"
      ]
     },
     "execution_count": 11,
     "metadata": {},
     "output_type": "execute_result"
    }
   ],
   "source": [
    "l == l1"
   ]
  },
  {
   "cell_type": "code",
   "execution_count": 15,
   "id": "4f65f110-df92-4494-a524-4ab95894c691",
   "metadata": {},
   "outputs": [
    {
     "data": {
      "text/plain": [
       "[20, 30, 40, 50]"
      ]
     },
     "execution_count": 15,
     "metadata": {},
     "output_type": "execute_result"
    }
   ],
   "source": [
    "l1 = [20,30,40,50]\n",
    "l1"
   ]
  },
  {
   "cell_type": "code",
   "execution_count": 17,
   "id": "5cd140bf-bd9d-4295-a7a8-7d2e937760d0",
   "metadata": {},
   "outputs": [
    {
     "data": {
      "text/plain": [
       "[20, 30, 40, 50]"
      ]
     },
     "execution_count": 17,
     "metadata": {},
     "output_type": "execute_result"
    }
   ],
   "source": [
    "l1"
   ]
  },
  {
   "cell_type": "code",
   "execution_count": 19,
   "id": "7f567f3b-b923-40e2-9772-87e979c329b7",
   "metadata": {},
   "outputs": [
    {
     "data": {
      "text/plain": [
       "False"
      ]
     },
     "execution_count": 19,
     "metadata": {},
     "output_type": "execute_result"
    }
   ],
   "source": [
    "l == l1"
   ]
  },
  {
   "cell_type": "code",
   "execution_count": 21,
   "id": "cdbf3446-fb22-43c3-9a2a-2c98369fdafe",
   "metadata": {},
   "outputs": [
    {
     "data": {
      "text/plain": [
       "[10, 20, 30, 40]"
      ]
     },
     "execution_count": 21,
     "metadata": {},
     "output_type": "execute_result"
    }
   ],
   "source": [
    "l2 = [10,20,30,40]\n",
    "l2"
   ]
  },
  {
   "cell_type": "code",
   "execution_count": 67,
   "id": "be9ab733-6d47-495f-bfcb-49747d383260",
   "metadata": {},
   "outputs": [
    {
     "ename": "NameError",
     "evalue": "name 'l2' is not defined",
     "output_type": "error",
     "traceback": [
      "\u001b[1;31m---------------------------------------------------------------------------\u001b[0m",
      "\u001b[1;31mNameError\u001b[0m                                 Traceback (most recent call last)",
      "Cell \u001b[1;32mIn[67], line 1\u001b[0m\n\u001b[1;32m----> 1\u001b[0m l2\u001b[38;5;241m.\u001b[39mclear()\n",
      "\u001b[1;31mNameError\u001b[0m: name 'l2' is not defined"
     ]
    }
   ],
   "source": [
    " l2.clear()"
   ]
  },
  {
   "cell_type": "code",
   "execution_count": 43,
   "id": "9bc3ce1c-8a86-49ef-9249-0be51a51f194",
   "metadata": {},
   "outputs": [],
   "source": [
    "l2"
   ]
  },
  {
   "cell_type": "code",
   "execution_count": 47,
   "id": "4d3a2268-3901-4e96-9026-438fbaaa6ce2",
   "metadata": {},
   "outputs": [
    {
     "ename": "NameError",
     "evalue": "name 'l2' is not defined",
     "output_type": "error",
     "traceback": [
      "\u001b[1;31m---------------------------------------------------------------------------\u001b[0m",
      "\u001b[1;31mNameError\u001b[0m                                 Traceback (most recent call last)",
      "Cell \u001b[1;32mIn[47], line 1\u001b[0m\n\u001b[1;32m----> 1\u001b[0m \u001b[38;5;28;01mdel\u001b[39;00m(l2)\n",
      "\u001b[1;31mNameError\u001b[0m: name 'l2' is not defined"
     ]
    }
   ],
   "source": [
    "del(l2)       #l2 will be deleted"
   ]
  },
  {
   "cell_type": "code",
   "execution_count": 49,
   "id": "1bd3ec5c-be16-4edd-9a78-2bfa3e16b441",
   "metadata": {},
   "outputs": [
    {
     "data": {
      "text/plain": [
       "[20, 30, 40, 50]"
      ]
     },
     "execution_count": 49,
     "metadata": {},
     "output_type": "execute_result"
    }
   ],
   "source": [
    "l1 "
   ]
  },
  {
   "cell_type": "code",
   "execution_count": 53,
   "id": "8cfa51dc-4979-4595-b5e7-1db7cc1ec1bd",
   "metadata": {},
   "outputs": [
    {
     "name": "stdout",
     "output_type": "stream",
     "text": [
      "[20, 30, 40, 50]\n",
      "[]\n"
     ]
    }
   ],
   "source": [
    "print(l1)\n",
    "print(l)"
   ]
  },
  {
   "cell_type": "code",
   "execution_count": 55,
   "id": "981a7d5a-dca0-40b2-aeef-cd5cf7b14b14",
   "metadata": {},
   "outputs": [],
   "source": [
    "l = [90,80,70,60,50,40]"
   ]
  },
  {
   "cell_type": "code",
   "execution_count": 57,
   "id": "a45a1d65-7fdf-42ac-babb-0f3eb1a27dcb",
   "metadata": {},
   "outputs": [
    {
     "data": {
      "text/plain": [
       "[90, 80, 70, 60, 50, 40]"
      ]
     },
     "execution_count": 57,
     "metadata": {},
     "output_type": "execute_result"
    }
   ],
   "source": [
    "l"
   ]
  },
  {
   "cell_type": "code",
   "execution_count": 59,
   "id": "e89f7894-9d16-45df-9142-cbb0bdc9d7af",
   "metadata": {},
   "outputs": [
    {
     "name": "stdout",
     "output_type": "stream",
     "text": [
      "[90, 80, 70, 60, 50, 40]\n",
      "[20, 30, 40, 50]\n"
     ]
    }
   ],
   "source": [
    "print(l)\n",
    "print(l1)"
   ]
  },
  {
   "cell_type": "code",
   "execution_count": 63,
   "id": "33dde263-c117-4b40-811e-6d29071d3d7d",
   "metadata": {},
   "outputs": [],
   "source": [
    "l = l.index(70)        #index finds the postion of the number "
   ]
  },
  {
   "cell_type": "code",
   "execution_count": 65,
   "id": "a244d6b1-e8ea-4931-8388-32efe724f272",
   "metadata": {},
   "outputs": [
    {
     "data": {
      "text/plain": [
       "2"
      ]
     },
     "execution_count": 65,
     "metadata": {},
     "output_type": "execute_result"
    }
   ],
   "source": [
    "l"
   ]
  },
  {
   "cell_type": "code",
   "execution_count": 69,
   "id": "c5ccc910-8393-415d-ad90-2930a3e94703",
   "metadata": {},
   "outputs": [
    {
     "data": {
      "text/plain": [
       "[20, 30, 40, 50]"
      ]
     },
     "execution_count": 69,
     "metadata": {},
     "output_type": "execute_result"
    }
   ],
   "source": [
    "l1"
   ]
  },
  {
   "cell_type": "code",
   "execution_count": 71,
   "id": "dd5ceea1-7697-416d-92aa-d47bfaff62fc",
   "metadata": {},
   "outputs": [
    {
     "data": {
      "text/plain": [
       "3"
      ]
     },
     "execution_count": 71,
     "metadata": {},
     "output_type": "execute_result"
    }
   ],
   "source": [
    "l1.index(50)"
   ]
  },
  {
   "cell_type": "code",
   "execution_count": 73,
   "id": "cbaf512c-e359-4236-8592-f3da91687891",
   "metadata": {},
   "outputs": [
    {
     "data": {
      "text/plain": [
       "[20, 30, 40, 50]"
      ]
     },
     "execution_count": 73,
     "metadata": {},
     "output_type": "execute_result"
    }
   ],
   "source": [
    "l1"
   ]
  },
  {
   "cell_type": "code",
   "execution_count": 75,
   "id": "85e27d7f-0f16-4981-9baf-817da904a779",
   "metadata": {},
   "outputs": [],
   "source": [
    "l2 = [10,20,30,40,10,10,20,20,20,30,40,40,40]"
   ]
  },
  {
   "cell_type": "code",
   "execution_count": 77,
   "id": "a0ee97a8-1e7c-4a33-a950-19e51db1fdff",
   "metadata": {},
   "outputs": [
    {
     "data": {
      "text/plain": [
       "[10, 20, 30, 40, 10, 10, 20, 20, 20, 30, 40, 40, 40]"
      ]
     },
     "execution_count": 77,
     "metadata": {},
     "output_type": "execute_result"
    }
   ],
   "source": [
    "l2"
   ]
  },
  {
   "cell_type": "code",
   "execution_count": 79,
   "id": "169f427c-4229-4714-92ce-42654e8d883b",
   "metadata": {},
   "outputs": [
    {
     "data": {
      "text/plain": [
       "3"
      ]
     },
     "execution_count": 79,
     "metadata": {},
     "output_type": "execute_result"
    }
   ],
   "source": [
    "l2.count(10)     #it will count the numbers "
   ]
  },
  {
   "cell_type": "code",
   "execution_count": 81,
   "id": "07253d76-0313-458a-b06e-2936a01f6c72",
   "metadata": {},
   "outputs": [
    {
     "data": {
      "text/plain": [
       "4"
      ]
     },
     "execution_count": 81,
     "metadata": {},
     "output_type": "execute_result"
    }
   ],
   "source": [
    "l2.count(20)"
   ]
  },
  {
   "cell_type": "code",
   "execution_count": 83,
   "id": "2c286a7e-c7fd-4c65-9432-49650b6199ce",
   "metadata": {},
   "outputs": [
    {
     "name": "stdout",
     "output_type": "stream",
     "text": [
      "2\n",
      "[20, 30, 40, 50]\n",
      "[10, 20, 30, 40, 10, 10, 20, 20, 20, 30, 40, 40, 40]\n"
     ]
    }
   ],
   "source": [
    "print(l)\n",
    "print(l1)\n",
    "print(l2)"
   ]
  },
  {
   "cell_type": "code",
   "execution_count": 89,
   "id": "be3acf2c-951e-4a3b-984d-986f38b6b753",
   "metadata": {},
   "outputs": [],
   "source": [
    "l1.extend(l2)"
   ]
  },
  {
   "cell_type": "code",
   "execution_count": 91,
   "id": "8343d4db-95ed-428f-a413-7ef21d36b33f",
   "metadata": {},
   "outputs": [
    {
     "data": {
      "text/plain": [
       "[20, 30, 40, 50, 10, 20, 30, 40, 10, 10, 20, 20, 20, 30, 40, 40, 40]"
      ]
     },
     "execution_count": 91,
     "metadata": {},
     "output_type": "execute_result"
    }
   ],
   "source": [
    "l1"
   ]
  },
  {
   "cell_type": "code",
   "execution_count": 93,
   "id": "5e861d5e-3dc0-465c-90e2-e881f8ea23b8",
   "metadata": {},
   "outputs": [
    {
     "data": {
      "text/plain": [
       "[20, 30, 40, 50, 10, 20, 30, 40, 10, 10, 20, 20, 20, 30, 40, 40, 40]"
      ]
     },
     "execution_count": 93,
     "metadata": {},
     "output_type": "execute_result"
    }
   ],
   "source": [
    "l1"
   ]
  },
  {
   "cell_type": "code",
   "execution_count": 95,
   "id": "865e9c30-014e-4288-8a47-cc52fe44ff75",
   "metadata": {},
   "outputs": [
    {
     "data": {
      "text/plain": [
       "[10, 20, 30, 40, 10, 10, 20, 20, 20, 30, 40, 40, 40]"
      ]
     },
     "execution_count": 95,
     "metadata": {},
     "output_type": "execute_result"
    }
   ],
   "source": [
    "l2"
   ]
  },
  {
   "cell_type": "code",
   "execution_count": 97,
   "id": "c325d6b9-41f3-4319-88b2-19de74aaf357",
   "metadata": {},
   "outputs": [],
   "source": [
    "l2.extend(l1)"
   ]
  },
  {
   "cell_type": "markdown",
   "id": "1f1fd27a-8c99-4613-98b2-a42718425072",
   "metadata": {},
   "source": [
    "l2"
   ]
  },
  {
   "cell_type": "code",
   "execution_count": 101,
   "id": "83d3a2a2-198f-4657-987e-b4143f8c1af6",
   "metadata": {},
   "outputs": [
    {
     "ename": "TypeError",
     "evalue": "'int' object is not iterable",
     "output_type": "error",
     "traceback": [
      "\u001b[1;31m---------------------------------------------------------------------------\u001b[0m",
      "\u001b[1;31mTypeError\u001b[0m                                 Traceback (most recent call last)",
      "Cell \u001b[1;32mIn[101], line 1\u001b[0m\n\u001b[1;32m----> 1\u001b[0m l2\u001b[38;5;241m.\u001b[39mextend(l)\n",
      "\u001b[1;31mTypeError\u001b[0m: 'int' object is not iterable"
     ]
    }
   ],
   "source": [
    "l2.extend(l)"
   ]
  },
  {
   "cell_type": "code",
   "execution_count": 103,
   "id": "e013f430-2dcf-4e3e-8ba4-ce4bc37cd745",
   "metadata": {},
   "outputs": [
    {
     "data": {
      "text/plain": [
       "2"
      ]
     },
     "execution_count": 103,
     "metadata": {},
     "output_type": "execute_result"
    }
   ],
   "source": [
    "l    #l has only one int thats why its error "
   ]
  },
  {
   "cell_type": "code",
   "execution_count": 105,
   "id": "2e23fa09-d55b-438e-a9d6-8d3a4c9367f2",
   "metadata": {},
   "outputs": [
    {
     "name": "stdout",
     "output_type": "stream",
     "text": [
      "[20, 30, 40, 50, 10, 20, 30, 40, 10, 10, 20, 20, 20, 30, 40, 40, 40]\n",
      "[10, 20, 30, 40, 10, 10, 20, 20, 20, 30, 40, 40, 40, 20, 30, 40, 50, 10, 20, 30, 40, 10, 10, 20, 20, 20, 30, 40, 40, 40]\n"
     ]
    }
   ],
   "source": [
    "print(l1)\n",
    "print(l2)"
   ]
  },
  {
   "cell_type": "code",
   "execution_count": 107,
   "id": "fe41cb53-5caf-47f7-a456-ac7c6095dfa4",
   "metadata": {},
   "outputs": [],
   "source": [
    "l1.insert(2,35)           # 2 is the index number and 35 is the value what we have to insert "
   ]
  },
  {
   "cell_type": "code",
   "execution_count": 109,
   "id": "cebffa10-3f93-4628-bb08-a30acc377ddd",
   "metadata": {},
   "outputs": [
    {
     "data": {
      "text/plain": [
       "[20, 30, 35, 40, 50, 10, 20, 30, 40, 10, 10, 20, 20, 20, 30, 40, 40, 40]"
      ]
     },
     "execution_count": 109,
     "metadata": {},
     "output_type": "execute_result"
    }
   ],
   "source": [
    "l1"
   ]
  },
  {
   "cell_type": "code",
   "execution_count": 111,
   "id": "13a7d849-1c7e-4ed8-bf72-824e874aae19",
   "metadata": {},
   "outputs": [
    {
     "data": {
      "text/plain": [
       "[10,\n",
       " 20,\n",
       " 30,\n",
       " 40,\n",
       " 10,\n",
       " 10,\n",
       " 20,\n",
       " 20,\n",
       " 20,\n",
       " 30,\n",
       " 40,\n",
       " 40,\n",
       " 40,\n",
       " 20,\n",
       " 30,\n",
       " 40,\n",
       " 50,\n",
       " 10,\n",
       " 20,\n",
       " 30,\n",
       " 40,\n",
       " 10,\n",
       " 10,\n",
       " 20,\n",
       " 20,\n",
       " 20,\n",
       " 30,\n",
       " 40,\n",
       " 40,\n",
       " 40]"
      ]
     },
     "execution_count": 111,
     "metadata": {},
     "output_type": "execute_result"
    }
   ],
   "source": [
    "l2"
   ]
  },
  {
   "cell_type": "code",
   "execution_count": 113,
   "id": "e4e4def2-c678-4ff2-903e-91bc580b3414",
   "metadata": {},
   "outputs": [
    {
     "name": "stdout",
     "output_type": "stream",
     "text": [
      "[10, 20, 30, 40, 10, 10, 20, 20, 20, 30, 40, 40, 40, 20, 30, 40, 50, 10, 20, 30, 40, 10, 10, 20, 20, 20, 30, 40, 40, 40]\n"
     ]
    }
   ],
   "source": [
    "print(l2)"
   ]
  },
  {
   "cell_type": "code",
   "execution_count": 115,
   "id": "dec0dc6c-edd8-4a60-9b91-6327e6390515",
   "metadata": {},
   "outputs": [],
   "source": [
    "l2.insert(5 , 15)"
   ]
  },
  {
   "cell_type": "code",
   "execution_count": 117,
   "id": "1af24574-3c33-43fd-a348-a2caa5797421",
   "metadata": {},
   "outputs": [
    {
     "data": {
      "text/plain": [
       "[10,\n",
       " 20,\n",
       " 30,\n",
       " 40,\n",
       " 10,\n",
       " 15,\n",
       " 10,\n",
       " 20,\n",
       " 20,\n",
       " 20,\n",
       " 30,\n",
       " 40,\n",
       " 40,\n",
       " 40,\n",
       " 20,\n",
       " 30,\n",
       " 40,\n",
       " 50,\n",
       " 10,\n",
       " 20,\n",
       " 30,\n",
       " 40,\n",
       " 10,\n",
       " 10,\n",
       " 20,\n",
       " 20,\n",
       " 20,\n",
       " 30,\n",
       " 40,\n",
       " 40,\n",
       " 40]"
      ]
     },
     "execution_count": 117,
     "metadata": {},
     "output_type": "execute_result"
    }
   ],
   "source": [
    "l2"
   ]
  },
  {
   "cell_type": "code",
   "execution_count": 119,
   "id": "20ce785a-751f-47a3-b0c3-16c4171b65bc",
   "metadata": {},
   "outputs": [
    {
     "name": "stdout",
     "output_type": "stream",
     "text": [
      "[10, 20, 30, 40, 10, 15, 10, 20, 20, 20, 30, 40, 40, 40, 20, 30, 40, 50, 10, 20, 30, 40, 10, 10, 20, 20, 20, 30, 40, 40, 40]\n"
     ]
    }
   ],
   "source": [
    "print(l2)"
   ]
  },
  {
   "cell_type": "code",
   "execution_count": 121,
   "id": "ad973cce-b306-4c51-9589-ec743b577123",
   "metadata": {},
   "outputs": [
    {
     "name": "stdout",
     "output_type": "stream",
     "text": [
      "[20, 30, 35, 40, 50, 10, 20, 30, 40, 10, 10, 20, 20, 20, 30, 40, 40, 40]\n",
      "[10, 20, 30, 40, 10, 15, 10, 20, 20, 20, 30, 40, 40, 40, 20, 30, 40, 50, 10, 20, 30, 40, 10, 10, 20, 20, 20, 30, 40, 40, 40]\n"
     ]
    }
   ],
   "source": [
    "print(l1)\n",
    "print(l2)"
   ]
  },
  {
   "cell_type": "code",
   "execution_count": 125,
   "id": "ca9fc1bc-8fba-499c-9252-3b92c9f72b36",
   "metadata": {},
   "outputs": [
    {
     "data": {
      "text/plain": [
       "10"
      ]
     },
     "execution_count": 125,
     "metadata": {},
     "output_type": "execute_result"
    }
   ],
   "source": [
    "l1.pop(10)"
   ]
  },
  {
   "cell_type": "code",
   "execution_count": 129,
   "id": "7dfb9779-660f-4488-ac73-bccf7b99452f",
   "metadata": {},
   "outputs": [
    {
     "data": {
      "text/plain": [
       "[30,\n",
       " 40,\n",
       " 10,\n",
       " 15,\n",
       " 10,\n",
       " 20,\n",
       " 20,\n",
       " 20,\n",
       " 30,\n",
       " 40,\n",
       " 40,\n",
       " 40,\n",
       " 20,\n",
       " 30,\n",
       " 40,\n",
       " 50,\n",
       " 10,\n",
       " 20,\n",
       " 30,\n",
       " 40,\n",
       " 10,\n",
       " 10,\n",
       " 20,\n",
       " 20,\n",
       " 20,\n",
       " 30,\n",
       " 40,\n",
       " 40,\n",
       " 40]"
      ]
     },
     "execution_count": 129,
     "metadata": {},
     "output_type": "execute_result"
    }
   ],
   "source": [
    "l2.pop(0)\n",
    "l2"
   ]
  },
  {
   "cell_type": "code",
   "execution_count": 131,
   "id": "898422a7-baf2-467d-bee7-ee54a3abc5d8",
   "metadata": {},
   "outputs": [
    {
     "name": "stdout",
     "output_type": "stream",
     "text": [
      "[20, 30, 35, 40, 50, 10, 20, 30, 40, 10, 20, 20, 20, 30, 40, 40, 40]\n",
      "[30, 40, 10, 15, 10, 20, 20, 20, 30, 40, 40, 40, 20, 30, 40, 50, 10, 20, 30, 40, 10, 10, 20, 20, 20, 30, 40, 40, 40]\n"
     ]
    }
   ],
   "source": [
    "print(l1)\n",
    "print(l2)"
   ]
  },
  {
   "cell_type": "code",
   "execution_count": 133,
   "id": "2b4713c5-3984-4070-8f68-f221380fed9b",
   "metadata": {},
   "outputs": [
    {
     "data": {
      "text/plain": [
       "30"
      ]
     },
     "execution_count": 133,
     "metadata": {},
     "output_type": "execute_result"
    }
   ],
   "source": [
    "l1.pop(1)  # if we give the index number it will say the number and next it will be deleted "
   ]
  },
  {
   "cell_type": "code",
   "execution_count": 135,
   "id": "5eb6a962-682f-473d-aa71-a69a41a45fab",
   "metadata": {},
   "outputs": [
    {
     "data": {
      "text/plain": [
       "[20, 35, 40, 50, 10, 20, 30, 40, 10, 20, 20, 20, 30, 40, 40, 40]"
      ]
     },
     "execution_count": 135,
     "metadata": {},
     "output_type": "execute_result"
    }
   ],
   "source": [
    "l1"
   ]
  },
  {
   "cell_type": "code",
   "execution_count": 137,
   "id": "42a4ccd1-fe41-4911-8ae7-c4596f077032",
   "metadata": {},
   "outputs": [
    {
     "data": {
      "text/plain": [
       "30"
      ]
     },
     "execution_count": 137,
     "metadata": {},
     "output_type": "execute_result"
    }
   ],
   "source": [
    "l2.pop(0)"
   ]
  },
  {
   "cell_type": "code",
   "execution_count": 139,
   "id": "5e5aad8c-defb-4bdb-9bc2-ae638b1eaf23",
   "metadata": {},
   "outputs": [
    {
     "data": {
      "text/plain": [
       "[40,\n",
       " 10,\n",
       " 15,\n",
       " 10,\n",
       " 20,\n",
       " 20,\n",
       " 20,\n",
       " 30,\n",
       " 40,\n",
       " 40,\n",
       " 40,\n",
       " 20,\n",
       " 30,\n",
       " 40,\n",
       " 50,\n",
       " 10,\n",
       " 20,\n",
       " 30,\n",
       " 40,\n",
       " 10,\n",
       " 10,\n",
       " 20,\n",
       " 20,\n",
       " 20,\n",
       " 30,\n",
       " 40,\n",
       " 40,\n",
       " 40]"
      ]
     },
     "execution_count": 139,
     "metadata": {},
     "output_type": "execute_result"
    }
   ],
   "source": [
    "l2"
   ]
  },
  {
   "cell_type": "code",
   "execution_count": 141,
   "id": "7f33da63-03c8-4a4c-bcf0-d5ac955a067d",
   "metadata": {},
   "outputs": [
    {
     "name": "stdout",
     "output_type": "stream",
     "text": [
      "[40, 10, 15, 10, 20, 20, 20, 30, 40, 40, 40, 20, 30, 40, 50, 10, 20, 30, 40, 10, 10, 20, 20, 20, 30, 40, 40, 40]\n"
     ]
    }
   ],
   "source": [
    "print(l2)"
   ]
  },
  {
   "cell_type": "code",
   "execution_count": 143,
   "id": "15068eb7-78ad-46f5-aef6-d453c8aecc7f",
   "metadata": {},
   "outputs": [
    {
     "data": {
      "text/plain": [
       "[20, 35, 40, 50, 10, 20, 30, 40, 10, 20, 20, 20, 30, 40, 40, 40]"
      ]
     },
     "execution_count": 143,
     "metadata": {},
     "output_type": "execute_result"
    }
   ],
   "source": [
    "l1"
   ]
  },
  {
   "cell_type": "code",
   "execution_count": 145,
   "id": "7126b67a-2875-4c49-b59c-8242e8812e58",
   "metadata": {},
   "outputs": [],
   "source": [
    "l1.remove(20)"
   ]
  },
  {
   "cell_type": "code",
   "execution_count": 147,
   "id": "1c83f0cd-d964-4423-9abe-bca1e49ec645",
   "metadata": {},
   "outputs": [
    {
     "data": {
      "text/plain": [
       "[35, 40, 50, 10, 20, 30, 40, 10, 20, 20, 20, 30, 40, 40, 40]"
      ]
     },
     "execution_count": 147,
     "metadata": {},
     "output_type": "execute_result"
    }
   ],
   "source": [
    "l1"
   ]
  },
  {
   "cell_type": "code",
   "execution_count": 149,
   "id": "dc3bbc33-52fd-4227-aa59-2231cf2c352f",
   "metadata": {},
   "outputs": [],
   "source": [
    "l1.remove(40)"
   ]
  },
  {
   "cell_type": "code",
   "execution_count": 151,
   "id": "86a80583-6aa8-4b87-9d84-cf70a929c833",
   "metadata": {},
   "outputs": [
    {
     "data": {
      "text/plain": [
       "[35, 50, 10, 20, 30, 40, 10, 20, 20, 20, 30, 40, 40, 40]"
      ]
     },
     "execution_count": 151,
     "metadata": {},
     "output_type": "execute_result"
    }
   ],
   "source": [
    "l1\n"
   ]
  },
  {
   "cell_type": "code",
   "execution_count": 155,
   "id": "1d0f6018-a908-444a-9819-88f8cbfef4ca",
   "metadata": {},
   "outputs": [],
   "source": [
    "l1.remove(40)    #directly  it will remove the number"
   ]
  },
  {
   "cell_type": "code",
   "execution_count": 157,
   "id": "ef4f26af-e47b-4319-b072-6aac518974c2",
   "metadata": {},
   "outputs": [
    {
     "data": {
      "text/plain": [
       "[35, 50, 10, 20, 30, 10, 20, 20, 20, 30, 40, 40, 40]"
      ]
     },
     "execution_count": 157,
     "metadata": {},
     "output_type": "execute_result"
    }
   ],
   "source": [
    "l1"
   ]
  },
  {
   "cell_type": "code",
   "execution_count": 159,
   "id": "197139d4-32c2-46de-8177-5de2b0f83cb8",
   "metadata": {},
   "outputs": [
    {
     "data": {
      "text/plain": [
       "[35, 50, 10, 20, 30, 10, 20, 20, 20, 30, 40, 40, 40]"
      ]
     },
     "execution_count": 159,
     "metadata": {},
     "output_type": "execute_result"
    }
   ],
   "source": [
    "l1"
   ]
  },
  {
   "cell_type": "code",
   "execution_count": 161,
   "id": "e7e8dd94-5995-49c9-b472-83cc9710c15c",
   "metadata": {},
   "outputs": [],
   "source": [
    "l1.reverse()    #directly it will reverse the numbers "
   ]
  },
  {
   "cell_type": "code",
   "execution_count": 163,
   "id": "4de96a12-c480-42ee-ac75-92b4a424188b",
   "metadata": {},
   "outputs": [
    {
     "data": {
      "text/plain": [
       "[40, 40, 40, 30, 20, 20, 20, 10, 30, 20, 10, 50, 35]"
      ]
     },
     "execution_count": 163,
     "metadata": {},
     "output_type": "execute_result"
    }
   ],
   "source": [
    "l1"
   ]
  },
  {
   "cell_type": "code",
   "execution_count": 167,
   "id": "c6de8d20-bb69-4223-af18-12d3f19ccb54",
   "metadata": {},
   "outputs": [
    {
     "data": {
      "text/plain": [
       "[40, 40, 40, 30, 20, 20, 20, 10, 30, 20, 10, 50, 35]"
      ]
     },
     "execution_count": 167,
     "metadata": {},
     "output_type": "execute_result"
    }
   ],
   "source": [
    "l1"
   ]
  },
  {
   "cell_type": "code",
   "execution_count": 169,
   "id": "a6ec2d09-816c-4567-a04e-60fb4c5f882c",
   "metadata": {},
   "outputs": [],
   "source": [
    "l1.sort()     #it will  give in ascending oredr "
   ]
  },
  {
   "cell_type": "code",
   "execution_count": 171,
   "id": "4225653b-74e3-4426-93ed-7f4dd2d15472",
   "metadata": {},
   "outputs": [
    {
     "data": {
      "text/plain": [
       "[10, 10, 20, 20, 20, 20, 30, 30, 35, 40, 40, 40, 50]"
      ]
     },
     "execution_count": 171,
     "metadata": {},
     "output_type": "execute_result"
    }
   ],
   "source": [
    "l1"
   ]
  },
  {
   "cell_type": "code",
   "execution_count": 173,
   "id": "bb759213-e487-455e-9980-d261a69fc75a",
   "metadata": {},
   "outputs": [],
   "source": [
    "l1.sort(reverse = False)         #here false means ascendding order "
   ]
  },
  {
   "cell_type": "code",
   "execution_count": 175,
   "id": "5999ddbf-9acc-49dc-b55b-f597fe274bec",
   "metadata": {},
   "outputs": [
    {
     "data": {
      "text/plain": [
       "[10, 10, 20, 20, 20, 20, 30, 30, 35, 40, 40, 40, 50]"
      ]
     },
     "execution_count": 175,
     "metadata": {},
     "output_type": "execute_result"
    }
   ],
   "source": [
    "l1"
   ]
  },
  {
   "cell_type": "code",
   "execution_count": 177,
   "id": "c3f96c44-343d-4595-8358-79ab555a909f",
   "metadata": {},
   "outputs": [],
   "source": [
    "l1.sort(reverse = True )      #true = descending order "
   ]
  },
  {
   "cell_type": "code",
   "execution_count": 179,
   "id": "98b0c5d5-bef6-448d-8801-666d619d8e7d",
   "metadata": {},
   "outputs": [
    {
     "data": {
      "text/plain": [
       "[50, 40, 40, 40, 35, 30, 30, 20, 20, 20, 20, 10, 10]"
      ]
     },
     "execution_count": 179,
     "metadata": {},
     "output_type": "execute_result"
    }
   ],
   "source": [
    "l1"
   ]
  },
  {
   "cell_type": "markdown",
   "id": "345e7632-0334-49ec-89e6-ca9921d35dcb",
   "metadata": {},
   "source": [
    "# in these datatypes are called as user can assign only one value like int,string,bool,float,complex \n",
    "# datastructuers = collection of datatypes like user can declare more thamn one values \n",
    "# matrix = collection of rows and columns like tabular form \n",
    "# datastructures are divided into 2 parts are inbuid and user defined \n",
    "# inbuild fuctions are list , tuple , set , dict \n",
    "# userdefined = linked list , tree , stack , numpy.\n",
    "# in thesse inbuild fuction list is mutable \n",
    "# list functiomns are append(),copy(),clear(),index(),extend(),remove(),reverse(),del(),sort(),pop(),insert(),count().\n",
    "# append() = add the element in the list at the last \n",
    "# copy() = copy the elements for suppose l1 to l2 \n",
    "# clear()= it will clear the elements in the list \n",
    "# index() = it will give the index number of which we give the element \n",
    "# extend() = it will extend from list to list like the list will always increase \n",
    "# remove() = if we give the element in the list then it will  remove the element \n",
    "# reverse() = in this the list will be reversed \n",
    "# del() = it will ttotally deleete the variables \n",
    "# sort() = the list will be sorted in ascending order and if we give l.sort(reverse = True) it will be in descending order \n",
    "# False means ascending order \n",
    "# True means descending order \n",
    "# pop() = if we give the index number it will remove the element and return the entire list  with removing the number what we have given \n",
    "# insert() = in this insert there is index and value numbeer like we have to insert 25 value in which index thats defines these insert like it has index and value \n",
    "# count() = in these count in the given list if we given the count 10 the count shows how many tyms it repeated and give the valuye as output. \n",
    "# these are we completed till now . "
   ]
  },
  {
   "cell_type": "code",
   "execution_count": 181,
   "id": "4c702f05-5dac-44d9-b398-7d9dd393ec96",
   "metadata": {},
   "outputs": [
    {
     "data": {
      "text/plain": [
       "2"
      ]
     },
     "execution_count": 181,
     "metadata": {},
     "output_type": "execute_result"
    }
   ],
   "source": [
    "l"
   ]
  },
  {
   "cell_type": "code",
   "execution_count": 183,
   "id": "835dc96d-720d-44c7-bcaf-759aff40cd6f",
   "metadata": {},
   "outputs": [
    {
     "data": {
      "text/plain": [
       "[50, 40, 40, 40, 35, 30, 30, 20, 20, 20, 20, 10, 10]"
      ]
     },
     "execution_count": 183,
     "metadata": {},
     "output_type": "execute_result"
    }
   ],
   "source": [
    "l1"
   ]
  },
  {
   "cell_type": "code",
   "execution_count": 187,
   "id": "f61885b9-c75d-407c-a15f-9b4c3015b9a5",
   "metadata": {},
   "outputs": [
    {
     "name": "stdout",
     "output_type": "stream",
     "text": [
      "[40, 10, 15, 10, 20, 20, 20, 30, 40, 40, 40, 20, 30, 40, 50, 10, 20, 30, 40, 10, 10, 20, 20, 20, 30, 40, 40, 40]\n"
     ]
    }
   ],
   "source": [
    "print(l2)"
   ]
  },
  {
   "cell_type": "code",
   "execution_count": 193,
   "id": "dcf2ce5c-a3ef-4f80-ad18-75cefeece6f1",
   "metadata": {},
   "outputs": [
    {
     "name": "stdout",
     "output_type": "stream",
     "text": [
      "[50, 40, 40, 40, 35, 30, 30, 20, 20, 20, 20, 10, 10]\n",
      "[40, 10, 15, 10, 20, 20, 20, 30, 40, 40, 40, 20, 30, 40, 50, 10, 20, 30, 40, 10, 10, 20, 20, 20, 30, 40, 40, 40]\n"
     ]
    }
   ],
   "source": [
    "print(l1)\n",
    "print(l2)"
   ]
  },
  {
   "cell_type": "code",
   "execution_count": 197,
   "id": "f825651f-d0eb-4697-80e9-c6f9546e8e55",
   "metadata": {},
   "outputs": [
    {
     "data": {
      "text/plain": [
       "28"
      ]
     },
     "execution_count": 197,
     "metadata": {},
     "output_type": "execute_result"
    }
   ],
   "source": [
    "len(l1)\n",
    "len(l2)"
   ]
  },
  {
   "cell_type": "code",
   "execution_count": 199,
   "id": "41137957-0036-40be-b65c-d41b61c40a7c",
   "metadata": {},
   "outputs": [
    {
     "data": {
      "text/plain": [
       "13"
      ]
     },
     "execution_count": 199,
     "metadata": {},
     "output_type": "execute_result"
    }
   ],
   "source": [
    "len(l1)"
   ]
  },
  {
   "cell_type": "code",
   "execution_count": 203,
   "id": "2ba87433-4703-42f7-a944-12d3a9fd430c",
   "metadata": {},
   "outputs": [
    {
     "data": {
      "text/plain": [
       "[50, 40, 40, 40, 35, 30, 30, 20, 20, 20, 20, 10, 10]"
      ]
     },
     "execution_count": 203,
     "metadata": {},
     "output_type": "execute_result"
    }
   ],
   "source": [
    "l1"
   ]
  },
  {
   "cell_type": "code",
   "execution_count": 205,
   "id": "bc5d4bc9-ffcb-4faf-809d-9fcf4bcbf683",
   "metadata": {},
   "outputs": [
    {
     "data": {
      "text/plain": [
       "[50, 40, 35, 30, 20]"
      ]
     },
     "execution_count": 205,
     "metadata": {},
     "output_type": "execute_result"
    }
   ],
   "source": [
    "l1[0:10:2]"
   ]
  },
  {
   "cell_type": "code",
   "execution_count": 209,
   "id": "0a2f9395-04bd-47fe-808c-9407b9bbd1af",
   "metadata": {},
   "outputs": [
    {
     "name": "stdout",
     "output_type": "stream",
     "text": [
      "[40, 10, 15, 10, 20, 20, 20, 30, 40, 40, 40, 20, 30, 40, 50, 10, 20, 30, 40, 10, 10, 20, 20, 20, 30, 40, 40, 40]\n"
     ]
    }
   ],
   "source": [
    "print (l2)"
   ]
  },
  {
   "cell_type": "code",
   "execution_count": 211,
   "id": "8b79c957-0228-4bd3-a5a0-15ce2d5b2d72",
   "metadata": {},
   "outputs": [],
   "source": [
    "l = [10,20,30,0,50,60,70,80,90]"
   ]
  },
  {
   "cell_type": "code",
   "execution_count": 213,
   "id": "ade6909d-72dc-4c23-ad14-c6bee6823462",
   "metadata": {},
   "outputs": [
    {
     "data": {
      "text/plain": [
       "[10, 20, 30, 0, 50, 60, 70, 80, 90]"
      ]
     },
     "execution_count": 213,
     "metadata": {},
     "output_type": "execute_result"
    }
   ],
   "source": [
    "l"
   ]
  },
  {
   "cell_type": "code",
   "execution_count": 215,
   "id": "b2a131b5-f711-4b08-ae53-b6ea4b5193f3",
   "metadata": {},
   "outputs": [
    {
     "data": {
      "text/plain": [
       "[10, 0, 70]"
      ]
     },
     "execution_count": 215,
     "metadata": {},
     "output_type": "execute_result"
    }
   ],
   "source": [
    "l[0:9:3]"
   ]
  },
  {
   "cell_type": "code",
   "execution_count": 217,
   "id": "904b363d-721c-4705-953b-df43b084e47d",
   "metadata": {},
   "outputs": [
    {
     "data": {
      "text/plain": [
       "[10, 30, 50]"
      ]
     },
     "execution_count": 217,
     "metadata": {},
     "output_type": "execute_result"
    }
   ],
   "source": [
    "l[0:6:2]"
   ]
  },
  {
   "cell_type": "code",
   "execution_count": 219,
   "id": "5c77165e-9c8a-4e18-861f-84200994ccea",
   "metadata": {},
   "outputs": [
    {
     "data": {
      "text/plain": [
       "[30, 60, 90]"
      ]
     },
     "execution_count": 219,
     "metadata": {},
     "output_type": "execute_result"
    }
   ],
   "source": [
    "l[2:9:3]         #step indexing "
   ]
  },
  {
   "cell_type": "code",
   "execution_count": 221,
   "id": "b4319954-421f-470f-85da-4208940f87dc",
   "metadata": {},
   "outputs": [
    {
     "data": {
      "text/plain": [
       "[10, 20, 30, 0, 50, 60, 70, 80, 90]"
      ]
     },
     "execution_count": 221,
     "metadata": {},
     "output_type": "execute_result"
    }
   ],
   "source": [
    "l[:]"
   ]
  },
  {
   "cell_type": "code",
   "execution_count": 223,
   "id": "e004f46f-4e07-430d-8a04-1d58c1974270",
   "metadata": {},
   "outputs": [
    {
     "data": {
      "text/plain": [
       "[10, 20]"
      ]
     },
     "execution_count": 223,
     "metadata": {},
     "output_type": "execute_result"
    }
   ],
   "source": [
    "l[:2]"
   ]
  },
  {
   "cell_type": "code",
   "execution_count": 225,
   "id": "d4800b69-5941-43e4-a6ba-8f9a92ac0cc3",
   "metadata": {},
   "outputs": [
    {
     "data": {
      "text/plain": [
       "[10, 20, 30, 0, 50]"
      ]
     },
     "execution_count": 225,
     "metadata": {},
     "output_type": "execute_result"
    }
   ],
   "source": [
    "l[:5]"
   ]
  },
  {
   "cell_type": "code",
   "execution_count": 227,
   "id": "0e48feb5-0638-4119-b03c-c8218aa574cc",
   "metadata": {},
   "outputs": [
    {
     "data": {
      "text/plain": [
       "[30, 0, 50, 60]"
      ]
     },
     "execution_count": 227,
     "metadata": {},
     "output_type": "execute_result"
    }
   ],
   "source": [
    "l[2:6]"
   ]
  },
  {
   "cell_type": "code",
   "execution_count": 235,
   "id": "11f234c8-61f6-4e44-be8b-053c20eb5923",
   "metadata": {},
   "outputs": [
    {
     "data": {
      "text/plain": [
       "90"
      ]
     },
     "execution_count": 235,
     "metadata": {},
     "output_type": "execute_result"
    }
   ],
   "source": [
    "l[-1]"
   ]
  },
  {
   "cell_type": "code",
   "execution_count": 237,
   "id": "17f0a396-efac-4cdd-8f49-5abc79a22979",
   "metadata": {},
   "outputs": [
    {
     "data": {
      "text/plain": [
       "[10, 20, 30, 0, 50, 60, 70, 80]"
      ]
     },
     "execution_count": 237,
     "metadata": {},
     "output_type": "execute_result"
    }
   ],
   "source": [
    "l[:-1]"
   ]
  },
  {
   "cell_type": "code",
   "execution_count": 239,
   "id": "b84ec75c-c8ea-4884-b60f-b9d153fc6b4b",
   "metadata": {},
   "outputs": [
    {
     "data": {
      "text/plain": [
       "[0, 50, 60, 70, 80]"
      ]
     },
     "execution_count": 239,
     "metadata": {},
     "output_type": "execute_result"
    }
   ],
   "source": [
    "l[3:-1]"
   ]
  },
  {
   "cell_type": "code",
   "execution_count": 243,
   "id": "802972bc-70c0-4ad1-b8ad-a0d49f685aca",
   "metadata": {},
   "outputs": [
    {
     "data": {
      "text/plain": [
       "[0, 50, 60, 70, 80, 90]"
      ]
     },
     "execution_count": 243,
     "metadata": {},
     "output_type": "execute_result"
    }
   ],
   "source": [
    "l[3:]"
   ]
  },
  {
   "cell_type": "code",
   "execution_count": 245,
   "id": "ce4dd9ae-b6da-4c68-b09a-be318cf6c9d3",
   "metadata": {},
   "outputs": [
    {
     "data": {
      "text/plain": [
       "[10, 20, 30, 0, 50, 60, 70, 80, 90]"
      ]
     },
     "execution_count": 245,
     "metadata": {},
     "output_type": "execute_result"
    }
   ],
   "source": [
    "l"
   ]
  },
  {
   "cell_type": "code",
   "execution_count": 247,
   "id": "c0d0714b-37f3-4be5-8fa2-6cc618a63c86",
   "metadata": {},
   "outputs": [
    {
     "data": {
      "text/plain": [
       "list"
      ]
     },
     "execution_count": 247,
     "metadata": {},
     "output_type": "execute_result"
    }
   ],
   "source": [
    "type(l)"
   ]
  },
  {
   "cell_type": "code",
   "execution_count": 249,
   "id": "f8d76244-92a4-4050-8200-f81912a90d3a",
   "metadata": {},
   "outputs": [
    {
     "data": {
      "text/plain": [
       "9"
      ]
     },
     "execution_count": 249,
     "metadata": {},
     "output_type": "execute_result"
    }
   ],
   "source": [
    "len(l)"
   ]
  },
  {
   "cell_type": "code",
   "execution_count": 1,
   "id": "8f460edd-9bb9-437b-80ab-ec2278622766",
   "metadata": {},
   "outputs": [
    {
     "data": {
      "text/plain": [
       "[]"
      ]
     },
     "execution_count": 1,
     "metadata": {},
     "output_type": "execute_result"
    }
   ],
   "source": [
    "list = []\n",
    "list"
   ]
  },
  {
   "cell_type": "code",
   "execution_count": 3,
   "id": "e39fbd91-158c-4544-9b2c-074de69a883d",
   "metadata": {},
   "outputs": [
    {
     "data": {
      "text/plain": [
       "list"
      ]
     },
     "execution_count": 3,
     "metadata": {},
     "output_type": "execute_result"
    }
   ],
   "source": [
    "type(list)"
   ]
  },
  {
   "cell_type": "code",
   "execution_count": 15,
   "id": "b94efd51-f061-4100-9096-6e9cd341cffe",
   "metadata": {},
   "outputs": [],
   "source": [
    "list1  = [10,20,30,40,50]    #list of integers"
   ]
  },
  {
   "cell_type": "code",
   "execution_count": 17,
   "id": "66a755ac-55a4-42ee-ad23-4763071318e9",
   "metadata": {},
   "outputs": [
    {
     "data": {
      "text/plain": [
       "[10, 20, 30, 40, 50]"
      ]
     },
     "execution_count": 17,
     "metadata": {},
     "output_type": "execute_result"
    }
   ],
   "source": [
    "list1"
   ]
  },
  {
   "cell_type": "code",
   "execution_count": 19,
   "id": "aed69efc-a755-44a7-81d2-d9b880a152b7",
   "metadata": {},
   "outputs": [],
   "source": [
    "list2 = [10.3,2.4,3.6,7.8]        #list of float"
   ]
  },
  {
   "cell_type": "code",
   "execution_count": 21,
   "id": "1de1f8ab-f19e-4c10-8fda-d2d7466f365e",
   "metadata": {},
   "outputs": [
    {
     "data": {
      "text/plain": [
       "[10.3, 2.4, 3.6, 7.8]"
      ]
     },
     "execution_count": 21,
     "metadata": {},
     "output_type": "execute_result"
    }
   ],
   "source": [
    "list2"
   ]
  },
  {
   "cell_type": "code",
   "execution_count": 23,
   "id": "85f3c74c-e949-424a-8c05-4c4b334b54ca",
   "metadata": {},
   "outputs": [],
   "source": [
    "list3 = ['one' , 'two' , 'three']          #list of string"
   ]
  },
  {
   "cell_type": "code",
   "execution_count": 25,
   "id": "e3d056f7-8022-4208-947d-3cf037c3d545",
   "metadata": {},
   "outputs": [
    {
     "data": {
      "text/plain": [
       "['one', 'two', 'three']"
      ]
     },
     "execution_count": 25,
     "metadata": {},
     "output_type": "execute_result"
    }
   ],
   "source": [
    "list3"
   ]
  },
  {
   "cell_type": "code",
   "execution_count": 27,
   "id": "af358006-e9fd-425b-86ef-6364f8aec7d4",
   "metadata": {},
   "outputs": [],
   "source": [
    "list4 = ['akshith' , 25 , [50,100] , [150,30] ]   #  nested loops = list inside list "
   ]
  },
  {
   "cell_type": "code",
   "execution_count": 29,
   "id": "aa0a6344-c967-48ce-a673-65ca2196dd7d",
   "metadata": {},
   "outputs": [
    {
     "data": {
      "text/plain": [
       "['akshith', 25, [50, 100], [150, 30]]"
      ]
     },
     "execution_count": 29,
     "metadata": {},
     "output_type": "execute_result"
    }
   ],
   "source": [
    "list4"
   ]
  },
  {
   "cell_type": "code",
   "execution_count": 31,
   "id": "96469d48-1528-46ec-8e3f-e2438f49eb03",
   "metadata": {},
   "outputs": [],
   "source": [
    "list5 = ['akshith' , 10 , 2.3]         #   mixed data typess   "
   ]
  },
  {
   "cell_type": "code",
   "execution_count": 33,
   "id": "0e72721c-5124-4e07-a298-31fc091e34ba",
   "metadata": {},
   "outputs": [
    {
     "data": {
      "text/plain": [
       "['akshith', 10, 2.3]"
      ]
     },
     "execution_count": 33,
     "metadata": {},
     "output_type": "execute_result"
    }
   ],
   "source": [
    "list5\n"
   ]
  },
  {
   "cell_type": "code",
   "execution_count": 45,
   "id": "7677a9e3-7028-47d5-9a8d-a018623ecb0e",
   "metadata": {},
   "outputs": [
    {
     "data": {
      "text/plain": [
       "4"
      ]
     },
     "execution_count": 45,
     "metadata": {},
     "output_type": "execute_result"
    }
   ],
   "source": [
    "len(list4)"
   ]
  },
  {
   "cell_type": "code",
   "execution_count": 47,
   "id": "eb859ebc-faf0-457f-88fc-2b6df48d171e",
   "metadata": {},
   "outputs": [
    {
     "data": {
      "text/plain": [
       "3"
      ]
     },
     "execution_count": 47,
     "metadata": {},
     "output_type": "execute_result"
    }
   ],
   "source": [
    "len(list5)"
   ]
  },
  {
   "cell_type": "code",
   "execution_count": 51,
   "id": "59fde48c-1d49-4795-b6eb-8e70622372f3",
   "metadata": {},
   "outputs": [
    {
     "data": {
      "text/plain": [
       "10.3"
      ]
     },
     "execution_count": 51,
     "metadata": {},
     "output_type": "execute_result"
    }
   ],
   "source": [
    "list2[0]"
   ]
  },
  {
   "cell_type": "code",
   "execution_count": 53,
   "id": "672d8640-4f5e-4e90-b763-b26514f19a31",
   "metadata": {},
   "outputs": [
    {
     "data": {
      "text/plain": [
       "[50, 100]"
      ]
     },
     "execution_count": 53,
     "metadata": {},
     "output_type": "execute_result"
    }
   ],
   "source": [
    "list4[2]"
   ]
  },
  {
   "cell_type": "code",
   "execution_count": 59,
   "id": "31a3614c-662c-4e5a-928e-957edaf6b726",
   "metadata": {},
   "outputs": [
    {
     "data": {
      "text/plain": [
       "'o'"
      ]
     },
     "execution_count": 59,
     "metadata": {},
     "output_type": "execute_result"
    }
   ],
   "source": [
    "list3[0][0]"
   ]
  },
  {
   "cell_type": "code",
   "execution_count": 61,
   "id": "5b7fc38c-1c6d-4d14-81b0-1193036ac3c0",
   "metadata": {},
   "outputs": [
    {
     "data": {
      "text/plain": [
       "'w'"
      ]
     },
     "execution_count": 61,
     "metadata": {},
     "output_type": "execute_result"
    }
   ],
   "source": [
    "list3[1][1]         # in this first letter is index of the word and swcond letter is index of the letter "
   ]
  },
  {
   "cell_type": "code",
   "execution_count": 63,
   "id": "bc9f67b0-3b8a-4fa2-b13e-53823894edd3",
   "metadata": {},
   "outputs": [
    {
     "data": {
      "text/plain": [
       "'r'"
      ]
     },
     "execution_count": 63,
     "metadata": {},
     "output_type": "execute_result"
    }
   ],
   "source": [
    "list3[2][2]"
   ]
  },
  {
   "cell_type": "code",
   "execution_count": 65,
   "id": "9abbfab8-0bc5-4051-b56a-f1a788a689a7",
   "metadata": {},
   "outputs": [
    {
     "data": {
      "text/plain": [
       "['one', 'two', 'three']"
      ]
     },
     "execution_count": 65,
     "metadata": {},
     "output_type": "execute_result"
    }
   ],
   "source": [
    "list3"
   ]
  },
  {
   "cell_type": "code",
   "execution_count": 67,
   "id": "c48e1254-757b-4476-8c32-1cc57d3b5e31",
   "metadata": {},
   "outputs": [
    {
     "data": {
      "text/plain": [
       "'n'"
      ]
     },
     "execution_count": 67,
     "metadata": {},
     "output_type": "execute_result"
    }
   ],
   "source": [
    "list3[0][1]"
   ]
  },
  {
   "cell_type": "code",
   "execution_count": 69,
   "id": "fa974908-e58b-43b6-ab4d-5cfc35776cff",
   "metadata": {},
   "outputs": [
    {
     "data": {
      "text/plain": [
       "'o'"
      ]
     },
     "execution_count": 69,
     "metadata": {},
     "output_type": "execute_result"
    }
   ],
   "source": [
    "list3[1][2]"
   ]
  },
  {
   "cell_type": "code",
   "execution_count": 71,
   "id": "a6c8abd4-5c92-43fa-9a60-f52b4a2e7169",
   "metadata": {},
   "outputs": [
    {
     "data": {
      "text/plain": [
       "[150, 30]"
      ]
     },
     "execution_count": 71,
     "metadata": {},
     "output_type": "execute_result"
    }
   ],
   "source": [
    "list4[-1]     #last item of the list "
   ]
  },
  {
   "cell_type": "code",
   "execution_count": 73,
   "id": "929d5997-9f2b-4c11-afea-5f2d0e27faed",
   "metadata": {},
   "outputs": [
    {
     "data": {
      "text/plain": [
       "['one', 'two', 'three', 'four', 'five', 'six', 'seven']"
      ]
     },
     "execution_count": 73,
     "metadata": {},
     "output_type": "execute_result"
    }
   ],
   "source": [
    "list6 = ['one','two','three','four','five','six','seven']\n",
    "list6"
   ]
  },
  {
   "cell_type": "code",
   "execution_count": 75,
   "id": "5676a846-c8d1-4794-8f6c-46109ae8e609",
   "metadata": {},
   "outputs": [
    {
     "data": {
      "text/plain": [
       "['one', 'two', 'three']"
      ]
     },
     "execution_count": 75,
     "metadata": {},
     "output_type": "execute_result"
    }
   ],
   "source": [
    "list6[0:3]"
   ]
  },
  {
   "cell_type": "code",
   "execution_count": 77,
   "id": "a84909ff-621b-4331-a05b-594c9b75ae9c",
   "metadata": {},
   "outputs": [
    {
     "data": {
      "text/plain": [
       "['two', 'three', 'four', 'five', 'six']"
      ]
     },
     "execution_count": 77,
     "metadata": {},
     "output_type": "execute_result"
    }
   ],
   "source": [
    "list6[1:6]"
   ]
  },
  {
   "cell_type": "code",
   "execution_count": 79,
   "id": "2fc7020b-7bcb-4eac-834c-526dba0ef58b",
   "metadata": {},
   "outputs": [
    {
     "data": {
      "text/plain": [
       "'four'"
      ]
     },
     "execution_count": 79,
     "metadata": {},
     "output_type": "execute_result"
    }
   ],
   "source": [
    "list6[3]"
   ]
  },
  {
   "cell_type": "code",
   "execution_count": 83,
   "id": "2d9a42cd-335b-4582-b8e0-260abfa8c0f9",
   "metadata": {},
   "outputs": [
    {
     "data": {
      "text/plain": [
       "['one', 'two', 'three']"
      ]
     },
     "execution_count": 83,
     "metadata": {},
     "output_type": "execute_result"
    }
   ],
   "source": [
    "list6[:3]"
   ]
  },
  {
   "cell_type": "code",
   "execution_count": 85,
   "id": "c18907d6-f3cd-4cef-b7d6-79cd732f43ea",
   "metadata": {},
   "outputs": [
    {
     "data": {
      "text/plain": [
       "['one', 'two', 'three', 'four', 'five', 'six', 'seven']"
      ]
     },
     "execution_count": 85,
     "metadata": {},
     "output_type": "execute_result"
    }
   ],
   "source": [
    "list6[:]   # it will give the whole list "
   ]
  },
  {
   "cell_type": "code",
   "execution_count": 87,
   "id": "fb24c7cd-fede-4412-97d6-378dd4fc9d25",
   "metadata": {},
   "outputs": [],
   "source": [
    "mylist = list6.copy()"
   ]
  },
  {
   "cell_type": "code",
   "execution_count": 89,
   "id": "e2cf98ea-4712-4b2d-87b1-88cd5e2026f5",
   "metadata": {},
   "outputs": [
    {
     "data": {
      "text/plain": [
       "['one', 'two', 'three', 'four', 'five', 'six', 'seven']"
      ]
     },
     "execution_count": 89,
     "metadata": {},
     "output_type": "execute_result"
    }
   ],
   "source": [
    "mylist"
   ]
  },
  {
   "cell_type": "code",
   "execution_count": 91,
   "id": "a52141db-aafe-4152-a15b-ef053758bf8e",
   "metadata": {},
   "outputs": [],
   "source": [
    "mylist.append('eight')"
   ]
  },
  {
   "cell_type": "code",
   "execution_count": 93,
   "id": "bd71cb51-7f7c-4b64-bc06-184920aad85d",
   "metadata": {},
   "outputs": [
    {
     "data": {
      "text/plain": [
       "['one', 'two', 'three', 'four', 'five', 'six', 'seven', 'eight']"
      ]
     },
     "execution_count": 93,
     "metadata": {},
     "output_type": "execute_result"
    }
   ],
   "source": [
    "mylist"
   ]
  },
  {
   "cell_type": "code",
   "execution_count": 95,
   "id": "8fc3a034-540f-479f-8dec-82498d438f72",
   "metadata": {},
   "outputs": [],
   "source": [
    "mylist.remove('three')"
   ]
  },
  {
   "cell_type": "code",
   "execution_count": 97,
   "id": "e4d42c26-a8db-4993-809f-37087f82da03",
   "metadata": {},
   "outputs": [
    {
     "data": {
      "text/plain": [
       "['one', 'two', 'four', 'five', 'six', 'seven', 'eight']"
      ]
     },
     "execution_count": 97,
     "metadata": {},
     "output_type": "execute_result"
    }
   ],
   "source": [
    "mylist"
   ]
  },
  {
   "cell_type": "code",
   "execution_count": 99,
   "id": "f8251003-678c-4c1b-b8e3-889f4553a059",
   "metadata": {},
   "outputs": [],
   "source": [
    "mylist.reverse()"
   ]
  },
  {
   "cell_type": "code",
   "execution_count": 101,
   "id": "2efab6db-49d6-4cbc-80fa-9a670bc86730",
   "metadata": {},
   "outputs": [
    {
     "data": {
      "text/plain": [
       "['eight', 'seven', 'six', 'five', 'four', 'two', 'one']"
      ]
     },
     "execution_count": 101,
     "metadata": {},
     "output_type": "execute_result"
    }
   ],
   "source": [
    "mylist"
   ]
  },
  {
   "cell_type": "code",
   "execution_count": 103,
   "id": "7e44427b-98a8-4d54-be85-962e9d5ed221",
   "metadata": {},
   "outputs": [],
   "source": [
    "mylist.reverse()"
   ]
  },
  {
   "cell_type": "code",
   "execution_count": 105,
   "id": "1c15ad37-b0c8-4702-af90-5d63f9d8db18",
   "metadata": {},
   "outputs": [
    {
     "data": {
      "text/plain": [
       "['one', 'two', 'four', 'five', 'six', 'seven', 'eight']"
      ]
     },
     "execution_count": 105,
     "metadata": {},
     "output_type": "execute_result"
    }
   ],
   "source": [
    "mylist"
   ]
  },
  {
   "cell_type": "code",
   "execution_count": 107,
   "id": "8878980b-b419-445a-9d00-c6cf4b5be346",
   "metadata": {},
   "outputs": [],
   "source": [
    "mylist.insert(2,'three')       # here 2 is index number and three is where we can add the value"
   ]
  },
  {
   "cell_type": "code",
   "execution_count": 109,
   "id": "bffb0f39-231f-4fe9-972a-9e25d1a484bc",
   "metadata": {},
   "outputs": [
    {
     "data": {
      "text/plain": [
       "['one', 'two', 'three', 'four', 'five', 'six', 'seven', 'eight']"
      ]
     },
     "execution_count": 109,
     "metadata": {},
     "output_type": "execute_result"
    }
   ],
   "source": [
    "mylist"
   ]
  },
  {
   "cell_type": "code",
   "execution_count": 111,
   "id": "0758a6b5-cddd-4ea0-8b9d-b8b16892531f",
   "metadata": {},
   "outputs": [
    {
     "data": {
      "text/plain": [
       "'eight'"
      ]
     },
     "execution_count": 111,
     "metadata": {},
     "output_type": "execute_result"
    }
   ],
   "source": [
    "mylist.pop()"
   ]
  },
  {
   "cell_type": "code",
   "execution_count": 114,
   "id": "8f2e8455-b53f-4c52-856b-f3e7d8a2c4e5",
   "metadata": {},
   "outputs": [
    {
     "data": {
      "text/plain": [
       "['one', 'two', 'three', 'four', 'five', 'six', 'seven']"
      ]
     },
     "execution_count": 114,
     "metadata": {},
     "output_type": "execute_result"
    }
   ],
   "source": [
    "mylist"
   ]
  },
  {
   "cell_type": "code",
   "execution_count": 124,
   "id": "10c83ea2-f7a4-4c60-be63-0c7042395c8c",
   "metadata": {},
   "outputs": [],
   "source": [
    "mylist.append('one')"
   ]
  },
  {
   "cell_type": "code",
   "execution_count": 126,
   "id": "76b38a41-2627-4ab4-982d-b60d85d2f4e2",
   "metadata": {},
   "outputs": [
    {
     "data": {
      "text/plain": [
       "['one', 'two', 'three', 'four', 'five', 'six', 'seven', '0ne', 'one']"
      ]
     },
     "execution_count": 126,
     "metadata": {},
     "output_type": "execute_result"
    }
   ],
   "source": [
    "mylist"
   ]
  },
  {
   "cell_type": "code",
   "execution_count": 128,
   "id": "71f00c40-30bd-4777-ba59-31a9f1341d58",
   "metadata": {},
   "outputs": [
    {
     "data": {
      "text/plain": [
       "2"
      ]
     },
     "execution_count": 128,
     "metadata": {},
     "output_type": "execute_result"
    }
   ],
   "source": [
    "mylist.count('one')"
   ]
  },
  {
   "cell_type": "code",
   "execution_count": 130,
   "id": "e1814f90-1140-43f2-a8d8-e2db29c8434a",
   "metadata": {},
   "outputs": [],
   "source": [
    "mylist.extend(list2)"
   ]
  },
  {
   "cell_type": "code",
   "execution_count": 132,
   "id": "8c44903b-3de0-40d3-8fbd-ced543a8b57f",
   "metadata": {},
   "outputs": [
    {
     "data": {
      "text/plain": [
       "['one',\n",
       " 'two',\n",
       " 'three',\n",
       " 'four',\n",
       " 'five',\n",
       " 'six',\n",
       " 'seven',\n",
       " '0ne',\n",
       " 'one',\n",
       " 10.3,\n",
       " 2.4,\n",
       " 3.6,\n",
       " 7.8]"
      ]
     },
     "execution_count": 132,
     "metadata": {},
     "output_type": "execute_result"
    }
   ],
   "source": [
    "mylist"
   ]
  },
  {
   "cell_type": "code",
   "execution_count": 134,
   "id": "f7496432-5d2d-4edc-a005-dd930a4bca78",
   "metadata": {},
   "outputs": [
    {
     "name": "stdout",
     "output_type": "stream",
     "text": [
      "['one', 'two', 'three', 'four', 'five', 'six', 'seven', '0ne', 'one', 10.3, 2.4, 3.6, 7.8]\n"
     ]
    }
   ],
   "source": [
    "print(mylist)"
   ]
  },
  {
   "cell_type": "code",
   "execution_count": 136,
   "id": "1fbbfcba-808a-4909-88ab-bf0626a54a83",
   "metadata": {},
   "outputs": [
    {
     "ename": "TypeError",
     "evalue": "'<' not supported between instances of 'float' and 'str'",
     "output_type": "error",
     "traceback": [
      "\u001b[1;31m---------------------------------------------------------------------------\u001b[0m",
      "\u001b[1;31mTypeError\u001b[0m                                 Traceback (most recent call last)",
      "Cell \u001b[1;32mIn[136], line 1\u001b[0m\n\u001b[1;32m----> 1\u001b[0m mylist\u001b[38;5;241m.\u001b[39msort()\n",
      "\u001b[1;31mTypeError\u001b[0m: '<' not supported between instances of 'float' and 'str'"
     ]
    }
   ],
   "source": [
    "mylist.sort()  # it will not supoort in float and string "
   ]
  },
  {
   "cell_type": "code",
   "execution_count": 138,
   "id": "9361a347-727a-4449-a3c0-6c09cdfa9692",
   "metadata": {},
   "outputs": [],
   "source": [
    "list1.sort()"
   ]
  },
  {
   "cell_type": "code",
   "execution_count": 142,
   "id": "62e78549-9293-41cb-b2dc-86e691df4bc8",
   "metadata": {},
   "outputs": [
    {
     "data": {
      "text/plain": [
       "[10, 20, 30, 40, 50]"
      ]
     },
     "execution_count": 142,
     "metadata": {},
     "output_type": "execute_result"
    }
   ],
   "source": [
    "list1"
   ]
  },
  {
   "cell_type": "code",
   "execution_count": 144,
   "id": "890123b7-eede-4757-b972-7f46322b8202",
   "metadata": {},
   "outputs": [
    {
     "data": {
      "text/plain": [
       "['0ne',\n",
       " 'five',\n",
       " 'four',\n",
       " 'one',\n",
       " 'one',\n",
       " 'seven',\n",
       " 'six',\n",
       " 'three',\n",
       " 'two',\n",
       " 10.3,\n",
       " 2.4,\n",
       " 3.6,\n",
       " 7.8]"
      ]
     },
     "execution_count": 144,
     "metadata": {},
     "output_type": "execute_result"
    }
   ],
   "source": [
    "mylist"
   ]
  },
  {
   "cell_type": "code",
   "execution_count": 146,
   "id": "86fa7607-a003-4c31-8eb2-f193dbcaa28d",
   "metadata": {},
   "outputs": [
    {
     "name": "stdout",
     "output_type": "stream",
     "text": [
      "['0ne', 'five', 'four', 'one', 'one', 'seven', 'six', 'three', 'two', 10.3, 2.4, 3.6, 7.8]\n"
     ]
    }
   ],
   "source": [
    "print(mylist)"
   ]
  },
  {
   "cell_type": "code",
   "execution_count": 148,
   "id": "6eae0bbb-ed52-406e-adf1-a3d96ebab2e8",
   "metadata": {},
   "outputs": [
    {
     "data": {
      "text/plain": [
       "7.8"
      ]
     },
     "execution_count": 148,
     "metadata": {},
     "output_type": "execute_result"
    }
   ],
   "source": [
    "mylist.pop()"
   ]
  },
  {
   "cell_type": "code",
   "execution_count": 150,
   "id": "e33c8aad-5003-4a27-9f1c-532e00527602",
   "metadata": {},
   "outputs": [
    {
     "data": {
      "text/plain": [
       "['0ne',\n",
       " 'five',\n",
       " 'four',\n",
       " 'one',\n",
       " 'one',\n",
       " 'seven',\n",
       " 'six',\n",
       " 'three',\n",
       " 'two',\n",
       " 10.3,\n",
       " 2.4,\n",
       " 3.6]"
      ]
     },
     "execution_count": 150,
     "metadata": {},
     "output_type": "execute_result"
    }
   ],
   "source": [
    "mylist"
   ]
  },
  {
   "cell_type": "code",
   "execution_count": 152,
   "id": "a3ddbe9b-45c9-4851-bb62-1ad09473408b",
   "metadata": {},
   "outputs": [
    {
     "data": {
      "text/plain": [
       "'four'"
      ]
     },
     "execution_count": 152,
     "metadata": {},
     "output_type": "execute_result"
    }
   ],
   "source": [
    "mylist.pop(2)"
   ]
  },
  {
   "cell_type": "code",
   "execution_count": 154,
   "id": "d2523913-7d44-471e-983b-18ca3cc7924d",
   "metadata": {},
   "outputs": [
    {
     "data": {
      "text/plain": [
       "['0ne', 'five', 'one', 'one', 'seven', 'six', 'three', 'two', 10.3, 2.4, 3.6]"
      ]
     },
     "execution_count": 154,
     "metadata": {},
     "output_type": "execute_result"
    }
   ],
   "source": [
    "mylist"
   ]
  },
  {
   "cell_type": "code",
   "execution_count": 156,
   "id": "ed9be811-ad48-47e1-97ff-13142337f2d0",
   "metadata": {},
   "outputs": [],
   "source": [
    "del(list1)      #list 1 is deleted "
   ]
  },
  {
   "cell_type": "code",
   "execution_count": 158,
   "id": "f2ccac71-5692-4820-a791-bb1299da671a",
   "metadata": {},
   "outputs": [
    {
     "ename": "NameError",
     "evalue": "name 'list1' is not defined",
     "output_type": "error",
     "traceback": [
      "\u001b[1;31m---------------------------------------------------------------------------\u001b[0m",
      "\u001b[1;31mNameError\u001b[0m                                 Traceback (most recent call last)",
      "Cell \u001b[1;32mIn[158], line 1\u001b[0m\n\u001b[1;32m----> 1\u001b[0m list1\n",
      "\u001b[1;31mNameError\u001b[0m: name 'list1' is not defined"
     ]
    }
   ],
   "source": [
    "list1"
   ]
  },
  {
   "cell_type": "code",
   "execution_count": 170,
   "id": "ac063223-4714-44e8-b890-441d99de6abe",
   "metadata": {},
   "outputs": [
    {
     "data": {
      "text/plain": [
       "['one', 'two', 'three', 'four', 'five', 'six', 'seven']"
      ]
     },
     "execution_count": 170,
     "metadata": {},
     "output_type": "execute_result"
    }
   ],
   "source": [
    "mylist = ['one','two','three','four','five','six','seven']\n",
    "mylist"
   ]
  },
  {
   "cell_type": "code",
   "execution_count": 172,
   "id": "d3e719fc-9283-41d7-a136-1445bd0db57d",
   "metadata": {},
   "outputs": [
    {
     "data": {
      "text/plain": [
       "[1, 2, 3, 'four', 'five', 'six', 'seven']"
      ]
     },
     "execution_count": 172,
     "metadata": {},
     "output_type": "execute_result"
    }
   ],
   "source": [
    "mylist[0] = 1  # changing the values of the list \n",
    "mylist[1] = 2\n",
    "mylist[2] = 3\n",
    "mylist"
   ]
  },
  {
   "cell_type": "code",
   "execution_count": 174,
   "id": "c161a84c-e89f-4eea-b1a1-159c3a13ac35",
   "metadata": {},
   "outputs": [],
   "source": [
    "mylist.clear()    #it will all the elements in the list "
   ]
  },
  {
   "cell_type": "code",
   "execution_count": 176,
   "id": "d6f7e4cc-be0e-46c8-9b6e-f6bf0de0eae9",
   "metadata": {},
   "outputs": [
    {
     "data": {
      "text/plain": [
       "[]"
      ]
     },
     "execution_count": 176,
     "metadata": {},
     "output_type": "execute_result"
    }
   ],
   "source": [
    "mylist"
   ]
  },
  {
   "cell_type": "code",
   "execution_count": 178,
   "id": "436ec053-1c3a-466c-9067-b1b253457607",
   "metadata": {},
   "outputs": [],
   "source": [
    "del(mylist)     #it will deleted all the variables in the list"
   ]
  },
  {
   "cell_type": "code",
   "execution_count": 180,
   "id": "88d159ca-0b85-40ee-a836-a01aba526d4f",
   "metadata": {},
   "outputs": [
    {
     "ename": "NameError",
     "evalue": "name 'mylist' is not defined",
     "output_type": "error",
     "traceback": [
      "\u001b[1;31m---------------------------------------------------------------------------\u001b[0m",
      "\u001b[1;31mNameError\u001b[0m                                 Traceback (most recent call last)",
      "Cell \u001b[1;32mIn[180], line 1\u001b[0m\n\u001b[1;32m----> 1\u001b[0m mylist\n",
      "\u001b[1;31mNameError\u001b[0m: name 'mylist' is not defined"
     ]
    }
   ],
   "source": [
    "mylist"
   ]
  },
  {
   "cell_type": "code",
   "execution_count": 182,
   "id": "0077378e-bb57-4bdf-a46b-d433027dbda2",
   "metadata": {},
   "outputs": [],
   "source": [
    "mylist = ['one','two','three','four','five','six','seven']\n",
    "mylist1 = mylist\n"
   ]
  },
  {
   "cell_type": "code",
   "execution_count": 184,
   "id": "f1883195-47e6-431e-a6d3-ab7bb0c8ac78",
   "metadata": {},
   "outputs": [
    {
     "data": {
      "text/plain": [
       "(2182032359040, 2182032359040)"
      ]
     },
     "execution_count": 184,
     "metadata": {},
     "output_type": "execute_result"
    }
   ],
   "source": [
    "id(mylist),id(mylist1)         #it is the adress of the both list and it would be the same because we defined mylist = mylist1"
   ]
  },
  {
   "cell_type": "code",
   "execution_count": 186,
   "id": "2d617324-2508-4ebf-8138-e8f4b3d9e086",
   "metadata": {},
   "outputs": [],
   "source": [
    "mylist2 = mylist.copy()"
   ]
  },
  {
   "cell_type": "code",
   "execution_count": 188,
   "id": "e926ca80-459f-4ce9-88e3-313b8b020b64",
   "metadata": {},
   "outputs": [
    {
     "data": {
      "text/plain": [
       "['one', 'two', 'three', 'four', 'five', 'six', 'seven']"
      ]
     },
     "execution_count": 188,
     "metadata": {},
     "output_type": "execute_result"
    }
   ],
   "source": [
    "mylist2"
   ]
  },
  {
   "cell_type": "code",
   "execution_count": 190,
   "id": "85f7fd86-7a67-4cd3-a5e3-08c1d0cb0423",
   "metadata": {},
   "outputs": [
    {
     "data": {
      "text/plain": [
       "True"
      ]
     },
     "execution_count": 190,
     "metadata": {},
     "output_type": "execute_result"
    }
   ],
   "source": [
    "mylist2 == mylist"
   ]
  },
  {
   "cell_type": "code",
   "execution_count": 192,
   "id": "7df5e6d3-a2b0-4131-b480-6dee1abda59f",
   "metadata": {},
   "outputs": [
    {
     "data": {
      "text/plain": [
       "(2182032355968, 2182032359040)"
      ]
     },
     "execution_count": 192,
     "metadata": {},
     "output_type": "execute_result"
    }
   ],
   "source": [
    "id(mylist2),id(mylist)     # adress would be different "
   ]
  },
  {
   "cell_type": "code",
   "execution_count": 194,
   "id": "7fff539b-6837-417d-bf74-86ea8ccf06fe",
   "metadata": {},
   "outputs": [
    {
     "data": {
      "text/plain": [
       "['one', 'two', 'three', 'four', 'five', 'six', 'seven']"
      ]
     },
     "execution_count": 194,
     "metadata": {},
     "output_type": "execute_result"
    }
   ],
   "source": [
    "mylist"
   ]
  },
  {
   "cell_type": "code",
   "execution_count": 196,
   "id": "f040e7f9-c457-4a9e-b62e-2ab959ee9b1d",
   "metadata": {},
   "outputs": [],
   "source": [
    "mylist[1] = 2  #it will change the value "
   ]
  },
  {
   "cell_type": "code",
   "execution_count": 198,
   "id": "b283bc98-e2e7-462f-9c20-0556647e0dd2",
   "metadata": {},
   "outputs": [
    {
     "data": {
      "text/plain": [
       "['one', 2, 'three', 'four', 'five', 'six', 'seven']"
      ]
     },
     "execution_count": 198,
     "metadata": {},
     "output_type": "execute_result"
    }
   ],
   "source": [
    "mylist"
   ]
  },
  {
   "cell_type": "code",
   "execution_count": 204,
   "id": "6f3ff39a-595a-4b91-9a34-8996297b9cea",
   "metadata": {},
   "outputs": [
    {
     "name": "stdout",
     "output_type": "stream",
     "text": [
      "['one', 'two', 'three', 'four', 'five', 'six', 'seven', 'eight', 'nine', 'ten']\n"
     ]
    }
   ],
   "source": [
    "list1 = ['one','two','three','four','five','six','seven']  # Join lists \n",
    "list2 = ['eight','nine','ten']\n",
    "list3 = list1 + list2\n",
    "print(list3)"
   ]
  },
  {
   "cell_type": "code",
   "execution_count": 206,
   "id": "ef9205fb-1220-4bd7-ad84-d2cfc84e2395",
   "metadata": {},
   "outputs": [],
   "source": [
    "list1 = ['one','two','three','four','five','six','seven']  # Join lists \n",
    "list2 = ['eight','nine','ten']\n"
   ]
  },
  {
   "cell_type": "code",
   "execution_count": 208,
   "id": "fe890a45-767d-45a0-b0bc-930d261f1989",
   "metadata": {},
   "outputs": [],
   "source": [
    "list1.extend(list2)"
   ]
  },
  {
   "cell_type": "code",
   "execution_count": 210,
   "id": "35c2ef33-2911-4992-be1b-a5fa8c8b8a49",
   "metadata": {},
   "outputs": [
    {
     "data": {
      "text/plain": [
       "['one', 'two', 'three', 'four', 'five', 'six', 'seven', 'eight', 'nine', 'ten']"
      ]
     },
     "execution_count": 210,
     "metadata": {},
     "output_type": "execute_result"
    }
   ],
   "source": [
    "list1"
   ]
  },
  {
   "cell_type": "code",
   "execution_count": 214,
   "id": "564f93e2-a5ee-4844-8410-f30b311574a3",
   "metadata": {},
   "outputs": [
    {
     "data": {
      "text/plain": [
       "True"
      ]
     },
     "execution_count": 214,
     "metadata": {},
     "output_type": "execute_result"
    }
   ],
   "source": [
    "'one' in list1   #list membership checking if one is presenting in the list or not "
   ]
  },
  {
   "cell_type": "code",
   "execution_count": 216,
   "id": "7ea94ac7-7a93-41d1-9005-2bc8d2de796c",
   "metadata": {},
   "outputs": [
    {
     "data": {
      "text/plain": [
       "False"
      ]
     },
     "execution_count": 216,
     "metadata": {},
     "output_type": "execute_result"
    }
   ],
   "source": [
    "'fouteen' in list1"
   ]
  },
  {
   "cell_type": "code",
   "execution_count": 218,
   "id": "84ee0dc7-af4a-4d84-81b9-97bd1bd97bdf",
   "metadata": {},
   "outputs": [
    {
     "data": {
      "text/plain": [
       "['one', 'two', 'three', 'four', 'five', 'six', 'seven', 'eight', 'nine', 'ten']"
      ]
     },
     "execution_count": 218,
     "metadata": {},
     "output_type": "execute_result"
    }
   ],
   "source": [
    "list1"
   ]
  },
  {
   "cell_type": "code",
   "execution_count": 233,
   "id": "c60a3228-4826-4fb5-a030-21ceabd6a226",
   "metadata": {},
   "outputs": [
    {
     "name": "stdout",
     "output_type": "stream",
     "text": [
      "two is present in the list1\n"
     ]
    }
   ],
   "source": [
    "if 'two' in list1:       # IT WILL PRINT THE STATEMENT LIKE IT IS PRESENTING OR NOT \n",
    "    print(\"two is present in the list1\")\n",
    "else:\n",
    "    print(\"two is not present in the list1\")\n"
   ]
  },
  {
   "cell_type": "code",
   "execution_count": 235,
   "id": "aee855c5-0c9a-4b41-9266-8ce9501e7512",
   "metadata": {},
   "outputs": [
    {
     "name": "stdout",
     "output_type": "stream",
     "text": [
      "fourteen is not present in list1\n"
     ]
    }
   ],
   "source": [
    "if 'fourteen' in list1:\n",
    "    print('fourteeen is present in list1')\n",
    "else:\n",
    "    print('fourteen is not present in list1')"
   ]
  },
  {
   "cell_type": "code",
   "execution_count": 237,
   "id": "deaa7504-703d-48ad-be75-7c1847bb47ad",
   "metadata": {},
   "outputs": [
    {
     "data": {
      "text/plain": [
       "['one', 'two', 'three', 'four', 'five', 'six', 'seven', 'eight', 'nine', 'ten']"
      ]
     },
     "execution_count": 237,
     "metadata": {},
     "output_type": "execute_result"
    }
   ],
   "source": [
    "list1 "
   ]
  },
  {
   "cell_type": "code",
   "execution_count": 243,
   "id": "e2106dde-2d05-40db-b3b5-5ea3b28c521b",
   "metadata": {},
   "outputs": [
    {
     "name": "stdout",
     "output_type": "stream",
     "text": [
      "one\n",
      "two\n",
      "three\n",
      "four\n",
      "five\n",
      "six\n",
      "seven\n",
      "eight\n",
      "nine\n",
      "ten\n"
     ]
    }
   ],
   "source": [
    "for i in list1:           # for loop \n",
    "    print(i)"
   ]
  },
  {
   "cell_type": "code",
   "execution_count": 245,
   "id": "a1d1a888-0803-487b-90ff-ba0879d83622",
   "metadata": {},
   "outputs": [
    {
     "data": {
      "text/plain": [
       "['one', 2, 'three', 'four', 'five', 'six', 'seven']"
      ]
     },
     "execution_count": 245,
     "metadata": {},
     "output_type": "execute_result"
    }
   ],
   "source": [
    "mylist"
   ]
  },
  {
   "cell_type": "code",
   "execution_count": 247,
   "id": "7b7315d4-d6c9-457e-9d75-1fc5c03b8fea",
   "metadata": {},
   "outputs": [
    {
     "name": "stdout",
     "output_type": "stream",
     "text": [
      "one\n",
      "2\n",
      "three\n",
      "four\n",
      "five\n",
      "six\n",
      "seven\n"
     ]
    }
   ],
   "source": [
    "for i in mylist:\n",
    "    print(i)"
   ]
  },
  {
   "cell_type": "code",
   "execution_count": 250,
   "id": "0c013be2-2d78-446f-9308-70677c835316",
   "metadata": {},
   "outputs": [
    {
     "name": "stdout",
     "output_type": "stream",
     "text": [
      "(0, 'one')\n",
      "(1, 'two')\n",
      "(2, 'three')\n",
      "(3, 'four')\n",
      "(4, 'five')\n",
      "(5, 'six')\n",
      "(6, 'seven')\n",
      "(7, 'eight')\n",
      "(8, 'nine')\n",
      "(9, 'ten')\n"
     ]
    }
   ],
   "source": [
    "for i in enumerate(list1):   # in this enumerate means it will give the index number also in output \n",
    "    print(i)"
   ]
  },
  {
   "cell_type": "code",
   "execution_count": 252,
   "id": "792f0e92-9da9-4ba4-bb9c-078f9d611be2",
   "metadata": {},
   "outputs": [
    {
     "name": "stdout",
     "output_type": "stream",
     "text": [
      "(0, 'one')\n",
      "(1, 2)\n",
      "(2, 'three')\n",
      "(3, 'four')\n",
      "(4, 'five')\n",
      "(5, 'six')\n",
      "(6, 'seven')\n"
     ]
    }
   ],
   "source": [
    "for i in enumerate(mylist):\n",
    "    print(i)"
   ]
  },
  {
   "cell_type": "code",
   "execution_count": 254,
   "id": "4fe9629a-1d3f-4b37-a748-7844299fd56c",
   "metadata": {},
   "outputs": [
    {
     "data": {
      "text/plain": [
       "False"
      ]
     },
     "execution_count": 254,
     "metadata": {},
     "output_type": "execute_result"
    }
   ],
   "source": [
    "l1 = [1,2,3,4,5,0]       #  because there is 0 in the l1  if we use all it is false \n",
    "all(l1)"
   ]
  },
  {
   "cell_type": "code",
   "execution_count": 256,
   "id": "85bbc18f-3ad1-4ca3-bed3-a91f7032d4c9",
   "metadata": {},
   "outputs": [],
   "source": [
    "l2 = [1,2,3,44,5]         # if we use any then it will be true "
   ]
  },
  {
   "cell_type": "code",
   "execution_count": 260,
   "id": "d4385e52-41e2-4aac-a2fa-c395b798d5a4",
   "metadata": {},
   "outputs": [
    {
     "data": {
      "text/plain": [
       "True"
      ]
     },
     "execution_count": 260,
     "metadata": {},
     "output_type": "execute_result"
    }
   ],
   "source": [
    "any(l1)"
   ]
  },
  {
   "cell_type": "code",
   "execution_count": 262,
   "id": "2373b8c5-7ce3-4185-bb25-80d1494b9520",
   "metadata": {},
   "outputs": [],
   "source": [
    "l1 = [1,2,3,4,True,False]"
   ]
  },
  {
   "cell_type": "code",
   "execution_count": 264,
   "id": "28cd82d0-9067-40e4-bb7a-929e7017263e",
   "metadata": {},
   "outputs": [
    {
     "data": {
      "text/plain": [
       "False"
      ]
     },
     "execution_count": 264,
     "metadata": {},
     "output_type": "execute_result"
    }
   ],
   "source": [
    "all(l1)        # all the item in the list are false because in the list it contains False "
   ]
  },
  {
   "cell_type": "code",
   "execution_count": 266,
   "id": "504e5ec7-f1c4-4b3e-b41c-997b7f0c5bf2",
   "metadata": {},
   "outputs": [
    {
     "data": {
      "text/plain": [
       "True"
      ]
     },
     "execution_count": 266,
     "metadata": {},
     "output_type": "execute_result"
    }
   ],
   "source": [
    "any(l2)     #any of the item in the list will be true because it contains true also "
   ]
  },
  {
   "cell_type": "code",
   "execution_count": 268,
   "id": "3795ecd0-c4b3-42ba-82af-5c3381e1f4fb",
   "metadata": {},
   "outputs": [],
   "source": [
    "l2 = [1,2,3,4,True]   # in this list all items will be true because it contains true "
   ]
  },
  {
   "cell_type": "code",
   "execution_count": 270,
   "id": "7cc4ca6c-e1da-4f49-bbfe-cc6455950590",
   "metadata": {},
   "outputs": [
    {
     "data": {
      "text/plain": [
       "True"
      ]
     },
     "execution_count": 270,
     "metadata": {},
     "output_type": "execute_result"
    }
   ],
   "source": [
    "all(l2)"
   ]
  },
  {
   "cell_type": "code",
   "execution_count": 272,
   "id": "77d459c2-05dc-47ea-b673-630c75774d54",
   "metadata": {},
   "outputs": [],
   "source": [
    "l2 = [1,2,3,4,True,False]"
   ]
  },
  {
   "cell_type": "code",
   "execution_count": 274,
   "id": "d54377ef-a826-44e5-a4fb-3800a16c19f5",
   "metadata": {},
   "outputs": [
    {
     "data": {
      "text/plain": [
       "True"
      ]
     },
     "execution_count": 274,
     "metadata": {},
     "output_type": "execute_result"
    }
   ],
   "source": [
    "any(l2)           #because in this list there is true also it will count one value "
   ]
  },
  {
   "cell_type": "code",
   "execution_count": 276,
   "id": "bd841c65-57a7-4f5d-b035-562353fa23f3",
   "metadata": {},
   "outputs": [
    {
     "data": {
      "text/plain": [
       "False"
      ]
     },
     "execution_count": 276,
     "metadata": {},
     "output_type": "execute_result"
    }
   ],
   "source": [
    "all(l2)           # all false because in the list false is there that why the output will be the false "
   ]
  },
  {
   "cell_type": "code",
   "execution_count": 278,
   "id": "be9b8acc-a47e-4c24-9c82-b837039cbd19",
   "metadata": {},
   "outputs": [
    {
     "data": {
      "text/plain": [
       "[1, 2, 3, 4, 5, 6]"
      ]
     },
     "execution_count": 278,
     "metadata": {},
     "output_type": "execute_result"
    }
   ],
   "source": [
    "l = [1,2,3,4,5,6]\n",
    "l"
   ]
  },
  {
   "cell_type": "code",
   "execution_count": 284,
   "id": "01be3307-2c36-4b56-8f6c-92b1f7ad2971",
   "metadata": {},
   "outputs": [
    {
     "name": "stdout",
     "output_type": "stream",
     "text": [
      "1\n",
      "2\n",
      "3\n",
      "4\n",
      "5\n",
      "6\n"
     ]
    }
   ],
   "source": [
    "for i in l:\n",
    "    print(i)"
   ]
  },
  {
   "cell_type": "code",
   "execution_count": 282,
   "id": "dd23137a-0581-4337-98d0-d067b6354c2c",
   "metadata": {},
   "outputs": [
    {
     "name": "stdout",
     "output_type": "stream",
     "text": [
      "(0, 1)\n",
      "(1, 2)\n",
      "(2, 3)\n",
      "(3, 4)\n",
      "(4, 5)\n",
      "(5, 6)\n"
     ]
    }
   ],
   "source": [
    "for i in enumerate(l):\n",
    "    print(i)"
   ]
  },
  {
   "cell_type": "markdown",
   "id": "04530bb1-b85a-40e5-8547-ba0e55c12b11",
   "metadata": {},
   "source": [
    "# Tuple "
   ]
  },
  {
   "cell_type": "code",
   "execution_count": 4,
   "id": "f6cf1482-953a-4444-b51b-950d4df8f065",
   "metadata": {},
   "outputs": [
    {
     "data": {
      "text/plain": [
       "()"
      ]
     },
     "execution_count": 4,
     "metadata": {},
     "output_type": "execute_result"
    }
   ],
   "source": [
    "t = ()      # in the tuple concept tuple always have () open brackets \n",
    "t"
   ]
  },
  {
   "cell_type": "code",
   "execution_count": 6,
   "id": "12e507f0-a7db-4d19-8305-c733d97b2d73",
   "metadata": {},
   "outputs": [
    {
     "data": {
      "text/plain": [
       "0"
      ]
     },
     "execution_count": 6,
     "metadata": {},
     "output_type": "execute_result"
    }
   ],
   "source": [
    "len(t)"
   ]
  },
  {
   "cell_type": "code",
   "execution_count": 8,
   "id": "fc24f1c7-4c5d-44cf-80a4-3db06a2d8132",
   "metadata": {},
   "outputs": [],
   "source": [
    "tup1 = (10,20,30,40)    #tuple of integer numbers "
   ]
  },
  {
   "cell_type": "code",
   "execution_count": 10,
   "id": "878495c8-212e-4df5-b686-691b42ec3157",
   "metadata": {},
   "outputs": [],
   "source": [
    "tup2 = (2.3,4.5,6.7,8.9)    #tuple of float numbers "
   ]
  },
  {
   "cell_type": "code",
   "execution_count": 12,
   "id": "08310603-ba03-488a-b5a2-ce05439a4b65",
   "metadata": {},
   "outputs": [],
   "source": [
    "tup3 = ('akshith','bablu','rohit','sharma')     #tuple of strings"
   ]
  },
  {
   "cell_type": "code",
   "execution_count": 16,
   "id": "891f8f2e-1300-4799-8f0f-f8e79ee4c7a2",
   "metadata": {},
   "outputs": [],
   "source": [
    "tup4 = (10,(100,20),(30,40),'sunil')       #nested tuples "
   ]
  },
  {
   "cell_type": "code",
   "execution_count": 18,
   "id": "1f062315-9f91-4c71-b15b-64e1d2fafa63",
   "metadata": {},
   "outputs": [],
   "source": [
    "tup5 = (20,2.4,'sunny')     #tuple of mixed datatypes "
   ]
  },
  {
   "cell_type": "code",
   "execution_count": 20,
   "id": "96075425-4d5f-4007-b601-ef9a8a4c8061",
   "metadata": {},
   "outputs": [],
   "source": [
    "tup6 = ('akshith',10,(200,30),(500,400) , {'sunny','uday'} , (20,30,40))"
   ]
  },
  {
   "cell_type": "code",
   "execution_count": 22,
   "id": "1d20284e-3d2d-412d-8269-ab8b4bf87897",
   "metadata": {},
   "outputs": [
    {
     "data": {
      "text/plain": [
       "6"
      ]
     },
     "execution_count": 22,
     "metadata": {},
     "output_type": "execute_result"
    }
   ],
   "source": [
    "len(tup6)     #length of the tuple"
   ]
  },
  {
   "cell_type": "markdown",
   "id": "4ce7140c-fb28-4d65-8805-e9b75730100b",
   "metadata": {},
   "source": [
    "#tuple indexing"
   ]
  },
  {
   "cell_type": "code",
   "execution_count": 24,
   "id": "766487a7-a5b8-4309-8dd4-8831fe10fd44",
   "metadata": {},
   "outputs": [
    {
     "data": {
      "text/plain": [
       "10"
      ]
     },
     "execution_count": 24,
     "metadata": {},
     "output_type": "execute_result"
    }
   ],
   "source": [
    "tup1[0]       #it will give the first element of the tuple"
   ]
  },
  {
   "cell_type": "code",
   "execution_count": 26,
   "id": "37456ac7-c29d-451d-a105-de75c4e183ce",
   "metadata": {},
   "outputs": [
    {
     "data": {
      "text/plain": [
       "8.9"
      ]
     },
     "execution_count": 26,
     "metadata": {},
     "output_type": "execute_result"
    }
   ],
   "source": [
    "tup2[3]"
   ]
  },
  {
   "cell_type": "code",
   "execution_count": 28,
   "id": "a921506e-80c8-405e-b6ba-50472e580c16",
   "metadata": {},
   "outputs": [
    {
     "data": {
      "text/plain": [
       "'rohit'"
      ]
     },
     "execution_count": 28,
     "metadata": {},
     "output_type": "execute_result"
    }
   ],
   "source": [
    "tup3[2]"
   ]
  },
  {
   "cell_type": "code",
   "execution_count": 32,
   "id": "f4736a49-b7a5-4c28-8b09-67153b3b4b03",
   "metadata": {},
   "outputs": [
    {
     "data": {
      "text/plain": [
       "'a'"
      ]
     },
     "execution_count": 32,
     "metadata": {},
     "output_type": "execute_result"
    }
   ],
   "source": [
    "tup3[0][0]      # it will give first letter of the first index  of the tuple "
   ]
  },
  {
   "cell_type": "code",
   "execution_count": 34,
   "id": "a1a9f6b6-7580-4e51-b526-74e8851816f4",
   "metadata": {},
   "outputs": [
    {
     "data": {
      "text/plain": [
       "'h'"
      ]
     },
     "execution_count": 34,
     "metadata": {},
     "output_type": "execute_result"
    }
   ],
   "source": [
    "tup6[0][3]"
   ]
  },
  {
   "cell_type": "code",
   "execution_count": 36,
   "id": "ccec6141-90b2-4fc6-9aea-548aab39a123",
   "metadata": {},
   "outputs": [
    {
     "data": {
      "text/plain": [
       "'sunil'"
      ]
     },
     "execution_count": 36,
     "metadata": {},
     "output_type": "execute_result"
    }
   ],
   "source": [
    "tup4[-1]    # last item of the tuple  "
   ]
  },
  {
   "cell_type": "code",
   "execution_count": 38,
   "id": "3676963a-d58e-4760-a49a-b0e1118d2ba2",
   "metadata": {},
   "outputs": [
    {
     "data": {
      "text/plain": [
       "(500, 400)"
      ]
     },
     "execution_count": 38,
     "metadata": {},
     "output_type": "execute_result"
    }
   ],
   "source": [
    "tup6[-3]      # last third item of the tuple "
   ]
  },
  {
   "cell_type": "markdown",
   "id": "b4ffb43c-0aa5-473e-8698-4c55ff44644f",
   "metadata": {},
   "source": [
    "#tuple slicing "
   ]
  },
  {
   "cell_type": "code",
   "execution_count": 42,
   "id": "db17f11c-0550-4b3e-8e18-6067e9cb323f",
   "metadata": {},
   "outputs": [],
   "source": [
    "mytup = ('one','two','three','four','five','six','seven','eight','nine','ten')"
   ]
  },
  {
   "cell_type": "code",
   "execution_count": 44,
   "id": "518e3f06-4858-4fde-9a29-4053fa09c812",
   "metadata": {},
   "outputs": [
    {
     "data": {
      "text/plain": [
       "('one', 'two', 'three', 'four', 'five', 'six', 'seven', 'eight', 'nine', 'ten')"
      ]
     },
     "execution_count": 44,
     "metadata": {},
     "output_type": "execute_result"
    }
   ],
   "source": [
    "mytup"
   ]
  },
  {
   "cell_type": "code",
   "execution_count": 46,
   "id": "8e22c0be-e662-4265-bfa4-4ef4b4b832ab",
   "metadata": {},
   "outputs": [
    {
     "data": {
      "text/plain": [
       "('one', 'two', 'three')"
      ]
     },
     "execution_count": 46,
     "metadata": {},
     "output_type": "execute_result"
    }
   ],
   "source": [
    "mytup[0:3]    # it will slice the tuple from o to 3-1= 2 then it will return the output "
   ]
  },
  {
   "cell_type": "code",
   "execution_count": 48,
   "id": "91b5582c-7b2f-46b7-97ba-380b61faa62b",
   "metadata": {},
   "outputs": [
    {
     "data": {
      "text/plain": [
       "('three', 'four', 'five')"
      ]
     },
     "execution_count": 48,
     "metadata": {},
     "output_type": "execute_result"
    }
   ],
   "source": [
    "mytup[2:5]    # iot will give  from 2 to 5-1=4 then it will return the output (n-1) at the last "
   ]
  },
  {
   "cell_type": "code",
   "execution_count": 50,
   "id": "5dfc9613-5689-4917-bd34-783ca6a387d6",
   "metadata": {},
   "outputs": [
    {
     "data": {
      "text/plain": [
       "('four', 'five', 'six', 'seven', 'eight', 'nine', 'ten')"
      ]
     },
     "execution_count": 50,
     "metadata": {},
     "output_type": "execute_result"
    }
   ],
   "source": [
    "mytup[3:]    #from threee onwards it will total entire tuple  because there is no number "
   ]
  },
  {
   "cell_type": "code",
   "execution_count": 52,
   "id": "4bfa0cc4-db2c-410f-b22d-fb811aa841e7",
   "metadata": {},
   "outputs": [
    {
     "data": {
      "text/plain": [
       "('one', 'two', 'three', 'four', 'five', 'six', 'seven')"
      ]
     },
     "execution_count": 52,
     "metadata": {},
     "output_type": "execute_result"
    }
   ],
   "source": [
    "mytup[:-3]   # after semi colon if we give -3 for suppose then it will del last three elements "
   ]
  },
  {
   "cell_type": "code",
   "execution_count": 54,
   "id": "0664b559-daad-4cc6-b40f-48740727acdd",
   "metadata": {},
   "outputs": [
    {
     "data": {
      "text/plain": [
       "('one', 'two', 'three', 'four', 'five', 'six', 'seven', 'eight', 'nine')"
      ]
     },
     "execution_count": 54,
     "metadata": {},
     "output_type": "execute_result"
    }
   ],
   "source": [
    "mytup[:-1]"
   ]
  },
  {
   "cell_type": "code",
   "execution_count": 56,
   "id": "2941d42e-8237-496e-8274-5647e17521b1",
   "metadata": {},
   "outputs": [
    {
     "data": {
      "text/plain": [
       "'nine'"
      ]
     },
     "execution_count": 56,
     "metadata": {},
     "output_type": "execute_result"
    }
   ],
   "source": [
    "mytup[-2]    # only -2 will be given then the output is last second element "
   ]
  },
  {
   "cell_type": "code",
   "execution_count": 58,
   "id": "c93df2e5-19ca-4208-9cd9-aacae24106e6",
   "metadata": {},
   "outputs": [
    {
     "data": {
      "text/plain": [
       "('one', 'two', 'three', 'four', 'five', 'six', 'seven', 'eight', 'nine', 'ten')"
      ]
     },
     "execution_count": 58,
     "metadata": {},
     "output_type": "execute_result"
    }
   ],
   "source": [
    "mytup"
   ]
  },
  {
   "cell_type": "code",
   "execution_count": 60,
   "id": "a7fe80c8-9b48-4a96-8609-d381f14a6f32",
   "metadata": {},
   "outputs": [
    {
     "data": {
      "text/plain": [
       "'eight'"
      ]
     },
     "execution_count": 60,
     "metadata": {},
     "output_type": "execute_result"
    }
   ],
   "source": [
    "mytup[-3]   #last third element "
   ]
  },
  {
   "cell_type": "code",
   "execution_count": 62,
   "id": "c3aa891d-f86c-433f-b5de-5f9e02d73636",
   "metadata": {},
   "outputs": [
    {
     "data": {
      "text/plain": [
       "('nine', 'ten')"
      ]
     },
     "execution_count": 62,
     "metadata": {},
     "output_type": "execute_result"
    }
   ],
   "source": [
    "mytup[-2:]     #it will give only two values at the last "
   ]
  },
  {
   "cell_type": "code",
   "execution_count": 64,
   "id": "ef844399-b1d4-45ee-8e6a-ca59b611c559",
   "metadata": {},
   "outputs": [
    {
     "data": {
      "text/plain": [
       "('four', 'five', 'six', 'seven', 'eight', 'nine', 'ten')"
      ]
     },
     "execution_count": 64,
     "metadata": {},
     "output_type": "execute_result"
    }
   ],
   "source": [
    "mytup[3:]"
   ]
  },
  {
   "cell_type": "code",
   "execution_count": 66,
   "id": "c3892ff7-cdce-492f-834b-e88d82261aa2",
   "metadata": {},
   "outputs": [
    {
     "data": {
      "text/plain": [
       "('one', 'two', 'three', 'four', 'five', 'six', 'seven', 'eight', 'nine', 'ten')"
      ]
     },
     "execution_count": 66,
     "metadata": {},
     "output_type": "execute_result"
    }
   ],
   "source": [
    "mytup[:]    # it will give whole tuple "
   ]
  },
  {
   "cell_type": "markdown",
   "id": "1b24887b-f958-4b8b-bec3-fd57b505dce8",
   "metadata": {},
   "source": [
    "#remove and change items"
   ]
  },
  {
   "cell_type": "code",
   "execution_count": 11,
   "id": "3d2a1e0c-c076-4961-9f23-5c42ef316685",
   "metadata": {},
   "outputs": [],
   "source": [
    "mytuple = ('one','two','three','four','five','six','seven','eight','nine','ten')"
   ]
  },
  {
   "cell_type": "code",
   "execution_count": 13,
   "id": "83745eb1-750c-4974-8c8a-34c2dc9fbd2e",
   "metadata": {},
   "outputs": [
    {
     "data": {
      "text/plain": [
       "('one', 'two', 'three', 'four', 'five', 'six', 'seven', 'eight', 'nine', 'ten')"
      ]
     },
     "execution_count": 13,
     "metadata": {},
     "output_type": "execute_result"
    }
   ],
   "source": [
    "mytuple"
   ]
  },
  {
   "cell_type": "code",
   "execution_count": 21,
   "id": "58ee9ebb-452a-452c-a236-1b75660666f0",
   "metadata": {},
   "outputs": [
    {
     "data": {
      "text/plain": [
       "('one', 'two', 'three', 'four', 'five', 'six', 'seven', 'eight', 'nine', 'ten')"
      ]
     },
     "execution_count": 21,
     "metadata": {},
     "output_type": "execute_result"
    }
   ],
   "source": [
    "mytuple = ('one','two','three','four','five','six','seven','eight','nine','ten')\n",
    "mytuple"
   ]
  },
  {
   "cell_type": "code",
   "execution_count": 29,
   "id": "cc7fca86-e012-422e-ad84-d4d410145537",
   "metadata": {},
   "outputs": [
    {
     "ename": "TypeError",
     "evalue": "'tuple' object doesn't support item deletion",
     "output_type": "error",
     "traceback": [
      "\u001b[1;31m---------------------------------------------------------------------------\u001b[0m",
      "\u001b[1;31mTypeError\u001b[0m                                 Traceback (most recent call last)",
      "Cell \u001b[1;32mIn[29], line 1\u001b[0m\n\u001b[1;32m----> 1\u001b[0m \u001b[38;5;28;01mdel\u001b[39;00m mytuple[\u001b[38;5;241m0\u001b[39m]\n",
      "\u001b[1;31mTypeError\u001b[0m: 'tuple' object doesn't support item deletion"
     ]
    }
   ],
   "source": [
    "del mytuple[0]   #tuples are immutable which we can't delete tuple items "
   ]
  },
  {
   "cell_type": "code",
   "execution_count": 27,
   "id": "a7b2cf22-3a94-4ec3-a1da-ea2a341d0ca7",
   "metadata": {},
   "outputs": [
    {
     "ename": "TypeError",
     "evalue": "'tuple' object does not support item assignment",
     "output_type": "error",
     "traceback": [
      "\u001b[1;31m---------------------------------------------------------------------------\u001b[0m",
      "\u001b[1;31mTypeError\u001b[0m                                 Traceback (most recent call last)",
      "Cell \u001b[1;32mIn[27], line 1\u001b[0m\n\u001b[1;32m----> 1\u001b[0m mytuple[\u001b[38;5;241m0\u001b[39m] \u001b[38;5;241m=\u001b[39m \u001b[38;5;241m1\u001b[39m\n",
      "\u001b[1;31mTypeError\u001b[0m: 'tuple' object does not support item assignment"
     ]
    }
   ],
   "source": [
    "mytuple[0] = 1   #tuples are immutable which we can't change the items in the tuple "
   ]
  },
  {
   "cell_type": "code",
   "execution_count": 31,
   "id": "15658158-9874-4d30-ac27-c3e557a48f84",
   "metadata": {},
   "outputs": [
    {
     "ename": "TypeError",
     "evalue": "'tuple' object does not support item assignment",
     "output_type": "error",
     "traceback": [
      "\u001b[1;31m---------------------------------------------------------------------------\u001b[0m",
      "\u001b[1;31mTypeError\u001b[0m                                 Traceback (most recent call last)",
      "Cell \u001b[1;32mIn[31], line 1\u001b[0m\n\u001b[1;32m----> 1\u001b[0m mytuple[\u001b[38;5;241m1\u001b[39m] \u001b[38;5;241m=\u001b[39m \u001b[38;5;241m2\u001b[39m\n",
      "\u001b[1;31mTypeError\u001b[0m: 'tuple' object does not support item assignment"
     ]
    }
   ],
   "source": [
    "mytuple[1] = 2"
   ]
  },
  {
   "cell_type": "code",
   "execution_count": 33,
   "id": "9c0947ae-3d22-4dca-b985-c232213eaaa7",
   "metadata": {},
   "outputs": [],
   "source": [
    "del mytuple     #deleting entire tuple is possible "
   ]
  },
  {
   "cell_type": "code",
   "execution_count": 35,
   "id": "b27e251c-4cb2-4178-87e0-fcf5ababfa9e",
   "metadata": {},
   "outputs": [
    {
     "ename": "NameError",
     "evalue": "name 'mytuple' is not defined",
     "output_type": "error",
     "traceback": [
      "\u001b[1;31m---------------------------------------------------------------------------\u001b[0m",
      "\u001b[1;31mNameError\u001b[0m                                 Traceback (most recent call last)",
      "Cell \u001b[1;32mIn[35], line 1\u001b[0m\n\u001b[1;32m----> 1\u001b[0m mytuple\n",
      "\u001b[1;31mNameError\u001b[0m: name 'mytuple' is not defined"
     ]
    }
   ],
   "source": [
    "mytuple "
   ]
  },
  {
   "cell_type": "markdown",
   "id": "d639d47e-0c79-4273-a8c4-3e47559c5259",
   "metadata": {},
   "source": [
    "#loop through a tuple "
   ]
  },
  {
   "cell_type": "code",
   "execution_count": 38,
   "id": "6b8b863e-0155-48d8-bc76-58bcee482a4a",
   "metadata": {},
   "outputs": [
    {
     "data": {
      "text/plain": [
       "('one', 'two', 'three', 'four', 'five', 'six', 'seven', 'eight', 'nine', 'ten')"
      ]
     },
     "execution_count": 38,
     "metadata": {},
     "output_type": "execute_result"
    }
   ],
   "source": [
    "mytuple = ('one','two','three','four','five','six','seven','eight','nine','ten')\n",
    "mytuple"
   ]
  },
  {
   "cell_type": "code",
   "execution_count": 40,
   "id": "9cd5c6e0-3bb9-4b54-8219-22249b29efd1",
   "metadata": {},
   "outputs": [
    {
     "name": "stdout",
     "output_type": "stream",
     "text": [
      "one\n",
      "two\n",
      "three\n",
      "four\n",
      "five\n",
      "six\n",
      "seven\n",
      "eight\n",
      "nine\n",
      "ten\n"
     ]
    }
   ],
   "source": [
    "for i in mytuple:     #for loop \n",
    "    print(i)"
   ]
  },
  {
   "cell_type": "code",
   "execution_count": 48,
   "id": "06307fcf-1273-4b3e-9e5e-b4dba277ba0f",
   "metadata": {},
   "outputs": [
    {
     "name": "stdout",
     "output_type": "stream",
     "text": [
      "(0, 'one')\n",
      "(1, 'two')\n",
      "(2, 'three')\n",
      "(3, 'four')\n",
      "(4, 'five')\n",
      "(5, 'six')\n",
      "(6, 'seven')\n",
      "(7, 'eight')\n",
      "(8, 'nine')\n",
      "(9, 'ten')\n"
     ]
    }
   ],
   "source": [
    "for i in enumerate(mytuple):       # enumerate means it will give output as pair values with the index number also \n",
    "     print(i)"
   ]
  },
  {
   "cell_type": "markdown",
   "id": "87db2c65-5f60-4c60-a7e5-8135364bac0e",
   "metadata": {},
   "source": [
    "#tuple membership"
   ]
  },
  {
   "cell_type": "code",
   "execution_count": 51,
   "id": "296de4a7-fb28-433c-a537-5baa64ceadf6",
   "metadata": {},
   "outputs": [
    {
     "data": {
      "text/plain": [
       "('one', 'two', 'three', 'four', 'five', 'six', 'seven', 'eight', 'nine', 'ten')"
      ]
     },
     "execution_count": 51,
     "metadata": {},
     "output_type": "execute_result"
    }
   ],
   "source": [
    "mytuple"
   ]
  },
  {
   "cell_type": "code",
   "execution_count": 53,
   "id": "d4497aa0-b0bb-425a-9e3e-900ce4fd4685",
   "metadata": {},
   "outputs": [
    {
     "data": {
      "text/plain": [
       "True"
      ]
     },
     "execution_count": 53,
     "metadata": {},
     "output_type": "execute_result"
    }
   ],
   "source": [
    "'one' in mytuple       # checking the number is present or not if it is present then it will be return as true or else false "
   ]
  },
  {
   "cell_type": "code",
   "execution_count": 55,
   "id": "2a476f0f-03a8-42a6-a019-f45f7f8ac497",
   "metadata": {},
   "outputs": [
    {
     "data": {
      "text/plain": [
       "False"
      ]
     },
     "execution_count": 55,
     "metadata": {},
     "output_type": "execute_result"
    }
   ],
   "source": [
    "'twelve' in mytuple   #it is not there in the list "
   ]
  },
  {
   "cell_type": "code",
   "execution_count": 57,
   "id": "b8ea41fd-f0d4-4f37-913c-3a9bc1b1c7b7",
   "metadata": {},
   "outputs": [
    {
     "data": {
      "text/plain": [
       "True"
      ]
     },
     "execution_count": 57,
     "metadata": {},
     "output_type": "execute_result"
    }
   ],
   "source": [
    "'ten' in mytuple"
   ]
  },
  {
   "cell_type": "code",
   "execution_count": 59,
   "id": "63b6f7c9-64e8-4cc5-9cc8-610de528e734",
   "metadata": {},
   "outputs": [
    {
     "name": "stdout",
     "output_type": "stream",
     "text": [
      "three is present in mytuple\n"
     ]
    }
   ],
   "source": [
    "if 'three' in mytuple:\n",
    "    print('three is present in mytuple')\n",
    "else:\n",
    "    print('three is not present in mytuple')"
   ]
  },
  {
   "cell_type": "code",
   "execution_count": 61,
   "id": "ef64cf14-073c-4ced-bc31-6d2554fa0c73",
   "metadata": {},
   "outputs": [
    {
     "name": "stdout",
     "output_type": "stream",
     "text": [
      "eleven is not present in mytuple\n"
     ]
    }
   ],
   "source": [
    "if \"eleven\" in mytuple:\n",
    "    print(\"eleven is present in mytuple\")\n",
    "else:\n",
    "    print(\"eleven is not present in mytuple\")"
   ]
  },
  {
   "cell_type": "markdown",
   "id": "d4c8433a-cc36-4b6b-986c-4b8beeda7257",
   "metadata": {},
   "source": [
    "#index position "
   ]
  },
  {
   "cell_type": "code",
   "execution_count": 64,
   "id": "fd422c3b-c05d-498f-bdd1-ae7b3d64e614",
   "metadata": {},
   "outputs": [
    {
     "data": {
      "text/plain": [
       "('one', 'two', 'three', 'four', 'five', 'six', 'seven', 'eight', 'nine', 'ten')"
      ]
     },
     "execution_count": 64,
     "metadata": {},
     "output_type": "execute_result"
    }
   ],
   "source": [
    "mytuple"
   ]
  },
  {
   "cell_type": "code",
   "execution_count": 68,
   "id": "7e200fb6-3966-4e3f-b5a3-4731e2b4b6da",
   "metadata": {},
   "outputs": [
    {
     "data": {
      "text/plain": [
       "0"
      ]
     },
     "execution_count": 68,
     "metadata": {},
     "output_type": "execute_result"
    }
   ],
   "source": [
    "mytuple.index('one')       # it will give the index number for supose 'one' is present on the index 0 "
   ]
  },
  {
   "cell_type": "code",
   "execution_count": 70,
   "id": "642626ec-e733-4eaf-bb96-61524ce65cd9",
   "metadata": {},
   "outputs": [
    {
     "data": {
      "text/plain": [
       "9"
      ]
     },
     "execution_count": 70,
     "metadata": {},
     "output_type": "execute_result"
    }
   ],
   "source": [
    "mytuple.index('ten')"
   ]
  },
  {
   "cell_type": "code",
   "execution_count": 74,
   "id": "ebc6e264-30cc-4f32-89dd-a7912e78bffc",
   "metadata": {},
   "outputs": [
    {
     "data": {
      "text/plain": [
       "1"
      ]
     },
     "execution_count": 74,
     "metadata": {},
     "output_type": "execute_result"
    }
   ],
   "source": [
    "mytuple.index('two')"
   ]
  },
  {
   "cell_type": "markdown",
   "id": "ed98eb6b-ab85-407a-8977-93bdec443e3b",
   "metadata": {},
   "source": [
    "#count function"
   ]
  },
  {
   "cell_type": "code",
   "execution_count": 81,
   "id": "b383019e-4446-4078-b28f-4c7713fed256",
   "metadata": {},
   "outputs": [],
   "source": [
    "mytuple10 = ('one','two','three','four','five','six','seven','eight','nine','ten','one','one','one','two','three','four','four')"
   ]
  },
  {
   "cell_type": "code",
   "execution_count": 83,
   "id": "9d3c35dd-aa03-4428-8767-e92cf9e17d4a",
   "metadata": {},
   "outputs": [
    {
     "data": {
      "text/plain": [
       "('one',\n",
       " 'two',\n",
       " 'three',\n",
       " 'four',\n",
       " 'five',\n",
       " 'six',\n",
       " 'seven',\n",
       " 'eight',\n",
       " 'nine',\n",
       " 'ten',\n",
       " 'one',\n",
       " 'one',\n",
       " 'one',\n",
       " 'two',\n",
       " 'three',\n",
       " 'four',\n",
       " 'four')"
      ]
     },
     "execution_count": 83,
     "metadata": {},
     "output_type": "execute_result"
    }
   ],
   "source": [
    "mytuple10"
   ]
  },
  {
   "cell_type": "code",
   "execution_count": 85,
   "id": "b8356f66-ffb8-4562-ae91-2dc58783dff2",
   "metadata": {},
   "outputs": [
    {
     "data": {
      "text/plain": [
       "2"
      ]
     },
     "execution_count": 85,
     "metadata": {},
     "output_type": "execute_result"
    }
   ],
   "source": [
    "mytuple10.count('two')"
   ]
  },
  {
   "cell_type": "code",
   "execution_count": 87,
   "id": "a7af3199-2866-4f89-97c0-d856a7bafbf3",
   "metadata": {},
   "outputs": [
    {
     "data": {
      "text/plain": [
       "4"
      ]
     },
     "execution_count": 87,
     "metadata": {},
     "output_type": "execute_result"
    }
   ],
   "source": [
    "mytuple10.count('one')"
   ]
  },
  {
   "cell_type": "markdown",
   "id": "f11b6af8-f391-4aa9-a671-198a9e6d97f7",
   "metadata": {},
   "source": [
    "#sorting"
   ]
  },
  {
   "cell_type": "code",
   "execution_count": 92,
   "id": "0945cf57-6ee9-4037-b9e5-86fcbaf1663e",
   "metadata": {},
   "outputs": [],
   "source": [
    "del(mytuple10)   #mytuple 10 will be deleted "
   ]
  },
  {
   "cell_type": "code",
   "execution_count": 94,
   "id": "7812855d-0f7c-4903-80ae-e29aa0da1d73",
   "metadata": {},
   "outputs": [
    {
     "ename": "NameError",
     "evalue": "name 'mytuple10' is not defined",
     "output_type": "error",
     "traceback": [
      "\u001b[1;31m---------------------------------------------------------------------------\u001b[0m",
      "\u001b[1;31mNameError\u001b[0m                                 Traceback (most recent call last)",
      "Cell \u001b[1;32mIn[94], line 1\u001b[0m\n\u001b[1;32m----> 1\u001b[0m mytuple10\n",
      "\u001b[1;31mNameError\u001b[0m: name 'mytuple10' is not defined"
     ]
    }
   ],
   "source": [
    "mytuple10"
   ]
  },
  {
   "cell_type": "code",
   "execution_count": 102,
   "id": "155e4ebf-5354-47b3-8b55-78e79b38627b",
   "metadata": {},
   "outputs": [
    {
     "data": {
      "text/plain": [
       "(10, 20, 30, 10, 40, 80, 70, 60, 50)"
      ]
     },
     "execution_count": 102,
     "metadata": {},
     "output_type": "execute_result"
    }
   ],
   "source": [
    "mytuple1 = (10,20,30,10,40,80,70,60,50)\n",
    "mytuple1"
   ]
  },
  {
   "cell_type": "code",
   "execution_count": 104,
   "id": "d0a261d2-1106-4248-8b1c-0f3faaaa6ccb",
   "metadata": {},
   "outputs": [
    {
     "data": {
      "text/plain": [
       "[10, 10, 20, 30, 40, 50, 60, 70, 80]"
      ]
     },
     "execution_count": 104,
     "metadata": {},
     "output_type": "execute_result"
    }
   ],
   "source": [
    "sorted(mytuple1)    # it will sorted in ascending order "
   ]
  },
  {
   "cell_type": "code",
   "execution_count": 106,
   "id": "8e238585-8f7e-483f-adfa-198ecfb24832",
   "metadata": {},
   "outputs": [
    {
     "data": {
      "text/plain": [
       "[80, 70, 60, 50, 40, 30, 20, 10, 10]"
      ]
     },
     "execution_count": 106,
     "metadata": {},
     "output_type": "execute_result"
    }
   ],
   "source": [
    "sorted(mytuple1 , reverse=True)    # it will be sorted in descending order (reverse= True) these will get shift + tab  "
   ]
  },
  {
   "cell_type": "code",
   "execution_count": null,
   "id": "12ffaf40-f6e9-4714-8a27-fb0c8ddb36b7",
   "metadata": {},
   "outputs": [],
   "source": [
    "#by default it will be sorted in ascending order if we give reverse = True then it will be sorted in descending order "
   ]
  },
  {
   "cell_type": "code",
   "execution_count": null,
   "id": "8da14aa8-7824-43aa-9eb2-e615a09b6a1b",
   "metadata": {},
   "outputs": [],
   "source": []
  }
 ],
 "metadata": {
  "kernelspec": {
   "display_name": "Python [conda env:base] *",
   "language": "python",
   "name": "conda-base-py"
  },
  "language_info": {
   "codemirror_mode": {
    "name": "ipython",
    "version": 3
   },
   "file_extension": ".py",
   "mimetype": "text/x-python",
   "name": "python",
   "nbconvert_exporter": "python",
   "pygments_lexer": "ipython3",
   "version": "3.12.7"
  }
 },
 "nbformat": 4,
 "nbformat_minor": 5
}
