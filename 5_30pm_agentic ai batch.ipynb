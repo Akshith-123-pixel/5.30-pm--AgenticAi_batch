{
 "cells": [
  {
   "cell_type": "code",
   "execution_count": 1,
   "id": "461a7995-842f-4928-abc9-462f1a44853e",
   "metadata": {},
   "outputs": [
    {
     "data": {
      "text/plain": [
       "9"
      ]
     },
     "execution_count": 1,
     "metadata": {},
     "output_type": "execute_result"
    }
   ],
   "source": [
    "9 #ADDITION OPERATOR\n"
   ]
  },
  {
   "cell_type": "code",
   "execution_count": 3,
   "id": "e7824d7c-66e9-4118-b25d-42116f28776c",
   "metadata": {},
   "outputs": [
    {
     "data": {
      "text/plain": [
       "18"
      ]
     },
     "execution_count": 3,
     "metadata": {},
     "output_type": "execute_result"
    }
   ],
   "source": [
    "9+9 "
   ]
  },
  {
   "cell_type": "code",
   "execution_count": 7,
   "id": "1bdd6d71-97b7-4815-bcec-d42d4a539504",
   "metadata": {},
   "outputs": [
    {
     "data": {
      "text/plain": [
       "-12"
      ]
     },
     "execution_count": 7,
     "metadata": {},
     "output_type": "execute_result"
    }
   ],
   "source": [
    "9 + 9 - (10 * 3)\n"
   ]
  },
  {
   "cell_type": "code",
   "execution_count": 9,
   "id": "c5f9b369-4093-43e8-b508-f27d04f573f3",
   "metadata": {},
   "outputs": [
    {
     "data": {
      "text/plain": [
       "-12"
      ]
     },
     "execution_count": 9,
     "metadata": {},
     "output_type": "execute_result"
    }
   ],
   "source": [
    "9 + 9 - 10 * 3\n"
   ]
  },
  {
   "cell_type": "code",
   "execution_count": 11,
   "id": "ae79a2c5-ba9d-45a2-ae62-b4aaff75f0ff",
   "metadata": {},
   "outputs": [
    {
     "name": "stdout",
     "output_type": "stream",
     "text": [
      "hello world!\n"
     ]
    }
   ],
   "source": [
    "print('hello world!')"
   ]
  },
  {
   "cell_type": "code",
   "execution_count": 13,
   "id": "1ad21fab-05ca-4ab9-ae43-95e53d91bf83",
   "metadata": {},
   "outputs": [
    {
     "data": {
      "text/plain": [
       "15"
      ]
     },
     "execution_count": 13,
     "metadata": {},
     "output_type": "execute_result"
    }
   ],
   "source": [
    "10 + 5"
   ]
  },
  {
   "cell_type": "code",
   "execution_count": 15,
   "id": "d6d5d9ad-528e-47ee-8a91-a49aea683019",
   "metadata": {},
   "outputs": [
    {
     "data": {
      "text/plain": [
       "50"
      ]
     },
     "execution_count": 15,
     "metadata": {},
     "output_type": "execute_result"
    }
   ],
   "source": [
    "10 * 5"
   ]
  },
  {
   "cell_type": "code",
   "execution_count": 17,
   "id": "0306f344-4230-4503-9a4d-551b957e9c29",
   "metadata": {},
   "outputs": [
    {
     "data": {
      "text/plain": [
       "5"
      ]
     },
     "execution_count": 17,
     "metadata": {},
     "output_type": "execute_result"
    }
   ],
   "source": [
    "10 - 5 #SUBSTRACTION"
   ]
  },
  {
   "cell_type": "code",
   "execution_count": 19,
   "id": "239721d3-e533-45ec-954a-7863b99db589",
   "metadata": {},
   "outputs": [
    {
     "data": {
      "text/plain": [
       "20"
      ]
     },
     "execution_count": 19,
     "metadata": {},
     "output_type": "execute_result"
    }
   ],
   "source": [
    "10 * 2 #MULTIPLICATION"
   ]
  },
  {
   "cell_type": "code",
   "execution_count": 21,
   "id": "4e3ebb3d-6d5c-4280-a66d-f7619a835906",
   "metadata": {},
   "outputs": [
    {
     "data": {
      "text/plain": [
       "100"
      ]
     },
     "execution_count": 21,
     "metadata": {},
     "output_type": "execute_result"
    }
   ],
   "source": [
    "10 ** 2 #POWER"
   ]
  },
  {
   "cell_type": "code",
   "execution_count": 23,
   "id": "b33aa6c8-b302-47c5-a3da-6d89cda367ef",
   "metadata": {},
   "outputs": [
    {
     "data": {
      "text/plain": [
       "2.0"
      ]
     },
     "execution_count": 23,
     "metadata": {},
     "output_type": "execute_result"
    }
   ],
   "source": [
    "10 / 5 # FLOAT DIVISION \n"
   ]
  },
  {
   "cell_type": "code",
   "execution_count": 25,
   "id": "ce3a141c-2dba-419f-ac3c-87540bcad5df",
   "metadata": {},
   "outputs": [
    {
     "data": {
      "text/plain": [
       "2"
      ]
     },
     "execution_count": 25,
     "metadata": {},
     "output_type": "execute_result"
    }
   ],
   "source": [
    "10 // 5 #INT DIVISION"
   ]
  },
  {
   "cell_type": "code",
   "execution_count": 27,
   "id": "18cb4bb7-25c1-4ac7-9b7a-db184ba929b7",
   "metadata": {},
   "outputs": [
    {
     "data": {
      "text/plain": [
       "0"
      ]
     },
     "execution_count": 27,
     "metadata": {},
     "output_type": "execute_result"
    }
   ],
   "source": [
    "10 % 5 #MODULOUS\n"
   ]
  },
  {
   "cell_type": "code",
   "execution_count": 29,
   "id": "c8d31fda-3f46-48fd-b4b7-089b05c2bad8",
   "metadata": {},
   "outputs": [
    {
     "data": {
      "text/plain": [
       "2"
      ]
     },
     "execution_count": 29,
     "metadata": {},
     "output_type": "execute_result"
    }
   ],
   "source": [
    "20 % 3 "
   ]
  },
  {
   "cell_type": "code",
   "execution_count": 31,
   "id": "aa183184-d76b-4d9a-8cdc-5fcd4fb03381",
   "metadata": {},
   "outputs": [
    {
     "ename": "SyntaxError",
     "evalue": "invalid syntax (2885194536.py, line 6)",
     "output_type": "error",
     "traceback": [
      "\u001b[1;36m  Cell \u001b[1;32mIn[31], line 6\u001b[1;36m\u001b[0m\n\u001b[1;33m    10 IS VALUE\u001b[0m\n\u001b[1;37m       ^\u001b[0m\n\u001b[1;31mSyntaxError\u001b[0m\u001b[1;31m:\u001b[0m invalid syntax\n"
     ]
    }
   ],
   "source": [
    "#ASSIGNMENT OPERATOR\n",
    "\n",
    "X = 10 \n",
    "X\n",
    "#X IS CALLED OBJECT OR VARAIABLE OR IDENTIFIER\n",
    "10 IS VALUE"
   ]
  },
  {
   "cell_type": "code",
   "execution_count": 33,
   "id": "f486b14a-dcf6-4f5f-bde8-5e8179d50880",
   "metadata": {},
   "outputs": [
    {
     "data": {
      "text/plain": [
       "10"
      ]
     },
     "execution_count": 33,
     "metadata": {},
     "output_type": "execute_result"
    }
   ],
   "source": [
    "#INCREMENTAL ASSIGNMENT OPERATOR\n",
    "X = 10 \n",
    "X\n"
   ]
  },
  {
   "cell_type": "code",
   "execution_count": 37,
   "id": "6b4c931a-c43b-4262-9686-35aee78515f1",
   "metadata": {},
   "outputs": [
    {
     "data": {
      "text/plain": [
       "14"
      ]
     },
     "execution_count": 37,
     "metadata": {},
     "output_type": "execute_result"
    }
   ],
   "source": [
    "X += 2\n",
    "X"
   ]
  },
  {
   "cell_type": "code",
   "execution_count": 39,
   "id": "afea85d5-fce5-4670-ac6f-a0aa4571bb50",
   "metadata": {},
   "outputs": [
    {
     "data": {
      "text/plain": [
       "16"
      ]
     },
     "execution_count": 39,
     "metadata": {},
     "output_type": "execute_result"
    }
   ],
   "source": [
    "X += 2\n",
    "X\n"
   ]
  },
  {
   "cell_type": "code",
   "execution_count": 41,
   "id": "443ad309-62cd-4b72-8f30-4187662af5e9",
   "metadata": {},
   "outputs": [
    {
     "data": {
      "text/plain": [
       "18"
      ]
     },
     "execution_count": 41,
     "metadata": {},
     "output_type": "execute_result"
    }
   ],
   "source": [
    "X += 2\n",
    "X"
   ]
  },
  {
   "cell_type": "code",
   "execution_count": 43,
   "id": "7e8851de-ca05-4644-8695-15628809e0bb",
   "metadata": {},
   "outputs": [
    {
     "data": {
      "text/plain": [
       "20"
      ]
     },
     "execution_count": 43,
     "metadata": {},
     "output_type": "execute_result"
    }
   ],
   "source": [
    "X += 2\n",
    "X\n"
   ]
  },
  {
   "cell_type": "code",
   "execution_count": 45,
   "id": "0dcc6236-25fe-43f6-ad89-903a26b1eb9a",
   "metadata": {},
   "outputs": [
    {
     "data": {
      "text/plain": [
       "18"
      ]
     },
     "execution_count": 45,
     "metadata": {},
     "output_type": "execute_result"
    }
   ],
   "source": [
    "#DECREMENTAL OPERATOR\n",
    "X -= 2\n",
    "X"
   ]
  },
  {
   "cell_type": "code",
   "execution_count": 47,
   "id": "7729dc1b-72f4-4990-ac82-00f8e8e25469",
   "metadata": {},
   "outputs": [
    {
     "data": {
      "text/plain": [
       "16"
      ]
     },
     "execution_count": 47,
     "metadata": {},
     "output_type": "execute_result"
    }
   ],
   "source": [
    "X -= 2\n",
    "X"
   ]
  },
  {
   "cell_type": "code",
   "execution_count": 49,
   "id": "ecbf0e83-e686-4e9f-b73c-f13dbd4ae8cd",
   "metadata": {},
   "outputs": [
    {
     "data": {
      "text/plain": [
       "32"
      ]
     },
     "execution_count": 49,
     "metadata": {},
     "output_type": "execute_result"
    }
   ],
   "source": [
    "#MULTIPLY OPERATOR\n",
    "X *= 2\n",
    "X"
   ]
  },
  {
   "cell_type": "code",
   "execution_count": 53,
   "id": "73cd4759-64ed-4323-b273-8a99d5aef91e",
   "metadata": {},
   "outputs": [
    {
     "data": {
      "text/plain": [
       "60"
      ]
     },
     "execution_count": 53,
     "metadata": {},
     "output_type": "execute_result"
    }
   ],
   "source": [
    "X *= 2\n",
    "X\n"
   ]
  },
  {
   "cell_type": "code",
   "execution_count": 55,
   "id": "f583cb46-0887-4c0d-beeb-567eb50225fa",
   "metadata": {},
   "outputs": [
    {
     "ename": "SyntaxError",
     "evalue": "unexpected character after line continuation character (117079691.py, line 2)",
     "output_type": "error",
     "traceback": [
      "\u001b[1;36m  Cell \u001b[1;32mIn[55], line 2\u001b[1;36m\u001b[0m\n\u001b[1;33m    X \\= 2\u001b[0m\n\u001b[1;37m       ^\u001b[0m\n\u001b[1;31mSyntaxError\u001b[0m\u001b[1;31m:\u001b[0m unexpected character after line continuation character\n"
     ]
    }
   ],
   "source": [
    "#DIVISON OPERATOR\n",
    "X \\= 2\n",
    "X\n"
   ]
  },
  {
   "cell_type": "code",
   "execution_count": 57,
   "id": "c8862f28-b96f-4d27-897e-a5951f59723e",
   "metadata": {},
   "outputs": [
    {
     "data": {
      "text/plain": [
       "30.0"
      ]
     },
     "execution_count": 57,
     "metadata": {},
     "output_type": "execute_result"
    }
   ],
   "source": [
    "X /= 2\n",
    "X\n"
   ]
  },
  {
   "cell_type": "code",
   "execution_count": 61,
   "id": "6d05c0bf-4759-43d6-b586-d6ea4511bb8d",
   "metadata": {},
   "outputs": [
    {
     "data": {
      "text/plain": [
       "15.0"
      ]
     },
     "execution_count": 61,
     "metadata": {},
     "output_type": "execute_result"
    }
   ],
   "source": [
    "X /=2\n",
    "X\n"
   ]
  },
  {
   "cell_type": "code",
   "execution_count": 63,
   "id": "81559724-b691-4d09-90e0-8725d84730ca",
   "metadata": {},
   "outputs": [
    {
     "data": {
      "text/plain": [
       "7.5"
      ]
     },
     "execution_count": 63,
     "metadata": {},
     "output_type": "execute_result"
    }
   ],
   "source": [
    "X /=2\n",
    "X"
   ]
  },
  {
   "cell_type": "code",
   "execution_count": 65,
   "id": "7a8abff6-6f42-4fa1-b372-2fdacad0d777",
   "metadata": {},
   "outputs": [
    {
     "data": {
      "text/plain": [
       "3.0"
      ]
     },
     "execution_count": 65,
     "metadata": {},
     "output_type": "execute_result"
    }
   ],
   "source": [
    "X //=2\n",
    "X\n"
   ]
  },
  {
   "cell_type": "code",
   "execution_count": 67,
   "id": "64900c32-88ef-4ad9-b53c-3192e8646502",
   "metadata": {},
   "outputs": [
    {
     "data": {
      "text/plain": [
       "7"
      ]
     },
     "execution_count": 67,
     "metadata": {},
     "output_type": "execute_result"
    }
   ],
   "source": [
    "#UNARY OPERATOR\n",
    "# IT WILL GIVE ONLY ONE VALUE\n",
    "N = 7\n",
    "N"
   ]
  },
  {
   "cell_type": "code",
   "execution_count": 75,
   "id": "c31aa242-38dd-4dcc-8658-5f27ab97d244",
   "metadata": {},
   "outputs": [
    {
     "data": {
      "text/plain": [
       "7"
      ]
     },
     "execution_count": 75,
     "metadata": {},
     "output_type": "execute_result"
    }
   ],
   "source": [
    "M = -N\n",
    "N"
   ]
  },
  {
   "cell_type": "code",
   "execution_count": 77,
   "id": "9d01e338-819b-4b7f-a9b7-e158f2ca921e",
   "metadata": {},
   "outputs": [
    {
     "data": {
      "text/plain": [
       "-7"
      ]
     },
     "execution_count": 77,
     "metadata": {},
     "output_type": "execute_result"
    }
   ],
   "source": [
    "M = -N\n",
    "M"
   ]
  },
  {
   "cell_type": "code",
   "execution_count": 1,
   "id": "ae6aa1c4-3fd9-4f40-b544-c07d0117195b",
   "metadata": {},
   "outputs": [
    {
     "data": {
      "text/plain": [
       "'nareshit'"
      ]
     },
     "execution_count": 1,
     "metadata": {},
     "output_type": "execute_result"
    }
   ],
   "source": [
    "\"nareshit\" #text defined"
   ]
  },
  {
   "cell_type": "code",
   "execution_count": 3,
   "id": "9b639941-1301-47b3-91e3-408965483f45",
   "metadata": {},
   "outputs": [
    {
     "name": "stdout",
     "output_type": "stream",
     "text": [
      "hello wrold\n"
     ]
    }
   ],
   "source": [
    " print(\"hello wrold\")"
   ]
  },
  {
   "cell_type": "code",
   "execution_count": 5,
   "id": "023d851f-6b3c-447d-9419-b3d64dcd9f9f",
   "metadata": {},
   "outputs": [
    {
     "data": {
      "text/plain": [
       "'nareshit'"
      ]
     },
     "execution_count": 5,
     "metadata": {},
     "output_type": "execute_result"
    }
   ],
   "source": [
    "s = \"nareshit\" #variable exchange \n",
    "s"
   ]
  },
  {
   "cell_type": "code",
   "execution_count": 7,
   "id": "9cae5945-8059-40dc-92d4-e49dd3a24d80",
   "metadata": {},
   "outputs": [
    {
     "data": {
      "text/plain": [
       "8"
      ]
     },
     "execution_count": 7,
     "metadata": {},
     "output_type": "execute_result"
    }
   ],
   "source": [
    "len(s)"
   ]
  },
  {
   "cell_type": "code",
   "execution_count": 9,
   "id": "877651ad-ed73-4ee1-af7d-dbfbb71a5af8",
   "metadata": {},
   "outputs": [
    {
     "data": {
      "text/plain": [
       "'nareshit'"
      ]
     },
     "execution_count": 9,
     "metadata": {},
     "output_type": "execute_result"
    }
   ],
   "source": [
    "s"
   ]
  },
  {
   "cell_type": "code",
   "execution_count": 11,
   "id": "c4fa0f3e-ea8a-4d9e-ad01-42f74a738ab1",
   "metadata": {},
   "outputs": [
    {
     "ename": "TypeError",
     "evalue": "'str' object is not callable",
     "output_type": "error",
     "traceback": [
      "\u001b[1;31m---------------------------------------------------------------------------\u001b[0m",
      "\u001b[1;31mTypeError\u001b[0m                                 Traceback (most recent call last)",
      "Cell \u001b[1;32mIn[11], line 1\u001b[0m\n\u001b[1;32m----> 1\u001b[0m s(\u001b[38;5;241m1\u001b[39m)\n",
      "\u001b[1;31mTypeError\u001b[0m: 'str' object is not callable"
     ]
    }
   ],
   "source": [
    "s(1)"
   ]
  },
  {
   "cell_type": "code",
   "execution_count": 13,
   "id": "861b5126-0c11-4d6d-a531-106305876ed4",
   "metadata": {},
   "outputs": [
    {
     "data": {
      "text/plain": [
       "'a'"
      ]
     },
     "execution_count": 13,
     "metadata": {},
     "output_type": "execute_result"
    }
   ],
   "source": [
    "s[1]"
   ]
  },
  {
   "cell_type": "code",
   "execution_count": 15,
   "id": "982f7e93-c551-43bf-8857-315611e7f660",
   "metadata": {},
   "outputs": [
    {
     "data": {
      "text/plain": [
       "'r'"
      ]
     },
     "execution_count": 15,
     "metadata": {},
     "output_type": "execute_result"
    }
   ],
   "source": [
    "s[2]"
   ]
  },
  {
   "cell_type": "code",
   "execution_count": 17,
   "id": "35215aee-7b3c-4876-b2d0-68641c92a65a",
   "metadata": {},
   "outputs": [
    {
     "data": {
      "text/plain": [
       "'n'"
      ]
     },
     "execution_count": 17,
     "metadata": {},
     "output_type": "execute_result"
    }
   ],
   "source": [
    "s[0]\n"
   ]
  },
  {
   "cell_type": "code",
   "execution_count": 23,
   "id": "249603f1-c5d3-4648-bf1b-b428dce782a7",
   "metadata": {},
   "outputs": [
    {
     "name": "stdout",
     "output_type": "stream",
     "text": [
      "n\n",
      "a\n",
      "r\n",
      "e\n",
      "s\n",
      "h\n",
      "i\n",
      "t\n"
     ]
    }
   ],
   "source": [
    "for i in s: #for loop\n",
    " print (i)"
   ]
  },
  {
   "cell_type": "code",
   "execution_count": 25,
   "id": "232792d5-43fb-4e27-beeb-7e3328253368",
   "metadata": {},
   "outputs": [
    {
     "data": {
      "text/plain": [
       "'nareshit'"
      ]
     },
     "execution_count": 25,
     "metadata": {},
     "output_type": "execute_result"
    }
   ],
   "source": [
    "s"
   ]
  },
  {
   "cell_type": "code",
   "execution_count": 27,
   "id": "af22ddca-8fd7-4999-b4ba-8cc79192bea2",
   "metadata": {},
   "outputs": [
    {
     "data": {
      "text/plain": [
       "'nares'"
      ]
     },
     "execution_count": 27,
     "metadata": {},
     "output_type": "execute_result"
    }
   ],
   "source": [
    "s[0:5] #string slicing"
   ]
  },
  {
   "cell_type": "code",
   "execution_count": 29,
   "id": "a7498b65-80fc-4042-8979-42f2600e1764",
   "metadata": {},
   "outputs": [
    {
     "data": {
      "text/plain": [
       "'nareshit'"
      ]
     },
     "execution_count": 29,
     "metadata": {},
     "output_type": "execute_result"
    }
   ],
   "source": [
    "s[0:]"
   ]
  },
  {
   "cell_type": "code",
   "execution_count": 31,
   "id": "3c6666fc-b77c-4906-aeb4-a4cda631ca59",
   "metadata": {},
   "outputs": [
    {
     "data": {
      "text/plain": [
       "'tihseran'"
      ]
     },
     "execution_count": 31,
     "metadata": {},
     "output_type": "execute_result"
    }
   ],
   "source": [
    "s[::-1] #reverse indexing "
   ]
  },
  {
   "cell_type": "code",
   "execution_count": 5,
   "id": "5c149f3a-66fc-4ab2-9342-28e3c4df95f2",
   "metadata": {},
   "outputs": [
    {
     "data": {
      "text/plain": [
       "'nareshit'"
      ]
     },
     "execution_count": 5,
     "metadata": {},
     "output_type": "execute_result"
    }
   ],
   "source": [
    "s = \"nareshit\"\n",
    "s"
   ]
  },
  {
   "cell_type": "code",
   "execution_count": 9,
   "id": "25904b20-dd7b-4eef-838b-4c0010d0480b",
   "metadata": {},
   "outputs": [
    {
     "data": {
      "text/plain": [
       "'tihseran'"
      ]
     },
     "execution_count": 9,
     "metadata": {},
     "output_type": "execute_result"
    }
   ],
   "source": [
    "s[::-1]"
   ]
  },
  {
   "cell_type": "code",
   "execution_count": 11,
   "id": "3d8f2203-ff10-4082-b1eb-db83865433aa",
   "metadata": {},
   "outputs": [
    {
     "data": {
      "text/plain": [
       "'nar'"
      ]
     },
     "execution_count": 11,
     "metadata": {},
     "output_type": "execute_result"
    }
   ],
   "source": [
    "s[0:3]"
   ]
  },
  {
   "cell_type": "code",
   "execution_count": 19,
   "id": "98c952b6-2d68-48a4-bc18-d87c33a07acd",
   "metadata": {},
   "outputs": [
    {
     "data": {
      "text/plain": [
       "'nareshit'"
      ]
     },
     "execution_count": 19,
     "metadata": {},
     "output_type": "execute_result"
    }
   ],
   "source": [
    "s"
   ]
  },
  {
   "cell_type": "code",
   "execution_count": 21,
   "id": "7cd8322c-0545-4760-9569-b199820093db",
   "metadata": {},
   "outputs": [
    {
     "name": "stdout",
     "output_type": "stream",
     "text": [
      "nareshit\n",
      "nareshit\n",
      "nareshit\n",
      "nareshit\n",
      "nareshit\n",
      "nareshit\n",
      "nareshit\n",
      "nareshit\n"
     ]
    }
   ],
   "source": [
    "for i in s:\n",
    "    print (s)"
   ]
  },
  {
   "cell_type": "code",
   "execution_count": 25,
   "id": "f47a1558-cbed-4755-84b4-b9917fb945c2",
   "metadata": {},
   "outputs": [
    {
     "name": "stdout",
     "output_type": "stream",
     "text": [
      "n\n",
      "a\n",
      "r\n",
      "e\n",
      "s\n",
      "h\n",
      "i\n",
      "t\n"
     ]
    }
   ],
   "source": [
    "for i in s:\n",
    "    print (i)"
   ]
  },
  {
   "cell_type": "code",
   "execution_count": 23,
   "id": "2de3d7db-c76c-4dce-a006-2899ccffa071",
   "metadata": {},
   "outputs": [
    {
     "name": "stdout",
     "output_type": "stream",
     "text": [
      "n\n",
      "a\n",
      "r\n",
      "e\n",
      "s\n",
      "h\n",
      "i\n",
      "t\n"
     ]
    }
   ],
   "source": [
    "for i in s: #for loop\n",
    " print (i)"
   ]
  },
  {
   "cell_type": "code",
   "execution_count": 41,
   "id": "15d0e054-7e61-4a14-b387-5cd11fd0a585",
   "metadata": {},
   "outputs": [
    {
     "name": "stdout",
     "output_type": "stream",
     "text": [
      "['akshith']\n"
     ]
    }
   ],
   "source": [
    "x = ['akshith']\n",
    "print(x)"
   ]
  },
  {
   "cell_type": "code",
   "execution_count": 43,
   "id": "80eec413-94ba-4e0a-b471-8b49c2ef32a3",
   "metadata": {},
   "outputs": [
    {
     "name": "stdout",
     "output_type": "stream",
     "text": [
      "['akshith', 55, 3.0]\n"
     ]
    }
   ],
   "source": [
    "x = ['akshith',55,3.0]\n",
    "print(x)"
   ]
  },
  {
   "cell_type": "code",
   "execution_count": 45,
   "id": "b393563d-e5c3-4e38-bf9c-6e2f329aab2d",
   "metadata": {},
   "outputs": [
    {
     "name": "stdout",
     "output_type": "stream",
     "text": [
      "akshith\n",
      "55\n",
      "3.0\n"
     ]
    }
   ],
   "source": [
    "for i in x:   #for loop \n",
    "    print(i)"
   ]
  },
  {
   "cell_type": "code",
   "execution_count": 11,
   "id": "936f2a5b-77a2-4591-abd4-711f457d08ba",
   "metadata": {},
   "outputs": [],
   "source": [
    "s = \"nareshit\""
   ]
  },
  {
   "cell_type": "code",
   "execution_count": 9,
   "id": "30ea5a66-a6fc-43e1-bfbc-a3e85c37524a",
   "metadata": {},
   "outputs": [
    {
     "data": {
      "text/plain": [
       "'akshith teja bablu'"
      ]
     },
     "execution_count": 9,
     "metadata": {},
     "output_type": "execute_result"
    }
   ],
   "source": [
    "\"akshith teja bablu\""
   ]
  },
  {
   "cell_type": "code",
   "execution_count": 13,
   "id": "11b258ea-1e46-4dda-88f8-3541f9979988",
   "metadata": {},
   "outputs": [
    {
     "data": {
      "text/plain": [
       "'nareshit'"
      ]
     },
     "execution_count": 13,
     "metadata": {},
     "output_type": "execute_result"
    }
   ],
   "source": [
    "s"
   ]
  },
  {
   "cell_type": "code",
   "execution_count": 15,
   "id": "143d63d0-a3d1-41d5-a5db-cbc84f3b2de9",
   "metadata": {},
   "outputs": [
    {
     "data": {
      "text/plain": [
       "'tihseran'"
      ]
     },
     "execution_count": 15,
     "metadata": {},
     "output_type": "execute_result"
    }
   ],
   "source": [
    "s[::-1] #reverse slicing"
   ]
  },
  {
   "cell_type": "code",
   "execution_count": 35,
   "id": "49ec0970-e05b-4ae4-afbb-51cec76706e2",
   "metadata": {},
   "outputs": [
    {
     "data": {
      "text/plain": [
       "['bablu, 44, 2.9']"
      ]
     },
     "execution_count": 35,
     "metadata": {},
     "output_type": "execute_result"
    }
   ],
   "source": [
    "x = ['bablu, 44, 2.9']\n",
    "x"
   ]
  },
  {
   "cell_type": "code",
   "execution_count": 37,
   "id": "6e72c488-6b42-4f57-ab20-5fb744c833ac",
   "metadata": {},
   "outputs": [
    {
     "name": "stdout",
     "output_type": "stream",
     "text": [
      "nareshit\n",
      "nareshit\n",
      "nareshit\n",
      "nareshit\n",
      "nareshit\n",
      "nareshit\n",
      "nareshit\n",
      "nareshit\n"
     ]
    }
   ],
   "source": [
    "for i in s:\n",
    "    print (s)"
   ]
  },
  {
   "cell_type": "code",
   "execution_count": 39,
   "id": "4350807e-9049-4b01-b4d5-006fe24588ef",
   "metadata": {},
   "outputs": [
    {
     "name": "stdout",
     "output_type": "stream",
     "text": [
      "n\n",
      "a\n",
      "r\n",
      "e\n",
      "s\n",
      "h\n",
      "i\n",
      "t\n"
     ]
    }
   ],
   "source": [
    "for i in s: #for loop\n",
    " print (i)"
   ]
  },
  {
   "cell_type": "markdown",
   "id": "d910e78e-4c71-4b79-a098-db47d276d15c",
   "metadata": {},
   "source": [
    "#incrermental operator\n"
   ]
  },
  {
   "cell_type": "code",
   "execution_count": 44,
   "id": "c942a50f-f699-48b4-a417-346098beb1e8",
   "metadata": {},
   "outputs": [
    {
     "data": {
      "text/plain": [
       "7"
      ]
     },
     "execution_count": 44,
     "metadata": {},
     "output_type": "execute_result"
    }
   ],
   "source": [
    "a = 5\n",
    "b = 2\n",
    "a+b\n"
   ]
  },
  {
   "cell_type": "code",
   "execution_count": null,
   "id": "4a831175-7b82-4767-aaa7-0e23b7b2f0c3",
   "metadata": {},
   "outputs": [],
   "source": []
  }
 ],
 "metadata": {
  "kernelspec": {
   "display_name": "Python [conda env:base] *",
   "language": "python",
   "name": "conda-base-py"
  },
  "language_info": {
   "codemirror_mode": {
    "name": "ipython",
    "version": 3
   },
   "file_extension": ".py",
   "mimetype": "text/x-python",
   "name": "python",
   "nbconvert_exporter": "python",
   "pygments_lexer": "ipython3",
   "version": "3.12.7"
  }
 },
 "nbformat": 4,
 "nbformat_minor": 5
}
